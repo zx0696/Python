{
 "cells": [
  {
   "cell_type": "code",
   "execution_count": 1,
   "id": "26301fde",
   "metadata": {},
   "outputs": [
    {
     "name": "stderr",
     "output_type": "stream",
     "text": [
      "C:\\Users\\82107\\AppData\\Local\\Temp\\ipykernel_37672\\1276298008.py:13: DeprecationWarning: executable_path has been deprecated, please pass in a Service object\n",
      "  driver = webdriver.Chrome(path)\n"
     ]
    },
    {
     "ename": "IndexError",
     "evalue": "list index out of range",
     "output_type": "error",
     "traceback": [
      "\u001b[1;31m---------------------------------------------------------------------------\u001b[0m",
      "\u001b[1;31mIndexError\u001b[0m                                Traceback (most recent call last)",
      "Input \u001b[1;32mIn [1]\u001b[0m, in \u001b[0;36m<cell line: 31>\u001b[1;34m()\u001b[0m\n\u001b[0;32m     29\u001b[0m html \u001b[38;5;241m=\u001b[39m driver\u001b[38;5;241m.\u001b[39mpage_source\n\u001b[0;32m     30\u001b[0m soup \u001b[38;5;241m=\u001b[39m BeautifulSoup(html, \u001b[38;5;124m'\u001b[39m\u001b[38;5;124mhtml.parser\u001b[39m\u001b[38;5;124m'\u001b[39m)                                        \n\u001b[1;32m---> 31\u001b[0m ul\u001b[38;5;241m=\u001b[39m \u001b[43msoup\u001b[49m\u001b[38;5;241;43m.\u001b[39;49m\u001b[43mfind_all\u001b[49m\u001b[43m(\u001b[49m\u001b[38;5;124;43m\"\u001b[39;49m\u001b[38;5;124;43mul\u001b[39;49m\u001b[38;5;124;43m\"\u001b[39;49m\u001b[43m,\u001b[49m\u001b[38;5;124;43m\"\u001b[39;49m\u001b[38;5;124;43mlist_comment\u001b[39;49m\u001b[38;5;124;43m\"\u001b[39;49m\u001b[43m)\u001b[49m\u001b[43m[\u001b[49m\u001b[38;5;241;43m0\u001b[39;49m\u001b[43m]\u001b[49m\n\u001b[0;32m     33\u001b[0m lili\u001b[38;5;241m=\u001b[39m ul\u001b[38;5;241m.\u001b[39mfind_all(\u001b[38;5;124m\"\u001b[39m\u001b[38;5;124mli\u001b[39m\u001b[38;5;124m\"\u001b[39m)\n\u001b[0;32m     34\u001b[0m \u001b[38;5;28mprint\u001b[39m(\u001b[38;5;28mlen\u001b[39m(lili))\n",
      "\u001b[1;31mIndexError\u001b[0m: list index out of range"
     ]
    }
   ],
   "source": [
    "from bs4 import BeautifulSoup     \n",
    "from selenium import webdriver\n",
    "import time\n",
    "from selenium.webdriver.common.action_chains import ActionChains\n",
    "\n",
    "#웹페이지내에서 다른 페이지이다. \n",
    "#분석해야함. \n",
    "#페이지 구조 분석 /\n",
    "\n",
    "url = 'https://movie.daum.net/main'\n",
    "\n",
    "path = \"C:/chrome_drv/chromedriver.exe\"  # 무슨 브라우저를 사용하느냐에 따라 다름 설치해야함.\n",
    "driver = webdriver.Chrome(path)\n",
    "driver.get(url)\n",
    "\n",
    "for x in range(10):\n",
    "    try:\n",
    "        time.sleep(0.5)#시간\n",
    "        driver.execute_script(\"window.scrollTo(0, document.body.scrollHeight);\")\n",
    "        time.sleep(1)#시간\n",
    "        element1 = driver.find_element_by_class_name(\"link_fold\")\n",
    "        ActionChains(driver).move_to_element(element1).click(element1).perform()\n",
    "    except:\n",
    "        pass\n",
    "    \n",
    "time.sleep(2)\n",
    "\n",
    "# 파싱\n",
    "html = driver.page_source\n",
    "soup = BeautifulSoup(html, 'html.parser')                                        \n",
    "ul= soup.find_all(\"ul\",\"list_comment\")[0]\n",
    "\n",
    "lili= ul.find_all(\"li\")\n",
    "print(len(lili))\n",
    "\n",
    "for i in range(len(lili)):\n",
    "    li= ul.find_all(\"li\")[i]  \n",
    "    try:\n",
    "        p= li.find(\"p\",\"desc_txt font_size_\").text\n",
    "    except:\n",
    "        p=\"\"\n",
    "        pass\n",
    "    print(i,\" 번째 댓글:  \",p)"
   ]
  },
  {
   "cell_type": "code",
   "execution_count": null,
   "id": "a518031f",
   "metadata": {},
   "outputs": [],
   "source": []
  }
 ],
 "metadata": {
  "kernelspec": {
   "display_name": "Python 3 (ipykernel)",
   "language": "python",
   "name": "python3"
  },
  "language_info": {
   "codemirror_mode": {
    "name": "ipython",
    "version": 3
   },
   "file_extension": ".py",
   "mimetype": "text/x-python",
   "name": "python",
   "nbconvert_exporter": "python",
   "pygments_lexer": "ipython3",
   "version": "3.9.12"
  }
 },
 "nbformat": 4,
 "nbformat_minor": 5
}
