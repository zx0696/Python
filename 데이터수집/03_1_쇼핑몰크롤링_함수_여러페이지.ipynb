{
 "cells": [
  {
   "cell_type": "markdown",
   "id": "a7673d73",
   "metadata": {},
   "source": [
    "- 실습중인 쇼핑몰 살품은 여러페이지에 걸쳐 진열되어 있음\n",
    "    - 함수로 구성 후 여러페이지 크롤링"
   ]
  },
  {
   "cell_type": "code",
   "execution_count": 9,
   "id": "66698812",
   "metadata": {},
   "outputs": [],
   "source": [
    "from urllib.request import urlopen\n",
    "from bs4 import BeautifulSoup\n",
    "import pandas as pd\n",
    "import numpy as np\n",
    "import ssl\n",
    "context = ssl._create_unverified_context()\n",
    "url=\"http://jolse.com/category/toners-mists/1019/\""
   ]
  },
  {
   "cell_type": "markdown",
   "id": "ffc22df2",
   "metadata": {},
   "source": [
    "### 함수를 기능별로 세분화\n",
    "- 요청 및 파싱 객체 생성 : get_request_product(url), 반환값-bs4 객체\n",
    "- 전체 정보 추출 : get_page_product(bs_obj)\n",
    "    - bs_obj를 전달받아서\n",
    "    - 전체 제품정보를 추출\n",
    "    - get_proudct_info(box)를 호출(제품 1개에 대한 정보가 반환)\n",
    "    - df을 생성 후 저장\n",
    "- 각 제품의 정보 추출 : get_proudct_info(box)\n",
    "    - 제품정보 1개에 대해 제품명/가격/세일가격을 추출해서 반환"
   ]
  },
  {
   "cell_type": "code",
   "execution_count": 10,
   "id": "cdf4078b",
   "metadata": {},
   "outputs": [],
   "source": [
    "prd_dict = {'품목' : [],\n",
    "            '가격' : [],\n",
    "            '세일가격' : []}\n",
    "df_fin = pd.DataFrame(prd_dict)"
   ]
  },
  {
   "cell_type": "code",
   "execution_count": 11,
   "id": "54321075",
   "metadata": {},
   "outputs": [
    {
     "data": {
      "text/html": [
       "<div>\n",
       "<style scoped>\n",
       "    .dataframe tbody tr th:only-of-type {\n",
       "        vertical-align: middle;\n",
       "    }\n",
       "\n",
       "    .dataframe tbody tr th {\n",
       "        vertical-align: top;\n",
       "    }\n",
       "\n",
       "    .dataframe thead th {\n",
       "        text-align: right;\n",
       "    }\n",
       "</style>\n",
       "<table border=\"1\" class=\"dataframe\">\n",
       "  <thead>\n",
       "    <tr style=\"text-align: right;\">\n",
       "      <th></th>\n",
       "      <th>품목</th>\n",
       "      <th>가격</th>\n",
       "      <th>세일가격</th>\n",
       "    </tr>\n",
       "  </thead>\n",
       "  <tbody>\n",
       "  </tbody>\n",
       "</table>\n",
       "</div>"
      ],
      "text/plain": [
       "Empty DataFrame\n",
       "Columns: [품목, 가격, 세일가격]\n",
       "Index: []"
      ]
     },
     "execution_count": 11,
     "metadata": {},
     "output_type": "execute_result"
    }
   ],
   "source": [
    "df_fin"
   ]
  },
  {
   "cell_type": "code",
   "execution_count": 12,
   "id": "486a5bbd",
   "metadata": {},
   "outputs": [],
   "source": [
    "# 1.  서버 요청 및 파싱객체 생성\n",
    "def get_request_product(url) :\n",
    "#     url = 'http://jolse.com/category/toners-mists/1019/'\n",
    "    html = urlopen(url)\n",
    "    htmls = html.read()\n",
    "    \n",
    "    bs_obj = BeautifulSoup(htmls,'html.parser')\n",
    "    return bs_obj"
   ]
  },
  {
   "cell_type": "code",
   "execution_count": 13,
   "id": "8a9f87ce",
   "metadata": {},
   "outputs": [],
   "source": [
    "# 2. 전체 제품 정보 크롤링(태그상태임) - 제품 1개 정보 크롤링 함수 호출 - df로 구성\n",
    "# 시작 함수\n",
    "def get_page_product(url) :\n",
    "    global df_fin\n",
    "    # 요청후 bs4 객체반환\n",
    "    bs_obj = get_request_product(url)\n",
    "    # 페이지내 전체 제품정보 추출\n",
    "    boxes = bs_obj.findAll('div',{'class':'description'})\n",
    "    \n",
    "    # 각제품에 대한 정보추출 후 df 생성\n",
    "    for box in boxes :\n",
    "        res = pd.DataFrame(get_product_info(box),index=range(1,2))\n",
    "        df_fin = pd.concat([df_fin,res], axis=0, ignore_index=True)"
   ]
  },
  {
   "cell_type": "code",
   "execution_count": 14,
   "id": "a803fb38",
   "metadata": {},
   "outputs": [],
   "source": [
    "# 3. 제품 1개의 제품명/가격/세일가격 추출 후 dict 구성 후 반환\n",
    "def get_product_info(box) :\n",
    "    strong_tag = box.find('strong',{'class':'name'})\n",
    "    prd_name = strong_tag.text.split(':')[1]\n",
    "    # 가격\n",
    "    price = box.find('ul').findAll('span')[1]\n",
    "    sale_price = box.find('ul').findAll('span')[-1].text\n",
    "    return{'품목':prd_name,'가격':price, '세일가격':sale_price}"
   ]
  },
  {
   "cell_type": "code",
   "execution_count": 15,
   "id": "e3ac3740",
   "metadata": {},
   "outputs": [
    {
     "data": {
      "text/plain": [
       "'http://jolse.com/category/toners-mists/1019/'"
      ]
     },
     "execution_count": 15,
     "metadata": {},
     "output_type": "execute_result"
    }
   ],
   "source": [
    "url"
   ]
  },
  {
   "cell_type": "code",
   "execution_count": 16,
   "id": "4876ce91",
   "metadata": {},
   "outputs": [],
   "source": [
    "import ssl\n",
    "ssl._create_default_https_context = ssl._create_unverified_context\n",
    "get_page_product(url)"
   ]
  },
  {
   "cell_type": "code",
   "execution_count": 17,
   "id": "bc7afec6",
   "metadata": {},
   "outputs": [
    {
     "data": {
      "text/html": [
       "<div>\n",
       "<style scoped>\n",
       "    .dataframe tbody tr th:only-of-type {\n",
       "        vertical-align: middle;\n",
       "    }\n",
       "\n",
       "    .dataframe tbody tr th {\n",
       "        vertical-align: top;\n",
       "    }\n",
       "\n",
       "    .dataframe thead th {\n",
       "        text-align: right;\n",
       "    }\n",
       "</style>\n",
       "<table border=\"1\" class=\"dataframe\">\n",
       "  <thead>\n",
       "    <tr style=\"text-align: right;\">\n",
       "      <th></th>\n",
       "      <th>품목</th>\n",
       "      <th>가격</th>\n",
       "      <th>세일가격</th>\n",
       "    </tr>\n",
       "  </thead>\n",
       "  <tbody>\n",
       "    <tr>\n",
       "      <th>0</th>\n",
       "      <td>[TIME DEAL] Haruharu WONDER Black Rice Hyalur...</td>\n",
       "      <td>USD 37.00</td>\n",
       "      <td>USD 16.59</td>\n",
       "    </tr>\n",
       "    <tr>\n",
       "      <th>1</th>\n",
       "      <td>SOME BY MI Propolis B5 Glow Barrier Calming T...</td>\n",
       "      <td>USD 22.00</td>\n",
       "      <td>USD 18.70</td>\n",
       "    </tr>\n",
       "    <tr>\n",
       "      <th>2</th>\n",
       "      <td>Haruharu WONDER Black Rice Hyaluronic Toner 3...</td>\n",
       "      <td>USD 37.00</td>\n",
       "      <td>USD 31.45</td>\n",
       "    </tr>\n",
       "    <tr>\n",
       "      <th>3</th>\n",
       "      <td>Cos De BAHA Centella Facial Toner 200ml</td>\n",
       "      <td>USD 16.45</td>\n",
       "      <td>USD 13.98</td>\n",
       "    </tr>\n",
       "    <tr>\n",
       "      <th>4</th>\n",
       "      <td>Isntree Hyaluronic Acid Toner 200ml (Renewal)</td>\n",
       "      <td>USD 19.30</td>\n",
       "      <td>USD 16.40</td>\n",
       "    </tr>\n",
       "    <tr>\n",
       "      <th>5</th>\n",
       "      <td>SOME BY MI AHA BHA PHA 30 Days Miracle Toner ...</td>\n",
       "      <td>USD 24.00</td>\n",
       "      <td>USD 20.40</td>\n",
       "    </tr>\n",
       "    <tr>\n",
       "      <th>6</th>\n",
       "      <td>SOME BY MI Galactomyces Pure Vitamin C Glow T...</td>\n",
       "      <td>USD 34.00</td>\n",
       "      <td>USD 28.90</td>\n",
       "    </tr>\n",
       "    <tr>\n",
       "      <th>7</th>\n",
       "      <td>ROUND LAB 1025 Dokdo Toner 200ml</td>\n",
       "      <td>USD 17.00</td>\n",
       "      <td>USD 14.45</td>\n",
       "    </tr>\n",
       "    <tr>\n",
       "      <th>8</th>\n",
       "      <td>SOME BY MI Snail Truecica Miracle Repair Tone...</td>\n",
       "      <td>USD 24.00</td>\n",
       "      <td>USD 20.40</td>\n",
       "    </tr>\n",
       "    <tr>\n",
       "      <th>9</th>\n",
       "      <td>COSRX AHA 7 WHITEHEAD POWER LIQUID 100ml</td>\n",
       "      <td>USD 17.81</td>\n",
       "      <td>USD 15.14</td>\n",
       "    </tr>\n",
       "    <tr>\n",
       "      <th>10</th>\n",
       "      <td>BLITHE Vital Treatment 8 Nourishing Beans 150ml</td>\n",
       "      <td>USD 42.90</td>\n",
       "      <td>USD 36.46</td>\n",
       "    </tr>\n",
       "    <tr>\n",
       "      <th>11</th>\n",
       "      <td>COSRX Two In One Poreless Power Liquid 100ml</td>\n",
       "      <td>USD 22.00</td>\n",
       "      <td>USD 18.70</td>\n",
       "    </tr>\n",
       "    <tr>\n",
       "      <th>12</th>\n",
       "      <td>Pyunkang Yul Essence Toner 200ml</td>\n",
       "      <td>USD 21.90</td>\n",
       "      <td>USD 15.33</td>\n",
       "    </tr>\n",
       "    <tr>\n",
       "      <th>13</th>\n",
       "      <td>Elizavecca Hell-Pore Clean up AHA Fruit Toner...</td>\n",
       "      <td>USD 14.00</td>\n",
       "      <td>USD 11.90</td>\n",
       "    </tr>\n",
       "    <tr>\n",
       "      <th>14</th>\n",
       "      <td>COSRX BHA BLACKHEAD POWER LIQUID 100 ML</td>\n",
       "      <td>USD 20.81</td>\n",
       "      <td>USD 17.69</td>\n",
       "    </tr>\n",
       "    <tr>\n",
       "      <th>15</th>\n",
       "      <td>TIAM Vita B5 Toner 180ml</td>\n",
       "      <td>USD 18.60</td>\n",
       "      <td>USD 15.81</td>\n",
       "    </tr>\n",
       "    <tr>\n",
       "      <th>16</th>\n",
       "      <td>BADSKIN Hyaluronic Spa Toner 500ml</td>\n",
       "      <td>USD 26.00</td>\n",
       "      <td>USD 22.10</td>\n",
       "    </tr>\n",
       "    <tr>\n",
       "      <th>17</th>\n",
       "      <td>TIAM AC Fighting AHA BHA PHA Toner 180ml</td>\n",
       "      <td>USD 18.70</td>\n",
       "      <td>USD 15.89</td>\n",
       "    </tr>\n",
       "    <tr>\n",
       "      <th>18</th>\n",
       "      <td>iUNIK Vitamin Hyaluronic Acid Vitalizing Tone...</td>\n",
       "      <td>USD 21.99</td>\n",
       "      <td>USD 18.69</td>\n",
       "    </tr>\n",
       "    <tr>\n",
       "      <th>19</th>\n",
       "      <td>COSRX AC Collection Calming Liquid Mild 125ml</td>\n",
       "      <td>USD 26.00</td>\n",
       "      <td>USD 22.10</td>\n",
       "    </tr>\n",
       "    <tr>\n",
       "      <th>20</th>\n",
       "      <td>NACIFIC Real Calendula Floral Toner 180ml</td>\n",
       "      <td>USD 26.00</td>\n",
       "      <td>USD 22.10</td>\n",
       "    </tr>\n",
       "    <tr>\n",
       "      <th>21</th>\n",
       "      <td>CARYOPHY Portulaca Toner 300ml</td>\n",
       "      <td>USD 24.00</td>\n",
       "      <td>USD 20.40</td>\n",
       "    </tr>\n",
       "    <tr>\n",
       "      <th>22</th>\n",
       "      <td>NEOGEN DERMALOGY Real Cica Pad 90ea</td>\n",
       "      <td>USD 17.90</td>\n",
       "      <td>USD 15.21</td>\n",
       "    </tr>\n",
       "    <tr>\n",
       "      <th>23</th>\n",
       "      <td>BLITHE Vital Treatment 5 Energy Roots 150ml</td>\n",
       "      <td>USD 37.60</td>\n",
       "      <td>USD 31.96</td>\n",
       "    </tr>\n",
       "  </tbody>\n",
       "</table>\n",
       "</div>"
      ],
      "text/plain": [
       "                                                   품목         가격       세일가격\n",
       "0    [TIME DEAL] Haruharu WONDER Black Rice Hyalur...  USD 37.00  USD 16.59\n",
       "1    SOME BY MI Propolis B5 Glow Barrier Calming T...  USD 22.00  USD 18.70\n",
       "2    Haruharu WONDER Black Rice Hyaluronic Toner 3...  USD 37.00  USD 31.45\n",
       "3             Cos De BAHA Centella Facial Toner 200ml  USD 16.45  USD 13.98\n",
       "4       Isntree Hyaluronic Acid Toner 200ml (Renewal)  USD 19.30  USD 16.40\n",
       "5    SOME BY MI AHA BHA PHA 30 Days Miracle Toner ...  USD 24.00  USD 20.40\n",
       "6    SOME BY MI Galactomyces Pure Vitamin C Glow T...  USD 34.00  USD 28.90\n",
       "7                    ROUND LAB 1025 Dokdo Toner 200ml  USD 17.00  USD 14.45\n",
       "8    SOME BY MI Snail Truecica Miracle Repair Tone...  USD 24.00  USD 20.40\n",
       "9            COSRX AHA 7 WHITEHEAD POWER LIQUID 100ml  USD 17.81  USD 15.14\n",
       "10    BLITHE Vital Treatment 8 Nourishing Beans 150ml  USD 42.90  USD 36.46\n",
       "11       COSRX Two In One Poreless Power Liquid 100ml  USD 22.00  USD 18.70\n",
       "12                   Pyunkang Yul Essence Toner 200ml  USD 21.90  USD 15.33\n",
       "13   Elizavecca Hell-Pore Clean up AHA Fruit Toner...  USD 14.00  USD 11.90\n",
       "14            COSRX BHA BLACKHEAD POWER LIQUID 100 ML  USD 20.81  USD 17.69\n",
       "15                           TIAM Vita B5 Toner 180ml  USD 18.60  USD 15.81\n",
       "16                 BADSKIN Hyaluronic Spa Toner 500ml  USD 26.00  USD 22.10\n",
       "17           TIAM AC Fighting AHA BHA PHA Toner 180ml  USD 18.70  USD 15.89\n",
       "18   iUNIK Vitamin Hyaluronic Acid Vitalizing Tone...  USD 21.99  USD 18.69\n",
       "19      COSRX AC Collection Calming Liquid Mild 125ml  USD 26.00  USD 22.10\n",
       "20          NACIFIC Real Calendula Floral Toner 180ml  USD 26.00  USD 22.10\n",
       "21                     CARYOPHY Portulaca Toner 300ml  USD 24.00  USD 20.40\n",
       "22                NEOGEN DERMALOGY Real Cica Pad 90ea  USD 17.90  USD 15.21\n",
       "23        BLITHE Vital Treatment 5 Energy Roots 150ml  USD 37.60  USD 31.96"
      ]
     },
     "execution_count": 17,
     "metadata": {},
     "output_type": "execute_result"
    }
   ],
   "source": [
    "df_fin"
   ]
  },
  {
   "cell_type": "markdown",
   "id": "6a2143a0",
   "metadata": {},
   "source": [
    "## 여러 페이지 추출\n",
    "- 해당 쇼핑몰의 url 분석\n",
    "- 각 페이지에 대하여 url에 파라미터가 다르게 전송됨\n",
    "- https://jolse.com/category/toners-mists/1019?page= + 페이지번호\n",
    "- url 작성시 페이지번호를 따로 부착"
   ]
  },
  {
   "cell_type": "code",
   "execution_count": 18,
   "id": "e016e883",
   "metadata": {},
   "outputs": [],
   "source": [
    "\n",
    "ssl._create_default_https_context = ssl._create_unverified_context\n",
    "base_url ='https://jolse.com/category/toners-mists/1019?page='\n",
    "for i in range(2,5) :\n",
    "    url = base_url + str(i)\n",
    "#     print(url)\n",
    "    get_page_product(url)"
   ]
  },
  {
   "cell_type": "code",
   "execution_count": 19,
   "id": "5ac2b671",
   "metadata": {},
   "outputs": [
    {
     "data": {
      "text/html": [
       "<div>\n",
       "<style scoped>\n",
       "    .dataframe tbody tr th:only-of-type {\n",
       "        vertical-align: middle;\n",
       "    }\n",
       "\n",
       "    .dataframe tbody tr th {\n",
       "        vertical-align: top;\n",
       "    }\n",
       "\n",
       "    .dataframe thead th {\n",
       "        text-align: right;\n",
       "    }\n",
       "</style>\n",
       "<table border=\"1\" class=\"dataframe\">\n",
       "  <thead>\n",
       "    <tr style=\"text-align: right;\">\n",
       "      <th></th>\n",
       "      <th>품목</th>\n",
       "      <th>가격</th>\n",
       "      <th>세일가격</th>\n",
       "    </tr>\n",
       "  </thead>\n",
       "  <tbody>\n",
       "    <tr>\n",
       "      <th>0</th>\n",
       "      <td>[TIME DEAL] Haruharu WONDER Black Rice Hyalur...</td>\n",
       "      <td>USD 37.00</td>\n",
       "      <td>USD 16.59</td>\n",
       "    </tr>\n",
       "    <tr>\n",
       "      <th>1</th>\n",
       "      <td>SOME BY MI Propolis B5 Glow Barrier Calming T...</td>\n",
       "      <td>USD 22.00</td>\n",
       "      <td>USD 18.70</td>\n",
       "    </tr>\n",
       "    <tr>\n",
       "      <th>2</th>\n",
       "      <td>Haruharu WONDER Black Rice Hyaluronic Toner 3...</td>\n",
       "      <td>USD 37.00</td>\n",
       "      <td>USD 31.45</td>\n",
       "    </tr>\n",
       "    <tr>\n",
       "      <th>3</th>\n",
       "      <td>Cos De BAHA Centella Facial Toner 200ml</td>\n",
       "      <td>USD 16.45</td>\n",
       "      <td>USD 13.98</td>\n",
       "    </tr>\n",
       "    <tr>\n",
       "      <th>4</th>\n",
       "      <td>Isntree Hyaluronic Acid Toner 200ml (Renewal)</td>\n",
       "      <td>USD 19.30</td>\n",
       "      <td>USD 16.40</td>\n",
       "    </tr>\n",
       "    <tr>\n",
       "      <th>...</th>\n",
       "      <td>...</td>\n",
       "      <td>...</td>\n",
       "      <td>...</td>\n",
       "    </tr>\n",
       "    <tr>\n",
       "      <th>91</th>\n",
       "      <td>YUNJAC WHOLE PLANT EFFECT ESSENTIAL TONER 150ml</td>\n",
       "      <td>USD 60.00</td>\n",
       "      <td>USD 57.00</td>\n",
       "    </tr>\n",
       "    <tr>\n",
       "      <th>92</th>\n",
       "      <td>celimax Jiwoogae Heartleaf BHA Peeling Pad 60...</td>\n",
       "      <td>USD 17.50</td>\n",
       "      <td>USD 14.87</td>\n",
       "    </tr>\n",
       "    <tr>\n",
       "      <th>93</th>\n",
       "      <td>Celimax JI WOO GAE Cica BHA Blamish Toner Pad...</td>\n",
       "      <td>USD 25.00</td>\n",
       "      <td>USD 21.25</td>\n",
       "    </tr>\n",
       "    <tr>\n",
       "      <th>94</th>\n",
       "      <td>FRUDIA Avocado Relief Essence Toner 195g</td>\n",
       "      <td>USD 24.21</td>\n",
       "      <td>USD 23.00</td>\n",
       "    </tr>\n",
       "    <tr>\n",
       "      <th>95</th>\n",
       "      <td>FRUDIA Blueberry Hydrating Toner 195g</td>\n",
       "      <td>USD 21.79</td>\n",
       "      <td>USD 20.70</td>\n",
       "    </tr>\n",
       "  </tbody>\n",
       "</table>\n",
       "<p>96 rows × 3 columns</p>\n",
       "</div>"
      ],
      "text/plain": [
       "                                                   품목         가격       세일가격\n",
       "0    [TIME DEAL] Haruharu WONDER Black Rice Hyalur...  USD 37.00  USD 16.59\n",
       "1    SOME BY MI Propolis B5 Glow Barrier Calming T...  USD 22.00  USD 18.70\n",
       "2    Haruharu WONDER Black Rice Hyaluronic Toner 3...  USD 37.00  USD 31.45\n",
       "3             Cos De BAHA Centella Facial Toner 200ml  USD 16.45  USD 13.98\n",
       "4       Isntree Hyaluronic Acid Toner 200ml (Renewal)  USD 19.30  USD 16.40\n",
       "..                                                ...        ...        ...\n",
       "91    YUNJAC WHOLE PLANT EFFECT ESSENTIAL TONER 150ml  USD 60.00  USD 57.00\n",
       "92   celimax Jiwoogae Heartleaf BHA Peeling Pad 60...  USD 17.50  USD 14.87\n",
       "93   Celimax JI WOO GAE Cica BHA Blamish Toner Pad...  USD 25.00  USD 21.25\n",
       "94           FRUDIA Avocado Relief Essence Toner 195g  USD 24.21  USD 23.00\n",
       "95              FRUDIA Blueberry Hydrating Toner 195g  USD 21.79  USD 20.70\n",
       "\n",
       "[96 rows x 3 columns]"
      ]
     },
     "execution_count": 19,
     "metadata": {},
     "output_type": "execute_result"
    }
   ],
   "source": [
    "df_fin"
   ]
  },
  {
   "cell_type": "markdown",
   "id": "765fb2b4",
   "metadata": {},
   "source": [
    "- best 상품에 대해서 첫번째 페이지에서만 추출되고 그 후 페이지에서는 추출되지 않도록 함수 수정\n",
    "- 전체 페이지가 몇페이지인지를 크롤링을 통해서 얻어오고 해당 페이지 수 만큼 크롤링이 되게 코드 수정"
   ]
  },
  {
   "cell_type": "code",
   "execution_count": 20,
   "id": "2907d44c",
   "metadata": {},
   "outputs": [],
   "source": [
    "from urllib.request import urlopen\n",
    "from bs4 import BeautifulSoup\n",
    "import pandas as pd\n",
    "import numpy as np\n",
    "import ssl"
   ]
  },
  {
   "cell_type": "code",
   "execution_count": 21,
   "id": "9ba5caf7",
   "metadata": {},
   "outputs": [],
   "source": [
    "prd_dict = {'품목':[],\n",
    "            '가격':[],\n",
    "            '세일가격':[]}\n",
    "df_fin = pd.DataFrame(prd_dict)"
   ]
  },
  {
   "cell_type": "code",
   "execution_count": 22,
   "id": "a1eaadc6",
   "metadata": {},
   "outputs": [],
   "source": [
    "# 요청 및 파싱 객체 생성\n",
    "def get_request_product(url) :    \n",
    "    htmls = urlopen(url)\n",
    "    htmls = htmls.read()\n",
    "    # 2. 파싱객체 생성\n",
    "    bs_obj = BeautifulSoup(htmls, 'html.parser')\n",
    "    return bs_obj"
   ]
  },
  {
   "cell_type": "code",
   "execution_count": 23,
   "id": "c3d472e8",
   "metadata": {},
   "outputs": [],
   "source": [
    "# 한개의 제품에 대한 정보 추출\n",
    "def get_product_info(box) :\n",
    "    strong_tag = box.find('strong',{'class':'name'})\n",
    "    prd_name = strong_tag.text.split(':')[1]\n",
    "    #가격\n",
    "    price = box.find('ul').findAll('span')[1].text\n",
    "    sale_price = box.find('ul').findAll('span')[-1].text\n",
    "    return {'품목':prd_name, '가격':price, '세일가격':sale_price}"
   ]
  },
  {
   "cell_type": "code",
   "execution_count": 24,
   "id": "c5de2ba2",
   "metadata": {},
   "outputs": [],
   "source": [
    "# 초기 호출 함수\n",
    "def get_page_product(url) :\n",
    "    global df_fin\n",
    "    # 요청 및 파싱 객체 생성\n",
    "    bs_obj= get_request_product(url) ## 요청 및 파싱 객체 생성\n",
    "   # 페이지내 전체 제품정보 추출\n",
    "    boxes = bs_obj.findAll('div',{'class':'description'})\n",
    "    \n",
    "    # 1페이지가 아니면 추천 제품은 다시 크롤링 하지 않게  조건식 생성\n",
    "    #https://jolse.com/category/toners-mists/1019/?page=4\n",
    "    # 베스트 제품이 4개로 고정시켜 놓은 것임\n",
    "    # 베스트 제품 블럭과 제품 블럭이 구분되어 있으므로 그 내용을 반영하는게 효율적\n",
    "    # 연습문제로 해결\n",
    "    if url.split('=')[1] != '1' :\n",
    "        boxes = boxes[4:len(boxes)]\n",
    "       \n",
    "    # 각 제품에 대한 정보 추출\n",
    "    for box in boxes : \n",
    "        res = pd.DataFrame(get_product_info(box),index=range(1,2))\n",
    "        df_fin = pd.concat([df_fin,res], axis=0, ignore_index=True)"
   ]
  },
  {
   "cell_type": "markdown",
   "id": "972df862",
   "metadata": {},
   "source": [
    "### 마지막 페이지 번호 추출"
   ]
  },
  {
   "cell_type": "code",
   "execution_count": 26,
   "id": "a9d18750",
   "metadata": {},
   "outputs": [],
   "source": [
    "import ssl\n",
    "context = ssl._create_unverified_context()\n",
    "url = 'https://jolse.com/category/toners-mists/1019/'\n",
    "html = urlopen(url, context=context)\n",
    "htmls = html.read()"
   ]
  },
  {
   "cell_type": "code",
   "execution_count": 27,
   "id": "fc57dd28",
   "metadata": {},
   "outputs": [],
   "source": [
    "# 2. 파싱객체 생성\n",
    "bs_obj = BeautifulSoup(htmls,'html.parser')"
   ]
  },
  {
   "cell_type": "code",
   "execution_count": 28,
   "id": "6be89f4b",
   "metadata": {},
   "outputs": [
    {
     "data": {
      "text/plain": [
       "'26'"
      ]
     },
     "execution_count": 28,
     "metadata": {},
     "output_type": "execute_result"
    }
   ],
   "source": [
    "# 마지막 페이지 번호\n",
    "last_page = bs_obj.find('a',{'class':'last'})['href'].split('=')[1]\n",
    "last_page"
   ]
  },
  {
   "cell_type": "code",
   "execution_count": 29,
   "id": "717a529f",
   "metadata": {},
   "outputs": [],
   "source": [
    "base_url = 'https://jolse.com/category/toners-mists/1019?page='\n",
    "for i in range(1,int(last_page)+1) :\n",
    "    url = base_url + str(i)\n",
    "    get_page_product(url)"
   ]
  },
  {
   "cell_type": "code",
   "execution_count": 30,
   "id": "d4c86a26",
   "metadata": {},
   "outputs": [
    {
     "data": {
      "text/html": [
       "<div>\n",
       "<style scoped>\n",
       "    .dataframe tbody tr th:only-of-type {\n",
       "        vertical-align: middle;\n",
       "    }\n",
       "\n",
       "    .dataframe tbody tr th {\n",
       "        vertical-align: top;\n",
       "    }\n",
       "\n",
       "    .dataframe thead th {\n",
       "        text-align: right;\n",
       "    }\n",
       "</style>\n",
       "<table border=\"1\" class=\"dataframe\">\n",
       "  <thead>\n",
       "    <tr style=\"text-align: right;\">\n",
       "      <th></th>\n",
       "      <th>품목</th>\n",
       "      <th>가격</th>\n",
       "      <th>세일가격</th>\n",
       "    </tr>\n",
       "  </thead>\n",
       "  <tbody>\n",
       "    <tr>\n",
       "      <th>503</th>\n",
       "      <td>O HUI Miracle Moisture Skin Softener Moist 150ml</td>\n",
       "      <td>USD 48.00</td>\n",
       "      <td>USD 40.80</td>\n",
       "    </tr>\n",
       "    <tr>\n",
       "      <th>504</th>\n",
       "      <td>O HUI Age Recovery Skin Softener 150ml</td>\n",
       "      <td>USD 47.98</td>\n",
       "      <td>USD 40.78</td>\n",
       "    </tr>\n",
       "    <tr>\n",
       "      <th>505</th>\n",
       "      <td>ZYMOGEN AC Dr. A-Sol 30ml</td>\n",
       "      <td>USD 13.98</td>\n",
       "      <td>USD 11.88</td>\n",
       "    </tr>\n",
       "    <tr>\n",
       "      <th>506</th>\n",
       "      <td>It's skin Aloe Relaxing Toner 150ml</td>\n",
       "      <td>USD 19.00</td>\n",
       "      <td>USD 16.15</td>\n",
       "    </tr>\n",
       "    <tr>\n",
       "      <th>507</th>\n",
       "      <td>It's skin Hyaluronic Acid Moisture Toner 150ml</td>\n",
       "      <td>USD 19.00</td>\n",
       "      <td>USD 16.15</td>\n",
       "    </tr>\n",
       "  </tbody>\n",
       "</table>\n",
       "</div>"
      ],
      "text/plain": [
       "                                                    품목         가격       세일가격\n",
       "503   O HUI Miracle Moisture Skin Softener Moist 150ml  USD 48.00  USD 40.80\n",
       "504             O HUI Age Recovery Skin Softener 150ml  USD 47.98  USD 40.78\n",
       "505                          ZYMOGEN AC Dr. A-Sol 30ml  USD 13.98  USD 11.88\n",
       "506                It's skin Aloe Relaxing Toner 150ml  USD 19.00  USD 16.15\n",
       "507     It's skin Hyaluronic Acid Moisture Toner 150ml  USD 19.00  USD 16.15"
      ]
     },
     "execution_count": 30,
     "metadata": {},
     "output_type": "execute_result"
    }
   ],
   "source": [
    "df_fin.tail()"
   ]
  },
  {
   "cell_type": "code",
   "execution_count": 31,
   "id": "398a8e56",
   "metadata": {},
   "outputs": [
    {
     "data": {
      "text/plain": [
       "'1'"
      ]
     },
     "execution_count": 31,
     "metadata": {},
     "output_type": "execute_result"
    }
   ],
   "source": [
    "'USD 16.45'[4]"
   ]
  },
  {
   "cell_type": "code",
   "execution_count": null,
   "id": "97aa193a",
   "metadata": {},
   "outputs": [],
   "source": []
  }
 ],
 "metadata": {
  "kernelspec": {
   "display_name": "Python 3 (ipykernel)",
   "language": "python",
   "name": "python3"
  },
  "language_info": {
   "codemirror_mode": {
    "name": "ipython",
    "version": 3
   },
   "file_extension": ".py",
   "mimetype": "text/x-python",
   "name": "python",
   "nbconvert_exporter": "python",
   "pygments_lexer": "ipython3",
   "version": "3.9.12"
  }
 },
 "nbformat": 4,
 "nbformat_minor": 5
}
