{
 "cells": [
  {
   "cell_type": "code",
   "execution_count": 1,
   "metadata": {},
   "outputs": [],
   "source": [
    "#필요한 패키지(판다스, 넘피를 import 하고 pd,np로 별명을 만드시오\n",
    "import pandas as pd\n",
    "import numpy as np"
   ]
  },
  {
   "cell_type": "markdown",
   "metadata": {},
   "source": [
    "#### 시리즈  문제 \n",
    "\n",
    "#### Series\n",
    "  - pandas의 기본 객체 중 하나\n",
    "  - numpy의 ndarray를 기반으로 인덱싱을 기능을 추가하여 1차원 배열을 나타냄\n",
    "  - index를 지정하지 않을 시, 기본적으로 ndarray와 같이 0-based 인덱스 생성, 지정할 경우 명시적으로 지정된 index를 사용\n",
    "  - **같은 타입**의 **0개 이상**의 데이터를 가질 수 있음"
   ]
  },
  {
   "cell_type": "code",
   "execution_count": 4,
   "metadata": {},
   "outputs": [
    {
     "data": {
      "text/plain": [
       "a    1\n",
       "b    2\n",
       "c    3\n",
       "dtype: object"
      ]
     },
     "execution_count": 4,
     "metadata": {},
     "output_type": "execute_result"
    }
   ],
   "source": [
    "# 연습문제 1\n",
    "# pandas.Series(x(집합적자료형),index=) 이용\n",
    "# 임의로 두개의 시리즈 객체를 만든다.\n",
    "# 모두 문자열 인덱스를가져야 하며 두 시리즈에 공통적으로 포함\n",
    "# 되지 않는 인덱스(라벨)가 있어야 한다.\n",
    "# 값과 시리즈 원소 개수도 임의 설정할 것\n",
    "# () 튜플 , [ ] 리스트 , {} 딕셔너리\n",
    "s= pd.Series([1,2,3], index=['a','b','c'])\n",
    "s\n",
    "\n",
    "s=pd.Series([1,2,3])\n",
    "s\n",
    "\n",
    "\n",
    "s= pd.Series(['1',2,3], index=['a','b','c'])\n",
    "s\n",
    "\n"
   ]
  },
  {
   "cell_type": "code",
   "execution_count": 7,
   "metadata": {},
   "outputs": [
    {
     "data": {
      "text/plain": [
       "d    8\n",
       "c    7\n",
       "b    5\n",
       "dtype: int64"
      ]
     },
     "execution_count": 7,
     "metadata": {},
     "output_type": "execute_result"
    }
   ],
   "source": [
    "s1 = pd.Series({'b':5,'c':7,'d':8}) # 딕셔너리의 순서를 시리즈는 보장하지 않는다. \n",
    "s1 = pd.Series({'b':5,'c':7,'d':8}, index=['d','c','b']) # 인덱스의 순서는 보장된다. \n",
    "s1"
   ]
  },
  {
   "cell_type": "code",
   "execution_count": 5,
   "metadata": {},
   "outputs": [
    {
     "data": {
      "text/plain": [
       "['1', 2, 3]"
      ]
     },
     "execution_count": 5,
     "metadata": {},
     "output_type": "execute_result"
    }
   ],
   "source": [
    "['1',2,3]"
   ]
  },
  {
   "cell_type": "code",
   "execution_count": 8,
   "metadata": {},
   "outputs": [],
   "source": [
    "#연습문제 2 : 아래 시리즈 객체를 이용하여 사칙연산을 \n",
    "#수행하고 결과를 출력하시오.\n",
    "#벡터화 연산\n",
    "ex_s1 = pd.Series({'국어':95,'영어':80,'수학':75})\n",
    "ex_s2 = pd.Series({'국어':95,'영어':80,'수학':75})\n"
   ]
  },
  {
   "cell_type": "code",
   "execution_count": 9,
   "metadata": {},
   "outputs": [
    {
     "data": {
      "text/plain": [
       "국어    1.0\n",
       "영어    1.0\n",
       "수학    1.0\n",
       "dtype: float64"
      ]
     },
     "execution_count": 9,
     "metadata": {},
     "output_type": "execute_result"
    }
   ],
   "source": [
    "ex_s1 + ex_s2; ex_s1 - ex_s2; ex_s1 * ex_s2 ; ex_s1 / ex_s2"
   ]
  },
  {
   "cell_type": "code",
   "execution_count": 10,
   "metadata": {},
   "outputs": [
    {
     "data": {
      "text/plain": [
       "국어    0\n",
       "영어    0\n",
       "수학    0\n",
       "dtype: int64"
      ]
     },
     "execution_count": 10,
     "metadata": {},
     "output_type": "execute_result"
    }
   ],
   "source": [
    "ex_s1 - ex_s2"
   ]
  },
  {
   "cell_type": "code",
   "execution_count": 11,
   "metadata": {},
   "outputs": [
    {
     "data": {
      "text/plain": [
       "국어    190\n",
       "영어    160\n",
       "수학    150\n",
       "dtype: int64"
      ]
     },
     "execution_count": 11,
     "metadata": {},
     "output_type": "execute_result"
    }
   ],
   "source": [
    "ex_s1 + ex_s2"
   ]
  },
  {
   "cell_type": "code",
   "execution_count": 13,
   "metadata": {},
   "outputs": [],
   "source": [
    "#연습문제 3 : 아래 두 객체에 대하여 아래 제시된 연산을 수행하시오.\n",
    "ex_s1 = pd.Series({'국어':95,'영어':80,'수학':75})\n",
    "ex_s2 = pd.Series({'국어':95,'과학':80,'논술':75})"
   ]
  },
  {
   "cell_type": "code",
   "execution_count": 16,
   "metadata": {},
   "outputs": [
    {
     "data": {
      "text/plain": [
       "국어    95\n",
       "영어    80\n",
       "수학    75\n",
       "dtype: int64"
      ]
     },
     "execution_count": 16,
     "metadata": {},
     "output_type": "execute_result"
    }
   ],
   "source": [
    "# - 연산을 수행하고 결과를 설명하시오\n",
    "ex_s1 #- ex_s2\n",
    "# 두 시리즈에서 동일한 인덱스는 연산을 수행하고 인덱스가 동일하지 않은 원소는 연산 수행 불가로 NaN이 반환됨"
   ]
  },
  {
   "cell_type": "code",
   "execution_count": 17,
   "metadata": {},
   "outputs": [
    {
     "data": {
      "text/plain": [
       "array([95, 80, 75], dtype=int64)"
      ]
     },
     "execution_count": 17,
     "metadata": {},
     "output_type": "execute_result"
    }
   ],
   "source": [
    "ex_s1.values"
   ]
  },
  {
   "cell_type": "code",
   "execution_count": 18,
   "metadata": {},
   "outputs": [
    {
     "data": {
      "text/plain": [
       "array([0, 0, 0], dtype=int64)"
      ]
     },
     "execution_count": 18,
     "metadata": {},
     "output_type": "execute_result"
    }
   ],
   "source": [
    "ex_s1.values - ex_s2.values\n",
    "# 위 연산을 수행했을 때 출력되는 결과를 설명하시오\n",
    "# values 속성으로 접근하면 시리즈가 아닌 np.array 이므로 위치 인덱스만 갖게되고\n",
    "# 동일 위치 인덱스 원소끼리 계산이 수행될 수 있음"
   ]
  },
  {
   "cell_type": "code",
   "execution_count": 49,
   "metadata": {},
   "outputs": [
    {
     "data": {
      "text/plain": [
       "서울    9904312\n",
       "부산    3448737\n",
       "인천    2890451\n",
       "대구    2466052\n",
       "dtype: int64"
      ]
     },
     "execution_count": 49,
     "metadata": {},
     "output_type": "execute_result"
    }
   ],
   "source": [
    "# 연습문제 4\n",
    "# 아래 데이터를 이용해서 시리즈 s를 생성하시오\n",
    "    # 서울 : 9904312, 부산 : 3448737, 인천 : 2890451  대구 : 2466052    \n",
    "s = pd.Series([9904312,3448737,2890451,2466052],\n",
    "             index=['서울','부산','인천','대구'])\n",
    "s"
   ]
  },
  {
   "cell_type": "code",
   "execution_count": 50,
   "metadata": {},
   "outputs": [
    {
     "name": "stdout",
     "output_type": "stream",
     "text": [
      "Index(['서울', '부산', '인천', '대구'], dtype='object')\n",
      "2890451\n"
     ]
    }
   ],
   "source": [
    "# 연습문제 5 :\n",
    "#시리즈 s 변수의 인덱스를 출력해서 확인하고\n",
    "#세번째 인덱스의 값을 라벨인덱스로 접근 후 출력하시오.\n",
    "print(s.index)\n",
    "print(s['인천'])"
   ]
  },
  {
   "cell_type": "code",
   "execution_count": 51,
   "metadata": {},
   "outputs": [
    {
     "data": {
      "text/plain": [
       "부산    3448737\n",
       "인천    2890451\n",
       "대구    2466052\n",
       "dtype: int64"
      ]
     },
     "execution_count": 51,
     "metadata": {},
     "output_type": "execute_result"
    }
   ],
   "source": [
    "# 연습문제 6\n",
    "#시리즈 s에 대하여 라벨(문자)인덱싱을 이용하고\n",
    "#부산, 인천, 대구의 값을 추출하시오.\n",
    "# 바깥 대괄호 인덱스 안에 괄호 리스트\n",
    "s[['부산','인천','대구']]"
   ]
  },
  {
   "cell_type": "code",
   "execution_count": 52,
   "metadata": {},
   "outputs": [
    {
     "data": {
      "text/plain": [
       "서울    9631482\n",
       "부산    3393191\n",
       "인천    2632035\n",
       "대전    1490158\n",
       "dtype: int64"
      ]
     },
     "execution_count": 52,
     "metadata": {},
     "output_type": "execute_result"
    }
   ],
   "source": [
    "# 연습문제 7\n",
    "#아래 데이터를 이용하여 시리즈를 생성하고 데이터 순서를 서울, 부산, 인천, 대전 으로 설정하시오 - 딕셔너리 활용\n",
    "#   서울 9631482\n",
    "#   부산 3393191\n",
    "#   인천 2632035\n",
    "#   대전 1490158\n",
    "city = {'서울': 9631482,'부산': 3393191,'인천' : 2632035, '대전' : 1490158}\n",
    "s = pd.Series(city, index=['서울','부산','인천','대전'])\n",
    "s"
   ]
  },
  {
   "cell_type": "code",
   "execution_count": 53,
   "metadata": {},
   "outputs": [
    {
     "data": {
      "text/plain": [
       "서울    9631482\n",
       "부산    3393191\n",
       "인천    2632035\n",
       "대전    1490158\n",
       "Name: 인구, dtype: int64"
      ]
     },
     "execution_count": 53,
     "metadata": {},
     "output_type": "execute_result"
    }
   ],
   "source": [
    "# 연습문제 8\n",
    "# 위에서 생성한 시리즈에 인구 라는 이름을 설정하시오\n",
    "s.name = '인구'\n",
    "s"
   ]
  },
  {
   "cell_type": "code",
   "execution_count": 54,
   "metadata": {},
   "outputs": [
    {
     "data": {
      "text/plain": [
       "서울    9631482\n",
       "부산    3393191\n",
       "Name: 인구, dtype: int64"
      ]
     },
     "execution_count": 54,
     "metadata": {},
     "output_type": "execute_result"
    }
   ],
   "source": [
    "# 연습문제 9\n",
    "# 위에서 생성한 시리즈의 인구수가 3000000 이상인 도시를 출력하시오\n",
    "s >= 3000000\n",
    "s[s>=3000000]"
   ]
  },
  {
   "cell_type": "code",
   "execution_count": 55,
   "metadata": {},
   "outputs": [
    {
     "data": {
      "text/plain": [
       "서울    11000000\n",
       "부산     3393191\n",
       "인천     2632035\n",
       "대전     1490158\n",
       "Name: 인구, dtype: int64"
      ]
     },
     "execution_count": 55,
     "metadata": {},
     "output_type": "execute_result"
    }
   ],
   "source": [
    "# 연습문제 10\n",
    "# 위에서 생성한 시리즈의 서울 데이터를 11000000 으로 변경하세요\n",
    "s['서울'] = 11000000\n",
    "s"
   ]
  },
  {
   "cell_type": "code",
   "execution_count": 56,
   "metadata": {},
   "outputs": [
    {
     "data": {
      "text/plain": [
       "서울    11000000\n",
       "부산     3393191\n",
       "인천     2632035\n",
       "Name: 인구, dtype: int64"
      ]
     },
     "execution_count": 56,
     "metadata": {},
     "output_type": "execute_result"
    }
   ],
   "source": [
    "# 연습문제 11\n",
    "# 대전 데이터를 삭제하세요\n",
    "del s['대전']\n",
    "s"
   ]
  },
  {
   "cell_type": "code",
   "execution_count": 57,
   "metadata": {},
   "outputs": [
    {
     "name": "stdout",
     "output_type": "stream",
     "text": [
      "데이터에 대구 정보는 없습니다.\n"
     ]
    }
   ],
   "source": [
    "# 연습문제 12 \n",
    "# 대구 데이터가 있는지 확인 하세요\n",
    "# in 연산자\n",
    "'대구' in s\n",
    "\n",
    "if '대구' in s :\n",
    "    print('데이터에 대구 정보는 있습니다.')\n",
    "else :\n",
    "    print('데이터에 대구 정보는 없습니다.')"
   ]
  },
  {
   "cell_type": "code",
   "execution_count": null,
   "metadata": {},
   "outputs": [],
   "source": []
  }
 ],
 "metadata": {
  "kernelspec": {
   "display_name": "Python 3 (ipykernel)",
   "language": "python",
   "name": "python3"
  },
  "language_info": {
   "codemirror_mode": {
    "name": "ipython",
    "version": 3
   },
   "file_extension": ".py",
   "mimetype": "text/x-python",
   "name": "python",
   "nbconvert_exporter": "python",
   "pygments_lexer": "ipython3",
   "version": "3.9.12"
  }
 },
 "nbformat": 4,
 "nbformat_minor": 4
}
