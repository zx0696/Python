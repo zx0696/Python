{
 "cells": [
  {
   "cell_type": "markdown",
   "id": "3e82ac8e",
   "metadata": {},
   "source": [
    "DB연결"
   ]
  },
  {
   "cell_type": "code",
   "execution_count": 2,
   "id": "e09836bc",
   "metadata": {},
   "outputs": [
    {
     "name": "stdout",
     "output_type": "stream",
     "text": [
      "Requirement already satisfied: pymysql in c:\\users\\82107\\anaconda3\\lib\\site-packages (1.0.2)\n"
     ]
    }
   ],
   "source": [
    "# !pip install pymysql"
   ]
  },
  {
   "cell_type": "code",
   "execution_count": 1,
   "id": "7300edf0",
   "metadata": {},
   "outputs": [],
   "source": [
    "from urllib.request import urlopen\n",
    "from bs4 import BeautifulSoup\n",
    "import pandas as pd\n",
    "import numpy as np\n",
    "import pymysql\n",
    "import requests\n",
    "import ssl\n",
    "context = ssl._create_unverified_context()"
   ]
  },
  {
   "cell_type": "markdown",
   "id": "630e2c5a",
   "metadata": {},
   "source": [
    "1. DB 연결\n",
    "    - pymysql.connect(host= 'ip주소/도메인/local',port = 3306, user='id',passwd='1234',charset='utf8')\n",
    "    - db conn 객체 반환\n",
    "\n",
    "2. cursor 객체 추출(sql 실행 시키는 객체)\n",
    "    - conn.cursor() \n",
    "3. sql 구문 실행\n",
    "    - cursor.execute(sql)\n",
    "4. sql 실행 결과 추출(실행된 cursor 객체가 결과를 저장하고 있음)\n",
    "    - cursor.fetch*()"
   ]
  },
  {
   "cell_type": "code",
   "execution_count": 2,
   "id": "04df26d7",
   "metadata": {},
   "outputs": [],
   "source": [
    "# 1. db연결 \n",
    "db = pymysql. connect(host='localhost',port=3306,\n",
    "                     user='root', passwd='1234',\n",
    "                     charset='utf8')"
   ]
  },
  {
   "cell_type": "code",
   "execution_count": 3,
   "id": "758ad645",
   "metadata": {},
   "outputs": [],
   "source": [
    "# 2. cursor 객체 추출 \n",
    "cursor = db.cursor()"
   ]
  },
  {
   "cell_type": "code",
   "execution_count": 4,
   "id": "4d19f182",
   "metadata": {},
   "outputs": [
    {
     "data": {
      "text/plain": [
       "10"
      ]
     },
     "execution_count": 4,
     "metadata": {},
     "output_type": "execute_result"
    }
   ],
   "source": [
    "# 3. sql 실행\n",
    "sql = 'show databases'\n",
    "cursor.execute(sql)"
   ]
  },
  {
   "cell_type": "code",
   "execution_count": 5,
   "id": "617d152c",
   "metadata": {},
   "outputs": [
    {
     "data": {
      "text/plain": [
       "(('beauty_shop',),\n",
       " ('coffe',),\n",
       " ('csv_db2',),\n",
       " ('employees',),\n",
       " ('information_schema',),\n",
       " ('multi',),\n",
       " ('mysql',),\n",
       " ('performance_schema',),\n",
       " ('sqldb',),\n",
       " ('test',))"
      ]
     },
     "execution_count": 5,
     "metadata": {},
     "output_type": "execute_result"
    }
   ],
   "source": [
    "# 4. 실행 결과 확인\n",
    "result =cursor.fetchall()\n",
    "result"
   ]
  },
  {
   "cell_type": "code",
   "execution_count": 6,
   "id": "c11ccecf",
   "metadata": {},
   "outputs": [
    {
     "ename": "ProgrammingError",
     "evalue": "(1007, \"Can't create database 'beauty_shop'; database exists\")",
     "output_type": "error",
     "traceback": [
      "\u001b[1;31m---------------------------------------------------------------------------\u001b[0m",
      "\u001b[1;31mProgrammingError\u001b[0m                          Traceback (most recent call last)",
      "Input \u001b[1;32mIn [6]\u001b[0m, in \u001b[0;36m<cell line: 3>\u001b[1;34m()\u001b[0m\n\u001b[0;32m      1\u001b[0m \u001b[38;5;66;03m### 사용 DB 생성 \u001b[39;00m\n\u001b[0;32m      2\u001b[0m sql \u001b[38;5;241m=\u001b[39m \u001b[38;5;124m'\u001b[39m\u001b[38;5;124mcreate database beauty_shop\u001b[39m\u001b[38;5;124m'\u001b[39m\n\u001b[1;32m----> 3\u001b[0m \u001b[43mcursor\u001b[49m\u001b[38;5;241;43m.\u001b[39;49m\u001b[43mexecute\u001b[49m\u001b[43m(\u001b[49m\u001b[43msql\u001b[49m\u001b[43m)\u001b[49m\n",
      "File \u001b[1;32m~\\anaconda3\\lib\\site-packages\\pymysql\\cursors.py:148\u001b[0m, in \u001b[0;36mCursor.execute\u001b[1;34m(self, query, args)\u001b[0m\n\u001b[0;32m    144\u001b[0m     \u001b[38;5;28;01mpass\u001b[39;00m\n\u001b[0;32m    146\u001b[0m query \u001b[38;5;241m=\u001b[39m \u001b[38;5;28mself\u001b[39m\u001b[38;5;241m.\u001b[39mmogrify(query, args)\n\u001b[1;32m--> 148\u001b[0m result \u001b[38;5;241m=\u001b[39m \u001b[38;5;28;43mself\u001b[39;49m\u001b[38;5;241;43m.\u001b[39;49m\u001b[43m_query\u001b[49m\u001b[43m(\u001b[49m\u001b[43mquery\u001b[49m\u001b[43m)\u001b[49m\n\u001b[0;32m    149\u001b[0m \u001b[38;5;28mself\u001b[39m\u001b[38;5;241m.\u001b[39m_executed \u001b[38;5;241m=\u001b[39m query\n\u001b[0;32m    150\u001b[0m \u001b[38;5;28;01mreturn\u001b[39;00m result\n",
      "File \u001b[1;32m~\\anaconda3\\lib\\site-packages\\pymysql\\cursors.py:310\u001b[0m, in \u001b[0;36mCursor._query\u001b[1;34m(self, q)\u001b[0m\n\u001b[0;32m    308\u001b[0m \u001b[38;5;28mself\u001b[39m\u001b[38;5;241m.\u001b[39m_last_executed \u001b[38;5;241m=\u001b[39m q\n\u001b[0;32m    309\u001b[0m \u001b[38;5;28mself\u001b[39m\u001b[38;5;241m.\u001b[39m_clear_result()\n\u001b[1;32m--> 310\u001b[0m \u001b[43mconn\u001b[49m\u001b[38;5;241;43m.\u001b[39;49m\u001b[43mquery\u001b[49m\u001b[43m(\u001b[49m\u001b[43mq\u001b[49m\u001b[43m)\u001b[49m\n\u001b[0;32m    311\u001b[0m \u001b[38;5;28mself\u001b[39m\u001b[38;5;241m.\u001b[39m_do_get_result()\n\u001b[0;32m    312\u001b[0m \u001b[38;5;28;01mreturn\u001b[39;00m \u001b[38;5;28mself\u001b[39m\u001b[38;5;241m.\u001b[39mrowcount\n",
      "File \u001b[1;32m~\\anaconda3\\lib\\site-packages\\pymysql\\connections.py:548\u001b[0m, in \u001b[0;36mConnection.query\u001b[1;34m(self, sql, unbuffered)\u001b[0m\n\u001b[0;32m    546\u001b[0m     sql \u001b[38;5;241m=\u001b[39m sql\u001b[38;5;241m.\u001b[39mencode(\u001b[38;5;28mself\u001b[39m\u001b[38;5;241m.\u001b[39mencoding, \u001b[38;5;124m\"\u001b[39m\u001b[38;5;124msurrogateescape\u001b[39m\u001b[38;5;124m\"\u001b[39m)\n\u001b[0;32m    547\u001b[0m \u001b[38;5;28mself\u001b[39m\u001b[38;5;241m.\u001b[39m_execute_command(COMMAND\u001b[38;5;241m.\u001b[39mCOM_QUERY, sql)\n\u001b[1;32m--> 548\u001b[0m \u001b[38;5;28mself\u001b[39m\u001b[38;5;241m.\u001b[39m_affected_rows \u001b[38;5;241m=\u001b[39m \u001b[38;5;28;43mself\u001b[39;49m\u001b[38;5;241;43m.\u001b[39;49m\u001b[43m_read_query_result\u001b[49m\u001b[43m(\u001b[49m\u001b[43munbuffered\u001b[49m\u001b[38;5;241;43m=\u001b[39;49m\u001b[43munbuffered\u001b[49m\u001b[43m)\u001b[49m\n\u001b[0;32m    549\u001b[0m \u001b[38;5;28;01mreturn\u001b[39;00m \u001b[38;5;28mself\u001b[39m\u001b[38;5;241m.\u001b[39m_affected_rows\n",
      "File \u001b[1;32m~\\anaconda3\\lib\\site-packages\\pymysql\\connections.py:775\u001b[0m, in \u001b[0;36mConnection._read_query_result\u001b[1;34m(self, unbuffered)\u001b[0m\n\u001b[0;32m    773\u001b[0m \u001b[38;5;28;01melse\u001b[39;00m:\n\u001b[0;32m    774\u001b[0m     result \u001b[38;5;241m=\u001b[39m MySQLResult(\u001b[38;5;28mself\u001b[39m)\n\u001b[1;32m--> 775\u001b[0m     \u001b[43mresult\u001b[49m\u001b[38;5;241;43m.\u001b[39;49m\u001b[43mread\u001b[49m\u001b[43m(\u001b[49m\u001b[43m)\u001b[49m\n\u001b[0;32m    776\u001b[0m \u001b[38;5;28mself\u001b[39m\u001b[38;5;241m.\u001b[39m_result \u001b[38;5;241m=\u001b[39m result\n\u001b[0;32m    777\u001b[0m \u001b[38;5;28;01mif\u001b[39;00m result\u001b[38;5;241m.\u001b[39mserver_status \u001b[38;5;129;01mis\u001b[39;00m \u001b[38;5;129;01mnot\u001b[39;00m \u001b[38;5;28;01mNone\u001b[39;00m:\n",
      "File \u001b[1;32m~\\anaconda3\\lib\\site-packages\\pymysql\\connections.py:1156\u001b[0m, in \u001b[0;36mMySQLResult.read\u001b[1;34m(self)\u001b[0m\n\u001b[0;32m   1154\u001b[0m \u001b[38;5;28;01mdef\u001b[39;00m \u001b[38;5;21mread\u001b[39m(\u001b[38;5;28mself\u001b[39m):\n\u001b[0;32m   1155\u001b[0m     \u001b[38;5;28;01mtry\u001b[39;00m:\n\u001b[1;32m-> 1156\u001b[0m         first_packet \u001b[38;5;241m=\u001b[39m \u001b[38;5;28;43mself\u001b[39;49m\u001b[38;5;241;43m.\u001b[39;49m\u001b[43mconnection\u001b[49m\u001b[38;5;241;43m.\u001b[39;49m\u001b[43m_read_packet\u001b[49m\u001b[43m(\u001b[49m\u001b[43m)\u001b[49m\n\u001b[0;32m   1158\u001b[0m         \u001b[38;5;28;01mif\u001b[39;00m first_packet\u001b[38;5;241m.\u001b[39mis_ok_packet():\n\u001b[0;32m   1159\u001b[0m             \u001b[38;5;28mself\u001b[39m\u001b[38;5;241m.\u001b[39m_read_ok_packet(first_packet)\n",
      "File \u001b[1;32m~\\anaconda3\\lib\\site-packages\\pymysql\\connections.py:725\u001b[0m, in \u001b[0;36mConnection._read_packet\u001b[1;34m(self, packet_type)\u001b[0m\n\u001b[0;32m    723\u001b[0m     \u001b[38;5;28;01mif\u001b[39;00m \u001b[38;5;28mself\u001b[39m\u001b[38;5;241m.\u001b[39m_result \u001b[38;5;129;01mis\u001b[39;00m \u001b[38;5;129;01mnot\u001b[39;00m \u001b[38;5;28;01mNone\u001b[39;00m \u001b[38;5;129;01mand\u001b[39;00m \u001b[38;5;28mself\u001b[39m\u001b[38;5;241m.\u001b[39m_result\u001b[38;5;241m.\u001b[39munbuffered_active \u001b[38;5;129;01mis\u001b[39;00m \u001b[38;5;28;01mTrue\u001b[39;00m:\n\u001b[0;32m    724\u001b[0m         \u001b[38;5;28mself\u001b[39m\u001b[38;5;241m.\u001b[39m_result\u001b[38;5;241m.\u001b[39munbuffered_active \u001b[38;5;241m=\u001b[39m \u001b[38;5;28;01mFalse\u001b[39;00m\n\u001b[1;32m--> 725\u001b[0m     \u001b[43mpacket\u001b[49m\u001b[38;5;241;43m.\u001b[39;49m\u001b[43mraise_for_error\u001b[49m\u001b[43m(\u001b[49m\u001b[43m)\u001b[49m\n\u001b[0;32m    726\u001b[0m \u001b[38;5;28;01mreturn\u001b[39;00m packet\n",
      "File \u001b[1;32m~\\anaconda3\\lib\\site-packages\\pymysql\\protocol.py:221\u001b[0m, in \u001b[0;36mMysqlPacket.raise_for_error\u001b[1;34m(self)\u001b[0m\n\u001b[0;32m    219\u001b[0m \u001b[38;5;28;01mif\u001b[39;00m DEBUG:\n\u001b[0;32m    220\u001b[0m     \u001b[38;5;28mprint\u001b[39m(\u001b[38;5;124m\"\u001b[39m\u001b[38;5;124merrno =\u001b[39m\u001b[38;5;124m\"\u001b[39m, errno)\n\u001b[1;32m--> 221\u001b[0m \u001b[43merr\u001b[49m\u001b[38;5;241;43m.\u001b[39;49m\u001b[43mraise_mysql_exception\u001b[49m\u001b[43m(\u001b[49m\u001b[38;5;28;43mself\u001b[39;49m\u001b[38;5;241;43m.\u001b[39;49m\u001b[43m_data\u001b[49m\u001b[43m)\u001b[49m\n",
      "File \u001b[1;32m~\\anaconda3\\lib\\site-packages\\pymysql\\err.py:143\u001b[0m, in \u001b[0;36mraise_mysql_exception\u001b[1;34m(data)\u001b[0m\n\u001b[0;32m    141\u001b[0m \u001b[38;5;28;01mif\u001b[39;00m errorclass \u001b[38;5;129;01mis\u001b[39;00m \u001b[38;5;28;01mNone\u001b[39;00m:\n\u001b[0;32m    142\u001b[0m     errorclass \u001b[38;5;241m=\u001b[39m InternalError \u001b[38;5;28;01mif\u001b[39;00m errno \u001b[38;5;241m<\u001b[39m \u001b[38;5;241m1000\u001b[39m \u001b[38;5;28;01melse\u001b[39;00m OperationalError\n\u001b[1;32m--> 143\u001b[0m \u001b[38;5;28;01mraise\u001b[39;00m errorclass(errno, errval)\n",
      "\u001b[1;31mProgrammingError\u001b[0m: (1007, \"Can't create database 'beauty_shop'; database exists\")"
     ]
    }
   ],
   "source": [
    "### 사용 DB 생성 \n",
    "sql = 'create database beauty_shop'\n",
    "cursor.execute(sql)"
   ]
  },
  {
   "cell_type": "code",
   "execution_count": null,
   "id": "f18fe028",
   "metadata": {},
   "outputs": [],
   "source": [
    "# 생성 확인 \n",
    "sql = 'show databases'\n",
    "cursor.execute(sql)\n",
    "result = cursor.fetchall()\n",
    "result"
   ]
  },
  {
   "cell_type": "code",
   "execution_count": 7,
   "id": "a02824d7",
   "metadata": {},
   "outputs": [
    {
     "data": {
      "text/plain": [
       "0"
      ]
     },
     "execution_count": 7,
     "metadata": {},
     "output_type": "execute_result"
    }
   ],
   "source": [
    "# db 선택\n",
    "sql = 'use beauty_shop'\n",
    "cursor.execute(sql)"
   ]
  },
  {
   "cell_type": "code",
   "execution_count": 8,
   "id": "991140f2",
   "metadata": {},
   "outputs": [
    {
     "data": {
      "text/plain": [
       "1"
      ]
     },
     "execution_count": 8,
     "metadata": {},
     "output_type": "execute_result"
    }
   ],
   "source": [
    "# 현재 db 조회 \n",
    "sql = 'select database()'\n",
    "cursor.execute(sql)"
   ]
  },
  {
   "cell_type": "code",
   "execution_count": 9,
   "id": "b7899c1c",
   "metadata": {},
   "outputs": [
    {
     "data": {
      "text/plain": [
       "('beauty_shop',)"
      ]
     },
     "execution_count": 9,
     "metadata": {},
     "output_type": "execute_result"
    }
   ],
   "source": [
    "result = cursor.fetchone()\n",
    "result"
   ]
  },
  {
   "cell_type": "code",
   "execution_count": 10,
   "id": "3ab2d619",
   "metadata": {},
   "outputs": [],
   "source": [
    "### table 생성  - sql 구문 작성\n",
    "sql = \"\"\"\n",
    "    create table product(\n",
    "        product_code int auto_increment not null,\n",
    "        title varchar(200) not null,\n",
    "        ori_price float,\n",
    "        discount_price float,\n",
    "        link varchar(200),\n",
    "        primary key(product_code)        \n",
    "        )\n",
    "\"\"\""
   ]
  },
  {
   "cell_type": "code",
   "execution_count": 11,
   "id": "d7d77c7c",
   "metadata": {},
   "outputs": [
    {
     "ename": "OperationalError",
     "evalue": "(1050, \"Table 'product' already exists\")",
     "output_type": "error",
     "traceback": [
      "\u001b[1;31m---------------------------------------------------------------------------\u001b[0m",
      "\u001b[1;31mOperationalError\u001b[0m                          Traceback (most recent call last)",
      "Input \u001b[1;32mIn [11]\u001b[0m, in \u001b[0;36m<cell line: 1>\u001b[1;34m()\u001b[0m\n\u001b[1;32m----> 1\u001b[0m \u001b[43mcursor\u001b[49m\u001b[38;5;241;43m.\u001b[39;49m\u001b[43mexecute\u001b[49m\u001b[43m(\u001b[49m\u001b[43msql\u001b[49m\u001b[43m)\u001b[49m\n",
      "File \u001b[1;32m~\\anaconda3\\lib\\site-packages\\pymysql\\cursors.py:148\u001b[0m, in \u001b[0;36mCursor.execute\u001b[1;34m(self, query, args)\u001b[0m\n\u001b[0;32m    144\u001b[0m     \u001b[38;5;28;01mpass\u001b[39;00m\n\u001b[0;32m    146\u001b[0m query \u001b[38;5;241m=\u001b[39m \u001b[38;5;28mself\u001b[39m\u001b[38;5;241m.\u001b[39mmogrify(query, args)\n\u001b[1;32m--> 148\u001b[0m result \u001b[38;5;241m=\u001b[39m \u001b[38;5;28;43mself\u001b[39;49m\u001b[38;5;241;43m.\u001b[39;49m\u001b[43m_query\u001b[49m\u001b[43m(\u001b[49m\u001b[43mquery\u001b[49m\u001b[43m)\u001b[49m\n\u001b[0;32m    149\u001b[0m \u001b[38;5;28mself\u001b[39m\u001b[38;5;241m.\u001b[39m_executed \u001b[38;5;241m=\u001b[39m query\n\u001b[0;32m    150\u001b[0m \u001b[38;5;28;01mreturn\u001b[39;00m result\n",
      "File \u001b[1;32m~\\anaconda3\\lib\\site-packages\\pymysql\\cursors.py:310\u001b[0m, in \u001b[0;36mCursor._query\u001b[1;34m(self, q)\u001b[0m\n\u001b[0;32m    308\u001b[0m \u001b[38;5;28mself\u001b[39m\u001b[38;5;241m.\u001b[39m_last_executed \u001b[38;5;241m=\u001b[39m q\n\u001b[0;32m    309\u001b[0m \u001b[38;5;28mself\u001b[39m\u001b[38;5;241m.\u001b[39m_clear_result()\n\u001b[1;32m--> 310\u001b[0m \u001b[43mconn\u001b[49m\u001b[38;5;241;43m.\u001b[39;49m\u001b[43mquery\u001b[49m\u001b[43m(\u001b[49m\u001b[43mq\u001b[49m\u001b[43m)\u001b[49m\n\u001b[0;32m    311\u001b[0m \u001b[38;5;28mself\u001b[39m\u001b[38;5;241m.\u001b[39m_do_get_result()\n\u001b[0;32m    312\u001b[0m \u001b[38;5;28;01mreturn\u001b[39;00m \u001b[38;5;28mself\u001b[39m\u001b[38;5;241m.\u001b[39mrowcount\n",
      "File \u001b[1;32m~\\anaconda3\\lib\\site-packages\\pymysql\\connections.py:548\u001b[0m, in \u001b[0;36mConnection.query\u001b[1;34m(self, sql, unbuffered)\u001b[0m\n\u001b[0;32m    546\u001b[0m     sql \u001b[38;5;241m=\u001b[39m sql\u001b[38;5;241m.\u001b[39mencode(\u001b[38;5;28mself\u001b[39m\u001b[38;5;241m.\u001b[39mencoding, \u001b[38;5;124m\"\u001b[39m\u001b[38;5;124msurrogateescape\u001b[39m\u001b[38;5;124m\"\u001b[39m)\n\u001b[0;32m    547\u001b[0m \u001b[38;5;28mself\u001b[39m\u001b[38;5;241m.\u001b[39m_execute_command(COMMAND\u001b[38;5;241m.\u001b[39mCOM_QUERY, sql)\n\u001b[1;32m--> 548\u001b[0m \u001b[38;5;28mself\u001b[39m\u001b[38;5;241m.\u001b[39m_affected_rows \u001b[38;5;241m=\u001b[39m \u001b[38;5;28;43mself\u001b[39;49m\u001b[38;5;241;43m.\u001b[39;49m\u001b[43m_read_query_result\u001b[49m\u001b[43m(\u001b[49m\u001b[43munbuffered\u001b[49m\u001b[38;5;241;43m=\u001b[39;49m\u001b[43munbuffered\u001b[49m\u001b[43m)\u001b[49m\n\u001b[0;32m    549\u001b[0m \u001b[38;5;28;01mreturn\u001b[39;00m \u001b[38;5;28mself\u001b[39m\u001b[38;5;241m.\u001b[39m_affected_rows\n",
      "File \u001b[1;32m~\\anaconda3\\lib\\site-packages\\pymysql\\connections.py:775\u001b[0m, in \u001b[0;36mConnection._read_query_result\u001b[1;34m(self, unbuffered)\u001b[0m\n\u001b[0;32m    773\u001b[0m \u001b[38;5;28;01melse\u001b[39;00m:\n\u001b[0;32m    774\u001b[0m     result \u001b[38;5;241m=\u001b[39m MySQLResult(\u001b[38;5;28mself\u001b[39m)\n\u001b[1;32m--> 775\u001b[0m     \u001b[43mresult\u001b[49m\u001b[38;5;241;43m.\u001b[39;49m\u001b[43mread\u001b[49m\u001b[43m(\u001b[49m\u001b[43m)\u001b[49m\n\u001b[0;32m    776\u001b[0m \u001b[38;5;28mself\u001b[39m\u001b[38;5;241m.\u001b[39m_result \u001b[38;5;241m=\u001b[39m result\n\u001b[0;32m    777\u001b[0m \u001b[38;5;28;01mif\u001b[39;00m result\u001b[38;5;241m.\u001b[39mserver_status \u001b[38;5;129;01mis\u001b[39;00m \u001b[38;5;129;01mnot\u001b[39;00m \u001b[38;5;28;01mNone\u001b[39;00m:\n",
      "File \u001b[1;32m~\\anaconda3\\lib\\site-packages\\pymysql\\connections.py:1156\u001b[0m, in \u001b[0;36mMySQLResult.read\u001b[1;34m(self)\u001b[0m\n\u001b[0;32m   1154\u001b[0m \u001b[38;5;28;01mdef\u001b[39;00m \u001b[38;5;21mread\u001b[39m(\u001b[38;5;28mself\u001b[39m):\n\u001b[0;32m   1155\u001b[0m     \u001b[38;5;28;01mtry\u001b[39;00m:\n\u001b[1;32m-> 1156\u001b[0m         first_packet \u001b[38;5;241m=\u001b[39m \u001b[38;5;28;43mself\u001b[39;49m\u001b[38;5;241;43m.\u001b[39;49m\u001b[43mconnection\u001b[49m\u001b[38;5;241;43m.\u001b[39;49m\u001b[43m_read_packet\u001b[49m\u001b[43m(\u001b[49m\u001b[43m)\u001b[49m\n\u001b[0;32m   1158\u001b[0m         \u001b[38;5;28;01mif\u001b[39;00m first_packet\u001b[38;5;241m.\u001b[39mis_ok_packet():\n\u001b[0;32m   1159\u001b[0m             \u001b[38;5;28mself\u001b[39m\u001b[38;5;241m.\u001b[39m_read_ok_packet(first_packet)\n",
      "File \u001b[1;32m~\\anaconda3\\lib\\site-packages\\pymysql\\connections.py:725\u001b[0m, in \u001b[0;36mConnection._read_packet\u001b[1;34m(self, packet_type)\u001b[0m\n\u001b[0;32m    723\u001b[0m     \u001b[38;5;28;01mif\u001b[39;00m \u001b[38;5;28mself\u001b[39m\u001b[38;5;241m.\u001b[39m_result \u001b[38;5;129;01mis\u001b[39;00m \u001b[38;5;129;01mnot\u001b[39;00m \u001b[38;5;28;01mNone\u001b[39;00m \u001b[38;5;129;01mand\u001b[39;00m \u001b[38;5;28mself\u001b[39m\u001b[38;5;241m.\u001b[39m_result\u001b[38;5;241m.\u001b[39munbuffered_active \u001b[38;5;129;01mis\u001b[39;00m \u001b[38;5;28;01mTrue\u001b[39;00m:\n\u001b[0;32m    724\u001b[0m         \u001b[38;5;28mself\u001b[39m\u001b[38;5;241m.\u001b[39m_result\u001b[38;5;241m.\u001b[39munbuffered_active \u001b[38;5;241m=\u001b[39m \u001b[38;5;28;01mFalse\u001b[39;00m\n\u001b[1;32m--> 725\u001b[0m     \u001b[43mpacket\u001b[49m\u001b[38;5;241;43m.\u001b[39;49m\u001b[43mraise_for_error\u001b[49m\u001b[43m(\u001b[49m\u001b[43m)\u001b[49m\n\u001b[0;32m    726\u001b[0m \u001b[38;5;28;01mreturn\u001b[39;00m packet\n",
      "File \u001b[1;32m~\\anaconda3\\lib\\site-packages\\pymysql\\protocol.py:221\u001b[0m, in \u001b[0;36mMysqlPacket.raise_for_error\u001b[1;34m(self)\u001b[0m\n\u001b[0;32m    219\u001b[0m \u001b[38;5;28;01mif\u001b[39;00m DEBUG:\n\u001b[0;32m    220\u001b[0m     \u001b[38;5;28mprint\u001b[39m(\u001b[38;5;124m\"\u001b[39m\u001b[38;5;124merrno =\u001b[39m\u001b[38;5;124m\"\u001b[39m, errno)\n\u001b[1;32m--> 221\u001b[0m \u001b[43merr\u001b[49m\u001b[38;5;241;43m.\u001b[39;49m\u001b[43mraise_mysql_exception\u001b[49m\u001b[43m(\u001b[49m\u001b[38;5;28;43mself\u001b[39;49m\u001b[38;5;241;43m.\u001b[39;49m\u001b[43m_data\u001b[49m\u001b[43m)\u001b[49m\n",
      "File \u001b[1;32m~\\anaconda3\\lib\\site-packages\\pymysql\\err.py:143\u001b[0m, in \u001b[0;36mraise_mysql_exception\u001b[1;34m(data)\u001b[0m\n\u001b[0;32m    141\u001b[0m \u001b[38;5;28;01mif\u001b[39;00m errorclass \u001b[38;5;129;01mis\u001b[39;00m \u001b[38;5;28;01mNone\u001b[39;00m:\n\u001b[0;32m    142\u001b[0m     errorclass \u001b[38;5;241m=\u001b[39m InternalError \u001b[38;5;28;01mif\u001b[39;00m errno \u001b[38;5;241m<\u001b[39m \u001b[38;5;241m1000\u001b[39m \u001b[38;5;28;01melse\u001b[39;00m OperationalError\n\u001b[1;32m--> 143\u001b[0m \u001b[38;5;28;01mraise\u001b[39;00m errorclass(errno, errval)\n",
      "\u001b[1;31mOperationalError\u001b[0m: (1050, \"Table 'product' already exists\")"
     ]
    }
   ],
   "source": [
    "cursor.execute(sql)"
   ]
  },
  {
   "cell_type": "code",
   "execution_count": 12,
   "id": "e591c92e",
   "metadata": {},
   "outputs": [],
   "source": [
    "db.commit() # db에 반영 (complete)"
   ]
  },
  {
   "cell_type": "code",
   "execution_count": 13,
   "id": "880b7fa9",
   "metadata": {},
   "outputs": [
    {
     "data": {
      "text/plain": [
       "(('product',),)"
      ]
     },
     "execution_count": 13,
     "metadata": {},
     "output_type": "execute_result"
    }
   ],
   "source": [
    "# 생성 테이블 확인\n",
    "sql = 'show tables'\n",
    "cursor.execute(sql)\n",
    "cursor.fetchall()"
   ]
  },
  {
   "cell_type": "code",
   "execution_count": 14,
   "id": "d9cf1286",
   "metadata": {
    "scrolled": true
   },
   "outputs": [
    {
     "data": {
      "text/plain": [
       "(('product_code', 'int(11)', 'NO', 'PRI', None, 'auto_increment'),\n",
       " ('title', 'varchar(200)', 'NO', '', None, ''),\n",
       " ('ori_price', 'float', 'YES', '', None, ''),\n",
       " ('discount_price', 'float', 'YES', '', None, ''),\n",
       " ('link', 'varchar(200)', 'YES', '', None, ''))"
      ]
     },
     "execution_count": 14,
     "metadata": {},
     "output_type": "execute_result"
    }
   ],
   "source": [
    "sql = 'desc product' # 테이블 구조 확인 \n",
    "cursor.execute(sql)\n",
    "cursor.fetchall()"
   ]
  },
  {
   "cell_type": "markdown",
   "id": "66fc3174",
   "metadata": {},
   "source": [
    "### 제품 정보 추출 후 DB 저장"
   ]
  },
  {
   "cell_type": "code",
   "execution_count": 15,
   "id": "95ce5126",
   "metadata": {},
   "outputs": [],
   "source": [
    "from urllib.request import urlopen\n",
    "from bs4 import BeautifulSoup\n",
    "import pandas as pd\n",
    "import numpy as np"
   ]
  },
  {
   "cell_type": "code",
   "execution_count": 16,
   "id": "68d4e3b3",
   "metadata": {},
   "outputs": [],
   "source": [
    "# 한개의 제품에 대한 정보 추출\n",
    "def get_product_info(box) :\n",
    "    strong_tag = box.find('strong',{'class':'name'})\n",
    "    prd_name = strong_tag.text.split(':')[1]\n",
    "    #가격\n",
    "    price = box.find('ul').findAll('span')[1].text\n",
    "    sale_price = box.find('ul').findAll('span')[-1].text\n",
    "    if sale_price == '' :\n",
    "        sale_price = 'USD 0.0'\n",
    "    \n",
    "    return {'품목':prd_name, '가격':price[4:], '세일가격':sale_price[4:]}"
   ]
  },
  {
   "cell_type": "code",
   "execution_count": 17,
   "id": "d43f551b",
   "metadata": {},
   "outputs": [],
   "source": [
    "# db에 저장하는 함수 \n",
    "import ssl\n",
    "context = ssl._create_unverified_context()\n",
    "def save_data(prd_info) : \n",
    "#     print(prd_info)\n",
    "\n",
    "    sql = \"insert into product(title, ori_price, discount_price, link) values('\" \\\n",
    "    + prd_info['품목'] + \"',\" \\\n",
    "    + prd_info['가격'] + \",\" \\\n",
    "    + prd_info['세일가격'] + \",'\" \\\n",
    "    + 'sub_link' + \"')\"\n",
    "#     print(sql)\n",
    "    cursor.execute(sql)"
   ]
  },
  {
   "cell_type": "code",
   "execution_count": 18,
   "id": "32895329",
   "metadata": {},
   "outputs": [],
   "source": [
    "import ssl\n",
    "context = ssl._create_unverified_context()\n",
    "def get_page_products(url) :\n",
    "    url=url\n",
    "    html = urlopen(url,context=context)\n",
    "    htmls = html.read()\n",
    "    bs_obj = BeautifulSoup(htmls,\"html.parser\")\n",
    "    boxes = bs_obj.findAll('div',{'class':'description'})\n",
    "    for box in boxes : \n",
    "        prd =get_product_info(box)\n",
    "        save_data(prd)"
   ]
  },
  {
   "cell_type": "code",
   "execution_count": 19,
   "id": "4d24fd98",
   "metadata": {},
   "outputs": [],
   "source": [
    "url = \"http://jolse.com/category/toners-mists/1019/?page=1\"\n",
    "get_page_products(url) "
   ]
  },
  {
   "cell_type": "code",
   "execution_count": 20,
   "id": "bfa3dc3f",
   "metadata": {},
   "outputs": [],
   "source": [
    "db.commit()"
   ]
  },
  {
   "cell_type": "code",
   "execution_count": 21,
   "id": "1568711c",
   "metadata": {},
   "outputs": [
    {
     "data": {
      "text/plain": [
       "((1,\n",
       "  ' [TIME DEAL] Haruharu WONDER Black Rice Hyaluronic Toner 300ml',\n",
       "  37.0,\n",
       "  16.59,\n",
       "  'sub_link'),\n",
       " (2,\n",
       "  ' SOME BY MI Propolis B5 Glow Barrier Calming Toner 150ml',\n",
       "  22.0,\n",
       "  18.7,\n",
       "  'sub_link'),\n",
       " (3,\n",
       "  ' Haruharu WONDER Black Rice Hyaluronic Toner 300ml',\n",
       "  37.0,\n",
       "  31.45,\n",
       "  'sub_link'),\n",
       " (4, ' Cos De BAHA Centella Facial Toner 200ml', 16.45, 13.98, 'sub_link'),\n",
       " (5, ' Isntree Hyaluronic Acid Toner 200ml (Renewal)', 19.3, 16.4, 'sub_link'),\n",
       " (6,\n",
       "  ' SOME BY MI AHA BHA PHA 30 Days Miracle Toner 150ml',\n",
       "  24.0,\n",
       "  20.4,\n",
       "  'sub_link'),\n",
       " (7,\n",
       "  ' SOME BY MI Galactomyces Pure Vitamin C Glow Toner 200ml',\n",
       "  34.0,\n",
       "  28.9,\n",
       "  'sub_link'),\n",
       " (8, ' ROUND LAB 1025 Dokdo Toner 200ml', 17.0, 14.45, 'sub_link'),\n",
       " (9,\n",
       "  ' SOME BY MI Snail Truecica Miracle Repair Toner 135ml',\n",
       "  24.0,\n",
       "  20.4,\n",
       "  'sub_link'),\n",
       " (10, ' COSRX AHA 7 WHITEHEAD POWER LIQUID 100ml', 17.81, 15.14, 'sub_link'),\n",
       " (11,\n",
       "  ' BLITHE Vital Treatment 8 Nourishing Beans 150ml',\n",
       "  42.9,\n",
       "  36.46,\n",
       "  'sub_link'),\n",
       " (12, ' COSRX Two In One Poreless Power Liquid 100ml', 22.0, 18.7, 'sub_link'),\n",
       " (13, ' Pyunkang Yul Essence Toner 200ml', 21.9, 15.33, 'sub_link'),\n",
       " (14,\n",
       "  ' Elizavecca Hell-Pore Clean up AHA Fruit Toner 200ml',\n",
       "  14.0,\n",
       "  11.9,\n",
       "  'sub_link'),\n",
       " (15, ' COSRX BHA BLACKHEAD POWER LIQUID 100 ML', 20.81, 17.69, 'sub_link'),\n",
       " (16, ' TIAM Vita B5 Toner 180ml', 18.6, 15.81, 'sub_link'),\n",
       " (17, ' BADSKIN Hyaluronic Spa Toner 500ml', 26.0, 22.1, 'sub_link'),\n",
       " (18, ' TIAM AC Fighting AHA BHA PHA Toner 180ml', 18.7, 15.89, 'sub_link'),\n",
       " (19,\n",
       "  ' iUNIK Vitamin Hyaluronic Acid Vitalizing Toner 200ml',\n",
       "  21.99,\n",
       "  18.69,\n",
       "  'sub_link'),\n",
       " (20,\n",
       "  ' COSRX AC Collection Calming Liquid Mild 125ml',\n",
       "  26.0,\n",
       "  22.1,\n",
       "  'sub_link'),\n",
       " (21, ' NACIFIC Real Calendula Floral Toner 180ml', 26.0, 22.1, 'sub_link'),\n",
       " (22, ' CARYOPHY Portulaca Toner 300ml', 24.0, 20.4, 'sub_link'),\n",
       " (23, ' NEOGEN DERMALOGY Real Cica Pad 90ea', 17.9, 15.21, 'sub_link'),\n",
       " (24, ' BLITHE Vital Treatment 5 Energy Roots 150ml', 37.6, 31.96, 'sub_link'),\n",
       " (25,\n",
       "  ' [TIME DEAL] Haruharu WONDER Black Rice Hyaluronic Toner 300ml',\n",
       "  37.0,\n",
       "  16.59,\n",
       "  'sub_link'),\n",
       " (26,\n",
       "  ' SOME BY MI Propolis B5 Glow Barrier Calming Toner 150ml',\n",
       "  22.0,\n",
       "  18.7,\n",
       "  'sub_link'),\n",
       " (27,\n",
       "  ' Haruharu WONDER Black Rice Hyaluronic Toner 300ml',\n",
       "  37.0,\n",
       "  31.45,\n",
       "  'sub_link'),\n",
       " (28, ' Cos De BAHA Centella Facial Toner 200ml', 16.45, 13.98, 'sub_link'),\n",
       " (29,\n",
       "  ' Isntree Hyaluronic Acid Toner 200ml (Renewal)',\n",
       "  19.3,\n",
       "  16.4,\n",
       "  'sub_link'),\n",
       " (30,\n",
       "  ' SOME BY MI AHA BHA PHA 30 Days Miracle Toner 150ml',\n",
       "  24.0,\n",
       "  20.4,\n",
       "  'sub_link'),\n",
       " (31,\n",
       "  ' SOME BY MI Galactomyces Pure Vitamin C Glow Toner 200ml',\n",
       "  34.0,\n",
       "  28.9,\n",
       "  'sub_link'),\n",
       " (32, ' ROUND LAB 1025 Dokdo Toner 200ml', 17.0, 14.45, 'sub_link'),\n",
       " (33,\n",
       "  ' SOME BY MI Snail Truecica Miracle Repair Toner 135ml',\n",
       "  24.0,\n",
       "  20.4,\n",
       "  'sub_link'),\n",
       " (34, ' COSRX AHA 7 WHITEHEAD POWER LIQUID 100ml', 17.81, 15.14, 'sub_link'),\n",
       " (35,\n",
       "  ' BLITHE Vital Treatment 8 Nourishing Beans 150ml',\n",
       "  42.9,\n",
       "  36.46,\n",
       "  'sub_link'),\n",
       " (36, ' COSRX Two In One Poreless Power Liquid 100ml', 22.0, 18.7, 'sub_link'),\n",
       " (37, ' Pyunkang Yul Essence Toner 200ml', 21.9, 15.33, 'sub_link'),\n",
       " (38,\n",
       "  ' Elizavecca Hell-Pore Clean up AHA Fruit Toner 200ml',\n",
       "  14.0,\n",
       "  11.9,\n",
       "  'sub_link'),\n",
       " (39, ' COSRX BHA BLACKHEAD POWER LIQUID 100 ML', 20.81, 17.69, 'sub_link'),\n",
       " (40, ' TIAM Vita B5 Toner 180ml', 18.6, 15.81, 'sub_link'),\n",
       " (41, ' BADSKIN Hyaluronic Spa Toner 500ml', 26.0, 22.1, 'sub_link'),\n",
       " (42, ' TIAM AC Fighting AHA BHA PHA Toner 180ml', 18.7, 15.89, 'sub_link'),\n",
       " (43,\n",
       "  ' iUNIK Vitamin Hyaluronic Acid Vitalizing Toner 200ml',\n",
       "  21.99,\n",
       "  18.69,\n",
       "  'sub_link'),\n",
       " (44,\n",
       "  ' COSRX AC Collection Calming Liquid Mild 125ml',\n",
       "  26.0,\n",
       "  22.1,\n",
       "  'sub_link'),\n",
       " (45, ' NACIFIC Real Calendula Floral Toner 180ml', 26.0, 22.1, 'sub_link'),\n",
       " (46, ' CARYOPHY Portulaca Toner 300ml', 24.0, 20.4, 'sub_link'),\n",
       " (47, ' NEOGEN DERMALOGY Real Cica Pad 90ea', 17.9, 15.21, 'sub_link'),\n",
       " (48, ' BLITHE Vital Treatment 5 Energy Roots 150ml', 37.6, 31.96, 'sub_link'),\n",
       " (49,\n",
       "  ' [TIME DEAL] Haruharu WONDER Black Rice Hyaluronic Toner 300ml',\n",
       "  37.0,\n",
       "  16.59,\n",
       "  'sub_link'),\n",
       " (50,\n",
       "  ' SOME BY MI Propolis B5 Glow Barrier Calming Toner 150ml',\n",
       "  22.0,\n",
       "  18.7,\n",
       "  'sub_link'),\n",
       " (51,\n",
       "  ' Haruharu WONDER Black Rice Hyaluronic Toner 300ml',\n",
       "  37.0,\n",
       "  31.45,\n",
       "  'sub_link'),\n",
       " (52, ' Cos De BAHA Centella Facial Toner 200ml', 16.45, 13.98, 'sub_link'),\n",
       " (53,\n",
       "  ' Isntree Hyaluronic Acid Toner 200ml (Renewal)',\n",
       "  19.3,\n",
       "  16.4,\n",
       "  'sub_link'),\n",
       " (54,\n",
       "  ' SOME BY MI AHA BHA PHA 30 Days Miracle Toner 150ml',\n",
       "  24.0,\n",
       "  20.4,\n",
       "  'sub_link'),\n",
       " (55,\n",
       "  ' SOME BY MI Galactomyces Pure Vitamin C Glow Toner 200ml',\n",
       "  34.0,\n",
       "  28.9,\n",
       "  'sub_link'),\n",
       " (56, ' ROUND LAB 1025 Dokdo Toner 200ml', 17.0, 14.45, 'sub_link'),\n",
       " (57,\n",
       "  ' SOME BY MI Snail Truecica Miracle Repair Toner 135ml',\n",
       "  24.0,\n",
       "  20.4,\n",
       "  'sub_link'),\n",
       " (58, ' COSRX AHA 7 WHITEHEAD POWER LIQUID 100ml', 17.81, 15.14, 'sub_link'),\n",
       " (59,\n",
       "  ' BLITHE Vital Treatment 8 Nourishing Beans 150ml',\n",
       "  42.9,\n",
       "  36.46,\n",
       "  'sub_link'),\n",
       " (60, ' COSRX Two In One Poreless Power Liquid 100ml', 22.0, 18.7, 'sub_link'),\n",
       " (61, ' Pyunkang Yul Essence Toner 200ml', 21.9, 15.33, 'sub_link'),\n",
       " (62,\n",
       "  ' Elizavecca Hell-Pore Clean up AHA Fruit Toner 200ml',\n",
       "  14.0,\n",
       "  11.9,\n",
       "  'sub_link'),\n",
       " (63, ' COSRX BHA BLACKHEAD POWER LIQUID 100 ML', 20.81, 17.69, 'sub_link'),\n",
       " (64, ' TIAM Vita B5 Toner 180ml', 18.6, 15.81, 'sub_link'),\n",
       " (65, ' BADSKIN Hyaluronic Spa Toner 500ml', 26.0, 22.1, 'sub_link'),\n",
       " (66, ' TIAM AC Fighting AHA BHA PHA Toner 180ml', 18.7, 15.89, 'sub_link'),\n",
       " (67,\n",
       "  ' iUNIK Vitamin Hyaluronic Acid Vitalizing Toner 200ml',\n",
       "  21.99,\n",
       "  18.69,\n",
       "  'sub_link'),\n",
       " (68,\n",
       "  ' COSRX AC Collection Calming Liquid Mild 125ml',\n",
       "  26.0,\n",
       "  22.1,\n",
       "  'sub_link'),\n",
       " (69, ' NACIFIC Real Calendula Floral Toner 180ml', 26.0, 22.1, 'sub_link'),\n",
       " (70, ' CARYOPHY Portulaca Toner 300ml', 24.0, 20.4, 'sub_link'),\n",
       " (71, ' NEOGEN DERMALOGY Real Cica Pad 90ea', 17.9, 15.21, 'sub_link'),\n",
       " (72, ' BLITHE Vital Treatment 5 Energy Roots 150ml', 37.6, 31.96, 'sub_link'))"
      ]
     },
     "execution_count": 21,
     "metadata": {},
     "output_type": "execute_result"
    }
   ],
   "source": [
    "sql = 'select * from product'\n",
    "cursor.execute(sql)\n",
    "result = cursor.fetchall()\n",
    "result"
   ]
  },
  {
   "cell_type": "code",
   "execution_count": 22,
   "id": "65ac0658",
   "metadata": {},
   "outputs": [],
   "source": [
    "db.close()"
   ]
  },
  {
   "cell_type": "markdown",
   "id": "718ae3bb",
   "metadata": {},
   "source": [
    "- pandas 함수 이용해서 sql 쿼리 실행"
   ]
  },
  {
   "cell_type": "code",
   "execution_count": 23,
   "id": "9b5f7a50",
   "metadata": {},
   "outputs": [],
   "source": [
    "db = pymysql.connect(host='localhost', port=3306, user='root', passwd='1234',db='beauty_shop',  charset='utf8')\n",
    "cursor = db.cursor()"
   ]
  },
  {
   "cell_type": "code",
   "execution_count": 24,
   "id": "b593d471",
   "metadata": {},
   "outputs": [
    {
     "name": "stderr",
     "output_type": "stream",
     "text": [
      "C:\\Users\\82107\\anaconda3\\lib\\site-packages\\pandas\\io\\sql.py:761: UserWarning: pandas only support SQLAlchemy connectable(engine/connection) ordatabase string URI or sqlite3 DBAPI2 connectionother DBAPI2 objects are not tested, please consider using SQLAlchemy\n",
      "  warnings.warn(\n"
     ]
    }
   ],
   "source": [
    "sql = 'select * from product'\n",
    "df = pd.read_sql(sql,db)"
   ]
  },
  {
   "cell_type": "code",
   "execution_count": 25,
   "id": "143d524d",
   "metadata": {},
   "outputs": [
    {
     "data": {
      "text/html": [
       "<div>\n",
       "<style scoped>\n",
       "    .dataframe tbody tr th:only-of-type {\n",
       "        vertical-align: middle;\n",
       "    }\n",
       "\n",
       "    .dataframe tbody tr th {\n",
       "        vertical-align: top;\n",
       "    }\n",
       "\n",
       "    .dataframe thead th {\n",
       "        text-align: right;\n",
       "    }\n",
       "</style>\n",
       "<table border=\"1\" class=\"dataframe\">\n",
       "  <thead>\n",
       "    <tr style=\"text-align: right;\">\n",
       "      <th></th>\n",
       "      <th>product_code</th>\n",
       "      <th>title</th>\n",
       "      <th>ori_price</th>\n",
       "      <th>discount_price</th>\n",
       "      <th>link</th>\n",
       "    </tr>\n",
       "  </thead>\n",
       "  <tbody>\n",
       "    <tr>\n",
       "      <th>0</th>\n",
       "      <td>1</td>\n",
       "      <td>[TIME DEAL] Haruharu WONDER Black Rice Hyalur...</td>\n",
       "      <td>37.00</td>\n",
       "      <td>16.59</td>\n",
       "      <td>sub_link</td>\n",
       "    </tr>\n",
       "    <tr>\n",
       "      <th>1</th>\n",
       "      <td>2</td>\n",
       "      <td>SOME BY MI Propolis B5 Glow Barrier Calming T...</td>\n",
       "      <td>22.00</td>\n",
       "      <td>18.70</td>\n",
       "      <td>sub_link</td>\n",
       "    </tr>\n",
       "    <tr>\n",
       "      <th>2</th>\n",
       "      <td>3</td>\n",
       "      <td>Haruharu WONDER Black Rice Hyaluronic Toner 3...</td>\n",
       "      <td>37.00</td>\n",
       "      <td>31.45</td>\n",
       "      <td>sub_link</td>\n",
       "    </tr>\n",
       "    <tr>\n",
       "      <th>3</th>\n",
       "      <td>4</td>\n",
       "      <td>Cos De BAHA Centella Facial Toner 200ml</td>\n",
       "      <td>16.45</td>\n",
       "      <td>13.98</td>\n",
       "      <td>sub_link</td>\n",
       "    </tr>\n",
       "    <tr>\n",
       "      <th>4</th>\n",
       "      <td>5</td>\n",
       "      <td>Isntree Hyaluronic Acid Toner 200ml (Renewal)</td>\n",
       "      <td>19.30</td>\n",
       "      <td>16.40</td>\n",
       "      <td>sub_link</td>\n",
       "    </tr>\n",
       "    <tr>\n",
       "      <th>...</th>\n",
       "      <td>...</td>\n",
       "      <td>...</td>\n",
       "      <td>...</td>\n",
       "      <td>...</td>\n",
       "      <td>...</td>\n",
       "    </tr>\n",
       "    <tr>\n",
       "      <th>67</th>\n",
       "      <td>68</td>\n",
       "      <td>COSRX AC Collection Calming Liquid Mild 125ml</td>\n",
       "      <td>26.00</td>\n",
       "      <td>22.10</td>\n",
       "      <td>sub_link</td>\n",
       "    </tr>\n",
       "    <tr>\n",
       "      <th>68</th>\n",
       "      <td>69</td>\n",
       "      <td>NACIFIC Real Calendula Floral Toner 180ml</td>\n",
       "      <td>26.00</td>\n",
       "      <td>22.10</td>\n",
       "      <td>sub_link</td>\n",
       "    </tr>\n",
       "    <tr>\n",
       "      <th>69</th>\n",
       "      <td>70</td>\n",
       "      <td>CARYOPHY Portulaca Toner 300ml</td>\n",
       "      <td>24.00</td>\n",
       "      <td>20.40</td>\n",
       "      <td>sub_link</td>\n",
       "    </tr>\n",
       "    <tr>\n",
       "      <th>70</th>\n",
       "      <td>71</td>\n",
       "      <td>NEOGEN DERMALOGY Real Cica Pad 90ea</td>\n",
       "      <td>17.90</td>\n",
       "      <td>15.21</td>\n",
       "      <td>sub_link</td>\n",
       "    </tr>\n",
       "    <tr>\n",
       "      <th>71</th>\n",
       "      <td>72</td>\n",
       "      <td>BLITHE Vital Treatment 5 Energy Roots 150ml</td>\n",
       "      <td>37.60</td>\n",
       "      <td>31.96</td>\n",
       "      <td>sub_link</td>\n",
       "    </tr>\n",
       "  </tbody>\n",
       "</table>\n",
       "<p>72 rows × 5 columns</p>\n",
       "</div>"
      ],
      "text/plain": [
       "    product_code                                              title  \\\n",
       "0              1   [TIME DEAL] Haruharu WONDER Black Rice Hyalur...   \n",
       "1              2   SOME BY MI Propolis B5 Glow Barrier Calming T...   \n",
       "2              3   Haruharu WONDER Black Rice Hyaluronic Toner 3...   \n",
       "3              4            Cos De BAHA Centella Facial Toner 200ml   \n",
       "4              5      Isntree Hyaluronic Acid Toner 200ml (Renewal)   \n",
       "..           ...                                                ...   \n",
       "67            68      COSRX AC Collection Calming Liquid Mild 125ml   \n",
       "68            69          NACIFIC Real Calendula Floral Toner 180ml   \n",
       "69            70                     CARYOPHY Portulaca Toner 300ml   \n",
       "70            71                NEOGEN DERMALOGY Real Cica Pad 90ea   \n",
       "71            72        BLITHE Vital Treatment 5 Energy Roots 150ml   \n",
       "\n",
       "    ori_price  discount_price      link  \n",
       "0       37.00           16.59  sub_link  \n",
       "1       22.00           18.70  sub_link  \n",
       "2       37.00           31.45  sub_link  \n",
       "3       16.45           13.98  sub_link  \n",
       "4       19.30           16.40  sub_link  \n",
       "..        ...             ...       ...  \n",
       "67      26.00           22.10  sub_link  \n",
       "68      26.00           22.10  sub_link  \n",
       "69      24.00           20.40  sub_link  \n",
       "70      17.90           15.21  sub_link  \n",
       "71      37.60           31.96  sub_link  \n",
       "\n",
       "[72 rows x 5 columns]"
      ]
     },
     "execution_count": 25,
     "metadata": {},
     "output_type": "execute_result"
    }
   ],
   "source": [
    "df"
   ]
  },
  {
   "cell_type": "code",
   "execution_count": 26,
   "id": "cce9e80b",
   "metadata": {},
   "outputs": [],
   "source": [
    "db.close()"
   ]
  },
  {
   "cell_type": "code",
   "execution_count": null,
   "id": "30814b85",
   "metadata": {},
   "outputs": [],
   "source": []
  }
 ],
 "metadata": {
  "kernelspec": {
   "display_name": "Python 3 (ipykernel)",
   "language": "python",
   "name": "python3"
  },
  "language_info": {
   "codemirror_mode": {
    "name": "ipython",
    "version": 3
   },
   "file_extension": ".py",
   "mimetype": "text/x-python",
   "name": "python",
   "nbconvert_exporter": "python",
   "pygments_lexer": "ipython3",
   "version": "3.9.12"
  }
 },
 "nbformat": 4,
 "nbformat_minor": 5
}
