{
 "cells": [
  {
   "cell_type": "code",
   "execution_count": 2,
   "id": "3eb01c71",
   "metadata": {},
   "outputs": [],
   "source": [
    "from selenium import webdriver\n",
    "from selenium.webdriver.common.keys import Keys\n",
    "import time\n",
    "import selenium\n",
    "from selenium import webdriver\n",
    "import pandas as pd\n",
    "import numpy as np\n",
    "from bs4 import BeautifulSoup\n",
    "from selenium.webdriver.common.by import By # 셀레니움 4.0부터 포함된 함수(필수)"
   ]
  },
  {
   "cell_type": "markdown",
   "id": "edc5364e",
   "metadata": {},
   "source": [
    "## 네이버 쇼핑 크롤링\n",
    "- 셀레니움 이용(동적크롤링)\n",
    "- 검색어 전달 후 표시되는 제품은 일부 제품\n",
    "    - 스크롤바를 완전히 내려야 전체제품이 나타남\n",
    "    - 자동화 방식을 이용해 전체제품 표출 후 크롤링 "
   ]
  },
  {
   "cell_type": "code",
   "execution_count": 3,
   "id": "8bc8bac6",
   "metadata": {},
   "outputs": [
    {
     "name": "stderr",
     "output_type": "stream",
     "text": [
      "C:\\Users\\82107\\AppData\\Local\\Temp\\ipykernel_36472\\2622547941.py:1: DeprecationWarning: executable_path has been deprecated, please pass in a Service object\n",
      "  driver = webdriver.Chrome('/driver/chromedriver.exe')\n"
     ]
    }
   ],
   "source": [
    "driver = webdriver.Chrome('/driver/chromedriver.exe')"
   ]
  },
  {
   "cell_type": "code",
   "execution_count": 4,
   "id": "7753497a",
   "metadata": {},
   "outputs": [],
   "source": [
    "# 웹사이트\n",
    "driver.get(\"https://www.naver.com\")\n",
    "driver.implicitly_wait(10) # 10초 대기"
   ]
  },
  {
   "cell_type": "code",
   "execution_count": 5,
   "id": "e1799eec",
   "metadata": {},
   "outputs": [],
   "source": [
    "# 쇼핑메뉴 클릭\n",
    "driver.find_element(By.CSS_SELECTOR,'a.nav.shop').click()\n",
    "time.sleep(2)"
   ]
  },
  {
   "cell_type": "code",
   "execution_count": 51,
   "id": "aad8313a",
   "metadata": {},
   "outputs": [],
   "source": [
    "#__next > div > div.pcHeader_header__tXOY4 > div > div > div._gnb_header_area_150KE > div > div._gnbLogo_gnb_logo_3eIAf > div > div._gnbSearch_gnb_search_3O1L2 > form > div._gnbSearch_inner_2Zksb > div._searchInput_search_input_QXUFf > input"
   ]
  },
  {
   "cell_type": "code",
   "execution_count": 6,
   "id": "3a043f19",
   "metadata": {},
   "outputs": [],
   "source": [
    "# 검색창 선택 후 클릭\n",
    "search = driver.find_element(By.CSS_SELECTOR,'#__next > div > div.pcHeader_header__tXOY4 > div > div > div._gnb_header_area_150KE > div > div._gnbLogo_gnb_logo_3eIAf > div > div._gnbSearch_gnb_search_3O1L2 > form > div._gnbSearch_inner_2Zksb > div > input')\n",
    "search.click()"
   ]
  },
  {
   "cell_type": "code",
   "execution_count": 7,
   "id": "7741f3f8",
   "metadata": {},
   "outputs": [],
   "source": [
    "# 검색어 입력\n",
    "search.send_keys('아이폰13')"
   ]
  },
  {
   "cell_type": "code",
   "execution_count": 8,
   "id": "d38c1b49",
   "metadata": {},
   "outputs": [],
   "source": [
    "# 엔터키 전송 \n",
    "search.send_keys(Keys.ENTER)"
   ]
  },
  {
   "cell_type": "markdown",
   "id": "e4c7ff92",
   "metadata": {},
   "source": [
    "#### 스크롤의 위치에 따라 표출 제품 갯수가 다르므로\n",
    "     - 스크롤을 최대한 내려서 검색된 모든 제품을 표출 후 \n",
    "         -현재 스크롤의 위치 얻어오기(자바스크립트 명령어 사용)\n",
    "             - return window.scrolly\n",
    "     - 크롤링 진행"
   ]
  },
  {
   "cell_type": "code",
   "execution_count": 9,
   "id": "e980a7b0",
   "metadata": {},
   "outputs": [
    {
     "data": {
      "text/plain": [
       "0"
      ]
     },
     "execution_count": 9,
     "metadata": {},
     "output_type": "execute_result"
    }
   ],
   "source": [
    "# 스크롤 실행 전 높이 \n",
    "before_h = driver.execute_script('return window.scrollY')\n",
    "before_h"
   ]
  },
  {
   "cell_type": "code",
   "execution_count": 10,
   "id": "ac44ea0b",
   "metadata": {},
   "outputs": [
    {
     "name": "stdout",
     "output_type": "stream",
     "text": [
      "11270.400390625\n",
      "11270.400390625\n"
     ]
    }
   ],
   "source": [
    "# 무한 스크롤\n",
    "# body태그 객체를 찾고 키보드의 end키를 전송\n",
    "while True :\n",
    "    # 현재 화면의 맨 아래로 스크롤을 내리기\n",
    "    driver.find_element(By.CSS_SELECTOR,'body').send_keys(Keys.END)\n",
    "    # 스크롤 후 페이지 로딩시간 대기\n",
    "    time.sleep(1)\n",
    "    \n",
    "    # 스크롤 후 현재 위치\n",
    "    after_h = driver.execute_script('return window.scrollY')\n",
    "    print(after_h)\n",
    "    if after_h == before_h :\n",
    "        break\n",
    "    before_h = after_h"
   ]
  },
  {
   "cell_type": "code",
   "execution_count": null,
   "id": "f480b0fd",
   "metadata": {},
   "outputs": [],
   "source": [
    "# interval = 2\n",
    "# prev_height = browser.execute_script(\"return document.body.scrollHeight\")\n",
    "\n",
    "# while True:\n",
    "#     #화면 가장 아래로 스크롤 내리기\n",
    "#     browser.execute_script(\"window.scrollTo(0, document.body.scrollHeight)\")\n",
    "#     time.sleep(interval)\n",
    "\n",
    "#     curr_height = browser.execute_script(\"return document.body.scrollHeight\")\n",
    "#     if curr_height == prev_height:\n",
    "#         break\n",
    "    \n",
    "#     prev_height = curr_height"
   ]
  },
  {
   "cell_type": "code",
   "execution_count": null,
   "id": "ee79625c",
   "metadata": {},
   "outputs": [],
   "source": [
    "# 상품 정보  div.basicList_info_area__TWvzp"
   ]
  },
  {
   "cell_type": "code",
   "execution_count": 11,
   "id": "8285db27",
   "metadata": {},
   "outputs": [],
   "source": [
    "# 상품정보 추출 클래스명 : .basicList_info_area__TWvzp\n",
    "items = driver.find_elements(By.CSS_SELECTOR,\".basicList_info_area__TWvzp\")"
   ]
  },
  {
   "cell_type": "code",
   "execution_count": null,
   "id": "8cb63a5c",
   "metadata": {},
   "outputs": [],
   "source": [
    "# .basicList_title__VfX3c"
   ]
  },
  {
   "cell_type": "code",
   "execution_count": null,
   "id": "8389f952",
   "metadata": {},
   "outputs": [],
   "source": [
    "#.price_price__LEGN7"
   ]
  },
  {
   "cell_type": "code",
   "execution_count": 12,
   "id": "7e6cbeaf",
   "metadata": {},
   "outputs": [
    {
     "name": "stdout",
     "output_type": "stream",
     "text": [
      "아이폰 13 mini 자급제 128GB 미드나이트 Apple 874,000원 https://adcr.naver.com/adcr?x=CxO4zfkTRJPWIb7V+Zvu0f///w==kmTj2DS+5qaxkKGFadr9J1XypNBbKd5+BnBVf1XKU31GzVH+fhAylN6VsTFsAXEPuvNTwelIi4g+MQRMMeZGdSf5KgN15QtntEPjNOXoIjjw7xIaLdncKW7gNGqjRot2ilV9pXmyn3NlwaFBr+LAwHDzAWGQblgPHWBgtDYwCzRY+xqjR16eyyFKRSIj5hl1TFhFgini9ZEH/yC88DWXNgwAenRxhpDm3W39Fs+5jOnf7BAryJoq0K/CZLXwUifutjgwlWCL/HQK5ZfAOZM7a8pcrIxe+ZbpYpUn3HyTEyJ7R8RcaZ6yDYS8zMp+nvsIhtkLQJ7Oje3mTscc3+CHnMZXQLfWYDrRRE8iq2iR2h45wYhVOx9OsgnGi+MllSMxvxnV/X4B2KRftB/kVZVnAKmYH87d6KKUiD5AxaQXzQQXuqjpRs3pMh0SXifxRqNcxTuKdfV0wVp5soXTdde9s/tjdfCaVqDbp9ZpolSmXJXJvtuQiKLQ29iJMFT8ASQ4P0vbmCm3tYZHOrYdT1AsjiwPctVliIbwGSZ9sZJb9nxH94BuS0UpftjAaVl/h/BkVgBraDDz383g60d/0hNArwzWWPxM0ru2kABuVJ2WyktiuDpO3ZmPf5BIVqcRxUhrp3qeQcU1wZ1yKY1mH9UxPP66/7FWNtTPp5LhDtolxAUVPjWKqE2MH2yDMR2WrSjl7Gbfrv4CkbPpbn3/G9poPExoEs0+Jz/lQ4qt0AH6Ti/N0ZNGkcpapT0TENt5cYk+p9b+v3rqESP88DUaAMztlFr/f6mCBATz4wIu+9BOtOjaIrvxGJkKgKxR5+D1R4vS6CqC20V9jo2dfeV4lt9Mv7NQXD4tn6vQP2lWOCog97DButIk1jBgNlX+Ia6KF7RmbhJSH86PknAcypSjR9XeTRJohwkkh+nyFsSICtMoXflw=\n",
      "아이폰 13 mini 자급제 128GB 핑크 Apple 874,000원 https://adcr.naver.com/adcr?x=EGW9TIzWBA4HMhY/47GWFP///w==kMT+QzzbcmRnB+xbCAt2goHeuXxqsCqx82jNNxzeq/vCY//TSgBh732GTimihaCQMrORlCEANyaevpyGpbTrqykxlXXr/YPjU3POWkShGHICyxe0i0LSjkYrPBRFxw81GIIXnU3I7mTydVoyYob1oDnLqA527H67gGCcgVmsZ4q+Y+nt/50CB8shuTbLD/dZSBGsbeGiDaI2QZNNGXhe14K5s3ZW9So5pEpGkykSXEYeWlZQp0O7uTPjAygMcBYlSVJxvU5gwnQhoH270j22JbzPsVCnE8qNvjdmjIMAyQL364uPJHnheAvWXoRJktlwlaKqoNPUSoRhMX4JxAIMtdCkUujBdSWyK/nhBGzZ92VhWQiGPQvmuZWZO1IzK6dB72DS8uNVqE/4BiknEBr0arYDjFDu8uVzSIWF7AliSMB+/aVWay450DqmE0oRP9NON5tr0v3gd/UfNeBgBSqbLnuvSSRQPpK0RepSoQkEqZNbOPlehSpJfAHjuxhAuyhD3Wbyma0AoloDPGx1SkleeFEqKbbLxJEqOQVxezo2TUpSMJofH1qPwKKhOkWRT3V/RSbpVrN3/SvgOD+SVK/L2bvsWzYMAnf9yk7bo+w/cDlUODg3ezUWkSLqCAjlh/EjFTqehXG8i+ZyWG1x2LDu2WTGiX2AhjjULCANLqtgajeljCWHGSF5J9Pr8/kx7p4YMe3Jeqb9VAy+hI7xKAR3kxCJF8WKeWocmIM/I1yFCIvhFbRJ9lObZS9tOLTCmzSYkeMhEiitIaXGc9XQJ/+/0Ds82XxoBwkuXQ+EhFQEUu9kPpPy86RBh/d7MkVzlvVI5CvW8CsSmTh99o+JyuG/rWVYZ4pFuzs8/VZ4gicIvSMiTVkbgzotCoYexDZfqxL/UG1rYQ/Nzsb9KAkIt28sVKw==\n",
      "아이폰 13 mini 자급제 256GB 스타라이트 Apple 997,350원 https://adcr.naver.com/adcr?x=w9uDXNyq7jyAQb4o/OfXKv///w==kHXLp4nGcr8rlerHu+8IrjAghYMY1PH8eXjJtAcdwRtgzkWfVe7nzz7NEGEnkyZespbJypojda3WlAf0y/nIfHmmcPyGNgGakaMdO/ycHHLSpRHGiOEnX1lyHC/COsqnMc/pTO+/2SD1VccdKgss2mECO7bChlY6UEWrw8UlbTqcyzqbbHgtIxdeVMj/Uq7vUXLxkCrQHZxpDbzlpl9GzmMqQJEa3XhKj6dcx43pJnOOOenUfBv3zlUjbtghTPYSioeHnNylBLrxaYyLFx6ChPtfO9U6C2j3BSaGpFoHwS1dl00SipLwL2Gdx5HmAnDyzwTNk9CVfbnsOSnjuKVJdzFvsJfbC767eOiTKYDkMqI6Eu9SuqVP8be1o+lG2ZvtwGFG5L/6vwUQlFl296XQbzc4Ii49PT7+mC+RCwI7mtllxzza00KdU3TZxe64J77sOAI5GeU94XKR6mU0XU4VWiwtCudhnlfmukuTsvmGpJ0c2ZPbvFn24jeH6+3glSzVRoclShEOa9EO9pTnMT9dkG/YTHLAcewIzKL+93LAT824HSKQJ6PpVus1PTKPe/U7vcuNIvmBHi9CeJe3iFvF9xJJyiaZrFO4ommWbfMZ1L/Ib4MvLuqpOk3J8vH5cLN1RhBZgFJQAflhWU4ObhmL0AxJru9z2gg5lwFRO5SOUFd/jZDXlwOywonMnAEMw4UOA1/iqcOlFz9rMkh3zWwshzXfye+Z7ZzsMN0woCKPu8Z31yfJ3RNLJQglGpV9pP9cimhWr1BVHBU2bFpTMrTSjIntEvaI4Z9uz4uAtooIUIBRByuZQZPEurbQyxo7EpivNQhmZmibypYdxDjedjSd+/x06NvwyNtStFoBZpfC1o9TwPqw0lcpEEmLGaULwpbZyT7hVMT4x62E/zVFYik7b/3uz9xwQzVMjXdfrkyrdf5E=\n",
      "Apple 아이폰 13 256GB [자급제] 최저1,168,500원 https://cr.shopping.naver.com/adcr.nhn?x=Y1RY3Jk4X3uhlZGRBCGwx%2F%2F%2F%2Fw%3D%3DsngtWr0cNWF3XveLoiItA1Q1jA3w6Gfi0ALjFClBNF71N4NgkrPIjlczCBjhk2dSMMyPxTch9re7U0Id7xklfV1ULZaC%2Bnx7bchww%2B%2BxpYASjdLOUHr1JEhkMjqfQgywRS0Fv93AoOobzmVCRXa2IsMv%2BjB2erv%2BZ%2Brrs5VHOiTQgGE7%2BZatKjf5hEf1XctkKBJI0dviJF7aVxSP3I1r8G5bkCnZt3PKDnGtnPfTpWXV9gLRMuJH34gK%2BdKxxm2wL%2BJKrK3wAIdlc1W0GjThbXUPg%2F6PYJW9LpCSumzPJoigK7CtQzZWLlur1%2FFge4%2BEpzDNUyffwo5n25dzK%2BUBD6cnFrN04wx1b%2BHNUqrF7rbkbV9SohnsJOp40F4RSK4iNabl0le3yBSrvr8Jks4q2Zy6UxJeah0Om0lkIOZtT9ZLxLbU57LuNzmnFLwGq45KoBkkXjm5n0VcOvXj1ecS0Es9Tqme0YK6uG79Xy6idNiHlfowHcl1ucGiE6LxBjaayNjixDfu1uyLH0CbmACA4MxA%2FQShgk8bw47r6omd%2FTOt7N0%2BKs0gSFTdhwMrBXaDk5GWXWEW8ebK%2B6WdVNvn4aI35Jp43Mx3S9FTGxzvix4sOEsHC78VBLnFZh%2FnDobeN&nvMid=29029192591&catId=50001519\n",
      "Apple 아이폰 13 미니 128GB [자급제] 최저147,870원 https://cr.shopping.naver.com/adcr.nhn?x=lR4%2B%2Fj8nohtNBwcyGgAVBP%2F%2F%2Fw%3D%3DsKNRRlrXzUfVOj0ZL7ZZIDdeRER6N3X5wiRptIyGSyb2GgjNtjvRyY8TaEm3AQ5Uwoztaf8h2MtkgpSD1sPtkqkF6FY9ielpYlpF4UkeBpWuxfzS4Ewk4JGVGSCT3oYuDnVtAWrZobZNAYLLYO3j%2Bpt9%2BKy%2Fm0d%2BgYWHtEf61Jo5CNclKwvLyA%2Fys%2F%2FHPPajL6vmS6IPw0N8PQDlZk4TeMmNmcbgLr0lu2cCLGgyX7c9vsepmwRk8o%2FCB4DgHhnjV3ZSnvvXF0gkneG8ZZ%2Bc8m6sJF1TG8DXvuOXRWh2aiSE1QmeK3ZPITzKHcbEnR%2BI8Tr5bZY7F0FS5v5H%2FmIdg0tx%2B97o2w79dQz19owJLJAzqdi3Q%2Fm8V2A5jR123nAwZyiHrV%2BqNia8veU2Jhny714BD40iqWaNeYMpOus5JTYBDk2nHMP4aHVCx%2FcONoE3ucOT%2BRsdnHIzNMGl8g3WFM4UriKaNxXUAumzCkEtSNCwUVxRG4ldwD1%2BkE4NgSPi6RRDaDMTDaYN0Kt9EHaWlnJv%2BAbhg0zJfaWkbNRt9CPadSlPOZBN6V54TTL6u%2FzFsyUQvcT7y%2Bau6vGwLQuxcZEL01whzaNzEekGDhHxd7VHLVWGr8fvvH1mWvUgXPK6j&nvMid=29030650586&catId=50001519\n",
      "Apple 아이폰 13 미니 256GB [자급제] 최저997,350원 https://cr.shopping.naver.com/adcr.nhn?x=KYFCaaVBP9f8bpmzjQedDv%2F%2F%2Fw%3D%3Ds7QVKjnS9%2FOE3%2FihquaHSiMlgtitpVlP0qKOeJIbo%2FFRN4NgkrPIjlczCBjhk2dSM0TL1YoCUG5uE8mfLfiyFaFULZaC%2Bnx7bchww%2B%2BxpYASjdLOUHr1JEhkMjqfQgywRS0Fv93AoOobzmVCRXa2IsMv%2BjB2erv%2BZ%2Brrs5VHOiTQgGE7%2BZatKjf5hEf1XctkKH44md2DnHUZj1xMBh7dKLJbkCnZt3PKDnGtnPfTpWXV9gLRMuJH34gK%2BdKxxm2wL%2BJKrK3wAIdlc1W0GjThbXUPg%2F6PYJW9LpCSumzPJoigK7CtQzZWLlur1%2FFge4%2BEpOCbFhK3eGaUxCw45r6woJjGLU6s9nfQJSwdauULeBewbV9SohnsJOp40F4RSK4iNLAnr%2BtLsOQtL6ziP%2BeRyKy6UxJeah0Om0lkIOZtT9ZLxLbU57LuNzmnFLwGq45KoyXgQh7aiHXCa5cG17JvM5nqO%2FJJZ0C6p0MGfnHM5LgijriJ8H0NV5nx9%2BVr0aUV2PnMkTfaYzb8WmSpC3q1lrvfJpFibmyqjVNDVd0mu76picchwRNwmJ84TyxvjggzF6mF6a%2BoNOFXw%2FAUulJ2qmECbwU94Sa%2FT%2Ble5Qd6%2FEGiCqA6%2BrrPkSkQjk3bFq%2FUy&nvMid=29030437590&catId=50001519\n",
      "Apple 아이폰 13 128GB [자급제] 최저1,057,000원 https://cr.shopping.naver.com/adcr.nhn?x=Ip4narpv3%2F5pU%2FRRqizXnP%2F%2F%2Fw%3D%3Ds1O%2B4xV%2BOrdI10%2BUtXRt2WpDz1snn0JBRso%2FhkSrC2feGgjNtjvRyY8TaEm3AQ5UwtQU0AOMbcNszUWZIa2nD1EF6FY9ielpYlpF4UkeBpWuxfzS4Ewk4JGVGSCT3oYuDnVtAWrZobZNAYLLYO3j%2Bpt9%2BKy%2Fm0d%2BgYWHtEf61Jo5CNclKwvLyA%2Fys%2F%2FHPPajL5rmSYJSQ7Q%2FSdegndTkuDGNmcbgLr0lu2cCLGgyX7c9vsepmwRk8o%2FCB4DgHhnjV3ZSnvvXF0gkneG8ZZ%2Bc8m6sJF1TG8DXvuOXRWh2aiSE1QmeK3ZPITzKHcbEnR%2BI89PBOX9h2MrFOFrrX08gxIijNJKv3E5ejkBg9ZcYLs9jqdi3Q%2Fm8V2A5jR123nAwZNfmUOLVK%2FQxGqCna6wDvzLFJegG5cjolqXymF9sHTJBDk2nHMP4aHVCx%2FcONoE3ucVl9zsZvbcebfQHqQGTPjg9Uv7%2BuXk8s9e0jSRo%2Fw%2BSYp14Qx1Ru2bMMjgBrsdBx8muRoHqEpIhd7W2ofxHnqw5X1i90QnzFOYDxZUvpc66Ov%2B%2BG7P8zZs54SDuTec41HGpJu%2FGLtZcelqgprc7AjPRRs2Tl2LVXyNQxua0eKL8GruH08DlKshetxY8KUEZb&nvMid=29030374587&catId=50001519\n",
      "Apple 아이폰 13 미니 512GB [자급제] 최저1,224,000원 https://cr.shopping.naver.com/adcr.nhn?x=1Gp1vhkczgOGVOxLti8No%2F%2F%2F%2Fw%3D%3Ds8K5ASXfDqunTOIa3AK1dN2W2vUDKwI1jcrwR%2F6VYJTlN4NgkrPIjlczCBjhk2dSM96GfbMZpEJ1o%2FYJv0yjw5FULZaC%2Bnx7bchww%2B%2BxpYASjdLOUHr1JEhkMjqfQgywRS0Fv93AoOobzmVCRXa2IsMv%2BjB2erv%2BZ%2Brrs5VHOiTQgGE7%2BZatKjf5hEf1XctkKW1JgmOU0IJMP5FlVktOgdpbkCnZt3PKDnGtnPfTpWXV9gLRMuJH34gK%2BdKxxm2wL%2BJKrK3wAIdlc1W0GjThbXUPg%2F6PYJW9LpCSumzPJoigK7CtQzZWLlur1%2FFge4%2BEpezlbJt3zcbYJOfnHOTX43Z3o9s%2Bdz1EtU0lCGMA9yI8bV9SohnsJOp40F4RSK4iNTfmTWm5X8TZTH0Pyp%2FK5%2Fi6UxJeah0Om0lkIOZtT9ZLxLbU57LuNzmnFLwGq45KoaXnUVwUnUFyDQJUYrwr7MQnrPi2U4bJlb1h8%2Fb7weIijriJ8H0NV5nx9%2BVr0aUV2r57KxJfeKL6cARFtTyeMcaaV3spvNMlyQ6%2BQcjDFXdeIDf9TYDOC4LzgCehLsur5O281%2BXCAb2JGFurRdWYjvV5uz%2F%2Fg%2B25WzX03CZU%2BvZYOEsHC78VBLnFZh%2FnDobeN&nvMid=29030296587&catId=50001519\n",
      "Apple 아이폰 13 프로 128GB [자급제] 최저1,649,990원 https://cr.shopping.naver.com/adcr.nhn?x=3WQUmcedqAUIx2cxQWHJRv%2F%2F%2Fw%3D%3DszQduWXqUCKvjXaiN0ifCdnnWpOJyVLr7IPu%2FMHQ%2FUySGgjNtjvRyY8TaEm3AQ5UwBKxszO17LQKUlDYBO3FmuUF6FY9ielpYlpF4UkeBpWuxfzS4Ewk4JGVGSCT3oYuDnVtAWrZobZNAYLLYO3j%2Bpt9%2BKy%2Fm0d%2BgYWHtEf61Jo5CNclKwvLyA%2Fys%2F%2FHPPajLTxs46ihXoVB%2B04WPMRzZJmNmcbgLr0lu2cCLGgyX7c9vsepmwRk8o%2FCB4DgHhnjV3ZSnvvXF0gkneG8ZZ%2Bc8m6sJF1TG8DXvuOXRWh2aiSE1QmeK3ZPITzKHcbEnR%2BI8ENI08EsFNXQMgG0CgaMq1vGoAbBRmd5D80OJfmEIIk7qdi3Q%2Fm8V2A5jR123nAwZJQHUlCGZM%2B%2BTIvcMauyHObFJegG5cjolqXymF9sHTJBDk2nHMP4aHVCx%2FcONoE3uVxrykmdUCWVn8SXvu0QPtKMYuo7XCQSTUEtv0UGRAxwUVxRG4ldwD1%2BkE4NgSPi63URfBmTORH7vj%2FpLXIzcjtGuAmArF%2FK9ln6wjh9ZDU8BhNg6pO%2F%2Bw6bSRwW%2FduOkDwA9D9xMy4sQJzQ8jlAPU5%2BlrCKRZMU7kL4LvLJfkwdoaKZHilHbuauHUigNM5KA&nvMid=29030420587&catId=50001519\n",
      "Apple 아이폰 13 프로 512GB [자급제] 최저1,650,000원 https://cr.shopping.naver.com/adcr.nhn?x=MhmTNrQCbH9eevi0EHlf%2B%2F%2F%2F%2Fw%3D%3DsHk%2FEkV3WJQqoxTl2nvj9K%2F2682f3Nnf56K2lTQseaFTrlQPyQuHoHFsppYbPEdHaivpjj29QNt3yGmz9txftswQMJ9ZaYP%2F9TyrCN71z3h41fry3HdsVu3LIsGQIjn58re%2FZ0cK5jFHc4UjmelBcuoZnlrSZr8PDPdBCvs8uWtdeJxHcKH4rYUhc5SxvGs%2FQ4JqcN%2FBxxv5wjdahLDrWxyJO7jbxAC%2FhHJnJbE9pD225SET%2FmTh%2Bwr3iKnDGr9FRMyP34J4AJGzBRP5oh3tAOquKWQN4b7WstTXVRp4V%2Fd2Kx7G3krbJiQXzryuwwOqJ1CVrNEKE3MrlFZmBRMQguUKBtvf8bVsBNC2LynQNqjL1QQzCLreNp8sjPDBjStixjQaGLcMmduX4DYWfbsi2VFidmhsgNmBUvEBFROKzp7NFiBdPxTSuvYOb67FAYBAGpxy2zgNMJa1at1GSrSd0QE%2BKsiS%2BXqVbgp7r172lWiFD%2FkFMO4s7sTx4sbc7XXXQvaOjGxMtdSZf0nL3LrxHbKyaTccMaRqEbWGeSkVDj7zC0hiHfmfzmAI0X1cC502K%2FT9cRxpb0ICQIPgIZ2yqs0wTJ5wayotvOPXh8Mb2MZbke%2FVP%2BgM94BPZkP5YJ%2Bex&nvMid=29030416587&catId=50001519\n"
     ]
    },
    {
     "name": "stdout",
     "output_type": "stream",
     "text": [
      "Apple 아이폰 13 프로 1TB [자급제] 최저1,867,590원 https://cr.shopping.naver.com/adcr.nhn?x=ZrSCFFjh0HAPD5LHVggdTP%2F%2F%2Fw%3D%3Ds1qw1PMXJlcmq5qyU1inQAj1QMnT5r38MZlMUBwYG7opN4NgkrPIjlczCBjhk2dSM8qL8zAqB9Ln%2BKBMAr1gGlFULZaC%2Bnx7bchww%2B%2BxpYASjdLOUHr1JEhkMjqfQgywRS0Fv93AoOobzmVCRXa2IsMv%2BjB2erv%2BZ%2Brrs5VHOiTQgGE7%2BZatKjf5hEf1XctkKCqMGcFvs80%2Bm9t1aozn63JbkCnZt3PKDnGtnPfTpWXV9gLRMuJH34gK%2BdKxxm2wL%2BJKrK3wAIdlc1W0GjThbXUPg%2F6PYJW9LpCSumzPJoigK7CtQzZWLlur1%2FFge4%2BEpRw4wFyz5HW6UIpAj3%2BxdImgoIKsc0pNBM1PfaxgJex0bV9SohnsJOp40F4RSK4iNnRZE7VsoXqq4UW%2Bf7klEpS6UxJeah0Om0lkIOZtT9ZLxLbU57LuNzmnFLwGq45KovtNin%2Brw3R1h4tZ%2FeJRj8RQ5Y304PhkZvKPG123kGPO7A%2F0vSPti8cHY4o2fastwY%2Fq%2BhJe%2F9%2FigY7GOLUuI9%2Fn0fhpYscUWfkzfPfQygDURpOFzCbaM6OU97uoPifjrS7nyjInefJHJYX9Lm7Pb3j3UztdMdmsTfHSb%2B2TLiqgdHI8FZtQVGFZJxOyBDKc%2B&nvMid=29029192588&catId=50001519\n",
      "Apple 아이폰 13 프로 256GB [자급제] 최저2,299,940원 https://cr.shopping.naver.com/adcr.nhn?x=PXB6NX7swf6QEB56PW6oJP%2F%2F%2Fw%3D%3DsTw7RwO%2FlrM%2F5m2TUb6W9ezm1RE9z2b4yORVj9izZoH6GgjNtjvRyY8TaEm3AQ5Uw4K%2FWQR4Dxl5J6IgobA%2FIEEF6FY9ielpYlpF4UkeBpWuxfzS4Ewk4JGVGSCT3oYuDnVtAWrZobZNAYLLYO3j%2Bpt9%2BKy%2Fm0d%2BgYWHtEf61Jo5CNclKwvLyA%2Fys%2F%2FHPPajL137zj6xS8KLGHM26HEneD2NmcbgLr0lu2cCLGgyX7c9vsepmwRk8o%2FCB4DgHhnjV3ZSnvvXF0gkneG8ZZ%2Bc8m6sJF1TG8DXvuOXRWh2aiSE1QmeK3ZPITzKHcbEnR%2BI8eQnP0nAIpvk4ZOizeor2WE0MUFyMOIEbhY3sMVJOnQnqdi3Q%2Fm8V2A5jR123nAwZGAcEe7n%2FGe4oEgPtgBdbJIBD40iqWaNeYMpOus5JTYBDk2nHMP4aHVCx%2FcONoE3uVxrykmdUCWVn8SXvu0QPtN0u4czD1d73s%2BXym%2BxAMdsUVxRG4ldwD1%2BkE4NgSPi63URfBmTORH7vj%2FpLXIzcjnzQEiEPxGrVUJCsjaq0p1cBhNg6pO%2F%2Bw6bSRwW%2FduOkKEnegiMwOLZVK0yCf1KDH3fG19sUUaBzN5JkSdIeV0NoaKZHilHbuauHUigNM5KA&nvMid=29030492586&catId=50001519\n",
      "Apple 아이폰 13 프로 맥스 256GB [자급제] 최저1,963,640원 https://cr.shopping.naver.com/adcr.nhn?x=6bx8suxIafmr%2BTvptmRj8f%2F%2F%2Fw%3D%3Ds8M2TpmTozAw4hbb48nVzr1zA7FSP260QOi4y8iV9BnlN4NgkrPIjlczCBjhk2dSM8G7k0%2F%2BDywU6X1FWi6KtGFULZaC%2Bnx7bchww%2B%2BxpYASjdLOUHr1JEhkMjqfQgywRS0Fv93AoOobzmVCRXa2IsMv%2BjB2erv%2BZ%2Brrs5VHOiTQgGE7%2BZatKjf5hEf1XctkK%2FKNqv4IElur67jOnMrLMW5bkCnZt3PKDnGtnPfTpWXV9gLRMuJH34gK%2BdKxxm2wL%2BJKrK3wAIdlc1W0GjThbXUPg%2F6PYJW9LpCSumzPJoigK7CtQzZWLlur1%2FFge4%2BEpaCZlQIvhoiGzbqO301%2FCA20mmFAEeToCuOR8ihX%2BdK8bV9SohnsJOp40F4RSK4iNpH2Vw9Hy%2Bw0n85g0RfhzuC6UxJeah0Om0lkIOZtT9ZLxLbU57LuNzmnFLwGq45KoH1o%2BzrRdoCzTIucFXDaeGhOlmDkRVNLk%2FLf6HDpZ%2BbT1JtnyFV8OD7Bngtl8x0Qvfm8I4%2BLwqxkEirhSi8uz%2FKYyuxQEvrC9ufJGwJDVig%2BUy967mlSa3mZfqZTLi6DquvfUoRAS8U07QIrCMYqJrSqXHGreKlVU7ywJuOV6DzZWhZ3SMHTcLlpircdRzUgq1JIslBmdxaTx7xO1%2BPPoWw%3D%3D&nvMid=29030294588&catId=50001519\n",
      "Apple 아이폰 13 512GB [자급제] 최저1,319,000원 https://cr.shopping.naver.com/adcr.nhn?x=1HOUbUKJWP0Ep2E6Yv7pIf%2F%2F%2Fw%3D%3DsjvxBahQqdZVeApMA5XGZRx8Laif5FICMESjaw9m6tpmGgjNtjvRyY8TaEm3AQ5UwHTbytohjd7sOw07qyTV4aEF6FY9ielpYlpF4UkeBpWuxfzS4Ewk4JGVGSCT3oYuDnVtAWrZobZNAYLLYO3j%2Bpt9%2BKy%2Fm0d%2BgYWHtEf61Jo5CNclKwvLyA%2Fys%2F%2FHPPajLMeLn3DEnnxE0ondyd3T%2BMGNmcbgLr0lu2cCLGgyX7c9vsepmwRk8o%2FCB4DgHhnjV3ZSnvvXF0gkneG8ZZ%2Bc8m6sJF1TG8DXvuOXRWh2aiSE1QmeK3ZPITzKHcbEnR%2BI8spfRlmK2Dp%2B5YwrscMWztotKe7jPF6OpodmgnWzjwi3qdi3Q%2Fm8V2A5jR123nAwZyY2wMIk58Y3ierITk1NstYBD40iqWaNeYMpOus5JTYBDk2nHMP4aHVCx%2FcONoE3uxvd4FH7C8HSLdi0kmjPZ%2FA9Uv7%2BuXk8s9e0jSRo%2Fw%2BSYp14Qx1Ru2bMMjgBrsdBx9IAXDrBRgra8OWJRJ%2Be4ts0XHEZIOZsgNkBRAIkafoSOv%2B%2BG7P8zZs54SDuTec41EReBlXoJYFMGdw1pMAivGeYiNxe1YyILGME3g1zl2FhB0CIl3BeKsFF2drF%2B%2BsFv&nvMid=29030496586&catId=50001519\n",
      "Apple 아이폰 13 프로 맥스 128GB [자급제] 최저2,699,980원 https://cr.shopping.naver.com/adcr.nhn?x=NGnYMZnYm0R1OE2f7woMv%2F%2F%2F%2Fw%3D%3DsyDU%2FO0s89mIAc5wv5NGj%2F5vPbNDKQy49GVsjLByuHDpN4NgkrPIjlczCBjhk2dSMOdbxgvhZXbeoxjMNvRfYnFULZaC%2Bnx7bchww%2B%2BxpYASjdLOUHr1JEhkMjqfQgywRS0Fv93AoOobzmVCRXa2IsMv%2BjB2erv%2BZ%2Brrs5VHOiTQgGE7%2BZatKjf5hEf1XctkKCjNzjsdpE73XW2e7c9P%2FXJbkCnZt3PKDnGtnPfTpWXV9gLRMuJH34gK%2BdKxxm2wL%2BJKrK3wAIdlc1W0GjThbXUPg%2F6PYJW9LpCSumzPJoigK7CtQzZWLlur1%2FFge4%2BEpa%2B%2FEgnUB5ReVoCnkrkxaL5CUqhNbugFHlLh7n8V5E%2BIbV9SohnsJOp40F4RSK4iNcvgg76TBeEUYPbFFmD6q%2Fi6UxJeah0Om0lkIOZtT9ZLxLbU57LuNzmnFLwGq45KoH1o%2BzrRdoCzTIucFXDaeGqXfbrDH44GL8e%2BZhigfwl%2F1JtnyFV8OD7Bngtl8x0Qvfm8I4%2BLwqxkEirhSi8uz%2FNMH8mY%2BDwZ02b45xvuptdaUy967mlSa3mZfqZTLi6DqJYV%2Fcv6vblaGAWe5Ac4mONVRFx8BrZmUSeo2fO9pYCpWhZ3SMHTcLlpircdRzUgq1JIslBmdxaTx7xO1%2BPPoWw%3D%3D&nvMid=29030367587&catId=50001519\n",
      "Apple 아이폰 13 미니 128GB [SKT] 최저10원 https://cr.shopping.naver.com/adcr.nhn?x=2e3O%2BgUkoH6y5B%2FmC3YOMv%2F%2F%2Fw%3D%3Ds4OhrpUNAO60SD77vU3hjyS0SzcYMxlZIcypXfFHS2ZCGgjNtjvRyY8TaEm3AQ5Uw%2FxSNYGCM8PkEhfI5eD%2F5tkF6FY9ielpYlpF4UkeBpWuxfzS4Ewk4JGVGSCT3oYuDnVtAWrZobZNAYLLYO3j%2Bpt9%2BKy%2Fm0d%2BgYWHtEf61Jo5CNclKwvLyA%2Fys%2F%2FHPPajLEpNgxrjwGzie2u%2Bv8etROGNmcbgLr0lu2cCLGgyX7c9vsepmwRk8o%2FCB4DgHhnjV3ZSnvvXF0gkneG8ZZ%2Bc8m6sJF1TG8DXvuOXRWh2aiSE1QmeK3ZPITzKHcbEnR%2BI8KrAw02FnI0RMUqPoT8wAs5y0RnikFXUzcadls6qH1bxcNZN5FF46Jqg7fDWNj5CaAOMM8tWC97DKIp%2BK%2BuVUhoBD40iqWaNeYMpOus5JTYBDk2nHMP4aHVCx%2FcONoE3ucOT%2BRsdnHIzNMGl8g3WFM%2BbfHOgpB6DV5aKpvGiIGVBcZ8pgTGru4bgUYhRhw82x1extAik0Dns9zJ%2FgplSY576GwQPkCmsEuMsFcdsbb4yFOPw2banBgieNd%2B21IVbVX%2BlvKBxeonWC2vQQF1JRpAN%2BQsjK6V0FLd%2Fybx7qcubNSE3OzZUT76KyqzckASmm&nvMid=29030427586&catId=50000246\n",
      "Apple 아이폰 13 미니 128GB [LG U+] 최저10원 https://cr.shopping.naver.com/adcr.nhn?x=WA4XVTXdGui4S94ch6ou0%2F%2F%2F%2Fw%3D%3Ds4wYDxRf%2Bb8MutO0LbkaGTKtAz5eq59fbIlmghK4kx7qGgjNtjvRyY8TaEm3AQ5UwYgR0jgYXqddyPyGv4LTahUF6FY9ielpYlpF4UkeBpWuxfzS4Ewk4JGVGSCT3oYuDnVtAWrZobZNAYLLYO3j%2Bpt9%2BKy%2Fm0d%2BgYWHtEf61Jo5CNclKwvLyA%2Fys%2F%2FHPPajLA3j9XDrRG9Uh1j5Svj4T2WNmcbgLr0lu2cCLGgyX7c9vsepmwRk8o%2FCB4DgHhnjV3ZSnvvXF0gkneG8ZZ%2Bc8m6sJF1TG8DXvuOXRWh2aiSE1QmeK3ZPITzKHcbEnR%2BI81AAPTffgYIY0CKffDXqI1RPOMFQ0kWVeSQEBEIZou%2F5cNZN5FF46Jqg7fDWNj5CaKOdai8jGSoEHuxDqOfEbY4BD40iqWaNeYMpOus5JTYBDk2nHMP4aHVCx%2FcONoE3ucOT%2BRsdnHIzNMGl8g3WFM%2B8amjoCusIYcsolWg3Wz%2FvyNHyBUXwWVD2ki0TxnNzyojqSQKemqiiivQnxCTLaNDs%2Bd35RyHcWcSuv5hsQmSW%2FhgaMkJIhbUi8HFdPXAb3WmiOWybp7A6QVnLHNrxpmWO0QScdmj79W4Ike%2ByYeOsNUJgJp6CUXauCvW7Y5AjN&nvMid=29030431586&catId=50000248\n",
      "Apple 아이폰 13 프로 맥스 1TB [자급제] 최저1,996,390원 https://cr.shopping.naver.com/adcr.nhn?x=k7PcCJDC32dVtYpQldGJJf%2F%2F%2Fw%3D%3Ds3o0kM5bEdfQa40Xj7GwDtbXedi7ydZ2ytZq15wNnNtnrlQPyQuHoHFsppYbPEdHa079feCuDUxvgB7ryh9f%2FsIKaPEJztvZX0FZgWBBEVzg1fry3HdsVu3LIsGQIjn58re%2FZ0cK5jFHc4UjmelBcuoZnlrSZr8PDPdBCvs8uWtdeJxHcKH4rYUhc5SxvGs%2FQpzgsJ2kpGxXbBjzCtpBxWyJO7jbxAC%2FhHJnJbE9pD225SET%2FmTh%2Bwr3iKnDGr9FRMyP34J4AJGzBRP5oh3tAOquKWQN4b7WstTXVRp4V%2Fd2Kx7G3krbJiQXzryuwwOqJQEF6Z2fu6vJ2bblESQXeClLKxucE6ibHbsGSvhOkHBD1QQzCLreNp8sjPDBjStixlfxinuJIcXbelONAuMrnG%2FIAoizsYO1d%2BlRONyZaGwpFiBdPxTSuvYOb67FAYBAGpxy2zgNMJa1at1GSrSd0QE%2Fd8fyX9mvA9gmQbAmJrnV1I8EDCh5n2RBrPUf%2BYM4BX8a%2FHvPOPEuDd1Ce%2FzZYNcwYWCDVcwTuRAYCb9wxOkGWBSI6OGRLrcF%2Bm6DUZtb1%2BgtF15PMkmjkNDmi88yMRRamEz6sz7RodiuHlXuSu8X0UbNk5di1V8jUMbmtHii%2FBq7h9PA5SrIXrcWPClBGWw%3D%3D&nvMid=29029192590&catId=50001519\n",
      "Apple 아이폰 13 프로 맥스 512GB [자급제] 최저2,246,120원 https://cr.shopping.naver.com/adcr.nhn?x=hAKZdsbyne%2FhhQ30G6ccnP%2F%2F%2Fw%3D%3DsJjV4mqgUMCustExFztMSoW3pfkS4x9wDIPjFjrZLfu7rlQPyQuHoHFsppYbPEdHamtKbfWzN3hqRDlLpJdhfOzkh4UJzdf0bAHSFH%2B35UsY1fry3HdsVu3LIsGQIjn58re%2FZ0cK5jFHc4UjmelBcuoZnlrSZr8PDPdBCvs8uWtdeJxHcKH4rYUhc5SxvGs%2FQ1l6YoWQhCMdLuiONCMVhkSJO7jbxAC%2FhHJnJbE9pD225SET%2FmTh%2Bwr3iKnDGr9FRMyP34J4AJGzBRP5oh3tAOquKWQN4b7WstTXVRp4V%2Fd2Kx7G3krbJiQXzryuwwOqJkMI1fgFoZppxUdy9hn6hIuoCIMa5V5gf9rsbGVnkv1b1QQzCLreNp8sjPDBjStixlfxinuJIcXbelONAuMrnG9L60K7w3RootRi5qyN45X9FiBdPxTSuvYOb67FAYBAGpxy2zgNMJa1at1GSrSd0QLbuzmWacN92LOvitfD%2BwvUN%2FOXq06xFLlMCwNDQObjPLcqEhOiscytOptfh0D9%2BAkk16oed1GXrY9sZ4sGAaI4TTi1qMuXQ%2BYJwRhZOgiJYEs8cFUTVf2EXpmSuc9bAhD4LL%2FMqqSY49h9rjSur0k7j3TdqlqgZUqd7%2BU3RR8N3HRyPBWbUFRhWScTsgQynPg%3D%3D&nvMid=29029192586&catId=50001519\n",
      "Apple 아이폰 13 프로 맥스 256GB [LG U+] 최저933,000원 https://cr.shopping.naver.com/adcr.nhn?x=5z5UdjFLozND2GBu0UBi6%2F%2F%2F%2Fw%3D%3DsT8LU%2BNVmYiYqWkA6Hxnv9UF5HjqUyomvJUqKuDaMxcCGgjNtjvRyY8TaEm3AQ5UwW1lfdjskVW4aRgT5O2E85UF6FY9ielpYlpF4UkeBpWuxfzS4Ewk4JGVGSCT3oYuDnVtAWrZobZNAYLLYO3j%2Bpt9%2BKy%2Fm0d%2BgYWHtEf61Jo5CNclKwvLyA%2Fys%2F%2FHPPajLk0DN2OTLGYPWI9hUoo%2FGH2NmcbgLr0lu2cCLGgyX7c9vsepmwRk8o%2FCB4DgHhnjV3ZSnvvXF0gkneG8ZZ%2Bc8m6sJF1TG8DXvuOXRWh2aiSE1QmeK3ZPITzKHcbEnR%2BI8jycr8Ugm%2BDDhpg%2B1xUnINOoXj8Qz8Ai3P9mdu%2F9XLmBcNZN5FF46Jqg7fDWNj5CauzkNoPc%2FQ%2Bo56VwvVNV8IIBD40iqWaNeYMpOus5JTYBDk2nHMP4aHVCx%2FcONoE3uVxrykmdUCWVn8SXvu0QPtAMC8VRZxDY4cjIIz6rWwYgZyVXP8MBx51PcdtMFtsvBK2ud1b%2BfZwYPU0n%2BzLfOdXVP3m8EdsbcXOVaNhiPcDFP4PMPHCnudPTZjGRUD3iUjHbngYGRGDbpl%2FQKUKYUosTWdgON80laFag7xv%2B%2Fs8fke%2FVP%2BgM94BPZkP5YJ%2Bex&nvMid=29030190586&catId=50000248\n"
     ]
    },
    {
     "name": "stdout",
     "output_type": "stream",
     "text": [
      "Apple 아이폰 13 미니 256GB [LG U+] 최저506,490원 https://cr.shopping.naver.com/adcr.nhn?x=JPI73%2BXMWdU1%2B1%2BWLd8pwv%2F%2F%2Fw%3D%3DsHxBk2ofRBscTnjAFYB%2F2lo3mH0KOD4jhJMiKarmtxBSGgjNtjvRyY8TaEm3AQ5Uwmh8s0SrAoXQ5ic7EZkqchEF6FY9ielpYlpF4UkeBpWuxfzS4Ewk4JGVGSCT3oYuDnVtAWrZobZNAYLLYO3j%2Bpt9%2BKy%2Fm0d%2BgYWHtEf61Jo5CNclKwvLyA%2Fys%2F%2FHPPajLeYmWQ3q7Vfmvwq%2BPpoL3AGNmcbgLr0lu2cCLGgyX7c9vsepmwRk8o%2FCB4DgHhnjV3ZSnvvXF0gkneG8ZZ%2Bc8m6sJF1TG8DXvuOXRWh2aiSE1QmeK3ZPITzKHcbEnR%2BI8V3goqQfQ2QONQjaQ8tbuXJpw0XkrPPNQBbpBU3gnLhpcNZN5FF46Jqg7fDWNj5Ca5P%2BxC0UZTSDbeFieBzOyzZkK4pYNbudh0sE02LoO35dDk2nHMP4aHVCx%2FcONoE3ucOT%2BRsdnHIzNMGl8g3WFM5Qad5K03cEQZUE2xf7MbxDyNHyBUXwWVD2ki0TxnNzyDYzfUMBJX%2BZ%2BBkRoR%2Fh87sFBlgE3rGzw6bfD96U%2Be9ERpOFzCbaM6OU97uoPifjrpC6SKJ6ibAU7GpqBYrUq1CfS3ueriC2HHXAuPDPmapKCqA6%2BrrPkSkQjk3bFq%2FUy&nvMid=29030376589&catId=50000248\n",
      "Apple 아이폰 13 128GB [LG U+] 최저147,500원 https://cr.shopping.naver.com/adcr.nhn?x=WvSJG68nyMLRqnFbsG1COP%2F%2F%2Fw%3D%3DsYuszFzVcr%2F3%2BJHhWTv3gBXkvdDhRexm%2Fn07ljT6mdtiGgjNtjvRyY8TaEm3AQ5UwJCVaylT4jd5q3VW4tfdcZkF6FY9ielpYlpF4UkeBpWuxfzS4Ewk4JGVGSCT3oYuDnVtAWrZobZNAYLLYO3j%2Bpt9%2BKy%2Fm0d%2BgYWHtEf61Jo5CNclKwvLyA%2Fys%2F%2FHPPajLF5xNEd4OxamWQ%2BcHLqvQ1mNmcbgLr0lu2cCLGgyX7c9vsepmwRk8o%2FCB4DgHhnjV3ZSnvvXF0gkneG8ZZ%2Bc8m6sJF1TG8DXvuOXRWh2aiSE1QmeK3ZPITzKHcbEnR%2BI8Nz4ZapI5NU0drg9L%2BWk%2FoIJ8y5tuh3W0j%2F0V80Rp0tpcNZN5FF46Jqg7fDWNj5CaOuJEtqo3uSaAxLHO43RCMYBD40iqWaNeYMpOus5JTYBDk2nHMP4aHVCx%2FcONoE3ucVl9zsZvbcebfQHqQGTPjuksp9XuUdeQZ9g2FaJQ4%2B0g1HDVA0X848ldvn7fnwtgZdUuz7xAW3QBdAhdrjSW7pTL3ruaVJreZl%2BplMuLoOo8ZVFp5CRRjL%2Bql1lgPvFwTTQD%2FZM4TO7m%2FIlLK1pIClaFndIwdNwuWmKtx1HNSCrUkiyUGZ3FpPHvE7X48%2Bhb&nvMid=29030372586&catId=50000248\n",
      "Apple 아이폰 13 프로 128GB [SKT] 최저1,183,100원 https://cr.shopping.naver.com/adcr.nhn?x=hNxW9%2F1fSbE%2FoJg%2BdSZ7sf%2F%2F%2Fw%3D%3Dsu%2BvMXaG5y5SneTzSa9QBww%2Bc1pMeHmWGEnaryb009PHrlQPyQuHoHFsppYbPEdHanPGHVXad4DksgeRMBSKDPgQMJ9ZaYP%2F9TyrCN71z3h41fry3HdsVu3LIsGQIjn58re%2FZ0cK5jFHc4UjmelBcuoZnlrSZr8PDPdBCvs8uWtdeJxHcKH4rYUhc5SxvGs%2FQ96DW%2BGycTBZMVki5iCCJNyJO7jbxAC%2FhHJnJbE9pD225SET%2FmTh%2Bwr3iKnDGr9FRMyP34J4AJGzBRP5oh3tAOquKWQN4b7WstTXVRp4V%2Fd2Kx7G3krbJiQXzryuwwOqJoYr1hDmHWj986oRbpnueGx8r9UYJUND%2Fx9%2B6bAMaGeD1QQzCLreNp8sjPDBjStixt%2Bg%2BhbaHVn4xble53U4VTWchOD27ewPeqTeEV8kC6hNFiBdPxTSuvYOb67FAYBAGpxy2zgNMJa1at1GSrSd0QFogMKJvfOsS5xC0oc77%2BPOjriJ8H0NV5nx9%2BVr0aUV2W9Hplx%2BQPdhRSuWaK7CUbVBoIK74edmXTZlXRxaeBEKIDf9TYDOC4LzgCehLsur5U%2BqlHR%2BvdZWKQxQFiywDQD60pJ%2FfAvycd8WN6CcfxUCFbDf4gHI5rSMJU1BWcIOg&nvMid=29030177588&catId=50000246\n",
      "Apple 아이폰 13 mini 자급제 128GB 그린 MNFF3KH/A 912,000원 https://adcr.naver.com/adcr?x=NsQqYjn4alRIxCuec+xnm////w==kHXLp4nGcr8rlerHu+8IrjHhQ8etv4kfROgOCxP387Sv9fmj+k7y2k3Mk7dckAtC/G50+6Lpve6JRqf7A9MSn3K8e8Ph+Xi4N/JM53FEduEVDaYLxQNFjtMVUOeC3LPI5Ow78jbyY3uNTf0aa41JXtb294oqwq7Q5+W70ksjk0kVkyFIWBjH8mOGeAD7eUtGyIpTu3ywx6w4UJeJSdFATziz+gckhnDPnixSGmD8VuyESdKkxQw4cOiv8n5Y3z7GMl6FF+aHZ1ccUUwN+JkdIZGJ96fgEsiaWCU9hyrDpQpGNRlCPGD5/YPZMwQnuQrgqZc6aPw2/EOZEDZmInX9wVOxHg7Sg6rVK6QwqABOJsCjU9g2xkgkhROe33AO3Uw43UuO9YwJqcZ4WBCRp4Yhf1LjOUNjFVlYurMK+yKUuGhWGag1yS78ZC2OexlquKlGjit9RcTrVpBRtBCaYcKO/6HG7Ln1mdK5V+hb9RMTQ62XB8qvMu64YUIJ8fumyctgbMJ3zb9gfP+m6pvWs9LeAHYCDRea/vVcHrd0RhwuGnqrTeJNiq5UZcU1dL6WLgzp+kisWRl1clqt03bppO1zqf3D7C3fJQ7iAOWJBOaVvYRvy16HLcmIgtmqpxZgu7Qw25rA6fVq+Wz7tBprBYzkBUVFPTi2xw9zG3JT9fCwDjC9Rf+b/EhCQpcSt7lWjiFLneETBeRPXR7h2cQ01R6QLzdg/5zsLFPp5lkDD+wjYxqWlj/ph/NNFbPZESlPFBTFyV5qqSEfmS7LXzoJNSEIK6cHWVcs6tF9cBpLl5Gn4D1ii6G1EwRuPdUxiI3uHQMbRpz68aHvVNZv/JJDMhKM8cXp9KqNkeXyz/tA0t1HyC7axRT/GLwtMbjhaz3GNmVJkQJ5kIpSlGStM8lNq0P1cgZCZbH5MHYDOC/ZZ05NjNn8=\n",
      "Apple 아이폰 13 mini 자급제 256GB 핑크 1,046,400원 https://adcr.naver.com/adcr?x=FpF0LNTRYJ8fhP7ajuUkG////w==kMT+QzzbcmRnB+xbCAt2goELALXhNI4zMr+er8FKiYFvJ4ZP5qkKujXpLh1DY59yCnY4Ho98YQHy7tgEoQI/e6/Yf5XVAsQv2DjVMYNHLMUa6Qyum7reUy7z3jqgFX9lQIyawMaarR2UEKz2yXBxPArw4Il96dnSSZpU/jdA2JnN5v3i22RiHNnG5DX6VEuwk07E9C0KGItMdcchnjJJi5YZqoD1SPWvI9gJWM0I5dB8siIMorQRewV3ICyqI3kkdpsn+vPHM2pIrtdLeYSQn/VZ+mXWYcbJRGeOeLAgYVEjPifrZEYkGdsxKe5xAbAzxLdQfeB4encynBWgBPKalhVj6vxVcZcn768tC/ru0EV+YvHtNE4Vmpziv6qeHMu94eqCaphlZ48VKXxkY2XQdsMu9yrZmUL6j8JsrwRioYHuXexDKhb4frtJfwkCdOAn1e0Glq1tnNqjHgv2rm62lZwIT+A0NQVhE24/FDwMkVPPtVgtfdV9DjzCybC9eHyqaLdiWRrF+ZDwgQ6wAC7goG4AXLvfN81Eaw/itW0MfUGgvL3ofa6BNQW48t+lh5fZ1Z4HZZXksTXXDtqdMNHUaOFudqHKV6rTpVPiUnEoApxCRZNZriPq0P7bNX+a/fTuQQ51sce+EwL1sSz3kaKI5tjQ0QlV1lQVWCf2OCZNcPz7F+pZWyY+5pPnJI8XSPA+w8PDINzy1rV17NAOjwjcrinCATQM+pIM5CBShmRWLk+J9Ctfki9OC/PMPW1isDt0D+Wln4w6vHWUfxr8Q7it+dR3gppvkfRKepjbtzX5O80fJwnucfeaItb5Kgp10Aqi5stObnGH5IpiRn3DZNHgJogKV6uOtK3vYyYeVrGiEapvdXjHqDcu9y4PHEsrpe6bDL8pfTjWiTS0TutF2BhUMuw==\n",
      "Apple 아이폰 13 mini 자급제 512GB 스타라이트 1,224,000원 https://adcr.naver.com/adcr?x=ycuf42FgFwMDE7qyENzaDv///w==kHXLp4nGcr8rlerHu+8IrjCHoja2fgeqE7Wjq4PCu5M9j1GsPqJGcEPJfswQqNxdCc3KLUHDD+4dA0MuBbMItgB4RxmEKonFtEmxQ9tV2j5Fe5+AthVj6FsM+tdTDEzJofJkdOODM1hYkW1b4t7u2eUM05nn6LQy4/EtsJ5BEwh92i4VAdTWPj/3EyW+SrAFaSG7mhTj3l4npNhk2GOqH9jgWzeTdeT4QFkqRgoYo0o6OoONLvO5PMBipxBZB+osIFqSDzaOahJ4vHAKH6v06Xs2hJDQsCYOQPEBU/kf7QGQEm6RhA0ZfHi/KjCciUevXe6kkKwoyawgjTOe1JA2nAvlqZyLGDylQff0C+kTL1XeFFpWD7XYl2Dons2kIvjNHpoXPV/MkaNWGrkNs8K3NVg3b9lQKt5aUpaTu2HbKI/6ILlDQfst0eY7hMFjqWC4s+4p4/bFZy/EzL+1nQmTnfGC3duXSe9bQr3XNPefOgEj4chY2Ng06NNMqlAK1xCVavXJjUI3cDZV1vzPxLwEnxW7LyjOQZLP6SJ8kUWDQoUhIiUW6hlXIqfx3Qz9RdNRBC7ar9DG3B7CrDxoN1wlo1YUVZ92jeI3rR3ol5FDoNxHGTFDFS8ATMgT9iX0RlNKP2vc8V3AwriwK1kNut/SWLUtX8sjTkN3snwnbwnTH6SYx9Sqx2HdsRObp38SHP8VDGI9IvpUK2vp6+vHDHQQXbpn/1GmULXBuMHTcjiUv6s9i9Zn0uHVaDF9UPDMtEJp+qE+AHQbapNctAmqUmXMahwLEJOwP/pIDYe5xUyLCh9TOphtl9yJAvXaCEFs0y59phxFT9Nuv/o2HWYazhOEHmOe9/O5OpW/Z/fQtE1GM7acuhfnGnA4ZQjnwDRH+20QOCcJhUsyQpaK/XvTLzamSuEEXNCpWVhx1cYCwaOmrNhU=\n",
      "Apple 아이폰 13 프로 512GB [LG U+] 최저980,000원 https://cr.shopping.naver.com/adcr.nhn?x=8OheefDJUuyB%2B4upA1glzf%2F%2F%2Fw%3D%3Ds5u5SbmTbndkQuIWqUA1bvupNCh2OxbJurxYoa3kgXHzrlQPyQuHoHFsppYbPEdHajaYdG0wMokCn936uH3b7O2ri%2Bq2C10JjWhB13cILXQk1fry3HdsVu3LIsGQIjn58re%2FZ0cK5jFHc4UjmelBcuoZnlrSZr8PDPdBCvs8uWtdeJxHcKH4rYUhc5SxvGs%2FQSPWiJ7SXrJmKgRhytiKLlyJO7jbxAC%2FhHJnJbE9pD225SET%2FmTh%2Bwr3iKnDGr9FRMyP34J4AJGzBRP5oh3tAOquKWQN4b7WstTXVRp4V%2Fd2Kx7G3krbJiQXzryuwwOqJtvlzXGrpjCA9xMBUXFAA%2FR5o6bGskSty8FQn21JYHV%2F1QQzCLreNp8sjPDBjStixj1OT%2BvUJUOEzwKKBwf%2FstU%2BhNJRGA%2FKl7KbYs9lOHO9FiBdPxTSuvYOb67FAYBAGpxy2zgNMJa1at1GSrSd0QH1VT9Vq9GO7fOJa6gXxk7uhzDfp6Y5Zq42WobtISlGzcGB6OHGWWLxdp7xTQ1zT9lXiecCvh5Vb6gI5GrfAGgMNauEcRynSn%2F8orOK7nc907CD4d8H63YUwqEUh09GuS1sKU4ytiqbQwTJ8lEIPwjzLVWGr8fvvH1mWvUgXPK6j&nvMid=29030295586&catId=50000248\n",
      "Apple 아이폰 13 미니 512GB [LG U+] 최저448,000원 https://cr.shopping.naver.com/adcr.nhn?x=gDiMq5lium3ScNjLvlLO5%2F%2F%2F%2Fw%3D%3DsRUSZTbYLWSYwEN7WEnJhvPsjaL5oJSTLexT2TiprBcrrlQPyQuHoHFsppYbPEdHa8FPWG74ZGxp2EKwgfc7i1YzW5Uvd7caSwgqoNP%2B%2B%2Big1fry3HdsVu3LIsGQIjn58re%2FZ0cK5jFHc4UjmelBcuoZnlrSZr8PDPdBCvs8uWtdeJxHcKH4rYUhc5SxvGs%2FQhTHk89mV3o2ojkdwJOWr0CJO7jbxAC%2FhHJnJbE9pD225SET%2FmTh%2Bwr3iKnDGr9FRMyP34J4AJGzBRP5oh3tAOquKWQN4b7WstTXVRp4V%2Fd2Kx7G3krbJiQXzryuwwOqJSBTlHK5IZLIppEqqds8NM2uIIuXKphZ3olmIhgmw4MT1QQzCLreNp8sjPDBjStixj1OT%2BvUJUOEzwKKBwf%2FstQYatFguehIKnW%2B52tHgcthFiBdPxTSuvYOb67FAYBAGWR34PGgX21IX5FwB8U%2FAX3SvUky3TWlImeub8OCXd0%2BhzDfp6Y5Zq42WobtISlGzjeAT36cSMbm9rziBVBqwu06Gv1pjFHa%2Bmvqmxz0ub9ENauEcRynSn%2F8orOK7nc90YZZqrUP%2B%2BVvINzqU9PSITpL1ZYdf0vwRcVMM3Hg7POLLVWGr8fvvH1mWvUgXPK6j&nvMid=29030419586&catId=50000248\n",
      "Apple 아이폰 13 256GB [LG U+] 최저270,000원 https://cr.shopping.naver.com/adcr.nhn?x=k26IPgcsHP6EFYNHviZBFv%2F%2F%2Fw%3D%3DsJoATdvRygBTNz06JElYDu07u%2FyvnkSqknLcfFQnqEUfrlQPyQuHoHFsppYbPEdHaRu4lRWcHxDElb6EXsafTNgQMJ9ZaYP%2F9TyrCN71z3h41fry3HdsVu3LIsGQIjn58re%2FZ0cK5jFHc4UjmelBcuoZnlrSZr8PDPdBCvs8uWtdeJxHcKH4rYUhc5SxvGs%2FQAMSjwVcmY%2FAAtFSXsxq78CJO7jbxAC%2FhHJnJbE9pD225SET%2FmTh%2Bwr3iKnDGr9FRMyP34J4AJGzBRP5oh3tAOquKWQN4b7WstTXVRp4V%2Fd2Kx7G3krbJiQXzryuwwOqJtgQ1H%2B9sXGHPEAvApjfUjqOQ0VYXRv8EIDpK2brNl8P1QQzCLreNp8sjPDBjStixj1OT%2BvUJUOEzwKKBwf%2Fstc3TMKfDPuSjd8cGIdbb5jZFiBdPxTSuvYOb67FAYBAGCXV2B8r6mc9GdpPVxGCf8U8nkK7045HdcbXgl2QuhmRBskTaofqwA6IQD8JZOZb7HewFRW5%2Bi2bJ5IWvahPNq9YbukAj06EPMRzwFdQ4TCC%2FhgaMkJIhbUi8HFdPXAb3iRaT3QnPvS4GKdILHWAr42O0QScdmj79W4Ike%2ByYeOsNUJgJp6CUXauCvW7Y5AjN&nvMid=29030189588&catId=50000248\n",
      "Apple 아이폰 13 프로 256GB [LG U+] 최저1,208,740원 https://cr.shopping.naver.com/adcr.nhn?x=6XYMFPYRHoFjmiexuyPZOP%2F%2F%2Fw%3D%3Ds8%2BcwzsmJV2KgM7uJiDLunVFdrQ8kJMaqShlmxB5vJp5N4NgkrPIjlczCBjhk2dSMkRjknNCftzLKgXfnzM0gm1ULZaC%2Bnx7bchww%2B%2BxpYASjdLOUHr1JEhkMjqfQgywRS0Fv93AoOobzmVCRXa2IsMv%2BjB2erv%2BZ%2Brrs5VHOiTQgGE7%2BZatKjf5hEf1XctkK7oakGQ6eZNyfdOEuH2mX2ZbkCnZt3PKDnGtnPfTpWXV9gLRMuJH34gK%2BdKxxm2wL%2BJKrK3wAIdlc1W0GjThbXUPg%2F6PYJW9LpCSumzPJoigK7CtQzZWLlur1%2FFge4%2BEp%2FkvnlVg0YXuduDGoiHN%2B32goIKsc0pNBM1PfaxgJex0ftFRTsbvvXWnc5%2F7qDPunXcWWZCtNqr4P8SnqBkCpUS6UxJeah0Om0lkIOZtT9ZLxLbU57LuNzmnFLwGq45KoT9MEddwcBjht2We4Itl305Tu7qzh4a9wL5CEtMU%2FuuZJm%2F1ne9lUZdiLJ5vX8PmzlY7SnPbcxQ7gP8bJLLQrUVhvbeOtNGpjHDczu2XJLlWOv%2B%2BG7P8zZs54SDuTec41FDerMAErTQnwRtVj%2FjHkmfKalATZrXeY5u5tiFLbFNlB0CIl3BeKsFF2drF%2B%2BsFv&nvMid=29030415586&catId=50000248\n"
     ]
    },
    {
     "name": "stdout",
     "output_type": "stream",
     "text": [
      "Apple 아이폰 13 512GB [LG U+] 최저557,000원 https://cr.shopping.naver.com/adcr.nhn?x=hiiPHTYOajF3woCiHqwSH%2F%2F%2F%2Fw%3D%3DsGCwfwUw0KfudbDR2VSNWSxeddPDX%2BffhqEiSGmmvRp%2BGgjNtjvRyY8TaEm3AQ5UweUFsnCmL4DPn4sjaiTIr60F6FY9ielpYlpF4UkeBpWuxfzS4Ewk4JGVGSCT3oYuDnVtAWrZobZNAYLLYO3j%2Bpt9%2BKy%2Fm0d%2BgYWHtEf61Jo5CNclKwvLyA%2Fys%2F%2FHPPajLFE9QF%2F1S7E7CtXP8syJEuWNmcbgLr0lu2cCLGgyX7c9vsepmwRk8o%2FCB4DgHhnjV3ZSnvvXF0gkneG8ZZ%2Bc8m6sJF1TG8DXvuOXRWh2aiSE1QmeK3ZPITzKHcbEnR%2BI83VgtYiJa9IeHf0uTio7C%2F279IfePjtrUAv51%2BesAsN1cNZN5FF46Jqg7fDWNj5Ca1HqFh1ogdBT1KPHTw%2FRddoBD40iqWaNeYMpOus5JTYBDk2nHMP4aHVCx%2FcONoE3uxvd4FH7C8HSLdi0kmjPZ%2FOksp9XuUdeQZ9g2FaJQ4%2B0g1HDVA0X848ldvn7fnwtgcauDZIG8V378qowjUCDLApTL3ruaVJreZl%2BplMuLoOoM1ArTknUek%2FmrLPV4ep%2F4nspQs77yru4T2NhSQqaHA1aFndIwdNwuWmKtx1HNSCrUkiyUGZ3FpPHvE7X48%2Bhb&nvMid=29030296586&catId=50000248\n",
      "Apple 아이폰 13 프로 128GB [LG U+] 최저1,078,590원 https://cr.shopping.naver.com/adcr.nhn?x=PZXMj%2F2%2B4WBkUYq2q7qZgf%2F%2F%2Fw%3D%3DsI5s8%2F2H2j%2BcbMmDC0Yjw57H6wNvK8xjiE%2BQHjO%2Bidj%2BGgjNtjvRyY8TaEm3AQ5UwlvmfUK8EeahCov7qbi%2B6bUF6FY9ielpYlpF4UkeBpWuxfzS4Ewk4JGVGSCT3oYuDnVtAWrZobZNAYLLYO3j%2Bpt9%2BKy%2Fm0d%2BgYWHtEf61Jo5CNclKwvLyA%2Fys%2F%2FHPPajL%2FHNuqNLq1In6IsDDJHfZwGNmcbgLr0lu2cCLGgyX7c9vsepmwRk8o%2FCB4DgHhnjV3ZSnvvXF0gkneG8ZZ%2Bc8m6sJF1TG8DXvuOXRWh2aiSE1QmeK3ZPITzKHcbEnR%2BI8bSzZAOQ4%2BotFOuv8qMgrwZYLtZfGrpYMe24kGQWFs9xcNZN5FF46Jqg7fDWNj5CaMwuyBTN2KFtlawRGj001jlu04kXdaYr69N9dWySazW1Dk2nHMP4aHVCx%2FcONoE3uVxrykmdUCWVn8SXvu0QPtMcC49oW%2FLQviy%2FoVOG9c6zyNHyBUXwWVD2ki0TxnNzy0fqgw4lME0%2FTBGxsRAxGLvNJFeaGDNWOyzpsBnwqVwRicchwRNwmJ84TyxvjggzFOCEfeBNu5CbktFcLcqb2fCQdeXb2tbtvTDcrceKwNjwOEsHC78VBLnFZh%2FnDobeN&nvMid=29030175590&catId=50000248\n",
      "Apple 아이폰 13 프로 맥스 512GB [LG U+] 최저1,259,180원 https://cr.shopping.naver.com/adcr.nhn?x=ijukbolpSEyKQ7JPyZuNRf%2F%2F%2Fw%3D%3DsBWBDQZED4xZwSuhFJRMbCFm9IwPA47E6a5IEZUpBW%2BDrlQPyQuHoHFsppYbPEdHaL%2BM1hTa%2BG%2B0omKel9LqMsjkh4UJzdf0bAHSFH%2B35UsY1fry3HdsVu3LIsGQIjn58re%2FZ0cK5jFHc4UjmelBcuoZnlrSZr8PDPdBCvs8uWtdeJxHcKH4rYUhc5SxvGs%2FQ4mhrqoyUBRFf4NTE8brPnyJO7jbxAC%2FhHJnJbE9pD225SET%2FmTh%2Bwr3iKnDGr9FRMyP34J4AJGzBRP5oh3tAOquKWQN4b7WstTXVRp4V%2Fd2Kx7G3krbJiQXzryuwwOqJrUBPVkTY1w7z0bfoiH5nlqoS6a1Nh437MDAdr2m3UZb1QQzCLreNp8sjPDBjStixj1OT%2BvUJUOEzwKKBwf%2FstbsrVux1znYF%2BBleRVTqRA1FiBdPxTSuvYOb67FAYBAGpxy2zgNMJa1at1GSrSd0QLbuzmWacN92LOvitfD%2BwvX%2FzaVgfXndF2fkBs0qzZTvfpF8bfclcJjAeddKIqLqoIu9nSt%2B7HO3kN9KvY%2BgN8hLMpPMKzzBcAVt5hrGBLK3j%2FaM5nVf1rOXk0fVU4woW%2B3cAhuubty%2F4TMX0j2C7tJvU2Y6hEEwGxc1AZfON9sL4VRAH%2BsMDObarUodGweR8Q%3D%3D&nvMid=29030181590&catId=50000248\n",
      "Apple 아이폰 13 프로 맥스 128GB [LG U+] 최저1,210,640원 https://cr.shopping.naver.com/adcr.nhn?x=bGZcEMMs1spmZqGGXLBTu%2F%2F%2F%2Fw%3D%3Ds2KhQKgOqnrnVCiEQQZwnr1EFMMhoX4MRZBAd6lHbCyqGgjNtjvRyY8TaEm3AQ5UwxVlkQRlmOFOJCgAuKuaniUF6FY9ielpYlpF4UkeBpWuxfzS4Ewk4JGVGSCT3oYuDnVtAWrZobZNAYLLYO3j%2Bpt9%2BKy%2Fm0d%2BgYWHtEf61Jo5CNclKwvLyA%2Fys%2F%2FHPPajLZ82JrS6jePl12o%2F1%2Fp43c2NmcbgLr0lu2cCLGgyX7c9vsepmwRk8o%2FCB4DgHhnjV3ZSnvvXF0gkneG8ZZ%2Bc8m6sJF1TG8DXvuOXRWh2aiSE1QmeK3ZPITzKHcbEnR%2BI8CIDSEEHRHdT0xNYla1ZZYI2mey%2BW%2B%2B9BADk9FbbOEwVcNZN5FF46Jqg7fDWNj5CaraaRjsiX0Y7G9ePm9rX7g4BD40iqWaNeYMpOus5JTYBDk2nHMP4aHVCx%2FcONoE3uVxrykmdUCWVn8SXvu0QPtCC%2FOSQKpmiFUQRvI9TGNtAZyVXP8MBx51PcdtMFtsvBK2ud1b%2BfZwYPU0n%2BzLfOdabbrBlYMiZFTvWGswpSosHC0hiHfmfzmAI0X1cC502K2cF1cujtD%2FQF7IKWC%2BQIfi5jsCguB9ooPm%2Bckya6R4tXc50eBITwugSNPH3Ok09sVpGw61BSdoQRvEGgfFlc5w%3D%3D&nvMid=29030352586&catId=50000248\n",
      "애플 아이폰13 미니 256GB 미개봉 새상품 자급제 통신사 가입 257,600원 https://cr.shopping.naver.com/adcr.nhn?x=XtfO%2BxaTXAcfywAuCKRU1%2F%2F%2F%2Fw%3D%3Dsv9WUzCKJjNPej33cVvKmU6pLh%2F%2FUMS6urk7XF9T3FogCYpaXrkpTZ0FTnmqeb1eBiCCxCu2PG6qc%2Bf2C9JhikgI4OX7uLeCbjfT0Zq5h9k3nNK2999mLD4sU37D3JO6WJJHosSFnA2l3yaor5iti4NTJO8orONquYDv3WICli9sHmZR3I0lwYU2VA%2F%2Bees7PVF6ug4eqwoBbBeeLb968zToRS%2FhE4Qj%2FOBn1Io4VuH74kqsrfAAh2VzVbQaNOFtdQ%2BD%2Fo9glb0ukJK6bM8miKArsK1DNlYuW6vX8WB7j4SlQMbkqiGW2gxKMheF0gsfsJ8CJQmAWGudYalJCKAo8ZGxeDmVS9kP3MLsWL1Ykk4fPaDX7iC0wxRB375upLAPjwCvhRKdqG%2FOW6b78Zb%2B9ILxn8ognP94FYDO1tsRPhAlaG8klqUxkjVE3nVQwjjOOdD%2B3wmyEH6aSJ00UG5xfY9OPP5UW7a9qVeW8E8gM2agFeuliRDrtjZaLkWQhK4KAFwqCQJHkK1rJFwqXFjebCo41RX7hz5BdGnzUNO7dpGxrWNLxRrWHCJoudYzHCivGSRNVhsiT5TmkxM5%2BPn57Bzyn%2B8EHTcSVtpdNYWZpGpZayXn6DiW5pDuAQ%2FWDG5jNDVCYCaeglF2rgr1u2OQIzQ%3D%3D&nvMid=38216509668&catId=50001519\n",
      "아이폰13 미니 128GB 공시기준 Apple iPhone13 128G 39,000원 https://cr.shopping.naver.com/adcr.nhn?x=ynN9LWm6OlI4po2Sz%2BWGv%2F%2F%2F%2Fw%3D%3Ds%2BPRFxMZ8Ja7ZRGUzPH3uyIU8MUwKt5vOdLvrhI37OYFN4NgkrPIjlczCBjhk2dSMUzLe2J1Ikml%2F0LlKIQ%2FV4VULZaC%2Bnx7bchww%2B%2BxpYASjdLOUHr1JEhkMjqfQgywRtwQ3xSrxtnQXN6AHIIzn%2FKo5YEmCu22RHk6o03pGxHyr9N9rARz1GwL8SD%2B61y0rsw80HLSwpEv4SjQ0vaq3vAT5HsegQoLVQOvUkS6oEsUhffFyRIiX8SMynANFKxQhqwkXVMbwNe%2B45dFaHZqJITVCZ4rdk8hPModxsSdH4jxttKRo5Z7zcHQkzj5rNWrPvkvQdsYrqwbcNnsvLb9MEIfE2h956A8QQSp128tUNWzGDEaCEfqF4FSBWNAim8V3FCJLeTNMiIpdd72TMnUFRzGfETrbe9%2FdsnclBgNV1lDwDVLNQce3TyPKDZ2jwK1QAaFXnmfMyWTqraUm7G27TafqsRbjVEZk%2Bnpy9aZfwOvj%2Bg3RUGKfmsUY7WzUungFbv%2F9AzvtPDQGhLuUdLnuZMKR3YKlD9qGAl6gX9HvZO6pSLuKI8khvENnFO04Wzt9EJAp9xsgeaEKhb3hym%2FQUlaFndIwdNwuWmKtx1HNSCrUkiyUGZ3FpPHvE7X48%2Bhb&nvMid=38665575984&catId=50001519\n",
      "애플 아이폰13미니 자급제 미개통 새상품 공기계 646,080원 https://cr.shopping.naver.com/adcr.nhn?x=uU%2FqDEz5n84MwxadTvnj5P%2F%2F%2Fw%3D%3DsN8IP9TPuinLE68axrqf4b0Rjm0SdBWJshJy2K%2B2sNdkCYpaXrkpTZ0FTnmqeb1eBX%2BPsmdesipp5JUIaexLfxwI4OX7uLeCbjfT0Zq5h9k3nNK2999mLD4sU37D3JO6WJJHosSFnA2l3yaor5iti4NTJO8orONquYDv3WICli9sHmZR3I0lwYU2VA%2F%2Bees7Pm4A%2Bx9QIbg0vnuwIemhG6L17%2BErSFA7qwe2%2BdyUFA6T4kqsrfAAh2VzVbQaNOFtdQ%2BD%2Fo9glb0ukJK6bM8miKArsK1DNlYuW6vX8WB7j4SmGluZmd9egl01KTEqCGpVKNi3x1AD9yQxqM2DnQ9IA%2FmxeDmVS9kP3MLsWL1Ykk4f4g6ZW1%2Fc7iM770aZ6qckiwCvhRKdqG%2FOW6b78Zb%2B9IPzPVCLb25OZ4ayo8d32qxVMpwSS4N0lmPMR9MSRtdbRQr37f0yfrrQWvoQE3tEnHJi2NkojpeRRFRM4jBBLrAzQU8SrFbBKH0x8VXZM1T5vDIOB0gS%2BPckzLWGaMRMXXdOf4i9zFrBXE2548%2F2S162NVnMRAi3IDwXCmkzhzmudOg0%2F%2FKtRixVSF7DQ7%2B%2BaKGSYdO92LbvFMbl0EZ0VZLlB0CIl3BeKsFF2drF%2B%2BsFv&nvMid=37132826775&catId=50001519\n",
      "애플 아이폰13 미니 128GB 미개봉 새상품 자급제 통신사 99,000원 https://cr.shopping.naver.com/adcr.nhn?x=06q5V2xI6R4CVrQywUV3Kv%2F%2F%2Fw%3D%3DsSIYt7SiRA5AdSdi23mFa%2F9WR6IjqauAHT2j5a1zwwplN4NgkrPIjlczCBjhk2dSMFfMZPvvEC7lohalmTnMOJVULZaC%2Bnx7bchww%2B%2BxpYASjdLOUHr1JEhkMjqfQgywR5Bmc1UvquiPf6FVUWnjHEcVIhUTYq2J1wF4XcKD2AOWkOA3ZateG%2FY8eKxwX1E0N315evzFfxLsZtXqo11RePhMdAeQKfOkUZYi2zdNlAsGAbCY81f975eS5nfR25FBiP83WAv8GAIoQ0MwLPWeb%2FWfkmv9krim8IQBnaem6Wq204gDBdc7qhFZroWPQH69AvX82Y5Ils9cLeBDu1LyZB%2FIcH2MV7O3Ms%2B3lt1UnLwkUIkt5M0yIil13vZMydQVHZlPNCb8kJM%2B%2FUcnhnBT43%2FNKb%2B%2BjqvZi3SHWxIDoZVIicMWpEx1YxICufuP9e1ZfCeWkBzCBgBI9INjKSrKg3L37Zn0QhAAfLVtEoP5P4zCGWSBE3AjS57Mj%2FX49VVppfhVJx%2F3OXVZ0pNVCoNAm9B3BLjwRcBTLvwRoeYF9ZEWoddt8K1aZHKfRacvu7nrouvpKvddyPa%2FAehaf%2BaNredLqwcUtrs6uPnmE6KpqdNBB0CIl3BeKsFF2drF%2B%2BsFv&nvMid=85691054634&catId=50001519\n",
      "애플 아이폰13미니 자급제 미개통 새상품 640,320원 https://cr.shopping.naver.com/adcr.nhn?x=rDSyquMfcJQsB%2FVxb%2B%2FfcP%2F%2F%2Fw%3D%3DstIjyckvvHNWbweoiZQyipyQDJ8w3WeyMPPiR703FvWqGgjNtjvRyY8TaEm3AQ5UwiQR%2Fn1uR0%2FAN8sjZbpkIiUF6FY9ielpYlpF4UkeBpWuxfzS4Ewk4JGVGSCT3oYuDCRVxym8E4W%2By0yChOfAUpli393%2FfVqWWsor6vo8eno%2BO%2FsdgQE5FIA0Tw1QMogpFhdRgv5bEx%2BIsN5T5KB%2BSe3EjqP%2FD2c1fboLSGrFn6quh%2FyhGgEr4omu%2Bu2OsvFmHq4pZA3hvtay1NdVGnhX93YrHsbeStsmJBfOvK7DA6ok7O5LM5lXhDVnwoRMSKgqZ%2FIh5NiAqprcq5QBSUDpyAAxuHr8vjNd4%2BuFGDp4U8hn73C6mnYsicPrXEz7ZEhk6SiNfeDt8lRkZEwCruTWU584CiJ2hrBzfs3DiOfsDkiXwMjxwrdlAMxQpfP%2BSTIVxKE7%2Fq%2FbwFTLGi%2BQ6DdR7a4py0qbRAw24xBOhoW66GSg%2BE4hdrJO9yQX8TJ3J6mU9OFZqtVZ2PodnM4paVJNHl3R9INs9ZpxiOekV5%2FkbMXEsvLKOoKquSfP9S0ftV2DZaMcKs%2F7ln%2BjyPCYXx7uUmgN%2BQsjK6V0FLd%2Fybx7qcubNSE3OzZUT76KyqzckASmm&nvMid=38216310769&catId=50001519\n",
      "아이폰13 프로 맥스 256G 미개봉 새상품 1,376,310원 https://cr.shopping.naver.com/adcr.nhn?x=ahhEd%2F3rd83S8BR4%2BXSd5P%2F%2F%2Fw%3D%3Dsa9j3GGSvL%2Bx8y1pCPUlWYYdkwZWMda%2FnUh4gSvMT%2BwfrlQPyQuHoHFsppYbPEdHaGOn4vQ%2F2l4nEQnUIQKxGLjkh4UJzdf0bAHSFH%2B35UsY1fry3HdsVu3LIsGQIjn58BtPd3fX482ELh4ppMIt0Y1NVcI%2F18ppt353%2FqRWzEBPXkj%2BZW%2F1lJfgqvRvZaBhRXy8WW3KBuVr00rdszITP84o9upLwcikYMecvvJuh2UACNOvRcXqWO0TRlH6W5fgwHPM431pMz92jYjbP3K3YCQez%2FY8eSma9aMvarLWce5t9s%2BsMbpdMf9BFsQ%2B0wCKUm66Gy3IakPDjYoc%2BcLmboOp2LdD%2BbxXYDmNHXbecDBkP10sTA5A4Zixzjc5jplUu%2BY4iiYI8GCJeSC31dl4j2aGjjtClkoSqwO2YYtmDB4nS9smqMQBpas540n2guvUZE%2FETdbsieqiWA%2FNwzy7vN8T4LNhk1f3YB6aFMHGZazZheu%2BFj667P%2BT1nJ8KEU41phJtL2cno0lwn9UuALg5TGU3N0kWCShHUw4vdlvoRYUf%2BteOz151x8E7B1XycyAkDfiMDnN5JujJVTq7TenadVdznR4EhPC6BI08fc6TT2xWkbDrUFJ2hBG8QaB8WVzn&nvMid=30717563179&catId=50001519\n"
     ]
    },
    {
     "name": "stdout",
     "output_type": "stream",
     "text": [
      "애플 아이폰13 미니 256GB 미개봉 새상품 자급제 통신사 280,000원 https://cr.shopping.naver.com/adcr.nhn?x=PycLPTHn1jI42%2BTZ1nxl2%2F%2F%2F%2Fw%3D%3DswrH%2F3SpvSfU0vaoGsk0AA5tvFH6rm377qtYq9GZlvsiGgjNtjvRyY8TaEm3AQ5UwYeg0NrYWhXMQsONjmEmkKEF6FY9ielpYlpF4UkeBpWuxfzS4Ewk4JGVGSCT3oYuDnVtAWrZobZNAYLLYO3j%2BpkS%2BortKzfQDWBF5GV%2FKfqEhJv3ljJo79VVIpj6%2Fm3WOOzt6Q7AVqzNEn9zz%2FWpEwwl5DBhC6JdGtEAqtKSXLt%2FDpmNu2Rs3tEPrV0ZTODsbWqyaFa2xLbpwGCJChqMDqum%2BQwBMNCuIgmvkVEvKK3Bzmvya0XEt9NKeC9ptScMkDG4evy%2BM13j64UYOnhTyGc4W2cTm1Yjamgw20LigQMR8xFiiHki%2FIAhpKNJriFwEzgKInaGsHN%2BzcOI5%2BwOSJdQtLY1EKF2uzIwLGIY3TL9da5t7S2YYsJBU1Z1eohHKu6BshnnRl5APn8rKTgd9u4cTwhCD7m5MFuO3D78CoXD6B5FUdLl%2Bxe3m8EZE%2Bb1pr1NI9O%2FoiM%2FNnQ4H%2BpKVgnR9INs9ZpxiOekV5%2FkbMXF0f3UUKwrbBDbO%2BREjT5uRiuh6HZniAxwuBCzde3xY4GkIhOFIC9T4X15tHcV2VTyFbDf4gHI5rSMJU1BWcIOg&nvMid=85691062471&catId=50001519\n",
      "[공식인증점] Apple 아이폰 13 Pro Max+ 애플케어플러스 (선택) 329,000원 https://cr.shopping.naver.com/adcr.nhn?x=n2ve6UD18LkISYj8aFl5wf%2F%2F%2Fw%3D%3Dso70cc29kCm5n2F3tlDllyHInBb5aGtbIsfpFPKfjd0KGgjNtjvRyY8TaEm3AQ5UwKpj%2FIZBRUBoAE1z4Xu%2BBm0F6FY9ielpYlpF4UkeBpWuxfzS4Ewk4JGVGSCT3oYuDnVtAWrZobZNAYLLYO3j%2BpsQfcp7YXkf%2Fu%2FXnNGbHLRRWR7fx5yQI121h3YIs%2BgYPxrgbkemE%2B9flQGh4zPwRSbB%2B4R%2FsVoqJUlqFSJI4gM4fV33pjq3o2OrBOypqdRk0NqOPGRaclpU1FVk%2Fz8jlo9s1c1%2ByZ7ysKZUkrwaBSNWrCRdUxvA177jl0VodmokhNUJnit2TyE8yh3GxJ0fiPK0i3S2z3C8jR6oLjL%2FIMaDIevS77aBxaZddHbYM39ABV36ogsAbT2GMBHUreotiQCZAkQwe9f03RLbODWzBvUbcZB%2BWpHe8Wjw5ZsRb4kPNe1GdcDC01vSQwBwWS4I03nSUOjvRbnLUBSaHUDq48AtbaC3fLLb64pEiFci74K%2BTK%2F8ye%2B%2BP0QNCGyKFBhyhpNSW2TeU4ypKFSOrU0NlNQ6b8HOx3t1XsFm%2FF8qU77%2BLf8WyF8XuBPumBqJGOrWoIzzUaLji1QUfW5FQpucBI9CGAv2xA9xguVkCJJpofd3uHi1xopTIFuhu0kJdM%2FDJwBuH9507WDBvHrc2pCiALOgOEsHC78VBLnFZh%2FnDobeN&nvMid=37547223025&catId=50001519\n",
      "아이폰 13 pro 128GB 자급제 미개봉 새상품 1,115,070원 https://cr.shopping.naver.com/adcr.nhn?x=U6hU9Y04JPESYZBjxhGZAv%2F%2F%2Fw%3D%3DshsQjejIgdVxaWV3RobQl6R59i0Aibe4UjtiKhrJ5LOFN4NgkrPIjlczCBjhk2dSMMV%2FQC7qi8rdkRy24lN6PBlULZaC%2Bnx7bchww%2B%2BxpYASjdLOUHr1JEhkMjqfQgywRtwQ3xSrxtnQXN6AHIIzn%2FKo5YEmCu22RHk6o03pGxHyr9N9rARz1GwL8SD%2B61y0rk3yUO%2FniAWltixSaTuSZ6CZAroxfgdxXCzQ%2Bd1ONLTCvidHI67N3UtNtND2%2BbLBW334rL%2BbR36BhYe0R%2FrUmjgBSTS1sRv49oBHxm%2Bxq6Hgq4EgF%2FMdpNghTKzGK%2BvTbbItZDveVdjlLAeVX0tsG1AVBqrDfpkSQP2XLHxiHJ0lNROi6jo3YiA9KAwErneMJSGvyA3Mo4deUUDeSDOc2k3jP5%2F3BQT2oo%2BBnf9E3XsC9ZRTj6jAwxDdeABDG%2FhUQInDFqRMdWMSArn7j%2FXtWX3R26cmXygepuWpxN7vMw00Uy3WPN3Zu%2BkvCBfHX2nP2EpH71mvfMohYgNbnUz%2BdY48GKY8NnA621mNyvBRyVn3WQ7gnwBqsFtWpbiQ%2B6Kup4id0m2couWqjgQxF1yhReGhopkeKUdu5q4dSKA0zkoA%3D&nvMid=32441925414&catId=50001519\n",
      "애플 아이폰13미니 iPhone13 Mini 128GB 256GB 기가 정품 734,160원 https://cr.shopping.naver.com/adcr.nhn?x=lExgGPXniIjd0sxOzHk4Uv%2F%2F%2Fw%3D%3DstIP7UZSERvnFauFeydDDfJ04x15J1U%2BxxA13NO6XympN4NgkrPIjlczCBjhk2dSM%2BljaYIbSYka4DaycSA7suVULZaC%2Bnx7bchww%2B%2BxpYASjdLOUHr1JEhkMjqfQgywRlLXfypaceW2cSILXU2Kk5Gm2qNT9s19RcV%2FLq0sLCrk%2Fw6P6PFue%2F%2FC9iDPFLjQ21oADoLevdOdgeXfj10wS4Wbh0IG482vZb5tP6dHf%2Bf%2BzyAvKYa98VOWwrfJkopfcIOlbMsuKyCmuFzgBcKIaTWhClBENmk927HICI6BGv7BxAUuG8VoVhP7AA9D9PzSwr4nRyOuzd1LTbTQ9vmywVt9%2BKy%2Fm0d%2BgYWHtEf61Jo4AUk0tbEb%2BPaAR8Zvsauh47N3LOAckHrcUhAK67Ef7aLg9sA4YKWrg9c8187Wckf%2Fqdi3Q%2Fm8V2A5jR123nAwZ2zE0wlroHVxntwwNTZzLceexVDr6QodNbYBc5oXUAFvtDu8JvuuyZFeNea60ZdipnHOchgQdb4eN3fbkUeS%2BP2BQHdpvgLdASlR8WLKDRWSBkps5ErUq138z%2FUnjFaILIyJTvKmfsmeeUkxYaFsoMBs9oo%2BXsnRqJPPsj7B3OO%2BoK9hb6o4jHvAozsAFhRdcLoIg4eUvJ%2Fu0XNDHjbs4HVgptpE9J8kiEnfhQ%2FHaK22Aj6PLHNpCKcFLT5YWjWDCxyAhEKTy%2B0Zvtn8oYxIR0Q%3D%3D&nvMid=39287963756&catId=50001519\n",
      "애플 아이폰13mini 미니 128GB / 공기계/자급제 798,000원 https://cr.shopping.naver.com/adcr.nhn?x=AjkjldfTXTs6nX%2BP2azha%2F%2F%2F%2Fw%3D%3DsUA25LSH1lvTA7aoEjzS%2Bu%2F1aPsyHow6U6WyQBwaiMmFN4NgkrPIjlczCBjhk2dSMO64td0lahbd%2BV3TiCDg4H1ULZaC%2Bnx7bchww%2B%2BxpYASjdLOUHr1JEhkMjqfQgywR5Bmc1UvquiPf6FVUWnjHEcVIhUTYq2J1wF4XcKD2AOWkOA3ZateG%2FY8eKxwX1E0NQrAJQrNpTqkWT8vcfGJC%2BxMdAeQKfOkUZYi2zdNlAsGAbCY81f975eS5nfR25FBiP83WAv8GAIoQ0MwLPWeb%2Fc2235nzkI%2BEmbRqQ9YII5yTHZUYmVPbsdUm4x9PYfuY%2F0X8gFBBhr6rnnTk5Nq2rLKHSZ4ru4PLLZatPgQbLMFIa%2FIDcyjh15RQN5IM5zaT3PNLxJzAGvtxnTWO3w%2FM6BqnCx%2BzR8R1nuSHzYL6nOJjJkhW7X0wid5FHsGOghvkFOChvrAEYCTksGcG%2FhmrIEOibiornx6q9tyXRXOH%2FvIg3QHnr6k8u5kno0HwqdFQkAlOKwPahCEyYd9E%2Blamjjsq9hLjNNPHrYNl6bVL1sTa72%2B1YJPB%2BlcVxiPW8Lly8AJYMovtQIi0mvisMlGf6IKoDr6us%2BRKRCOTdsWr9TI%3D&nvMid=85266277029&catId=50001519\n",
      "애플 아이폰13미니 256GB 미개봉 새상품 182,280원 https://cr.shopping.naver.com/adcr.nhn?x=6k9nbENbTGRR3lQSD8na%2Bv%2F%2F%2Fw%3D%3DsggKHHRnCSl4WZcL3zhvu0CU1NQyGqwCcfrnfSQXu%2BcMCYpaXrkpTZ0FTnmqeb1eB5Yj0Yp2bKC4hpybivPWATgI4OX7uLeCbjfT0Zq5h9k3nNK2999mLD4sU37D3JO6WJJHosSFnA2l3yaor5iti4NTJO8orONquYDv3WICli9sHmZR3I0lwYU2VA%2F%2Bees7P2j2s08HQvFzthCAQ1sB4Qr17%2BErSFA7qwe2%2BdyUFA6T4kqsrfAAh2VzVbQaNOFtdQ%2BD%2Fo9glb0ukJK6bM8miKArsK1DNlYuW6vX8WB7j4SkLwmLuAXDA8IlbpM52h9quJ8CJQmAWGudYalJCKAo8ZGxeDmVS9kP3MLsWL1Ykk4deB%2FQnEcG3Zg8FvAkHSZpYwCvhRKdqG%2FOW6b78Zb%2B9IPzPVCLb25OZ4ayo8d32qxUDe1d%2Bd8T8SGMRnxuHomDtq4S2UyYSnSQlj7JTM4AbZAvqet95udyQkKqCpL%2FVScgsQO1XtxbR%2Fv7m5sMcWTu%2FfDjSCEk1nuU9rqsasis%2FCBRKK6nTucECuG8Ay6UZ4ZcDtzuG%2F8wzQH1%2BTC8aP6tXztuptoqda0Zmq3X4uOzvloKoDr6us%2BRKRCOTdsWr9TI%3D&nvMid=38473415991&catId=50001519\n"
     ]
    }
   ],
   "source": [
    "#.basicList_title__VfX3c\n",
    "for item in items : \n",
    "    name = item.find_element(By.CSS_SELECTOR,'.basicList_title__VfX3c').text\n",
    "    try :\n",
    "        price = item.find_element(By.CSS_SELECTOR,\".price_price__LEGN7\").text\n",
    "    except : \n",
    "        price = '판매중단'\n",
    "    link = item.find_element(By.CSS_SELECTOR,'.basicList_title__VfX3c > a').get_attribute('href')\n",
    "    print(name,price,link)"
   ]
  },
  {
   "cell_type": "markdown",
   "id": "ecfa6d94",
   "metadata": {},
   "source": [
    "### 수집 후 DF로 저장"
   ]
  },
  {
   "cell_type": "code",
   "execution_count": 13,
   "id": "bee42be8",
   "metadata": {},
   "outputs": [],
   "source": [
    "name =[]\n",
    "price = []\n",
    "link = []"
   ]
  },
  {
   "cell_type": "code",
   "execution_count": 14,
   "id": "a3481e1d",
   "metadata": {},
   "outputs": [],
   "source": [
    "# 전체 상품 정보 추출\n",
    "items = driver.find_elements(By.CSS_SELECTOR,\".basicList_info_area__TWvzp\")"
   ]
  },
  {
   "cell_type": "code",
   "execution_count": null,
   "id": "933c231f",
   "metadata": {},
   "outputs": [],
   "source": [
    "#.price_price__LEGN7"
   ]
  },
  {
   "cell_type": "code",
   "execution_count": 15,
   "id": "1fec6e85",
   "metadata": {},
   "outputs": [],
   "source": [
    "for item in items : \n",
    "    name.append(item.find_element(By.CSS_SELECTOR,'.basicList_title__VfX3c').text)\n",
    "    try :\n",
    "        price.append(item.find_element(By.CSS_SELECTOR,\".price_price__LEGN7\").text)\n",
    "    except : \n",
    "        price.append('판매중단')\n",
    "    link.append(item.find_element(By.CSS_SELECTOR,'.basicList_title__VfX3c > a').get_attribute('href'))\n"
   ]
  },
  {
   "cell_type": "code",
   "execution_count": 16,
   "id": "d127b22c",
   "metadata": {},
   "outputs": [
    {
     "data": {
      "text/plain": [
       "(46, 46, 46)"
      ]
     },
     "execution_count": 16,
     "metadata": {},
     "output_type": "execute_result"
    }
   ],
   "source": [
    "len(name),len(price),len(link)"
   ]
  },
  {
   "cell_type": "code",
   "execution_count": 17,
   "id": "4f600e82",
   "metadata": {},
   "outputs": [
    {
     "data": {
      "text/html": [
       "<div>\n",
       "<style scoped>\n",
       "    .dataframe tbody tr th:only-of-type {\n",
       "        vertical-align: middle;\n",
       "    }\n",
       "\n",
       "    .dataframe tbody tr th {\n",
       "        vertical-align: top;\n",
       "    }\n",
       "\n",
       "    .dataframe thead th {\n",
       "        text-align: right;\n",
       "    }\n",
       "</style>\n",
       "<table border=\"1\" class=\"dataframe\">\n",
       "  <thead>\n",
       "    <tr style=\"text-align: right;\">\n",
       "      <th></th>\n",
       "      <th>품명</th>\n",
       "      <th>가격</th>\n",
       "      <th>link</th>\n",
       "    </tr>\n",
       "  </thead>\n",
       "  <tbody>\n",
       "    <tr>\n",
       "      <th>0</th>\n",
       "      <td>아이폰 13 mini 자급제 128GB 미드나이트 Apple</td>\n",
       "      <td>874,000원</td>\n",
       "      <td>https://adcr.naver.com/adcr?x=CxO4zfkTRJPWIb7V...</td>\n",
       "    </tr>\n",
       "    <tr>\n",
       "      <th>1</th>\n",
       "      <td>아이폰 13 mini 자급제 128GB 핑크 Apple</td>\n",
       "      <td>874,000원</td>\n",
       "      <td>https://adcr.naver.com/adcr?x=EGW9TIzWBA4HMhY/...</td>\n",
       "    </tr>\n",
       "    <tr>\n",
       "      <th>2</th>\n",
       "      <td>아이폰 13 mini 자급제 256GB 스타라이트 Apple</td>\n",
       "      <td>997,350원</td>\n",
       "      <td>https://adcr.naver.com/adcr?x=w9uDXNyq7jyAQb4o...</td>\n",
       "    </tr>\n",
       "    <tr>\n",
       "      <th>3</th>\n",
       "      <td>Apple 아이폰 13 256GB [자급제]</td>\n",
       "      <td>최저1,168,500원</td>\n",
       "      <td>https://cr.shopping.naver.com/adcr.nhn?x=Y1RY3...</td>\n",
       "    </tr>\n",
       "    <tr>\n",
       "      <th>4</th>\n",
       "      <td>Apple 아이폰 13 미니 128GB [자급제]</td>\n",
       "      <td>최저147,870원</td>\n",
       "      <td>https://cr.shopping.naver.com/adcr.nhn?x=lR4%2...</td>\n",
       "    </tr>\n",
       "    <tr>\n",
       "      <th>5</th>\n",
       "      <td>Apple 아이폰 13 미니 256GB [자급제]</td>\n",
       "      <td>최저997,350원</td>\n",
       "      <td>https://cr.shopping.naver.com/adcr.nhn?x=KYFCa...</td>\n",
       "    </tr>\n",
       "    <tr>\n",
       "      <th>6</th>\n",
       "      <td>Apple 아이폰 13 128GB [자급제]</td>\n",
       "      <td>최저1,057,000원</td>\n",
       "      <td>https://cr.shopping.naver.com/adcr.nhn?x=Ip4na...</td>\n",
       "    </tr>\n",
       "    <tr>\n",
       "      <th>7</th>\n",
       "      <td>Apple 아이폰 13 미니 512GB [자급제]</td>\n",
       "      <td>최저1,224,000원</td>\n",
       "      <td>https://cr.shopping.naver.com/adcr.nhn?x=1Gp1v...</td>\n",
       "    </tr>\n",
       "    <tr>\n",
       "      <th>8</th>\n",
       "      <td>Apple 아이폰 13 프로 128GB [자급제]</td>\n",
       "      <td>최저1,649,990원</td>\n",
       "      <td>https://cr.shopping.naver.com/adcr.nhn?x=3WQUm...</td>\n",
       "    </tr>\n",
       "    <tr>\n",
       "      <th>9</th>\n",
       "      <td>Apple 아이폰 13 프로 512GB [자급제]</td>\n",
       "      <td>최저1,650,000원</td>\n",
       "      <td>https://cr.shopping.naver.com/adcr.nhn?x=MhmTN...</td>\n",
       "    </tr>\n",
       "    <tr>\n",
       "      <th>10</th>\n",
       "      <td>Apple 아이폰 13 프로 1TB [자급제]</td>\n",
       "      <td>최저1,867,590원</td>\n",
       "      <td>https://cr.shopping.naver.com/adcr.nhn?x=ZrSCF...</td>\n",
       "    </tr>\n",
       "    <tr>\n",
       "      <th>11</th>\n",
       "      <td>Apple 아이폰 13 프로 256GB [자급제]</td>\n",
       "      <td>최저2,299,940원</td>\n",
       "      <td>https://cr.shopping.naver.com/adcr.nhn?x=PXB6N...</td>\n",
       "    </tr>\n",
       "    <tr>\n",
       "      <th>12</th>\n",
       "      <td>Apple 아이폰 13 프로 맥스 256GB [자급제]</td>\n",
       "      <td>최저1,963,640원</td>\n",
       "      <td>https://cr.shopping.naver.com/adcr.nhn?x=6bx8s...</td>\n",
       "    </tr>\n",
       "    <tr>\n",
       "      <th>13</th>\n",
       "      <td>Apple 아이폰 13 512GB [자급제]</td>\n",
       "      <td>최저1,319,000원</td>\n",
       "      <td>https://cr.shopping.naver.com/adcr.nhn?x=1HOUb...</td>\n",
       "    </tr>\n",
       "    <tr>\n",
       "      <th>14</th>\n",
       "      <td>Apple 아이폰 13 프로 맥스 128GB [자급제]</td>\n",
       "      <td>최저2,699,980원</td>\n",
       "      <td>https://cr.shopping.naver.com/adcr.nhn?x=NGnYM...</td>\n",
       "    </tr>\n",
       "    <tr>\n",
       "      <th>15</th>\n",
       "      <td>Apple 아이폰 13 미니 128GB [SKT]</td>\n",
       "      <td>최저10원</td>\n",
       "      <td>https://cr.shopping.naver.com/adcr.nhn?x=2e3O%...</td>\n",
       "    </tr>\n",
       "    <tr>\n",
       "      <th>16</th>\n",
       "      <td>Apple 아이폰 13 미니 128GB [LG U+]</td>\n",
       "      <td>최저10원</td>\n",
       "      <td>https://cr.shopping.naver.com/adcr.nhn?x=WA4XV...</td>\n",
       "    </tr>\n",
       "    <tr>\n",
       "      <th>17</th>\n",
       "      <td>Apple 아이폰 13 프로 맥스 1TB [자급제]</td>\n",
       "      <td>최저1,996,390원</td>\n",
       "      <td>https://cr.shopping.naver.com/adcr.nhn?x=k7PcC...</td>\n",
       "    </tr>\n",
       "    <tr>\n",
       "      <th>18</th>\n",
       "      <td>Apple 아이폰 13 프로 맥스 512GB [자급제]</td>\n",
       "      <td>최저2,246,120원</td>\n",
       "      <td>https://cr.shopping.naver.com/adcr.nhn?x=hAKZd...</td>\n",
       "    </tr>\n",
       "    <tr>\n",
       "      <th>19</th>\n",
       "      <td>Apple 아이폰 13 프로 맥스 256GB [LG U+]</td>\n",
       "      <td>최저933,000원</td>\n",
       "      <td>https://cr.shopping.naver.com/adcr.nhn?x=5z5Ud...</td>\n",
       "    </tr>\n",
       "    <tr>\n",
       "      <th>20</th>\n",
       "      <td>Apple 아이폰 13 미니 256GB [LG U+]</td>\n",
       "      <td>최저506,490원</td>\n",
       "      <td>https://cr.shopping.naver.com/adcr.nhn?x=JPI73...</td>\n",
       "    </tr>\n",
       "    <tr>\n",
       "      <th>21</th>\n",
       "      <td>Apple 아이폰 13 128GB [LG U+]</td>\n",
       "      <td>최저147,500원</td>\n",
       "      <td>https://cr.shopping.naver.com/adcr.nhn?x=WvSJG...</td>\n",
       "    </tr>\n",
       "    <tr>\n",
       "      <th>22</th>\n",
       "      <td>Apple 아이폰 13 프로 128GB [SKT]</td>\n",
       "      <td>최저1,183,100원</td>\n",
       "      <td>https://cr.shopping.naver.com/adcr.nhn?x=hNxW9...</td>\n",
       "    </tr>\n",
       "    <tr>\n",
       "      <th>23</th>\n",
       "      <td>Apple 아이폰 13 mini 자급제 128GB 그린 MNFF3KH/A</td>\n",
       "      <td>912,000원</td>\n",
       "      <td>https://adcr.naver.com/adcr?x=NsQqYjn4alRIxCue...</td>\n",
       "    </tr>\n",
       "    <tr>\n",
       "      <th>24</th>\n",
       "      <td>Apple 아이폰 13 mini 자급제 256GB 핑크</td>\n",
       "      <td>1,046,400원</td>\n",
       "      <td>https://adcr.naver.com/adcr?x=FpF0LNTRYJ8fhP7a...</td>\n",
       "    </tr>\n",
       "    <tr>\n",
       "      <th>25</th>\n",
       "      <td>Apple 아이폰 13 mini 자급제 512GB 스타라이트</td>\n",
       "      <td>1,224,000원</td>\n",
       "      <td>https://adcr.naver.com/adcr?x=ycuf42FgFwMDE7qy...</td>\n",
       "    </tr>\n",
       "    <tr>\n",
       "      <th>26</th>\n",
       "      <td>Apple 아이폰 13 프로 512GB [LG U+]</td>\n",
       "      <td>최저980,000원</td>\n",
       "      <td>https://cr.shopping.naver.com/adcr.nhn?x=8Ohee...</td>\n",
       "    </tr>\n",
       "    <tr>\n",
       "      <th>27</th>\n",
       "      <td>Apple 아이폰 13 미니 512GB [LG U+]</td>\n",
       "      <td>최저448,000원</td>\n",
       "      <td>https://cr.shopping.naver.com/adcr.nhn?x=gDiMq...</td>\n",
       "    </tr>\n",
       "    <tr>\n",
       "      <th>28</th>\n",
       "      <td>Apple 아이폰 13 256GB [LG U+]</td>\n",
       "      <td>최저270,000원</td>\n",
       "      <td>https://cr.shopping.naver.com/adcr.nhn?x=k26IP...</td>\n",
       "    </tr>\n",
       "    <tr>\n",
       "      <th>29</th>\n",
       "      <td>Apple 아이폰 13 프로 256GB [LG U+]</td>\n",
       "      <td>최저1,208,740원</td>\n",
       "      <td>https://cr.shopping.naver.com/adcr.nhn?x=6XYMF...</td>\n",
       "    </tr>\n",
       "    <tr>\n",
       "      <th>30</th>\n",
       "      <td>Apple 아이폰 13 512GB [LG U+]</td>\n",
       "      <td>최저557,000원</td>\n",
       "      <td>https://cr.shopping.naver.com/adcr.nhn?x=hiiPH...</td>\n",
       "    </tr>\n",
       "    <tr>\n",
       "      <th>31</th>\n",
       "      <td>Apple 아이폰 13 프로 128GB [LG U+]</td>\n",
       "      <td>최저1,078,590원</td>\n",
       "      <td>https://cr.shopping.naver.com/adcr.nhn?x=PZXMj...</td>\n",
       "    </tr>\n",
       "    <tr>\n",
       "      <th>32</th>\n",
       "      <td>Apple 아이폰 13 프로 맥스 512GB [LG U+]</td>\n",
       "      <td>최저1,259,180원</td>\n",
       "      <td>https://cr.shopping.naver.com/adcr.nhn?x=ijukb...</td>\n",
       "    </tr>\n",
       "    <tr>\n",
       "      <th>33</th>\n",
       "      <td>Apple 아이폰 13 프로 맥스 128GB [LG U+]</td>\n",
       "      <td>최저1,210,640원</td>\n",
       "      <td>https://cr.shopping.naver.com/adcr.nhn?x=bGZcE...</td>\n",
       "    </tr>\n",
       "    <tr>\n",
       "      <th>34</th>\n",
       "      <td>애플 아이폰13 미니 256GB 미개봉 새상품 자급제 통신사 가입</td>\n",
       "      <td>257,600원</td>\n",
       "      <td>https://cr.shopping.naver.com/adcr.nhn?x=XtfO%...</td>\n",
       "    </tr>\n",
       "    <tr>\n",
       "      <th>35</th>\n",
       "      <td>아이폰13 미니 128GB 공시기준 Apple iPhone13 128G</td>\n",
       "      <td>39,000원</td>\n",
       "      <td>https://cr.shopping.naver.com/adcr.nhn?x=ynN9L...</td>\n",
       "    </tr>\n",
       "    <tr>\n",
       "      <th>36</th>\n",
       "      <td>애플 아이폰13미니 자급제 미개통 새상품 공기계</td>\n",
       "      <td>646,080원</td>\n",
       "      <td>https://cr.shopping.naver.com/adcr.nhn?x=uU%2F...</td>\n",
       "    </tr>\n",
       "    <tr>\n",
       "      <th>37</th>\n",
       "      <td>애플 아이폰13 미니 128GB 미개봉 새상품 자급제 통신사</td>\n",
       "      <td>99,000원</td>\n",
       "      <td>https://cr.shopping.naver.com/adcr.nhn?x=06q5V...</td>\n",
       "    </tr>\n",
       "    <tr>\n",
       "      <th>38</th>\n",
       "      <td>애플 아이폰13미니 자급제 미개통 새상품</td>\n",
       "      <td>640,320원</td>\n",
       "      <td>https://cr.shopping.naver.com/adcr.nhn?x=rDSyq...</td>\n",
       "    </tr>\n",
       "    <tr>\n",
       "      <th>39</th>\n",
       "      <td>아이폰13 프로 맥스 256G 미개봉 새상품</td>\n",
       "      <td>1,376,310원</td>\n",
       "      <td>https://cr.shopping.naver.com/adcr.nhn?x=ahhEd...</td>\n",
       "    </tr>\n",
       "    <tr>\n",
       "      <th>40</th>\n",
       "      <td>애플 아이폰13 미니 256GB 미개봉 새상품 자급제 통신사</td>\n",
       "      <td>280,000원</td>\n",
       "      <td>https://cr.shopping.naver.com/adcr.nhn?x=PycLP...</td>\n",
       "    </tr>\n",
       "    <tr>\n",
       "      <th>41</th>\n",
       "      <td>[공식인증점] Apple 아이폰 13 Pro Max+ 애플케어플러스 (선택)</td>\n",
       "      <td>329,000원</td>\n",
       "      <td>https://cr.shopping.naver.com/adcr.nhn?x=n2ve6...</td>\n",
       "    </tr>\n",
       "    <tr>\n",
       "      <th>42</th>\n",
       "      <td>아이폰 13 pro 128GB 자급제 미개봉 새상품</td>\n",
       "      <td>1,115,070원</td>\n",
       "      <td>https://cr.shopping.naver.com/adcr.nhn?x=U6hU9...</td>\n",
       "    </tr>\n",
       "    <tr>\n",
       "      <th>43</th>\n",
       "      <td>애플 아이폰13미니 iPhone13 Mini 128GB 256GB 기가 정품</td>\n",
       "      <td>734,160원</td>\n",
       "      <td>https://cr.shopping.naver.com/adcr.nhn?x=lExgG...</td>\n",
       "    </tr>\n",
       "    <tr>\n",
       "      <th>44</th>\n",
       "      <td>애플 아이폰13mini 미니 128GB / 공기계/자급제</td>\n",
       "      <td>798,000원</td>\n",
       "      <td>https://cr.shopping.naver.com/adcr.nhn?x=Ajkjl...</td>\n",
       "    </tr>\n",
       "    <tr>\n",
       "      <th>45</th>\n",
       "      <td>애플 아이폰13미니 256GB 미개봉 새상품</td>\n",
       "      <td>182,280원</td>\n",
       "      <td>https://cr.shopping.naver.com/adcr.nhn?x=6k9nb...</td>\n",
       "    </tr>\n",
       "  </tbody>\n",
       "</table>\n",
       "</div>"
      ],
      "text/plain": [
       "                                            품명            가격  \\\n",
       "0            아이폰 13 mini 자급제 128GB 미드나이트 Apple      874,000원   \n",
       "1               아이폰 13 mini 자급제 128GB 핑크 Apple      874,000원   \n",
       "2            아이폰 13 mini 자급제 256GB 스타라이트 Apple      997,350원   \n",
       "3                     Apple 아이폰 13 256GB [자급제]  최저1,168,500원   \n",
       "4                  Apple 아이폰 13 미니 128GB [자급제]    최저147,870원   \n",
       "5                  Apple 아이폰 13 미니 256GB [자급제]    최저997,350원   \n",
       "6                     Apple 아이폰 13 128GB [자급제]  최저1,057,000원   \n",
       "7                  Apple 아이폰 13 미니 512GB [자급제]  최저1,224,000원   \n",
       "8                  Apple 아이폰 13 프로 128GB [자급제]  최저1,649,990원   \n",
       "9                  Apple 아이폰 13 프로 512GB [자급제]  최저1,650,000원   \n",
       "10                   Apple 아이폰 13 프로 1TB [자급제]  최저1,867,590원   \n",
       "11                 Apple 아이폰 13 프로 256GB [자급제]  최저2,299,940원   \n",
       "12              Apple 아이폰 13 프로 맥스 256GB [자급제]  최저1,963,640원   \n",
       "13                    Apple 아이폰 13 512GB [자급제]  최저1,319,000원   \n",
       "14              Apple 아이폰 13 프로 맥스 128GB [자급제]  최저2,699,980원   \n",
       "15                 Apple 아이폰 13 미니 128GB [SKT]         최저10원   \n",
       "16               Apple 아이폰 13 미니 128GB [LG U+]         최저10원   \n",
       "17                Apple 아이폰 13 프로 맥스 1TB [자급제]  최저1,996,390원   \n",
       "18              Apple 아이폰 13 프로 맥스 512GB [자급제]  최저2,246,120원   \n",
       "19            Apple 아이폰 13 프로 맥스 256GB [LG U+]    최저933,000원   \n",
       "20               Apple 아이폰 13 미니 256GB [LG U+]    최저506,490원   \n",
       "21                  Apple 아이폰 13 128GB [LG U+]    최저147,500원   \n",
       "22                 Apple 아이폰 13 프로 128GB [SKT]  최저1,183,100원   \n",
       "23    Apple 아이폰 13 mini 자급제 128GB 그린 MNFF3KH/A      912,000원   \n",
       "24              Apple 아이폰 13 mini 자급제 256GB 핑크    1,046,400원   \n",
       "25           Apple 아이폰 13 mini 자급제 512GB 스타라이트    1,224,000원   \n",
       "26               Apple 아이폰 13 프로 512GB [LG U+]    최저980,000원   \n",
       "27               Apple 아이폰 13 미니 512GB [LG U+]    최저448,000원   \n",
       "28                  Apple 아이폰 13 256GB [LG U+]    최저270,000원   \n",
       "29               Apple 아이폰 13 프로 256GB [LG U+]  최저1,208,740원   \n",
       "30                  Apple 아이폰 13 512GB [LG U+]    최저557,000원   \n",
       "31               Apple 아이폰 13 프로 128GB [LG U+]  최저1,078,590원   \n",
       "32            Apple 아이폰 13 프로 맥스 512GB [LG U+]  최저1,259,180원   \n",
       "33            Apple 아이폰 13 프로 맥스 128GB [LG U+]  최저1,210,640원   \n",
       "34        애플 아이폰13 미니 256GB 미개봉 새상품 자급제 통신사 가입      257,600원   \n",
       "35     아이폰13 미니 128GB 공시기준 Apple iPhone13 128G       39,000원   \n",
       "36                  애플 아이폰13미니 자급제 미개통 새상품 공기계      646,080원   \n",
       "37           애플 아이폰13 미니 128GB 미개봉 새상품 자급제 통신사       99,000원   \n",
       "38                      애플 아이폰13미니 자급제 미개통 새상품      640,320원   \n",
       "39                    아이폰13 프로 맥스 256G 미개봉 새상품    1,376,310원   \n",
       "40           애플 아이폰13 미니 256GB 미개봉 새상품 자급제 통신사      280,000원   \n",
       "41  [공식인증점] Apple 아이폰 13 Pro Max+ 애플케어플러스 (선택)      329,000원   \n",
       "42                아이폰 13 pro 128GB 자급제 미개봉 새상품    1,115,070원   \n",
       "43  애플 아이폰13미니 iPhone13 Mini 128GB 256GB 기가 정품      734,160원   \n",
       "44             애플 아이폰13mini 미니 128GB / 공기계/자급제      798,000원   \n",
       "45                    애플 아이폰13미니 256GB 미개봉 새상품      182,280원   \n",
       "\n",
       "                                                 link  \n",
       "0   https://adcr.naver.com/adcr?x=CxO4zfkTRJPWIb7V...  \n",
       "1   https://adcr.naver.com/adcr?x=EGW9TIzWBA4HMhY/...  \n",
       "2   https://adcr.naver.com/adcr?x=w9uDXNyq7jyAQb4o...  \n",
       "3   https://cr.shopping.naver.com/adcr.nhn?x=Y1RY3...  \n",
       "4   https://cr.shopping.naver.com/adcr.nhn?x=lR4%2...  \n",
       "5   https://cr.shopping.naver.com/adcr.nhn?x=KYFCa...  \n",
       "6   https://cr.shopping.naver.com/adcr.nhn?x=Ip4na...  \n",
       "7   https://cr.shopping.naver.com/adcr.nhn?x=1Gp1v...  \n",
       "8   https://cr.shopping.naver.com/adcr.nhn?x=3WQUm...  \n",
       "9   https://cr.shopping.naver.com/adcr.nhn?x=MhmTN...  \n",
       "10  https://cr.shopping.naver.com/adcr.nhn?x=ZrSCF...  \n",
       "11  https://cr.shopping.naver.com/adcr.nhn?x=PXB6N...  \n",
       "12  https://cr.shopping.naver.com/adcr.nhn?x=6bx8s...  \n",
       "13  https://cr.shopping.naver.com/adcr.nhn?x=1HOUb...  \n",
       "14  https://cr.shopping.naver.com/adcr.nhn?x=NGnYM...  \n",
       "15  https://cr.shopping.naver.com/adcr.nhn?x=2e3O%...  \n",
       "16  https://cr.shopping.naver.com/adcr.nhn?x=WA4XV...  \n",
       "17  https://cr.shopping.naver.com/adcr.nhn?x=k7PcC...  \n",
       "18  https://cr.shopping.naver.com/adcr.nhn?x=hAKZd...  \n",
       "19  https://cr.shopping.naver.com/adcr.nhn?x=5z5Ud...  \n",
       "20  https://cr.shopping.naver.com/adcr.nhn?x=JPI73...  \n",
       "21  https://cr.shopping.naver.com/adcr.nhn?x=WvSJG...  \n",
       "22  https://cr.shopping.naver.com/adcr.nhn?x=hNxW9...  \n",
       "23  https://adcr.naver.com/adcr?x=NsQqYjn4alRIxCue...  \n",
       "24  https://adcr.naver.com/adcr?x=FpF0LNTRYJ8fhP7a...  \n",
       "25  https://adcr.naver.com/adcr?x=ycuf42FgFwMDE7qy...  \n",
       "26  https://cr.shopping.naver.com/adcr.nhn?x=8Ohee...  \n",
       "27  https://cr.shopping.naver.com/adcr.nhn?x=gDiMq...  \n",
       "28  https://cr.shopping.naver.com/adcr.nhn?x=k26IP...  \n",
       "29  https://cr.shopping.naver.com/adcr.nhn?x=6XYMF...  \n",
       "30  https://cr.shopping.naver.com/adcr.nhn?x=hiiPH...  \n",
       "31  https://cr.shopping.naver.com/adcr.nhn?x=PZXMj...  \n",
       "32  https://cr.shopping.naver.com/adcr.nhn?x=ijukb...  \n",
       "33  https://cr.shopping.naver.com/adcr.nhn?x=bGZcE...  \n",
       "34  https://cr.shopping.naver.com/adcr.nhn?x=XtfO%...  \n",
       "35  https://cr.shopping.naver.com/adcr.nhn?x=ynN9L...  \n",
       "36  https://cr.shopping.naver.com/adcr.nhn?x=uU%2F...  \n",
       "37  https://cr.shopping.naver.com/adcr.nhn?x=06q5V...  \n",
       "38  https://cr.shopping.naver.com/adcr.nhn?x=rDSyq...  \n",
       "39  https://cr.shopping.naver.com/adcr.nhn?x=ahhEd...  \n",
       "40  https://cr.shopping.naver.com/adcr.nhn?x=PycLP...  \n",
       "41  https://cr.shopping.naver.com/adcr.nhn?x=n2ve6...  \n",
       "42  https://cr.shopping.naver.com/adcr.nhn?x=U6hU9...  \n",
       "43  https://cr.shopping.naver.com/adcr.nhn?x=lExgG...  \n",
       "44  https://cr.shopping.naver.com/adcr.nhn?x=Ajkjl...  \n",
       "45  https://cr.shopping.naver.com/adcr.nhn?x=6k9nb...  "
      ]
     },
     "execution_count": 17,
     "metadata": {},
     "output_type": "execute_result"
    }
   ],
   "source": [
    "pd.DataFrame({'품명':name,'가격':price,'link':link})"
   ]
  },
  {
   "cell_type": "code",
   "execution_count": null,
   "id": "65f109f6",
   "metadata": {},
   "outputs": [],
   "source": []
  }
 ],
 "metadata": {
  "kernelspec": {
   "display_name": "Python 3 (ipykernel)",
   "language": "python",
   "name": "python3"
  },
  "language_info": {
   "codemirror_mode": {
    "name": "ipython",
    "version": 3
   },
   "file_extension": ".py",
   "mimetype": "text/x-python",
   "name": "python",
   "nbconvert_exporter": "python",
   "pygments_lexer": "ipython3",
   "version": "3.9.12"
  }
 },
 "nbformat": 4,
 "nbformat_minor": 5
}
