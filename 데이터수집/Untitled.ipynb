{
 "cells": [
  {
   "cell_type": "code",
   "execution_count": 2,
   "id": "8b3b8dd1",
   "metadata": {},
   "outputs": [],
   "source": [
    "import requests\n",
    "import pandas as pd"
   ]
  },
  {
   "cell_type": "code",
   "execution_count": 3,
   "id": "1d74bc66",
   "metadata": {},
   "outputs": [],
   "source": [
    "# 스크린 수 조회 API"
   ]
  },
  {
   "cell_type": "code",
   "execution_count": 6,
   "id": "d59ced09",
   "metadata": {},
   "outputs": [],
   "source": [
    "key = '97e818437c28d8074ea850b68c21e8a2'\n",
    "url = 'http://www.kobis.or.kr/kobisopenapi/webservice/rest/movie/searchMovieList.xml' "
   ]
  },
  {
   "cell_type": "code",
   "execution_count": null,
   "id": "3cf7f0c1",
   "metadata": {},
   "outputs": [],
   "source": []
  }
 ],
 "metadata": {
  "kernelspec": {
   "display_name": "Python 3 (ipykernel)",
   "language": "python",
   "name": "python3"
  },
  "language_info": {
   "codemirror_mode": {
    "name": "ipython",
    "version": 3
   },
   "file_extension": ".py",
   "mimetype": "text/x-python",
   "name": "python",
   "nbconvert_exporter": "python",
   "pygments_lexer": "ipython3",
   "version": "3.9.12"
  }
 },
 "nbformat": 4,
 "nbformat_minor": 5
}
