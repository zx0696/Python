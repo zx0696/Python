{
 "cells": [
  {
   "cell_type": "markdown",
   "id": "ea95c738",
   "metadata": {},
   "source": [
    "#### selenium 패키지 모듈 이용한 자동 크롤링\n",
    "- selenium\n",
    "    - webdriver라는 API를 통해 운영체제에 설치된 웹 브라우저를 제어하는 함수를 포함한 패키지\n",
    "    - 써드파티라이브러리이기 때문에 설치 해 줘야 함\n",
    "    - prompt 에서 설치\n",
    "        -!pip install selenium"
   ]
  },
  {
   "cell_type": "code",
   "execution_count": 4,
   "id": "f4e8b2cf",
   "metadata": {
    "collapsed": true
   },
   "outputs": [
    {
     "name": "stdout",
     "output_type": "stream",
     "text": [
      "Requirement already satisfied: selenium in c:\\users\\82107\\anaconda3\\lib\\site-packages (4.8.0)\n",
      "Requirement already satisfied: urllib3[socks]~=1.26 in c:\\users\\82107\\anaconda3\\lib\\site-packages (from selenium) (1.26.9)\n",
      "Requirement already satisfied: certifi>=2021.10.8 in c:\\users\\82107\\anaconda3\\lib\\site-packages (from selenium) (2021.10.8)\n",
      "Requirement already satisfied: trio~=0.17 in c:\\users\\82107\\anaconda3\\lib\\site-packages (from selenium) (0.22.0)\n",
      "Requirement already satisfied: trio-websocket~=0.9 in c:\\users\\82107\\anaconda3\\lib\\site-packages (from selenium) (0.9.2)\n",
      "Requirement already satisfied: exceptiongroup>=1.0.0rc9 in c:\\users\\82107\\anaconda3\\lib\\site-packages (from trio~=0.17->selenium) (1.1.0)\n",
      "Requirement already satisfied: sniffio in c:\\users\\82107\\anaconda3\\lib\\site-packages (from trio~=0.17->selenium) (1.2.0)\n",
      "Requirement already satisfied: idna in c:\\users\\82107\\anaconda3\\lib\\site-packages (from trio~=0.17->selenium) (3.3)\n",
      "Requirement already satisfied: outcome in c:\\users\\82107\\anaconda3\\lib\\site-packages (from trio~=0.17->selenium) (1.2.0)\n",
      "Requirement already satisfied: attrs>=19.2.0 in c:\\users\\82107\\anaconda3\\lib\\site-packages (from trio~=0.17->selenium) (21.4.0)\n",
      "Requirement already satisfied: cffi>=1.14 in c:\\users\\82107\\anaconda3\\lib\\site-packages (from trio~=0.17->selenium) (1.15.0)\n",
      "Requirement already satisfied: async-generator>=1.9 in c:\\users\\82107\\anaconda3\\lib\\site-packages (from trio~=0.17->selenium) (1.10)\n",
      "Requirement already satisfied: sortedcontainers in c:\\users\\82107\\anaconda3\\lib\\site-packages (from trio~=0.17->selenium) (2.4.0)\n",
      "Requirement already satisfied: pycparser in c:\\users\\82107\\anaconda3\\lib\\site-packages (from cffi>=1.14->trio~=0.17->selenium) (2.21)\n",
      "Requirement already satisfied: wsproto>=0.14 in c:\\users\\82107\\anaconda3\\lib\\site-packages (from trio-websocket~=0.9->selenium) (1.2.0)\n",
      "Requirement already satisfied: PySocks!=1.5.7,<2.0,>=1.5.6 in c:\\users\\82107\\anaconda3\\lib\\site-packages (from urllib3[socks]~=1.26->selenium) (1.7.1)\n",
      "Requirement already satisfied: h11<1,>=0.9.0 in c:\\users\\82107\\anaconda3\\lib\\site-packages (from wsproto>=0.14->trio-websocket~=0.9->selenium) (0.14.0)\n"
     ]
    }
   ],
   "source": [
    "# !pip install selenium"
   ]
  },
  {
   "cell_type": "code",
   "execution_count": 35,
   "id": "231d6082",
   "metadata": {},
   "outputs": [],
   "source": [
    "import selenium\n",
    "from selenium import webdriver\n",
    "import pandas as pd\n",
    "import numpy as np\n",
    "from bs4 import BeautifulSoup\n",
    "from selenium.webdriver.common.by import By # 셀레니움 4.0부터 포함된 객체 (모듈)"
   ]
  },
  {
   "cell_type": "markdown",
   "id": "9c4cdf10",
   "metadata": {},
   "source": [
    "- selenium은 브라우저를 컨트롤하는 기능이기 때문에 webdriver 프로그램을 사용\n",
    "    - webdriver는 브라우저 종류에 따라 브라우저 제작 업체에서 제공\n",
    "    \n",
    "### 크롬드라이버 다운로드\n",
    "- https://chromedriver.chromium.org/downloads\n",
    "\n",
    "### 크롬 버전 확인\n",
    "- 메뉴 - 도움말 - 크롬정보"
   ]
  },
  {
   "cell_type": "markdown",
   "id": "312eec17",
   "metadata": {},
   "source": [
    "- **공식site : https://www.selenium.dev/documentation/webdriver/getting_started/upgrade_to_selenium_4/**\n",
    " - By 모듈 파라미터 변경 after By.xxx는 아래 함수를 참고"
   ]
  },
  {
   "cell_type": "markdown",
   "id": "6e7a8f28",
   "metadata": {},
   "source": [
    "### 관련 메서드\n",
    "- 드라이버 객체 생성\n",
    "    - webdriver.브라우저명(드라이버가 저장된 경로)\n",
    "    - driver = webdriver.Chrome('./driver/chromedriver')\n",
    "- 드라이버객체.get() : url에 요청 메서드 (소스반환)\n",
    "\n",
    "- findElement() : 코드에서 조건에 맞는 태그객체 중 처음 나오는 태그객체(find)\n",
    "- findElement() : 코드에서 조건에 맞는 모든 태그객체(findAll)\n",
    "\n",
    "- 조건 생성\n",
    "    - from selenium.webdriver.common.by import By\n",
    "    - By.xxx 객체 \n",
    "    \n",
    "    - driver.find_element(By.CLASS_NAME, \"information\")\n",
    "    - driver.find_element(By.CSS_SELECTOR, \"#fname\")\n",
    "    - driver.find_element(By.ID, \"lname\")\n",
    "    - driver.find_element(By.LINK_TEXT, \"Selenium Official Page\")\n",
    "    - driver.find_element(By.NAME, \"newsletter\")\n",
    "    - driver.find_element(By.PARTIAL_LINK_TEXT, \"Official Page\")\n",
    "    - driver.find_element(By.TAG_NAME, \"a\")\n",
    "    - driver.find_element(By.XPATH, \"//input[@value='f']\")\n",
    " \n",
    "- driver가 접근한 페이지의 source 추출 \n",
    "    - html = driver.page_source"
   ]
  },
  {
   "cell_type": "code",
   "execution_count": 36,
   "id": "bd9a2b90",
   "metadata": {},
   "outputs": [
    {
     "name": "stderr",
     "output_type": "stream",
     "text": [
      "C:\\Users\\82107\\AppData\\Local\\Temp\\ipykernel_24700\\2626587678.py:2: DeprecationWarning: executable_path has been deprecated, please pass in a Service object\n",
      "  driver = webdriver.Chrome('./driver/chromedriver') # driver가 저장되어 있는 경로\n"
     ]
    }
   ],
   "source": [
    "# 1.webdriver 객체 생성\n",
    "driver = webdriver.Chrome('./driver/chromedriver') # driver가 저장되어 있는 경로 "
   ]
  },
  {
   "cell_type": "code",
   "execution_count": 37,
   "id": "b628f15f",
   "metadata": {},
   "outputs": [],
   "source": [
    "url = 'https://map.naver.com'\n",
    "driver.get(url)"
   ]
  },
  {
   "cell_type": "code",
   "execution_count": 38,
   "id": "0072aaed",
   "metadata": {},
   "outputs": [
    {
     "data": {
      "text/plain": [
       "True"
      ]
     },
     "execution_count": 38,
     "metadata": {},
     "output_type": "execute_result"
    }
   ],
   "source": [
    "# driver 통해 화면 캡처\n",
    "driver.save_screenshot('./crawl_data/sshot.png')"
   ]
  },
  {
   "cell_type": "code",
   "execution_count": 39,
   "id": "7a8fc35a",
   "metadata": {},
   "outputs": [],
   "source": [
    "driver.close()"
   ]
  },
  {
   "cell_type": "markdown",
   "id": "6c8e20af",
   "metadata": {},
   "source": [
    "## 동적 로그인 진행"
   ]
  },
  {
   "cell_type": "code",
   "execution_count": 40,
   "id": "b573b77e",
   "metadata": {},
   "outputs": [
    {
     "name": "stderr",
     "output_type": "stream",
     "text": [
      "C:\\Users\\82107\\AppData\\Local\\Temp\\ipykernel_24700\\3579331920.py:2: DeprecationWarning: executable_path has been deprecated, please pass in a Service object\n",
      "  driver =  webdriver.Chrome('./driver/chromedriver') # driver가 저장되어 있는 경로\n"
     ]
    }
   ],
   "source": [
    "# 1.webdriver 객체 생성\n",
    "driver =  webdriver.Chrome('./driver/chromedriver') # driver가 저장되어 있는 경로 "
   ]
  },
  {
   "cell_type": "code",
   "execution_count": 41,
   "id": "b698e537",
   "metadata": {},
   "outputs": [],
   "source": [
    "#페이지 접근\n",
    "url = 'https://nid.naver.com/nidlogin.login?mode=form&url=https%3A%2F%2Fwww.naver.com'\n",
    "driver.get(url)"
   ]
  },
  {
   "cell_type": "code",
   "execution_count": 42,
   "id": "0bb976f0",
   "metadata": {},
   "outputs": [],
   "source": [
    "# id 입력박스 객체 찾기\n",
    "id_elem = driver.find_element(By.ID, 'id')"
   ]
  },
  {
   "cell_type": "code",
   "execution_count": 43,
   "id": "58eaaf6a",
   "metadata": {},
   "outputs": [
    {
     "data": {
      "text/plain": [
       "selenium.webdriver.remote.webelement.WebElement"
      ]
     },
     "execution_count": 43,
     "metadata": {},
     "output_type": "execute_result"
    }
   ],
   "source": [
    "type(id_elem)"
   ]
  },
  {
   "cell_type": "code",
   "execution_count": 44,
   "id": "86d47e6c",
   "metadata": {},
   "outputs": [],
   "source": [
    "id_elem.clear()# 기존 data 삭제\n",
    "# id 값 전달 : element 객체.send_keys(값)\n",
    "id_elem.send_keys('test')"
   ]
  },
  {
   "cell_type": "code",
   "execution_count": 45,
   "id": "328e05b9",
   "metadata": {},
   "outputs": [],
   "source": [
    "# 패스워드\n",
    "#//*[@id='pw']\n",
    "xpath = '//*[@id=\"pw\"]'\n",
    "pw_elem = driver.find_element(By.XPATH, xpath)"
   ]
  },
  {
   "cell_type": "code",
   "execution_count": 46,
   "id": "ac2a742f",
   "metadata": {},
   "outputs": [],
   "source": [
    "pw_elem.send_keys('test')"
   ]
  },
  {
   "cell_type": "code",
   "execution_count": 47,
   "id": "91292e90",
   "metadata": {},
   "outputs": [],
   "source": [
    "# 로그인 버튼 클릭\n",
    "# //*[@id=\"log.login\"]\n",
    "xpath = '//*[@id=\"log.login\"]'\n",
    "driver.find_element(By.XPATH, xpath).click() # 클릭 이벤트 발생"
   ]
  },
  {
   "cell_type": "code",
   "execution_count": null,
   "id": "693974a5",
   "metadata": {},
   "outputs": [],
   "source": [
    "driver.close()"
   ]
  },
  {
   "cell_type": "markdown",
   "id": "e987df51",
   "metadata": {},
   "source": [
    "-  자동입력 방지 문자가 나타남 \n",
    "-  send_keys()함수 사용 - 봇으로 인식 \n",
    "-  해결방법 : 자바스크립트 함수로 진행"
   ]
  },
  {
   "cell_type": "markdown",
   "id": "d1ef10c1",
   "metadata": {},
   "source": [
    "### webdriver  통해 script 코드 직접 실행\n",
    "- driver.execute_script(자바스크립트 코드)\n",
    "- 자바스크립트 코드 생성\n",
    "- document.getElementsByName('id')[0].value= id값\n",
    "- document.getElementsByName('pw')[0].value= pw값"
   ]
  },
  {
   "cell_type": "code",
   "execution_count": 63,
   "id": "289772eb",
   "metadata": {},
   "outputs": [
    {
     "name": "stderr",
     "output_type": "stream",
     "text": [
      "C:\\Users\\82107\\AppData\\Local\\Temp\\ipykernel_24700\\3767184447.py:2: DeprecationWarning: executable_path has been deprecated, please pass in a Service object\n",
      "  driver = webdriver.Chrome('./driver/chromedriver')\n"
     ]
    }
   ],
   "source": [
    "# 자동입력 방지 문자 우회하기위해 브라우저 종료 후 다시 접속\n",
    "driver = webdriver.Chrome('./driver/chromedriver')\n",
    "url ='https://nid.naver.com/nidlogin.login' \n",
    "driver.get(url)"
   ]
  },
  {
   "cell_type": "code",
   "execution_count": 64,
   "id": "ada4e61d",
   "metadata": {},
   "outputs": [],
   "source": [
    "id_input = 'zx0696'\n",
    "pw_input = 'dltjddyd74!'"
   ]
  },
  {
   "cell_type": "code",
   "execution_count": 66,
   "id": "8ada3be9",
   "metadata": {},
   "outputs": [],
   "source": [
    "driver.execute_script(\"document.getElementsByName('id')[0].value=\\'\" + id_input+\"\\'\")\n"
   ]
  },
  {
   "cell_type": "code",
   "execution_count": 65,
   "id": "cf6443c5",
   "metadata": {},
   "outputs": [],
   "source": [
    "driver.execute_script(\"document.getElementsByName('pw')[0].value=\\'\" + pw_input+\"\\'\")"
   ]
  },
  {
   "cell_type": "code",
   "execution_count": 67,
   "id": "4b57f8ca",
   "metadata": {},
   "outputs": [],
   "source": [
    "# 로그인 버튼 클릭\n",
    "xpath='//*[@id=\"log.login\"]'\n",
    "#로그인 버튼을 찾아서 클릭\n",
    "driver.find_element(By.XPATH, xpath).click() # 셀레니움 클릭함수"
   ]
  },
  {
   "cell_type": "code",
   "execution_count": 68,
   "id": "b5d38a9f",
   "metadata": {},
   "outputs": [],
   "source": [
    "# 메일 페이지로 접근\n",
    "driver.get('http://mail.naver.com')"
   ]
  },
  {
   "cell_type": "code",
   "execution_count": 69,
   "id": "ed2664bd",
   "metadata": {},
   "outputs": [],
   "source": [
    "html = driver.page_source"
   ]
  },
  {
   "cell_type": "code",
   "execution_count": 70,
   "id": "2bd9478d",
   "metadata": {},
   "outputs": [],
   "source": [
    "soup = BeautifulSoup(html,'html.parser')"
   ]
  },
  {
   "cell_type": "code",
   "execution_count": 71,
   "id": "ac04a0f0",
   "metadata": {},
   "outputs": [
    {
     "data": {
      "text/plain": [
       "<html class=\"pc win\"><head lang=\"ko\"><meta charset=\"utf-8\"/><meta content=\"width=device-width,initial-scale=1,maximum-scale=1,minimum-scale=1,viewport-fit=cover\" name=\"viewport\"/><title>받은메일함(713) : 네이버 메일</title><link href=\"/favicon.ico\" rel=\"shortcut icon\" type=\"image/x-icon\"/><link href=\"https://ssl.pstatic.net/static/pwe/naver_mail/hdpi_72X72.png\" rel=\"apple-touch-icon-precomposed\" sizes=\"72x72\"/><link href=\"https://ssl.pstatic.net/static/pwe/naver_mail/xhdpi_96x96.png\" rel=\"apple-touch-icon-precomposed\" sizes=\"96x96\"/><link href=\"https://ssl.pstatic.net/static/pwe/naver_mail/xxhpdi_144x144.png\" rel=\"apple-touch-icon-precomposed\" sizes=\"144x144\"/><link href=\"https://ssl.pstatic.net/static/pwe/naver_mail/xxxhpdi_192x192.png\" rel=\"apple-touch-icon-precomposed\" sizes=\"192x192\"/><script>window.nhn = {};\n",
       "      window.gnb_option = {\n",
       "        gnb_service: \"mail\",\n",
       "        gnb_template: \"gnb_utf8\",\n",
       "        gnb_logout: \"https://www.naver.com\",\n",
       "        gnb_one_naver: 1,\n",
       "        gnb_item_hide_option: 8,\n",
       "        gnb_one_flat: 1,\n",
       "        gnb_one_pwe: 1\n",
       "      };</script><script src=\"https://ssl.pstatic.net/tveta/libs/glad/prod/gfp-core.js\"></script><script async=\"\" charset=\"utf-8\" src=\"https://ssl.pstatic.net/tveta/libs/glad/prod/2.12.1/gfp-sdk.js\" type=\"text/javascript\"></script><script>window.gladsdk = window.gladsdk || { cmd: [] };</script><script async=\"\" src=\"/builds/v2/libs/jindo.js\"></script><script src=\"/builds/v2/libs/es6-shim.js\"></script><script src=\"/builds/v2/libs/lcslog_v0.14.0.js\"></script><script async=\"\" src=\"/builds/v2/libs/site-translator_v3.0.6.js\"></script><script async=\"\" src=\"/builds/v2/libs/nclk_v0.8.1.js\"></script><link href=\"/builds/v2/css/index.56706cf.css\" rel=\"stylesheet\"/><script defer=\"defer\" src=\"/builds/v2/js/runtime.56706cf.js\"></script><script defer=\"defer\" src=\"/builds/v2/js/vendor.56706cf.js\"></script><script defer=\"defer\" src=\"/builds/v2/js/app.56706cf.js\"></script><link as=\"script\" href=\"/builds/v2/js/clli.56706cf.js\" rel=\"prefetch\"/><link as=\"script\" href=\"/builds/v2/js/wrtedtr.56706cf.js\" rel=\"prefetch\"/><link as=\"script\" href=\"/builds/v2/js/wlli.56706cf.js\" rel=\"prefetch\"/><link as=\"script\" href=\"/builds/v2/js/mwdli.56706cf.js\" rel=\"prefetch\"/><style id=\"gnb_style\" type=\"text/css\">@charset \"UTF-8\";\n",
       "/* NTS UIT Development Office YJH 140717 */\n",
       "a.gnb_my, .gnb_icon, #gnb .gnb_my_interface, .gnb_my_li .gnb_my_content .gnb_membership, #gnb .gnb_ico_num .gnb_ico_new, #gnb .gnb_ico_num .gnb_ico_new .gnb_count, .gnb_lst .ico_arrow, a.gnb_my .filter_mask, .gnb_my_lyr, .gnb_my_li .gnb_my_content .gnb_mask, .gnb_my_li .gnb_my_content .gnb_edit_lst li, .gnb_notice_li .gnb_notice_lyr, .gnb_notice_li .svc_list .gnb_ico_mail, .gnb_notice_li .svc_list .gnb_btn_remove span, .gnb_notice_li .svc_list .gnb_btn_remove i, .gnb_notice_li .gnb_error .gnb_ico_error, .gnb_ly_alert .gnb_btn_close i, .gnb_first_visit, .gnb_search_box, .gnb_search_box .gnb_del_txt, .gnb_svc_more .gnb_svc_lstwrp li.gnb_event em.ic_gnb_new, .gnb_svc_more .svc_btnwrp button { background: url(https://ssl.pstatic.net/static/common/gnb/one/sp_gnb_v14.png) no-repeat -999px -999px;\t\tbackground: url(https://ssl.pstatic.net/static/common/gnb/one/sp_gnb_v15.png?v=2006) no-repeat -999px -999px; /* background: url(../img/sp_gnb_v15.png) no-repeat -999px -999px; */}\n",
       ".gnb_favorite_area, .gnb_search_area, .gnb_banner, .gnb_linkwrp{background:url(https://ssl.pstatic.net/static/common/gnb/2014/bg_svclyr2_v2.png) no-repeat -999px -999px}\n",
       "#gnb .gnb_my_li .gnb_my_community a, .gnb_notice_li .gnb_notice_all, a.gnb_service_all, .gnb_svc_more .svc_btns{display:block;height:38px;border-top:1px solid #ebebeb;background-color:#f8f8f8;text-align:center;font-weight:bold;text-decoration:none;letter-spacing:-1px;line-height:38px}\n",
       "#gnb .gnb_my_li .gnb_my_community a:visited, .gnb_notice_li .gnb_notice_all:visited, a.gnb_service_all:visited, .gnb_svc_more .svc_btns:visited{color:#444}\n",
       ".gnb_login_li, .gnb_my_li, .gnb_notice_li, .mail_li, .gnb_service_li{float:left;margin-right:2px;overflow:visible}\n",
       ".gnb_login_li a, .gnb_my_li a, .gnb_notice_li a, .mail_li a, .gnb_service_li a{position:relative;z-index:100}\n",
       "a.gnb_my, .gnb_icon{position:relative}\n",
       "#gnb{position:relative;z-index:2147483646;font-family:'나눔고딕',NanumGothic,'돋움',Dotum,'Apple SD Gothic Neo',Helvetica,Sans-serif !important;color:#444;font-size:12px;letter-spacing:0 !important;line-height:normal !important;text-align:left !important}\n",
       "#gnb div, #gnb p, #gnb span, #gnb em, #gnb strong, #gnb h1, #gnb h2, #gnb h3, #gnb h4, #gnb h5, #gnb h6, #gnb ul, #gnb ol, #gnb li, #gnb dl, #gnb dt, #gnb dd, #gnb table, #gnb th, #gnb td, #gnb form, #gnb fieldset, #gnb legend, #gnb input, #gnb textarea, #gnb button, #gnb label{font-family:'나눔고딕',NanumGothic,'돋움',Dotum,'Apple SD Gothic Neo',Helvetica,Sans-serif !important}\n",
       "#gnb a, #gnb label, #gnb button{cursor:pointer}\n",
       "#gnb a, #gnb a:visited, #gnb a:active, #gnb a:focus{color:#444}\n",
       "#gnb a:hover{color:#444;text-decoration:underline;vertical-align: baseline;}\n",
       "#gnb input::-ms-clear{display:none}\n",
       "#gnb em{font-style:normal}\n",
       "#gnb ul{list-style:none}\n",
       "#gnb .blind{display:block;overflow:hidden;position:absolute;top:-1000em;left:0;width:1px;height:1px;margin:0;padding:0;font-size:0;line-height:0}\n",
       "#gnb .gnb_my_membership{padding: 0;display: block;width: 64px;height: 16px;background: url(https://ssl.pstatic.net/static/common/gnb/one/ico_gnb_membership.png) no-repeat; background-size: 64px 16px;margin: 0;}\n",
       "#gnb .gnb_my_interface{padding:5px;position:absolute;top:12px;right:8px;display:block;width:17px;height:16px;background-position:-90px 5px}\n",
       "#gnb .gnb_my_interface:hover{background-position:-90px -20px}\n",
       "#gnb .gnb_my_interface:focus{background-position:-90px -20px}\n",
       "#gnb .gnb_pad_lyr{position:absolute}\n",
       "#gnb .gnb_ico_num{display:block;position:absolute;top:1px;width:40px;text-align:center}\n",
       "#gnb .gnb_ico_num .gnb_ico_new{height:15px;display:inline-block;background-position: -331px 0;zoom:1}\n",
       "#gnb .gnb_ico_num .gnb_ico_new .gnb_count{position:relative;top:0;right:-5px;height:15px;margin:0;padding:0 4px 0 1px;display:inline-block;*display:inline;vertical-align:top;background-position: 100% 0;text-indent:-2px;font-family:tahoma !important;font-weight:bold;color:#fff;zoom:1}\n",
       "#gnb .gnb_ico_num .gnb_ico_new .plus{margin:1px -1px 0 2px;font-size:8px;display:inline-block;color:#fff;vertical-align:top}\n",
       ":root #gnb .gnb_pad_lyr{opacity:1 !important;/* background:#fff */}\n",
       ".gnb_lst{margin:0;padding:0;zoom:1}\n",
       ".gnb_lst:after{display:block;clear:both;content:''}\n",
       ".gnb_lst ul{margin:0;padding:0}\n",
       ".gnb_lst .ico_arrow{display:none;position:absolute;left:50%;top:27px;width:10px;height:8px;margin-left:-5px;background-position:-175px -10px}\n",
       ".gnb_lyr_opened .gnb_my_lyr, .gnb_lyr_opened .gnb_service_lyr, .gnb_lyr_opened .gnb_notice_lyr, .gnb_lyr_opened .ico_arrow{display:block !important}\n",
       ".gnb_login_li{height:23px;padding:5px 7px 0 0}\n",
       ".gnb_btn_login, .gnb_bg, .gnb_bdr{display:inline-block;width:46px;height:20px;font-size:12px}\n",
       ".gnb_btn_login{position:relative}\n",
       ".gnb_bg{background-color: #fff;opacity: 0.05;filter: alpha(opacity=5);}\n",
       ".gnb_bdr{position:absolute;top: -1px;left: -1px;width: 46px;height: 20px;border: 1px solid #000;opacity: 0.12;filter: alpha(opacity=12);}\n",
       ".gnb_txt{position:absolute;top:0;left:0;width:45px;height:20px;padding-left:1px;line-height:21px;color:#666;text-align:center}\n",
       ".gnb_btn_login:hover{text-decoration:none !important}\n",
       ".gnb_account .gnb_btn_login{width:54px;margin:-1px 0 0 8px;vertical-align:top}\n",
       ".gnb_account a.gnb_btn_login .gnb_txt {padding-left: 0;}\n",
       ".gnb_account .gnb_bdr{width:52px}\n",
       ".gnb_account .gnb_txt{width:53px}\n",
       ".gnb_my_li{margin-right:7px}\n",
       ".gnb_my_namebox{padding:2px 9px 0 0;background-repeat:no-repeat;background-position:100% 50%;zoom:1}\n",
       ".gnb_my_namebox:after{display:block;clear:both;content:''}\n",
       "a.gnb_my{float:left;display:block;font-size:12px;vertical-align:middle}\n",
       "a.gnb_my .filter_mask {position: absolute; top: -1px; left: -1px; z-index: 1; width: 28px; height: 28px; background-position: -260px -60px;}\n",
       "a.gnb_my img{vertical-align:top;border-radius:16px}\n",
       "a.gnb_my .gnb_name{margin-right:-1px;padding-left:5px;display:inline-block;height:28px;line-height:28px;vertical-align:top;font-size:11px;color:#444}\n",
       "a.gnb_my:visited{color:#444}\n",
       "a.gnb_my:hover, a.gnb_my:active, a.gnb_my:visited, a.gnb_my:focus{text-decoration:none !important}\n",
       "a.gnb_my:hover .gnb_name{text-decoration:underline}\n",
       "a.gnb_my .ico_arrow{top:25px;margin-left:8px}\n",
       ".gnb_my_namebox a.gnb_emp{float:left;display:inline-block;height:28px;margin-left:3px;line-height:28px;font-size:11px;color:#777 !important}\n",
       ".gnb_my_lyr{display:none;position:absolute;top:26px;right:-8px;padding:9px 5px 4px 4px;width:316px;height:155px;background-position:-2px -1310px;z-index:10}\n",
       ".gnb_my_lyr.gnb_groupid{height:144px;background-position:-2px -1500px}\n",
       ".gnb_my_lyr.gnb_groupid .gnb_my_content{height:80px}\n",
       ".gnb_my_lyr.gnb_groupid.gnb_longid1{height:144px;/*background-position:-2px -1664px*/}\n",
       ".gnb_my_lyr.gnb_groupid.gnb_longid2{height:144px;background-position:-2px -1828px}\n",
       ".gnb_my_lyr.gnb_longid1{/*width:318px;*/ /*background-position:-2px -1118px;*/}\n",
       ".gnb_my_lyr.gnb_longid2{width:348px;background-position:-2px -926px}\n",
       ".gnb_my_li .gnb_my_content{zoom:1;height:91px;padding:15px 0 10px 15px}\n",
       ".gnb_my_li .gnb_my_content:after{display:block;clear:both;content:''}\n",
       ".gnb_my_li .gnb_my_content .gnb_img_area{float:left;position:relative;display:block;width:80px;margin: 1px 0 0 1px;}\n",
       ".gnb_my_li .gnb_my_content .gnb_img_area img{vertical-align:top}\n",
       ".gnb_my_li .gnb_my_content .gnb_mask{position:absolute;top:0;left:0;display:block;width:80px;height:80px;background-position:-70px -60px}\n",
       ".gnb_my_li .gnb_my_content .gnb_change{position:absolute;bottom:-2px;left:-2px;display:block;width:28px;height:28px;background: url(https://ssl.pstatic.net/static/common/gnb/one/ico_gnb_change.png) no-repeat !important; background-size: 28px 28px !important;}\n",
       ".gnb_my_li .gnb_my_content .gnb_change:hover{background-image: url(https://ssl.pstatic.net/static/common/gnb/one/ico_gnb_change_hover.png) !important;}\n",
       ".gnb_my_li .gnb_my_content .gnb_txt_area{float:left;width:210px;margin:0 0 0 10px}\n",
       ".gnb_longid1 .gnb_my_content .gnb_txt_area{/* width:210px; */}\n",
       ".gnb_longid2 .gnb_my_content .gnb_txt_area{width:235px}\n",
       ".gnb_my_li .gnb_my_content .gnb_account{margin-bottom:3px 0 1px;font-size:0}\n",
       ".gnb_my_li .gnb_my_content .gnb_name{color:#666;font-size:14px;vertical-align: top}\n",
       ".gnb_my_li .gnb_my_content .gnb_name a{display:inline-block;vertical-align:top;font-weight:bold;color:#222 !important}\n",
       ".gnb_my_li .gnb_my_content a.gnb_mail_address{margin-left:1px;font-family:tahoma;color:#666 !important;font-size:12px}\n",
       ".gnb_my_li .gnb_my_content .gnb_edit_lst{zoom:1;margin-top:7px !important}\n",
       ".gnb_my_li .gnb_my_content .gnb_edit_lst:after{display:block;clear:both;content:''}\n",
       ".gnb_my_li .gnb_my_content .gnb_edit_lst li{float:left;padding-left:6px;margin-left:5px;background-position:-290px -25px}\n",
       ".gnb_my_li .gnb_my_content .gnb_edit_lst li.gnb_info{padding-left:0;margin-left:0;background:none}\n",
       ".gnb_my_li .gnb_my_content .gnb_edit_lst a{color:#666 !important;letter-spacing:-1px}\n",
       ".gnb_my_li .gnb_my_content .gnb_membership {display: inline-block;margin-right: 5px;margin-left: 1px;padding-right: 8px;background-position: -287px -403px;}\n",
       ".gnb_my_li .gnb_my_content .gnb_pay_check{height:16px;margin:7px -4px 0 0 !important}\n",
       "@media screen and (min-width: 0\\0) { .gnb_my_li .gnb_my_content .gnb_pay_check{margin-top:17px} }\n",
       ".gnb_my_li .gnb_my_content .gnb_pay_check em{display:inline-block;width:16px;height:16px;background: url(https://ssl.pstatic.net/static/common/gnb/one/ico_gnb_pay_check.png) no-repeat !important; background-size: 16px 16px !important;margin:0 4px 0 0;overflow:hidden;font-size:0;line-height:0;vertical-align:top}\n",
       ".gnb_my_li .gnb_my_content .gnb_pay_check a{font-size:14px;letter-spacing:-1px;line-height:16px;vertical-align:top}\n",
       ".gnb_my_li .gnb_my_content .gnb_pay_check span{font-weight: bold;}\n",
       ".gnb_my_li .gnb_my_content .gnb_pay_check strong{font-family:tahoma;letter-spacing:0;vertical-align:top;}\n",
       ".gnb_my_li .gnb_my_content .gnb_pay_check a, .gnb_my_li .gnb_my_content .gnb_pay_check span, .gnb_my_li .gnb_my_content .gnb_pay_check strong{font-size:12px;color:#222 !important}\n",
       "#gnb .gnb_my_li .gnb_my_community{clear:both;zoom:1}\n",
       "#gnb .gnb_my_li .gnb_my_community:after{display:block;clear:both;content:''}\n",
       "#gnb .gnb_my_li .gnb_my_community a{float:left;width:106px;margin-right: 0;border-right:1px solid #ebebeb}\n",
       "#gnb .gnb_my_li .gnb_my_community a.gnb_pay{width:102px;border-right:0;line-height:0}\n",
       "#gnb .gnb_my_li .gnb_my_community a.gnb_pay span{display:inline-block;width:41px;height:16px;background: url(https://ssl.pstatic.net/static/common/gnb/one/ico_gnb_pay.png) no-repeat !important; background-size: 41px 16px !important;margin:11px auto 0;font-size:0;line-height:0}\n",
       "#gnb .gnb_my_li .gnb_my_community a.gnb_pay i {display: inline-block;width: 61px;height: 20px;margin: 9px auto 0;background: url(https://ssl.pstatic.net/static/common/gnb/banner/promo_membership.png) no-repeat !important;background-size: 61px 20px !important;font-size: 0;line-height: 0;}\n",
       "#gnb .gnb_my_li .gnb_my_community a:active, #gnb .gnb_my_li .gnb_my_community a:focus, #gnb .gnb_my_li .gnb_my_community a:visited{text-decoration:none !important}\n",
       "#gnb .gnb_my_li .gnb_my_community a:hover{text-decoration:underline !important}\n",
       "#gnb .gnb_my_lyr.gnb_longid1 .gnb_my_community a{/*width:105px;*/}\n",
       "#gnb .gnb_my_lyr.gnb_longid1 .gnb_my_community a.gnb_pay{/* width:106px;*/}\n",
       "#gnb .gnb_my_lyr.gnb_longid2 .gnb_my_community a{width:115px}\n",
       "#gnb .gnb_my_lyr.gnb_longid2 .gnb_my_community a.gnb_pay{width:116px}\n",
       "#gnb.gnb_one .gnb_my_community a, #gnb.gnb_one_small .gnb_my_community a{margin-right: 0 !important;}\n",
       ".gnb_notice_li a.gnb_notice{display:block;width:15px;height:17px;padding:7px 9px 4px;text-decoration:none !important}\n",
       ".gnb_notice_li a.gnb_notice .gnb_ico_num{left:1px;top:0}\n",
       ".gnb_notice_li a.gnb_notice .gnb_icon{display:block;width:15px;height:17px;background-position:-3px -60px}\n",
       ".gnb_notice_li a.gnb_notice:hover .gnb_icon{background-position:-38px -60px;text-decoration:none !important}\n",
       ".gnb_notice_li .gnb_notice_lyr{display:none;position:absolute;top:26px;right:-7px;width:297px;height:330px;padding:9px 4px 4px;background-position:-2px -584px;z-index:10;overflow:hidden}\n",
       ".gnb_notice_li .svc_scroll{height:291px;overflow:scroll;overflow-x:hidden;position:relative;zoom:1}\n",
       ".gnb_notice_li .svc_panel{width:100%;height:330px;overflow:hidden}\n",
       ".gnb_notice_li .svc_head{position:relative;height:36px;padding-left:15px;line-height:20px;border-bottom:1px solid #eaeaea;zoom:1}\n",
       ".gnb_notice_li .svc_head .gnb_tit{color:#6b6d70;margin-right:1px;line-height:36px}\n",
       ".gnb_notice_li .svc_head .task_right{position:absolute;right:8px;top:8px;font-size:0}\n",
       ".gnb_notice_li .svc_head .task_right button{height:20px;padding:0 6px;margin-left:4px;border:1px solid #ddd;color:#888;background-color:#fff;font-family:'나눔고딕', NanumGothic;font-size:12px;letter-spacing:-1px;line-height:18px;*line-height:16px;overflow:visible}\n",
       ".gnb_notice_li .svc_list .gnb_btn_remove i, .gnb_notice_li .svc_list .gnb_btn_remove span, .gnb_notice_li .svc_noti .gnb_ico_mail, .gnb_notice_li .svc_blank .svc_msg_box, .gnb_notice_li .svc_blank .gnb_v_guide{display:inline-block;*display:inline;*zoom:1}\n",
       ".gnb_notice_li .svc_list{margin-top:-1px}\n",
       ".gnb_notice_li .svc_list li{position:relative;padding:7px 34px 7px 15px;border-top:1px solid #eaeaea;line-height:18px}\n",
       ".gnb_notice_li .svc_list .gnb_new{background:#ffffd8}\n",
       ".gnb_notice_li .svc_list .gnb_unread .gnb_subject{color:#444}\n",
       ".gnb_notice_li .svc_list .gnb_unread .d_cnt{color:#ff630e}\n",
       ".gnb_notice_li .svc_list .gnb_unread a:hover .gnb_subject, .gnb_notice_li .svc_list .gnb_unread .gnb_unread a:hover .d_cnt{color:#390}\n",
       ".gnb_notice_li .svc_list .gnb_unread .svc_name{color:#444}\n",
       ".gnb_notice_li .svc_list a.gnb_list_cover{text-decoration:none !important;display:block;position:relative;zoom:1}\n",
       ".gnb_notice_li .svc_list a:hover .gnb_subject{text-decoration:underline}\n",
       ".gnb_notice_li .svc_list .gnb_subject{overflow:hidden;text-overflow:ellipsis;white-space:nowrap;width:100%;color:#adadad}\n",
       ".gnb_notice_li .svc_list .d_cnt{font-family:tahoma;font-size:10px}\n",
       ".gnb_notice_li .svc_list .gnb_info{color:#adadad}\n",
       ".gnb_notice_li .svc_list .svc_name{margin-right:3px;color:#adadad}\n",
       ".gnb_notice_li .svc_list .cchr{margin-right:3px}\n",
       ".gnb_notice_li .svc_list .dona{position:absolute;top:8px;right:34px;text-decoration:underline}\n",
       ".gnb_notice_li .svc_list .dona a{color:#adadad}\n",
       ".gnb_notice_li .svc_list .dona a:hover{color:#390}\n",
       ".gnb_notice_li .svc_list .gnb_ico_mail{width:14px;height:15px;font-size:0;line-height:0;color:#fff;vertical-align:top}\n",
       ".gnb_notice_li .svc_list .gnb_ico_mail.gnb_yes{background-position:-245px -17px}\n",
       ".gnb_notice_li .svc_list .gnb_ico_mail.gnb_no{background-position:-245px 4px}\n",
       ".gnb_notice_li .svc_list .gnb_btn_remove{position:absolute;right:4px;top:50%;z-index:100;margin-top:-13px;padding:10px;line-height:6px;font-size:0;background:none !important;border:0 !important}\n",
       ".gnb_notice_li .svc_list .gnb_btn_remove span, .gnb_notice_li .svc_list .gnb_btn_remove i{display:block !important;width:7px;height:7px;font-size:0;line-height:0;color:transparent;white-space:nowrap;overflow:hidden;vertical-align:top;background-position:-175px 0}\n",
       ".gnb_notice_li .svc_blank{position:absolute;top:104px;left:0;width:100%;white-space:nowrap;height:100px;font-size:0;text-align:center}\n",
       ".gnb_notice_li .svc_blank .svc_msg_box{white-space:normal;font-size:12px;width:100%}\n",
       ".gnb_notice_li .svc_blank .gnb_tit{display:block;color:#2f3743;font-size:14px;margin:0 0 15px}\n",
       ".gnb_notice_li .svc_blank .gnb_tit strong{font-weight:normal;color:#390}\n",
       ".gnb_notice_li .svc_blank .gnb_desc{line-height:19px;color:#2f3743;margin-bottom:7px}\n",
       ".gnb_notice_li .svc_blank .gnb_desc a, .gnb_notice_li .svc_blank .gnb_link{color:#390;text-decoration:underline}\n",
       ".gnb_notice_li .svc_blank .gnb_v_guide{vertical-align:middle;height:100%;width:0}\n",
       ".gnb_notice_li .svc_blank .gnb_link_wrap{text-align:center}\n",
       ".gnb_notice_li .svc_blank .gnb_link_wrap .gnb_link{display:block;width:40px;margin:0 auto !important;text-align:center}\n",
       ".gnb_notice_li .svc_loading{background:url(https://ssl.pstatic.net/static/www/2014/loading.gif) no-repeat #fff center center;position:absolute;top:33px;left:0;width:100%;height:245px}\n",
       ".gnb_notice_li .gnb_error{position:absolute;top:81px;left:2px;width:100%;color:#444;text-align:center}\n",
       ".gnb_notice_li .gnb_error .gnb_ico_error{display:inline-block;width:57px;height:57px;background-position:-280px -190px}\n",
       ".gnb_notice_li .gnb_error .gnb_tit{font-size:14px;margin:15px 0 11px}\n",
       ".gnb_notice_li .gnb_error .gnb_desc{margin-bottom:13px;line-height:18px}\n",
       ".gnb_notice_li .gnb_error .gnb_link{text-decoration:underline}\n",
       ".gnb_ly_alert{position:absolute;top:110px;left:13px;background-color:#fff;border:1px solid #b7b9bc;width:260px;padding:34px 0 20px;zoom:1;z-index:100}\n",
       ".gnb_ly_alert .gnb_msg{text-align:center;line-height:17px;margin-bottom:14px;color:#2f3743}\n",
       ".gnb_.ly_alert .gnb_btn_close{position:absolute;right:2px;top:0;*overflow:visible}\n",
       ".gnb_ly_alert .gnb_btns{text-align:center}\n",
       ".gnb_ly_alert .gnb_btns button{height:27px;line-height:27px;*line-height:22px;font-weight:bold;font-size:12px;padding:0 8px;color:#2f3743;border:1px solid #ddd;background-color:white}\n",
       ".gnb_ly_alert .gnb_btns button:first-child{margin-right:4px}\n",
       ".gnb_ly_alert .gnb_btn_close{position:absolute;right:2px;top:0;width:35px;border:0;background:none;cursor:pointer;border-radius:0;padding:10px}\n",
       ".gnb_ly_alert .gnb_btn_close i{display:block;width:15px;height:15px;font:0/0 a;color:transparent;white-space:nowrap;overflow:hidden;vertical-align:top;background-position:-240px -60px}\n",
       ".mail_li a.gnb_mail{display:block;width:20px;height:15px;padding:7px 9px 6px;text-decoration:none !important}\n",
       ".mail_li a.gnb_mail .gnb_icon{display:block;width:20px;height:15px;background-position:0px -95px}\n",
       ".mail_li a.gnb_mail:hover .gnb_icon{background-position:-35px -95px;text-decoration:none !important}\n",
       ".mail_li .gnb_ico_num{left:6px;top:0}\n",
       ".gnb_service_li{margin-right:0}\n",
       ".gnb_service_li a.gnb_service{display:block;width:16px;height:16px;padding:7px 9px 5px}\n",
       ".gnb_service_li a.gnb_service .gnb_icon{display:block;width:16px;height:16px;background-position:-2px -130px}\n",
       ".gnb_service_li a.gnb_service:hover .gnb_icon{background-position:-37px -130px;text-decoration:none !important}\n",
       ".gnb_service_li .gnb_service_lyr{display:none;position:absolute;top:27px;right:-7px;z-index:10}\n",
       ".gnb_favorite_search{width:301px;letter-spacing:-1px}\n",
       ".gnb_response .gnb_favorite_search{display:none}\n",
       ".gnb_favorite_area{height:93px;padding:8px 4px 0;background-position:0 0}\n",
       ".gnb_favorite_lstwrp{position:relative;padding:22px 1px 15px 15px;border-bottom:1px solid #ebebeb}\n",
       ".gnb_favorite_lstwrp .gnb_my_interface{top:3px !important;right:3px !important}\n",
       ".gnb_first_visit{position:absolute;top:0;left:0;width:293px;height:92px;background-position:0 -310px;z-index:200}\n",
       ".gnb_first_visit .gnb_close{position:absolute;top:0;right:0;display:block;width:32px;height:32px}\n",
       ".gnb_favorite_lst{zoom:1}\n",
       ".gnb_favorite_lst:after{display:block;clear:both;content:''}\n",
       ".gnb_favorite_lst li{float:left;width:65px;text-align:center;white-space:nowrap}\n",
       ".gnb_favorite_lst a{display:inline-block;text-align:center;font-weight:bold}\n",
       ".gnb_favorite_lst .gnb_add a{display:block;test-align:center;}\n",
       ".gnb_favorite_lst .gnb_add a span.ic_add{display:block;width:36px;height:36px;margin:0 auto 4px;background-image: url(https://ssl.pstatic.net/static/common/gnb/one/sp_gnb_4b16e6.png);background-position: 0px 0px;background-repeat: no-repeat;width: 36px;height: 36px;vertical-align: top;}\n",
       ".gnb_favorite_lst .gnb_add a:hover span.ic_add{background-image: url(https://ssl.pstatic.net/static/common/gnb/one/sp_gnb_4b16e6.png);background-position: -42px 0px;background-repeat: no-repeat;width: 36px;height: 36px;vertical-align: top;}\n",
       ".gnb_favorite_lst img{display:block;margin:0 auto 4px;vertical-align:top}\n",
       ".gnb_search_area{position:relative;z-index:200;padding:18px 4px 17px;background-position:-301px 0;background-repeat:repeat-y}\n",
       ".gnb_search_box{position:relative;z-index:101;margin:0 12px 16px 0;padding-left:10px;display:block;width:270px;height:35px;background-position:10px -190px}\n",
       ".gnb_search_box.over{background-position:10px -230px}\n",
       ".gnb_search_box.fcs{background-position:10px -270px}\n",
       ".gnb_search_box.fcs input{width:200px;font-size:16px;font-weight:bold;color:#444;outline:0}\n",
       ".gnb_search_box input{float:left;display:block;width:210px;height:22px;margin-top:6px;padding-left:10px;font-family:'나눔고딕',NamumGothic;letter-spacing:-1px;color:#adadad;font-size:13px;border:0;line-height:22px;background:transparent}\n",
       ".gnb_search_box .gnb_del_txt{position:absolute;top:8px;right:32px;display:block;width:17px;height:17px;background-position:-190px 0px}\n",
       ".gnb_search_box .gnb_del_txt:hover{background-position:-190px -20px}\n",
       ".gnb_search_box .gnb_pop_input{position:absolute;top:34px;left:10px;width:268px;height:170px;*height:172px;border:1px solid #cbc5c5;border-top:0;background:#fff;overflow-x:hidden;overflow-y:scroll;z-index:110}\n",
       ".gnb_search_box .gnb_pop_lst{padding:4px 0 2px}\n",
       ".gnb_search_box .gnb_pop_lst a{display:block;padding:6px 0 6px 10px;font-weight:bold}\n",
       ".gnb_search_box .gnb_pop_lst .on{background-color:#f5f5f5}\n",
       ".gnb_search_lstwrp{zoom:1;height:118px;padding-left:12px}\n",
       ".gnb_search_lstwrp:after{display:block;clear:both;content:''}\n",
       ".gnb_search_lstwrp .gnb_search_lst{float:left;width:69px;border-left:1px solid #eaeaea}\n",
       ".gnb_search_lstwrp .gnb_search_lst.gnb_first{width:64px;border:0}\n",
       ".gnb_search_lstwrp li{padding:12px 0 0 8px}\n",
       ".gnb_search_lstwrp li.gnb_first{font-weight:bold;padding-top:0}\n",
       ".gnb_search_lstwrp li a{display:inline-block;vertical-align:top}\n",
       ".gnb_banner{height:47px;margin:0;padding:0 18px;background-position:-301px 0;background-repeat:repeat-y}\n",
       ".gnb_banner .gnb_service_event{display:inline-block;border-top:1px solid #ebebeb}\n",
       ".gnb_linkwrp{padding:0 4px 4px;background-position:-602px 0}\n",
       "a.gnb_service_all:hover, a.gnb_service_all:visited, a.gnb_service_all:active, a.gnb_service_all:focus{text-decoration:none}\n",
       ".gnb_svc_more{display:none;position:absolute;top:4px;right:303px;width:589px;overflow:hidden;zoom:1;z-index:1000}\n",
       ".gnb_svc_more:after{display:block;clear:both;content:''}\n",
       ".gnb_response .gnb_svc_more{right:2px}\n",
       ".gnb_bg_top{height:6px;background:url(https://ssl.pstatic.net/static/common/gnb/2014/bg_svclyr1_v2.png) no-repeat}\n",
       ".gnb_bg_btm{position:relative;height:6px;background:url(https://ssl.pstatic.net/static/common/gnb/2014/bg_svclyr1_v2.png) no-repeat -1282px 0}\n",
       ".gnb_svc_more .gnb_svc_hd{position:relative;padding:0 18px 2px 23px;letter-spacing:-1px;background:url(https://ssl.pstatic.net/static/common/gnb/2014/bg_svclyr1_v2.png) repeat-y -641px 0}\n",
       ".gnb_svc_more .gnb_svc_hd .gnb_svc_tit{display:block;padding:12px 0 13px;border-bottom:1px solid #ebebeb;font-size:14px;color:#222}\n",
       ".gnb_svc_more .gnb_svc_hd .link{position:absolute;top:14px;right:19px;font-size:12px;color:#444}\n",
       ".gnb_svc_more .gnb_svc_hd .link a{color:#444 !important;line-height:16px !important}\n",
       ".gnb_svc_more .gnb_svc_lstwrp{position:relative;height:283px;overflow:hidden;padding:15px 15px 0 20px;letter-spacing:-1px;background:url(https://ssl.pstatic.net/static/common/gnb/2014/bg_svclyr1_v2.png) repeat-y -641px 0;zoom:1}\n",
       ".gnb_svc_more .gnb_svc_lstwrp:after{display:block;clear:both;content:''}\n",
       ".gnb_svc_more .gnb_svc_lstwrp li{height:15px;margin-bottom:5px;color:#6b6d70;white-space:nowrap;line-height:15px}\n",
       ".gnb_svc_more .gnb_svc_lstwrp li.gnb_event label{color:#444;font-weight:bold}\n",
       ".gnb_svc_more .gnb_svc_lstwrp li.gnb_event em.ic_gnb_new{display:inline-block;width:11px;height:11px;background-position:-215px 0px;margin:2px 0 0 4px;font-size:0;line-height:0;vertical-align:top}\n",
       "@media screen and (min-width: 0\\0) { .gnb_svc_more .gnb_svc_lstwrp li.gnb_event em.ic{margin-top:3px} }\n",
       ".gnb_svc_more .gnb_svc_lstwrp .gnb_input_check{width:13px;height:13px;margin:2px 3px 0 3px;padding:0;vertical-align:top;-webkit-appearance:checkbox;}\n",
       ".gnb_svc_more .gnb_svc_lstwrp label{vertical-align:0px}\n",
       ".gnb_svc_more .gnb_svc_lstwrp .gnb_disabled strong{color:#a8acb0}\n",
       ".gnb_svc_more .gnb_svc_lstwrp .gnb_disabled li{color:#cbcbcb}\n",
       ".gnb_svc_more .gnb_svc_lst1{float:left;width:328px;height:280px}\n",
       ".gnb_svc_more .gnb_svc_lst1 ul{float:left;width:102px;min-height:260px;padding:5px 0 0 10px;border-left:1px solid #eee}\n",
       ".gnb_svc_more .gnb_svc_lst1 ul.gnb_first{padding-left:0;border:0}\n",
       ".gnb_svc_more .svc_lst2{float:left;position:relative;width:221px;border:1px solid #eee;background:#fbfbfb;zoom:1}\n",
       ".gnb_svc_more .svc_lst2:after{display:block;clear:both;content:''}\n",
       ".gnb_svc_more .svc_spc{float:left;position:relative;width:100px;min-height:254px;padding:9px 0 0 10px}\n",
       ".gnb_svc_more .svc_spc.gnb_first{border-right:1px solid #eee}\n",
       ".gnb_svc_more .svc_spc strong{height:20px;color:#2f3743;line-height:16px}\n",
       ".gnb_svc_more .svc_spc a:visited{color:#2f3743}\n",
       ".gnb_svc_more .svc_spc ul{padding:8px 0}\n",
       ".gnb_svc_more .svc_spc li{margin-bottom:0;padding-bottom:5px;color:#848689}\n",
       ".gnb_svc_more .svc_stroy{width:89px;margin-top:-5px;padding:12px 0 0;border-top:1px solid #eee}\n",
       ".gnb_svc_more .svc_btns{position:relative;height:33px;overflow:hidden;padding-top:5px;line-height:normal}\n",
       ".gnb_svc_more .svc_btnwrp{position:relative;*height:39px;background:url(https://ssl.pstatic.net/static/common/gnb/2014/bg_svclyr1_v2.png) repeat-y -641px 0;padding:0 2px 0 4px}\n",
       ".gnb_svc_more .svc_btnwrp button{display:inline-block;width:60px;height:25px;border:0;vertical-align:top}\n",
       ".gnb_svc_more .svc_btnwrp .gnb_save{background-position:0 -160px}\n",
       ".gnb_svc_more .svc_btnwrp .gnb_close{margin-left:1px;background-position:-65px -160px}\n",
       ".gnb_svc_more .svc_btnwrp .gnb_return{position:absolute;top:5px;left:15px;background-position:-130px -160px}\n",
       ".gnb_type2 .gnb_notice_li a.gnb_notice .gnb_icon{background-position:-155px -120px}\n",
       ".gnb_type2 .gnb_notice_li a.gnb_notice:hover .gnb_icon{background-position:-155px -140px}\n",
       ".gnb_type2 .gnb_service_li .gnb_service .gnb_icon{background-position:-200px -120px}\n",
       ".gnb_type2 .gnb_service_li .gnb_service:hover .gnb_icon{background-position:-200px -140px}\n",
       ".gnb_type2 .mail_li a.gnb_mail .gnb_icon{background-position:-175px -120px}\n",
       ".gnb_type2 .mail_li a.gnb_mail:hover .gnb_icon{background-position:-175px -140px}\n",
       ".gnb_dark .gnb_my_li .gnb_my .gnb_name, .gnb_dark .gnb_login_li .gnb_btn_login .gnb_txt{color:#fff}\n",
       ".gnb_dark .gnb_notice_li a.gnb_notice .gnb_icon{background-position:-220px -140px}\n",
       ".gnb_dark .gnb_notice_li a.gnb_notice:hover .gnb_icon{background-position:-220px -120px}\n",
       ".gnb_dark .mail_li a.gnb_mail .gnb_icon{background-position:-238px -141px}\n",
       ".gnb_dark .mail_li a.gnb_mail:hover .gnb_icon{background-position:-238px -121px}\n",
       ".gnb_dark .gnb_service_li .gnb_service .gnb_icon{background-position:-261px -140px}\n",
       ".gnb_dark .gnb_service_li .gnb_service:hover .gnb_icon{background-position:-261px -120px}\n",
       ".gnb_dark_type2 .gnb_my_li .gnb_my .gnb_name, .gnb_dark_type2 .gnb_login_li .gnb_btn_login .gnb_txt{color:#fff}\n",
       ".gnb_dark_type2 .gnb_notice_li a.gnb_notice .gnb_icon{background-position:-220px -120px}\n",
       ".gnb_dark_type2 .gnb_notice_li a.gnb_notice:hover .gnb_icon{background-position:-220px -140px}\n",
       ".gnb_dark_type2 .mail_li a.gnb_mail .gnb_icon{background-position:-238px -121px}\n",
       ".gnb_dark_type2 .mail_li a.gnb_mail:hover .gnb_icon{background-position:-238px -141px}\n",
       ".gnb_dark_type2 .gnb_service_li .gnb_service .gnb_icon{background-position:-261px -120px}\n",
       ".gnb_dark_type2 .gnb_service_li .gnb_service:hover .gnb_icon{background-position:-261px -140px;}\n",
       ".gnb_dark .gnb_notice_li a.gnb_notice, .gnb_dark_type2 .gnb_notice_li a.gnb_notice {width: 17px;height: 19px;padding: 6px 8px 3px;}\n",
       ".gnb_dark .gnb_notice_li a.gnb_notice .gnb_icon, .gnb_dark_type2 .gnb_notice_li a.gnb_notice .gnb_icon {width: 17px;height: 19px;}\n",
       ".gnb_dark .mail_li a.gnb_mail, .gnb_dark_type2 .mail_li a.gnb_mail {width: 22px;height: 16px;padding: 7px 8px 4px;}\n",
       ".gnb_dark .mail_li a.gnb_mail .gnb_icon, .gnb_dark_type2 .mail_li a.gnb_mail .gnb_icon {width: 22px;height: 16px;}\n",
       ".gnb_dark .gnb_service_li a.gnb_service, .gnb_dark_type2 .gnb_service_li a.gnb_service {width: 18px;height: 18px;padding: 6px 8px 4px;}\n",
       ".gnb_dark .gnb_service_li .gnb_service .gnb_icon, .gnb_dark_type2 .gnb_service_li .gnb_service .gnb_icon {width: 18px;height: 18px;}\n",
       "#gnb.gnb_one .gnb_my_li .gnb_my .gnb_name, #gnb.gnb_one_small .gnb_my_li .gnb_my .gnb_name, #gnb.gnb_one .gnb_login_li .gnb_btn_login .gnb_txt, #gnb.gnb_one_small .gnb_login_li .gnb_btn_login .gnb_txt{color:#fff}\n",
       "#gnb.gnb_one .gnb_login_li, #gnb.gnb_one_small .gnb_login_li {height: 28px;}\n",
       "#gnb.gnb_one .gnb_login_li .gnb_btn_login, #gnb.gnb_one_small .gnb_login_li .gnb_btn_login, #gnb.gnb_one .gnb_login_li .gnb_bg, #gnb.gnb_one_small .gnb_login_li .gnb_bg, #gnb.gnb_one .gnb_login_li .gnb_bdr, #gnb.gnb_one_small .gnb_login_li .gnb_bdr, #gnb.gnb_one .gnb_login_li .gnb_txt, #gnb.gnb_one_small .gnb_login_li .gnb_txt {width: 53px;height: 23px;}\n",
       "#gnb.gnb_one .gnb_login_li .gnb_btn_login .gnb_txt, #gnb.gnb_one_small .gnb_login_li .gnb_btn_login .gnb_txt {top: -1px;width: 53px;height: 23px;line-height: 28px;font-size: 11px;}\n",
       "#gnb.gnb_one .gnb_login_li, #gnb.gnb_one_small .gnb_login_li, #gnb.gnb_one .gnb_my_li, #gnb.gnb_one_small .gnb_my_li, #gnb.gnb_one .gnb_notice_li, #gnb.gnb_one_small .gnb_notice_li, #gnb.gnb_one .mail_li, #gnb.gnb_one_small .mail_li, #gnb.gnb_one .gnb_service_li, #gnb.gnb_one_small .gnb_service_li{margin-right: 0;margin-left: 0; background: url(https://ssl.pstatic.net/static/common/gnb/bg_one_line.png) repeat-y right 0;}\n",
       "#gnb.gnb_one .gnb_login_li a, #gnb.gnb_one_small .gnb_login_li a, #gnb.gnb_one .gnb_my_li a, #gnb.gnb_one_small .gnb_my_li a, #gnb.gnb_one .gnb_notice_li a, #gnb.gnb_one_small .gnb_notice_li a, #gnb.gnb_one .mail_li a, #gnb.gnb_one_small .mail_li a, #gnb.gnb_one .gnb_service_li a, #gnb.gnb_one_small .gnb_service_li a {margin-right: 1px;}\n",
       "#gnb.gnb_one .gnb_login_li.hover .gnb_service, #gnb.gnb_one_small .gnb_login_li.hover .gnb_service, #gnb.gnb_one .gnb_login_li.hover .gnb_notice, #gnb.gnb_one_small .gnb_login_li.hover .gnb_notice, #gnb.gnb_one .gnb_login_li.hover .gnb_mail, #gnb.gnb_one_small .gnb_login_li.hover .gnb_mail, #gnb.gnb_one .gnb_login_li.hover .gnb_service, #gnb.gnb_one_small .gnb_login_li.hover .gnb_service, #gnb.gnb_one .gnb_my_li.hover .gnb_service, #gnb.gnb_one_small .gnb_my_li.hover .gnb_service, #gnb.gnb_one .gnb_my_li.hover .gnb_notice, #gnb.gnb_one_small .gnb_my_li.hover .gnb_notice, #gnb.gnb_one .gnb_my_li.hover .gnb_mail, #gnb.gnb_one_small .gnb_my_li.hover .gnb_mail, #gnb.gnb_one .gnb_my_li.hover .gnb_service, #gnb.gnb_one_small .gnb_my_li.hover .gnb_service, #gnb.gnb_one .gnb_notice_li.hover .gnb_service, #gnb.gnb_one_small .gnb_notice_li.hover .gnb_service, #gnb.gnb_one .gnb_notice_li.hover .gnb_notice, #gnb.gnb_one_small .gnb_notice_li.hover .gnb_notice, #gnb.gnb_one .gnb_notice_li.hover .gnb_mail, #gnb.gnb_one_small .gnb_notice_li.hover .gnb_mail, #gnb.gnb_one .gnb_notice_li.hover .gnb_service, #gnb.gnb_one_small .gnb_notice_li.hover .gnb_service, #gnb.gnb_one .mail_li.hover .gnb_service, #gnb.gnb_one_small .mail_li.hover .gnb_service, #gnb.gnb_one .mail_li.hover .gnb_notice, #gnb.gnb_one_small .mail_li.hover .gnb_notice, #gnb.gnb_one .mail_li.hover .gnb_mail, #gnb.gnb_one_small .mail_li.hover .gnb_mail, #gnb.gnb_one .mail_li.hover .gnb_service, #gnb.gnb_one_small .mail_li.hover .gnb_service, #gnb.gnb_one .gnb_service_li.hover .gnb_service, #gnb.gnb_one_small .gnb_service_li.hover .gnb_service, #gnb.gnb_one .gnb_service_li.hover .gnb_notice, #gnb.gnb_one_small .gnb_service_li.hover .gnb_notice, #gnb.gnb_one .gnb_service_li.hover .gnb_mail, #gnb.gnb_one_small .gnb_service_li.hover .gnb_mail, #gnb.gnb_one .gnb_service_li.hover .gnb_service, #gnb.gnb_one_small .gnb_service_li.hover .gnb_service {background: url(https://ssl.pstatic.net/static/common/gnb/bg_one_hover.png) repeat 0 0;}\n",
       "#gnb.gnb_one .gnb_my_li .gnb_my .gnb_name, #gnb.gnb_one_small .gnb_my_li .gnb_my .gnb_name{margin:0 0 0 1px;}\n",
       "#gnb.gnb_one .gnb_notice_li a.gnb_notice, #gnb.gnb_one_small .gnb_notice_li a.gnb_notice{width:17px;height:19px}\n",
       "#gnb.gnb_one .gnb_notice_li a.gnb_notice .gnb_icon, #gnb.gnb_one_small .gnb_notice_li a.gnb_notice .gnb_icon{width:17px;height:19px;background-position:-284px -119px}\n",
       "#gnb.gnb_one .gnb_notice_li a.gnb_notice:hover .gnb_icon, #gnb.gnb_one_small .gnb_notice_li a.gnb_notice:hover .gnb_icon{background-position:-284px -119px}\n",
       "#gnb.gnb_one .mail_li a.gnb_mail, #gnb.gnb_one_small .mail_li a.gnb_mail{width:21px;height:17px}\n",
       "#gnb.gnb_one .mail_li a.gnb_mail .gnb_icon, #gnb.gnb_one_small .mail_li a.gnb_mail .gnb_icon{width:21px;height:17px;background-position:-302px -120px}\n",
       "#gnb.gnb_one .mail_li a.gnb_mail:hover .gnb_icon, #gnb.gnb_one_small .mail_li a.gnb_mail:hover .gnb_icon{background-position:-302px -120px}\n",
       "#gnb.gnb_one .gnb_service_li .gnb_service, #gnb.gnb_one_small .gnb_service_li .gnb_service{width:17px;height:17px}\n",
       "#gnb.gnb_one .gnb_service_li .gnb_service .gnb_icon, #gnb.gnb_one_small .gnb_service_li .gnb_service .gnb_icon{width:17px;height:17px;background-position:-324px -120px}\n",
       "#gnb.gnb_one .gnb_service_li .gnb_service:hover .gnb_icon, #gnb.gnb_one_small .gnb_service_li .gnb_service:hover .gnb_icon{background-position:-324px -120px}\n",
       "#gnb.gnb_one .gnb_my_lyr, #gnb.gnb_one_small .gnb_my_lyr, #gnb.gnb_one .gnb_notice_lyr, #gnb.gnb_one_small .gnb_notice_lyr, #gnb.gnb_one .gnb_service_lyr, #gnb.gnb_one_small .gnb_service_lyr {right: 7px;}\n",
       "#gnb.gnb_one .gnb_ico_num, #gnb.gnb_one_small .gnb_ico_num{width:34px;top:10px;right:3px;left:auto;vertical-align:top}\n",
       "#gnb.gnb_one .gnb_ico_num .gnb_ico_new, #gnb.gnb_one_small .gnb_ico_num .gnb_ico_new{vertical-align:top;height:13px;background-position:-332px -60px;}\n",
       "#gnb.gnb_one .gnb_ico_num .gnb_count, #gnb.gnb_one_small .gnb_ico_num .gnb_count {height: 13px;padding: 0 6px 0 2px;background-position: 100% -60px;font-size: 10px;font-weight: normal;}\n",
       "#gnb.gnb_one .gnb_ico_num .plus, #gnb.gnb_one_small .gnb_ico_num .plus{margin:1px 0 0 2px}\n",
       "#gnb.gnb_one .ico_arrow{top:48px}\n",
       "#gnb.gnb_one .gnb_my_lyr, #gnb.gnb_one .gnb_notice_lyr{top:47px}\n",
       "#gnb.gnb_one .gnb_service_lyr{top:48px;}\n",
       "#gnb.gnb_one .gnb_login_li{padding:16px 21px 10px 1px;}\n",
       "#gnb.gnb_one .gnb_my_li{padding:12px 20px 12px 2px}\n",
       "#gnb.gnb_one .gnb_my_li .ico_arrow{top:34px}\n",
       "#gnb.gnb_one .gnb_notice_li a.gnb_notice{padding:18px 19px 17px 19px}\n",
       "#gnb.gnb_one .mail_li a.gnb_mail{padding:19px 17px 18px 17px}\n",
       "#gnb.gnb_one .gnb_service_li .gnb_service{padding:19px 19px 18px 19px}\n",
       "#gnb.gnb_one_small .ico_arrow{top:33px}\n",
       "#gnb.gnb_one_small .gnb_my_lyr, #gnb.gnb_one_small .gnb_notice_lyr{top:32px}\n",
       "#gnb.gnb_one_small .gnb_service_lyr{top:33px}\n",
       "#gnb.gnb_one_small .gnb_login_li{padding:7px 12px 4px 2px}\n",
       "#gnb.gnb_one_small .gnb_my_li{padding:5px 20px 4px 2px}\n",
       "#gnb.gnb_one_small .gnb_my_li .ico_arrow{top:27px}\n",
       "#gnb.gnb_one_small .gnb_notice_li a.gnb_notice{padding:10px 11px 10px 12px}\n",
       "#gnb.gnb_one_small .mail_li a.gnb_mail{padding:11px 10px 11px 9px}\n",
       "#gnb.gnb_one_small .gnb_service_li .gnb_service{padding:11px 12px 11px 11px}\n",
       "#gnb.gnb_one_small .gnb_ico_num{top:5px;right:6px;width:24px}\n",
       "#gnb.gnb_one_flat .gnb_login_li,\n",
       "#gnb.gnb_one_flat .gnb_my_li,\n",
       "#gnb.gnb_one_flat .gnb_notice_li,\n",
       "#gnb.gnb_one_flat .mail_li,\n",
       "#gnb.gnb_one_flat .gnb_service_li {border-color: #e0e0e0;}\n",
       "#gnb.gnb_one_flat .gnb_notice_li.hover,\n",
       "#gnb.gnb_one_flat .mail_li.hover,\n",
       "#gnb.gnb_one_flat .gnb_service_li.hover {background-color: rgba(0, 0, 0, 0.04);}\n",
       "#gnb.gnb_one_flat .gnb_service_li .gnb_service .gnb_icon,\n",
       "#gnb.gnb_one_flat .gnb_service_li .gnb_service:hover .gnb_icon {background-image: url(https://ssl.pstatic.net/static/common/gnb/one/sp_gnb_4b16e6.png);background-position: -84px -24px;background-repeat: no-repeat; width: 16px;height: 16px;vertical-align: top; margin: 0 1px;}\n",
       "#gnb.gnb_one_flat .mail_li a.gnb_mail .gnb_icon,\n",
       "#gnb.gnb_one_flat .mail_li a.gnb_mail:hover .gnb_icon {background-image: url(https://ssl.pstatic.net/static/common/gnb/one/sp_gnb_4b16e6.png);background-position: 0px -42px;background-repeat: no-repeat;width: 20px;height: 16px;vertical-align: top;margin: 0 1px;}\n",
       "#gnb.gnb_one_flat .gnb_notice_li a.gnb_notice .gnb_icon,\n",
       "#gnb.gnb_one_flat .gnb_notice_li a.gnb_notice:hover .gnb_icon {background-image: url(https://ssl.pstatic.net/static/common/gnb/one/sp_gnb_4b16e6.png);background-position: -84px 0px;background-repeat: no-repeat;width: 16px;height: 18px;vertical-align: top;margin: 0 1px;}\n",
       "#gnb.gnb_one_flat .gnb_my_li .gnb_my .gnb_name,\n",
       "#gnb.gnb_one_flat .gnb_login_li .gnb_btn_login .gnb_txt {color: #666;}\n",
       "#gnb.gnb_one_pwe .gnb_my .filter_mask {box-sizing: border-box;background: none;border: 1px solid rgba(0,0,0,.1);border-radius: 100%;}\n",
       "#gnb.gnb_one_pwe .gnb_my_namebox {background-image: url(https://ssl.pstatic.net/static/common/gnb/pwe/ico_arrow_wh.svg) !important;}\n",
       "#gnb.gnb_one_pwe .gnb_notice_li a.gnb_notice .gnb_icon,\n",
       "#gnb.gnb_one_pwe .gnb_notice_li a.gnb_notice:hover .gnb_icon {width: 17px;height: 19px;background: url(https://ssl.pstatic.net/static/common/gnb/pwe/gnb_notice.svg) no-repeat;}\n",
       "#gnb.gnb_one_pwe .gnb_service_li .gnb_service .gnb_icon,\n",
       "#gnb.gnb_one_pwe .gnb_service_li .gnb_service:hover .gnb_icon {width: 17px;height: 17px;background: url(https://ssl.pstatic.net/static/common/gnb/pwe/gnb_service.svg) no-repeat;}\n",
       "#gnb.gnb_one_pwe .gnb_ico_num .gnb_ico_new,\n",
       "#gnb.gnb_one_pwe .gnb_ico_num .gnb_count {background: #e1523a;}\n",
       "#gnb.gnb_one_pwe .gnb_ico_num .gnb_ico_new {border-radius: 13px 0 0 13px;}\n",
       "#gnb.gnb_one_pwe .gnb_ico_num .gnb_count {border-radius: 0 13px 13px 0;}</style><script async=\"\" charset=\"utf-8\" src=\"https://ssl.pstatic.net/tveta/libs/glad/prod/2.12.1/gfp-ext-nda.js\" type=\"text/javascript\"></script><script charset=\"utf-8\" id=\"gnb_clickcrD\" src=\"https://ssl.pstatic.net/static.gn/js/clickcrD.js\"></script></head><body><div id=\"u_skip\"><a href=\"#content\">본문으로 바로가기</a></div><link href=\"https://ssl.pstatic.net/pwe/css/deskhome_header_https_20220921.css\" rel=\"stylesheet\" type=\"text/css\"/>\n",
       "<div class=\"h_mail_renewal\" id=\"header\">\n",
       "<h1>\n",
       "<a class=\"naver\" href=\"http://www.naver.com\"><span class=\"blind\">NAVER</span></a>\n",
       "<a class=\"_svc_lnk pwe_home\" href=\"http://mail.naver.com\"><span class=\"_header_tit blind\">메일</span></a>\n",
       "<span class=\"pwe_slogan\"></span>\n",
       "</h1>\n",
       "<!-- 로그인 -->\n",
       "<div class=\"login_group\">\n",
       "<!-- GNB -->\n",
       "<div class=\"gnb_one gnb_one_flat gnb_one_pwe\" id=\"gnb\"><strong class=\"blind\">사용자 링크</strong><ul class=\"gnb_lst\" id=\"gnb_lst\" style=\"display: block;\"><li class=\"gnb_login_li\" id=\"gnb_login_layer\" style=\"display: none;\"><a class=\"gnb_btn_login\" href=\"https://nid.naver.com/nidlogin.login\" id=\"gnb_login_button\"><span class=\"gnb_bg\"></span><span class=\"gnb_bdr\"></span><span class=\"gnb_txt\">로그인</span></a></li><li class=\"gnb_my_li\" id=\"gnb_my_layer\" style=\"display: inline-block;\"><div class=\"gnb_my_namebox\" id=\"gnb_my_namebox\" style='background-image: url(\"https://ssl.pstatic.net/static/common/gnb/2014/ico_arrow_bl1.gif\");'><a class=\"gnb_my\" href=\"javascript:;\" id=\"gnb_my\" onclick=\"gnbUserLayer.clickToggle(); return false;\"><img alt=\"내 프로필 이미지\" height=\"26\" id=\"gnb_profile_img\" onerror=\"this.src='data:image/png;base64,iVBORw0KGgoAAAANSUhEUgAAAFAAAABQCAMAAAC5zwKfAAAAGXRFWHRTb2Z0d2FyZQBBZG9iZSBJbWFnZVJlYWR5ccllPAAAADNQTFRF8PDw5ubm+vr6+/v76enp+Pj47e3t5+fn9/f37Ozs9PT08vLy7+/v6urq9fX15OTk/f39pqwodgAAAQNJREFUeNrs11EOgyAMgOEWUAF19f6n3cMeplJHoSZbsv4H+DIWaCNsNwcGGmiggQZ+D/Q5reuasr8H9ID0CsHfALpA74JTgwPSPnRK0Ac6FrwOXOjcogIdlTkNuDDgogGRAVEBDsQ19IMzC879ILAgGNgAZhbMP3RttonxJs1Lgea/sDYcyreHXjW+oPUHVid2MWC1K+A0sqsDW7CksGmlCNZoFt9pIfjYgY8bwMMexUENQuOtqYCxfHtT7AddYodDcp0gIPEh9IBxous+nBuaTis4Nw/OSLVwloN+JEmjGJR5FyIDRpIWZeAoBkcZGMRgkIEkz0D7GjXQQAMN/GvwKcAAEGGHJh0mmaAAAAAASUVORK5CYII='\" src=\"https://ssl.pstatic.net/static/common/myarea/myInfo.gif\" style=\"display: inline-block;\" width=\"26\"/><span class=\"filter_mask\" id=\"gnb_profile_filter_mask\" style=\"display: inline-block;\"></span> <span class=\"gnb_name\" id=\"gnb_name1\">으아아악</span><em class=\"blind\">내정보 보기</em><span class=\"ico_arrow\"></span></a><a class=\"gnb_emp\" href=\"#\" id=\"gnb_emp\" style=\"display: none;\">(임직원혜택)</a></div><div class=\"gnb_my_lyr\" id=\"gnb_my_lyr\"><div class=\"gnb_my_content\"><div class=\"gnb_img_area\"><span class=\"gnb_mask\"></span><img alt=\"프로필 이미지\" height=\"80\" onerror=\"this.src='data:image/png;base64,iVBORw0KGgoAAAANSUhEUgAAAFAAAABQCAMAAAC5zwKfAAAAGXRFWHRTb2Z0d2FyZQBBZG9iZSBJbWFnZVJlYWR5ccllPAAAADNQTFRF8PDw5ubm+vr6+/v76enp+Pj47e3t5+fn9/f37Ozs9PT08vLy7+/v6urq9fX15OTk/f39pqwodgAAAQNJREFUeNrs11EOgyAMgOEWUAF19f6n3cMeplJHoSZbsv4H+DIWaCNsNwcGGmiggQZ+D/Q5reuasr8H9ID0CsHfALpA74JTgwPSPnRK0Ac6FrwOXOjcogIdlTkNuDDgogGRAVEBDsQ19IMzC879ILAgGNgAZhbMP3RttonxJs1Lgea/sDYcyreHXjW+oPUHVid2MWC1K+A0sqsDW7CksGmlCNZoFt9pIfjYgY8bwMMexUENQuOtqYCxfHtT7AddYodDcp0gIPEh9IBxous+nBuaTis4Nw/OSLVwloN+JEmjGJR5FyIDRpIWZeAoBkcZGMRgkIEkz0D7GjXQQAMN/GvwKcAAEGGHJh0mmaAAAAAASUVORK5CYII='\" src=\"https://ssl.pstatic.net/static/common/myarea/myInfo.gif\" width=\"80\"/><a class=\"gnb_change\" href=\"https://nid.naver.com/user2/api/naverProfile?m=checkIdType\"><span class=\"blind\">프로필 사진 변경</span></a></div><div class=\"gnb_txt_area\"><p class=\"gnb_account\"><span class=\"gnb_name\" id=\"gnb_name2\"><a class=\"gnb_nick\" href=\"https://nid.naver.com/user2/api/naverProfile?m=checkIdType\">으아아악</a>님</span><a class=\"gnb_btn_login\" href=\"https://nid.naver.com/nidlogin.logout?returl=https://www.naver.com\" id=\"gnb_logout_button\"><span class=\"gnb_bg\"></span><span class=\"gnb_bdr\"></span><span class=\"gnb_txt\">로그아웃</span></a></p><a class=\"gnb_mail_address\" href=\"https://mail.naver.com\">zx0696@naver.com</a><ul class=\"gnb_edit_lst\"><li class=\"gnb_info\"><a href=\"https://nid.naver.com/user2/help/myInfo?menu=home\">네이버ID</a></li><li class=\"gnb_secure\" id=\"gnb_secure_lnk\"><a href=\"https://nid.naver.com/user2/help/myInfo?m=viewSecurity&amp;menu=security\">보안설정</a></li><li class=\"gnb_cert\" id=\"gnb_cert_lnk\"><a href=\"https://nid.naver.com/user2/eSign/v1/home/land\" id=\"gnb_cert_lnk_a\">내인증서</a></li></ul><div class=\"gnb_pay_check\" id=\"gnb_pay_check\"><p class=\"gnb_membership\" id=\"gnb_membership\" style=\"display: inline-block;\"><a class=\"gnb_my_membership\" href=\"https://nid.naver.com/membership/my\" id=\"gnb_my_membership\"><i class=\"blind\">네이버 멤버쉽</i></a></p><em>N Pay</em><a href=\"https://pay.naver.com\" id=\"gnb_pay_point\"><span style=\"display: none\">내 페이포인트</span></a></div></div></div><div class=\"gnb_my_community\"><a class=\"gnb_blog\" href=\"https://blog.naver.com/MyBlog.naver\">내 블로그</a><a class=\"gnb_cafe\" href=\"https://section.cafe.naver.com\">가입한 카페</a><a class=\"gnb_pay\" href=\"https://pay.naver.com\" id=\"gnb_pay_banner_membership\" style=\"display: block;\"><span>N Pay</span></a><a class=\"gnb_pay\" href=\"https://nid.naver.com/membership/join\" id=\"gnb_pay_banner_newbie\" style=\"display: none;\"><i>네이버 멤버십 최대 5% 적립</i></a></div><a class=\"gnb_my_interface\" href=\"#\" style=\"display:none\"><span class=\"blind\">환경설정</span></a></div><iframe class=\"gnb_pad_lyr\" frameborder=\"0\" height=\"0\" id=\"gnb_my_lyr_iframe\" name=\"padding\" scrolling=\"no\" style=\"top: 55px; right: 10px; width: 320px; height: 158px; display: none; opacity: 0;\" title=\"빈 프레임\" width=\"0\"></iframe></li><li class=\"gnb_notice_li\" id=\"gnb_notice_layer\" style=\"display: inline-block;\"><a class=\"gnb_notice\" href=\"javascript:;\" onclick=\"gnbNaverMeLayer.clickToggle(); return false;\"><span class=\"blind\">알림</span><span class=\"gnb_icon\"></span><em class=\"gnb_ico_num\" id=\"gnb_me_menu\" style=\"display:none\"><span class=\"gnb_ico_new\"><span class=\"gnb_count\" id=\"gnb_me_count\" style=\"display: inline-block;\"></span></span></em><span class=\"ico_arrow\"></span></a><div class=\"gnb_notice_lyr\" id=\"gnb_notice_lyr\"><div class=\"svc_noti svc_panel\"><div class=\"svc_scroll\"><div class=\"svc_head\"><strong class=\"gnb_tit\">전체 알림</strong><div class=\"task_right\"><button id=\"gnb_btn_read_noti_del\" onclick=\"gnbNaverMeLayer.deleteReadList(this, event);\">읽은 알림 삭제</button><button id=\"gnb_btn_all_noti_del\" onclick=\"gnbNaverMeLayer.showDeleteAlert();\">모두 삭제</button></div></div><div class=\"svc_body\" id=\"gnb_naverme_layer\"></div></div><div class=\"gnb_ly_alert\" id=\"gnb_ly_alert\" style=\"display: none;\"><p class=\"gnb_msg\"><strong>알림을 모두 삭제하시겠습니까?</strong></p><div class=\"gnb_btns\"><button id=\"ly_alert_confirm\" onclick=\"gnbNaverMeLayer.deleteAllList(this, event);\">확인</button><button onclick=\"gnbNaverMeLayer.hideDeleteAlert();\">취소</button></div><button class=\"gnb_btn_close\" onclick=\"gnbNaverMeLayer.hideDeleteAlert();\"><i>레이어 닫기</i></button></div><a class=\"gnb_notice_all\" href=\"https://m.notify.naver.com\">내 알림 전체보기</a></div></div><iframe class=\"gnb_pad_lyr\" frameborder=\"0\" height=\"0\" id=\"gnb_notice_lyr_iframe\" name=\"padding\" scrolling=\"no\" style=\"top: 55px; right: 10px; width: 299px; height: 332px; display: none; opacity: 0;\" title=\"빈 프레임\" width=\"0\"></iframe></li><li class=\"mail_li\" id=\"gnb_mail_layer\" style=\"display:none\"><a class=\"gnb_mail\" href=\"https://mail.naver.com\"><span class=\"blind\">메일</span><span class=\"gnb_icon\"></span><em class=\"gnb_ico_num\" id=\"gnb_mail_menu\" style=\"display: block;\"><span class=\"gnb_ico_new\"><span class=\"gnb_count\" id=\"gnb_mail_count\" style=\"display: inline-block;\">99<span class=\"plus\">+</span></span></span></em></a></li><li class=\"gnb_service_li\" id=\"gnb_service_layer\" style=\"display: inline-block;\"><a class=\"gnb_service\" href=\"javascript:;\" onclick=\"gnbMoreLayer.clickToggle(); return false;\"><span class=\"blind\">서비스 더보기</span><span class=\"gnb_icon\"></span><span class=\"ico_arrow\"></span></a><div class=\"gnb_service_lyr\" id=\"gnb_service_lyr\"><div class=\"gnb_favorite_search\" id=\"gnb_favorite_search\"><div class=\"gnb_favorite_area\"><div class=\"gnb_favorite_lstwrp\"><div class=\"gnb_first_visit\" style=\"display:none\"><span class=\"blind\">나만의 즐겨찾기를 추가해 보세요!</span><a class=\"gnb_close\" href=\"#\"><span class=\"blind\">닫기</span></a></div><strong class=\"blind\">즐겨찾는 서비스</strong><ul class=\"gnb_favorite_lst\" id=\"gnb_favorite_lst\"><li class=\"gnb_add\"><a href=\"#\"><span class=\"ic_add\"></span>추가</a></li><li class=\"gnb_add\"><a href=\"#\"><span class=\"ic_add\"></span>추가</a></li><li class=\"gnb_add\"><a href=\"#\"><span class=\"ic_add\"></span>추가</a></li><li class=\"gnb_add\"><a href=\"#\"><span class=\"ic_add\"></span>추가</a></li></ul><a class=\"gnb_my_interface\" href=\"#\" onclick=\"gnbMoreLayer.clickToggleWhole(); return false;\"><span class=\"blind\">즐겨찾기 설정</span></a></div></div><div class=\"gnb_search_area\"><div class=\"gnb_search_box\" onmouseout=\"gnb_search.mouseOut(this);\" onmouseover=\"gnb_search.mouseOver(this);\"><input id=\"gnb_svc_search_input\" onblur=\"gnb_search.resetInput(this);\" onfocus=\"gnb_search.clearInput(this);\" onkeydown=\"gnb_search.keyDown(event);\" onkeyup=\"gnb_search.keyUp(event);\" title=\"서비스 검색\" type=\"text\" value=\"더 많은 서비스를 간편하게 시작하세요!\"/><a class=\"gnb_del_txt\" href=\"#\" id=\"gnb_del_txt\" style=\"display:none\"><span class=\"blind\">삭제</span></a><div class=\"gnb_pop_input\" id=\"gnb_pop_input\" onfocus=\"gnb_search.searchPopOnMouse = true; return false;\" onfocusout=\"gnb_search.searchPopOnMouse = false; return false;\" onmouseout=\"gnb_search.searchPopOnMouse = false; return false;\" onmouseover=\"gnb_search.searchPopOnMouse = true; return false;\" style=\"display:none\" tabindex=\"0\"><ul class=\"gnb_pop_lst\"></ul></div></div><div class=\"gnb_search_lstwrp\" id=\"gnb_search_lstwrp\"><ul class=\"gnb_search_lst gnb_first\"><li class=\"gnb_first\"><a href=\"https://cafe.naver.com/\" id=\"gnb_search_lst_first_item\">카페</a></li><li><a href=\"https://news.naver.com/\">뉴스</a></li><li><a href=\"https://map.naver.com/\">지도</a></li><li><a href=\"https://sports.news.naver.com/\">스포츠</a></li><li><a href=\"https://game.naver.com/\">게임</a></li></ul><ul class=\"gnb_search_lst\"><li class=\"gnb_first\"><a href=\"https://section.blog.naver.com/\">블로그</a></li><li><a href=\"https://post.naver.com/main.nhn\">포스트</a></li><li><a href=\"https://dict.naver.com/\">사전</a></li><li><a href=\"https://kin.naver.com/\">지식iN</a></li><li><a href=\"https://weather.naver.com/\">날씨</a></li></ul><ul class=\"gnb_search_lst\"><li class=\"gnb_first\"><a href=\"https://mail.naver.com/\">메일</a></li><li><a href=\"https://stock.naver.com/\">증권</a></li><li><a href=\"https://land.naver.com/\">부동산</a></li><li><a href=\"https://vibe.naver.com/today/\">VIBE</a></li><li><a href=\"https://book.naver.com\">책</a></li></ul><ul class=\"gnb_search_lst\"><li class=\"gnb_first\"><a href=\"https://shopping.naver.com/\">쇼핑</a></li><li><a href=\"https://comic.naver.com/\">웹툰</a></li><li><a href=\"https://movie.naver.com/\">영화</a></li><li><a href=\"https://mybox.naver.com/\">MYBOX</a></li><li><a href=\"https://novel.naver.com/webnovel/weekday\">웹소설</a></li></ul></div></div><div class=\"gnb_banner\"><a class=\"gnb_service_event\" href=\"https://campaign.naver.com/npay/rediret/index.nhn\"><img alt=\"N페이, 이벤트 참여하면 포인트 적립!\" height=\"47\" id=\"gnb_promo\" src=\"https://ssl.pstatic.net/static/common/gnb/banner/promo_npay_200108.png\" width=\"265\"/></a></div><div class=\"gnb_linkwrp\"><a class=\"gnb_service_all\" href=\"https://www.naver.com/more.html\" id=\"gnb_service_all\">전체 서비스 보기</a></div></div><div class=\"gnb_svc_more\" id=\"gnb_svc_more\" style=\"\"><strong class=\"blind\">네이버 주요 서비스</strong><div class=\"gnb_bg_top\"></div><div class=\"gnb_svc_hd\" id=\"gnb_svc_hd\" tabindex=\"0\"><strong class=\"gnb_svc_tit\">바로가기 설정</strong><span class=\"link\"><a href=\"https://www.naver.com/more.html\">전체 서비스 보기</a></span></div><div class=\"gnb_svc_lstwrp\"><div class=\"gnb_svc_lst1\"><ul class=\"gnb_first\"><li><input class=\"gnb_input_check\" id=\"nsvc_game\" name=\"selmenu\" type=\"checkbox\" value=\"\"/> <label for=\"nsvc_game\">게임</label></li><li><input class=\"gnb_input_check\" id=\"nsvc_weather\" name=\"selmenu\" type=\"checkbox\" value=\"\"/> <label for=\"nsvc_weather\">날씨</label></li><li><input class=\"gnb_input_check\" id=\"nsvc_shopping\" name=\"selmenu\" type=\"checkbox\" value=\"\"/> <label for=\"nsvc_shopping\">네이버쇼핑</label></li><li><input class=\"gnb_input_check\" id=\"nsvc_navercast\" name=\"selmenu\" type=\"checkbox\" value=\"\"/> <label for=\"nsvc_navercast\">네이버캐스트</label></li><li class=\"gnb_event\"><input class=\"gnb_input_check\" id=\"nsvc_naverpay\" name=\"selmenu\" type=\"checkbox\" value=\"\"/> <label for=\"nsvc_naverpay\">네이버페이<em class=\"ic_gnb_new\">New</em></label></li><li><input class=\"gnb_input_check\" id=\"nsvc_mybox\" name=\"selmenu\" type=\"checkbox\" value=\"\"/> <label for=\"nsvc_mybox\">네이버 MYBOX</label></li><li><input class=\"gnb_input_check\" id=\"nsvc_news\" name=\"selmenu\" type=\"checkbox\" value=\"\"/> <label for=\"nsvc_news\">뉴스</label></li><li><input class=\"gnb_input_check\" id=\"nsvc_comic\" name=\"selmenu\" type=\"checkbox\" value=\"\"/> <label for=\"nsvc_comic\">웹툰</label></li><li><input class=\"gnb_input_check\" id=\"nsvc_memo\" name=\"selmenu\" type=\"checkbox\" value=\"\"/> <label for=\"nsvc_memo\">메모</label></li><li><input class=\"gnb_input_check\" id=\"nsvc_mail\" name=\"selmenu\" type=\"checkbox\" value=\"\"/> <label for=\"nsvc_mail\">메일</label></li><li><input class=\"gnb_input_check\" id=\"nsvc_land\" name=\"selmenu\" type=\"checkbox\" value=\"\"/> <label for=\"nsvc_land\">부동산</label></li><li><input class=\"gnb_input_check\" id=\"nsvc_bookmark\" name=\"selmenu\" type=\"checkbox\" value=\"\"/> <label for=\"nsvc_bookmark\">북마크</label></li><li><input class=\"gnb_input_check\" id=\"nsvc_blog\" name=\"selmenu\" type=\"checkbox\" value=\"\"/> <label for=\"nsvc_blog\">블로그</label></li></ul><ul class=\"\"><li><input class=\"gnb_input_check\" id=\"nsvc_dic\" name=\"selmenu\" type=\"checkbox\" value=\"\"/> <label for=\"nsvc_dic\">사전</label></li><li><input class=\"gnb_input_check\" id=\"nsvc_smartboard\" name=\"selmenu\" type=\"checkbox\" value=\"\"/> <label for=\"nsvc_smartboard\">스마트보드</label></li><li><input class=\"gnb_input_check\" id=\"nsvc_sports\" name=\"selmenu\" type=\"checkbox\" value=\"\"/> <label for=\"nsvc_sports\">스포츠</label></li><li><input class=\"gnb_input_check\" id=\"nsvc_series\" name=\"selmenu\" type=\"checkbox\" value=\"\"/> <label for=\"nsvc_series\">시리즈</label></li><li><input class=\"gnb_input_check\" id=\"nsvc_serieson\" name=\"selmenu\" type=\"checkbox\" value=\"\"/> <label for=\"nsvc_serieson\">시리즈on</label></li><li><input class=\"gnb_input_check\" id=\"nsvc_movie\" name=\"selmenu\" type=\"checkbox\" value=\"\"/> <label for=\"nsvc_movie\">영화</label></li><li><input class=\"gnb_input_check\" id=\"nsvc_office\" name=\"selmenu\" type=\"checkbox\" value=\"\"/> <label for=\"nsvc_office\">오피스</label></li><li><input class=\"gnb_input_check\" id=\"nsvc_novel\" name=\"selmenu\" type=\"checkbox\" value=\"\"/> <label for=\"nsvc_novel\">웹소설</label></li><li><input class=\"gnb_input_check\" id=\"nsvc_contact\" name=\"selmenu\" type=\"checkbox\" value=\"\"/> <label for=\"nsvc_contact\">주소록</label></li><li><input class=\"gnb_input_check\" id=\"nsvc_finance\" name=\"selmenu\" type=\"checkbox\" value=\"\"/> <label for=\"nsvc_finance\">증권(금융)</label></li><li><input class=\"gnb_input_check\" id=\"nsvc_map\" name=\"selmenu\" type=\"checkbox\" value=\"\"/> <label for=\"nsvc_map\">지도</label></li><li><input class=\"gnb_input_check\" id=\"nsvc_kin\" name=\"selmenu\" type=\"checkbox\" value=\"\"/> <label for=\"nsvc_kin\">지식iN</label></li><li><input class=\"gnb_input_check\" id=\"nsvc_terms\" name=\"selmenu\" type=\"checkbox\" value=\"\"/> <label for=\"nsvc_terms\">지식백과</label></li></ul><ul class=\"\"><li><input class=\"gnb_input_check\" id=\"nsvc_book\" name=\"selmenu\" type=\"checkbox\" value=\"\"/> <label for=\"nsvc_book\">책</label></li><li><input class=\"gnb_input_check\" id=\"nsvc_cafe\" name=\"selmenu\" type=\"checkbox\" value=\"\"/> <label for=\"nsvc_cafe\">카페</label></li><li><input class=\"gnb_input_check\" id=\"nsvc_calendar\" name=\"selmenu\" type=\"checkbox\" value=\"\"/> <label for=\"nsvc_calendar\">캘린더</label></li><li><input class=\"gnb_input_check\" id=\"nsvc_navertv\" name=\"selmenu\" type=\"checkbox\" value=\"\"/> <label for=\"nsvc_navertv\">네이버TV</label></li></ul></div><div class=\"svc_lst2\"><div class=\"svc_spc gnb_first\"><strong><a href=\"https://dict.naver.com/\">어학사전</a></strong><ul class=\"\"><li><input class=\"gnb_input_check\" id=\"nsvc_krdic\" name=\"selmenu\" type=\"checkbox\" value=\"\"/> <label for=\"nsvc_krdic\">국어사전</label></li><li><input class=\"gnb_input_check\" id=\"nsvc_endic\" name=\"selmenu\" type=\"checkbox\" value=\"\"/> <label for=\"nsvc_endic\">영어/영영사전</label></li><li><input class=\"gnb_input_check\" id=\"nsvc_hanja\" name=\"selmenu\" type=\"checkbox\" value=\"\"/> <label for=\"nsvc_hanja\">한자사전</label></li><li><input class=\"gnb_input_check\" id=\"nsvc_jpdic\" name=\"selmenu\" type=\"checkbox\" value=\"\"/> <label for=\"nsvc_jpdic\">일어사전</label></li><li><input class=\"gnb_input_check\" id=\"nsvc_cndic\" name=\"selmenu\" type=\"checkbox\" value=\"\"/> <label for=\"nsvc_cndic\">중국어사전</label></li><li><input class=\"gnb_input_check\" id=\"nsvc_frdic\" name=\"selmenu\" type=\"checkbox\" value=\"\"/> <label for=\"nsvc_frdic\">프랑스어사전</label></li><li><input class=\"gnb_input_check\" id=\"nsvc_dedic\" name=\"selmenu\" type=\"checkbox\" value=\"\"/> <label for=\"nsvc_dedic\">독일어사전</label></li><li><input class=\"gnb_input_check\" id=\"nsvc_rudic\" name=\"selmenu\" type=\"checkbox\" value=\"\"/> <label for=\"nsvc_rudic\">러시아어사전</label></li><li><input class=\"gnb_input_check\" id=\"nsvc_vndic\" name=\"selmenu\" type=\"checkbox\" value=\"\"/> <label for=\"nsvc_vndic\">베트남어사전</label></li><li><input class=\"gnb_input_check\" id=\"nsvc_spdic\" name=\"selmenu\" type=\"checkbox\" value=\"\"/> <label for=\"nsvc_spdic\">스페인어사전</label></li><li><input class=\"gnb_input_check\" id=\"nsvc_papago\" name=\"selmenu\" type=\"checkbox\" value=\"\"/> <label for=\"nsvc_papago\">파파고</label></li></ul></div><div class=\"svc_spc\"><strong>인기/신규서비스</strong><ul class=\"\"><li><input class=\"gnb_input_check\" id=\"nsvc_grafolio\" name=\"selmenu\" type=\"checkbox\" value=\"\"/> <label for=\"nsvc_grafolio\">그라폴리오</label></li><li><input class=\"gnb_input_check\" id=\"nsvc_post\" name=\"selmenu\" type=\"checkbox\" value=\"\"/> <label for=\"nsvc_post\">포스트</label></li><li><input class=\"gnb_input_check\" id=\"nsvc_band\" name=\"selmenu\" type=\"checkbox\" value=\"\"/> <label for=\"nsvc_band\">밴드</label></li><li><input class=\"gnb_input_check\" id=\"nsvc_line\" name=\"selmenu\" type=\"checkbox\" value=\"\"/> <label for=\"nsvc_line\">라인</label></li><li class=\"gnb_event\"><input class=\"gnb_input_check\" id=\"nsvc_vibe\" name=\"selmenu\" type=\"checkbox\" value=\"\"/> <label for=\"nsvc_vibe\">VIBE<em class=\"ic_gnb_new\">New</em></label></li><li><input class=\"gnb_input_check\" id=\"nsvc_pcontents\" name=\"selmenu\" type=\"checkbox\" value=\"\"/> <label for=\"nsvc_pcontents\">프리미엄콘텐츠</label></li></ul></div></div></div><div class=\"svc_btnwrp\"><div class=\"svc_btns\"><button class=\"gnb_save\" onclick=\"if(gnbFavorite.addService()){gnbMoreLayer.clickToggleWhole()} return false;\"><strong class=\"blind\">확인</strong></button><button class=\"gnb_close\" onclick=\"gnbFavorite.cancel(); return false;\"><span class=\"blind\">취소</span></button><button class=\"gnb_return\" onclick=\"gnbFavorite.resetService(); return false;\"><span class=\"blind\">초기 설정으로 변경</span></button></div></div><div class=\"gnb_bg_btm\"></div></div></div><iframe class=\"gnb_pad_lyr\" frameborder=\"0\" height=\"0\" id=\"gnb_service_lyr_iframe\" name=\"padding\" scrolling=\"no\" style=\"display: none; top: 55px; right: 311px; width: 585px; height: 385px; opacity: 0;\" title=\"빈 프레임\" width=\"0\"></iframe><iframe class=\"gnb_pad_lyr\" frameborder=\"0\" height=\"0\" id=\"gnb_svc_more_iframe\" name=\"padding\" scrolling=\"no\" style=\"display: none; top: 55px; right: 10px; width: 295px; height: 385px; opacity: 0;\" title=\"빈 프레임\" width=\"0\"></iframe></li></ul></div>\n",
       "<!-- //GNB -->\n",
       "</div>\n",
       "<!-- //로그인 -->\n",
       "<div class=\"gnb_area\">\n",
       "<h2 class=\"blind\">PWE서비스 바로가기</h2>\n",
       "<div class=\"gnb_list_box\" id=\"gnb_list\">\n",
       "<div class=\"gnb_first\">\n",
       "<ul>\n",
       "<li class=\"_mail mail\">\n",
       "<a class=\"mail\" href=\"https://mail.naver.com\"><span class=\"blind\">메일</span><span class=\"article_num\" style=\"display:none\"><em class=\"_count\"></em></span></a>\n",
       "<div class=\"pwe_tooltip\"><span class=\"blind\">메일</span></div>\n",
       "</li>\n",
       "<li class=\"_calendar calendar\">\n",
       "<a class=\"calendar\" href=\"https://calendar.naver.com\"><span class=\"blind\">캘린더</span></a>\n",
       "<div class=\"pwe_tooltip\"><span class=\"blind\">캘린더</span></div>\n",
       "</li>\n",
       "<li class=\"_memo memo\">\n",
       "<a class=\"memo\" href=\"https://memo.naver.com\"><span class=\"blind\">메모</span></a>\n",
       "<div class=\"pwe_tooltip\"><span class=\"blind\">메모</span></div>\n",
       "</li>\n",
       "<li class=\"_contact contact\">\n",
       "<a class=\"contact\" href=\"https://contact.naver.com\"><span class=\"blind\">주소록</span></a>\n",
       "<div class=\"pwe_tooltip\"><span class=\"blind\">주소록</span></div>\n",
       "</li>\n",
       "<li class=\"_ndrive ndrive\">\n",
       "<a class=\"ndrive\" href=\"https://mybox.naver.com\"><span class=\"blind\">MYBOX</span></a>\n",
       "<div class=\"pwe_tooltip\"><span class=\"blind\">MYBOX</span></div>\n",
       "</li>\n",
       "<li class=\"_office office\">\n",
       "<a class=\"office\" href=\"https://office.naver.com\"><span class=\"blind\">오피스</span></a>\n",
       "<div class=\"pwe_tooltip\"><span class=\"blind\">오피스</span></div>\n",
       "</li>\n",
       "<li class=\"_moneybook moneybook\">\n",
       "<a class=\"moneybook\" href=\"http://moneybook.naver.com\"><span class=\"blind\">가계부</span></a>\n",
       "<div class=\"pwe_tooltip\"><span class=\"blind\">가계부</span></div>\n",
       "</li>\n",
       "<li class=\"_keep keep\">\n",
       "<a class=\"keep\" href=\"https://keep.naver.com\"><span class=\"blind\">Keep</span></a>\n",
       "<div class=\"pwe_tooltip\"><span class=\"blind\">Keep</span></div>\n",
       "</li>\n",
       "</ul>\n",
       "</div>\n",
       "</div>\n",
       "</div>\n",
       "</div>\n",
       "<div id=\"root\"><div><div class=\"wrap\"><header class=\"header\"><div class=\"main_header\"><h1 class=\"logo_wrap\"><a class=\"logo_naver\"><span class=\"blind\">네이버</span></a><a class=\"logo_text\" href=\"#\"><span class=\"blind\">메일</span></a></h1><h2 class=\"title_wrap\"><a class=\"menu_title\" href=\"#\">받은메일함</a><button class=\"menu_count\" type=\"button\"><span class=\"blind\">안 읽은 메일</span><span class=\"count\">713</span><span class=\"blind\">개</span></button></h2><div class=\"button_wrap\"><button class=\"button_svg_search\" type=\"button\"><span class=\"blind\">검색</span></button><button class=\"button_lnb\" type=\"button\"><span class=\"blind\">메뉴 열기</span></button></div></div></header><div class=\"container\" role=\"main\"><div class=\"contents\" id=\"content\"><div class=\"smart_channel\"><div id=\"smart-channel-1\"><div style=\"width: 100%; height: auto; margin: 0px auto; line-height: 0;\"><iframe frameborder=\"no\" id=\"smart-channel-1_tgtLREC\" name=\"\" scrolling=\"no\" style=\"width: 100%; height: 0px; visibility: inherit; border: 0px; vertical-align: bottom;\" tabindex=\"0\" title=\"AD\"></iframe></div></div><button class=\"button_close\" type=\"button\"><span class=\"text\">오늘 그만 보기</span></button></div><div class=\"contents_header\"><div class=\"smart_tab_area\"><div class=\"smart_tab\"><ul class=\"smart_tab_list\"><li class=\"smart_tab_item\"><a class=\"smart_tab_link selected\" href=\"#\">받은메일함<span class=\"blind\">선택됨</span></a></li><li class=\"smart_tab_item\"><a class=\"smart_tab_link\" href=\"#\">프로모션<em class=\"icon_new\"><span class=\"blind\">새로 추가됨</span></em></a></li><li class=\"smart_tab_item\"><a class=\"smart_tab_link\" href=\"#\">청구·결제<em class=\"icon_new\"><span class=\"blind\">새로 추가됨</span></em></a></li><li class=\"smart_tab_item\"><a class=\"smart_tab_link\" href=\"#\">SNS<em class=\"icon_new\"><span class=\"blind\">새로 추가됨</span></em></a></li><li class=\"smart_tab_item\"><a class=\"smart_tab_link\" href=\"#\">카페</a></li></ul><div class=\"button_add_wrap hide_shadow\"><button class=\"button_add\" type=\"button\"><span class=\"blind\">즐겨 찾는 메일함 추가</span></button></div></div></div><div class=\"search_area\"><div class=\"search_bar_wrap\" id=\"search-bar\"><div class=\"search_bar\" role=\"search\"><label class=\"blind\" for=\"search\">메일 검색</label><input autocomplete=\"off\" class=\"search_input\" id=\"search\" maxlength=\"100\" placeholder=\"메일 검색\" type=\"text\" value=\"\"/><button class=\"button_svg_search\" type=\"button\"><span class=\"blind\">검색</span></button></div><button class=\"button_detail\" type=\"button\">상세<span class=\"blind\">검색 열기</span></button></div></div></div><div class=\"mail_toolbar\"><div class=\"mail_toolbar_count\"><span class=\"current\"><strong class=\"count\">0</strong><span class=\"text\">개 선택</span></span><span class=\"total\"><span class=\"blind\">전체</span>15<span class=\"blind\">개</span></span></div><div class=\"mail_toolbar_task\"><div class=\"button_group\"><div class=\"button_optional_select\"><div class=\"button_checkbox_wrap\"><input class=\"button_checkbox blind\" id=\"selection_all\" type=\"checkbox\"/><label for=\"selection_all\"><span class=\"blind\">전체 메일</span></label></div><button class=\"button_task_dropdown\" type=\"button\"><span class=\"blind\">메일 선택 옵션</span></button></div><div class=\"button_task_wrap button_select\"><button class=\"button_task svg_select\" type=\"button\"><span class=\"text\">전체선택</span></button></div><div class=\"button_task_wrap\"><button class=\"button_task svg_read\" disabled=\"\" type=\"button\"><span class=\"text\">읽음</span></button></div><div class=\"button_task_wrap\"><button class=\"button_task svg_delete\" disabled=\"\" type=\"button\"><span class=\"text\">삭제</span></button></div><div class=\"button_task_wrap\"><button class=\"button_task svg_spam\" disabled=\"\" type=\"button\"><span class=\"text\">스팸차단</span></button></div></div><div class=\"button_group\"><div class=\"button_task_wrap button_reply\"><button class=\"button_task\" disabled=\"\" type=\"button\"><span class=\"text\">답장</span></button></div><div class=\"button_task_wrap button_reply_all\"><button class=\"button_task\" disabled=\"\" type=\"button\"><span class=\"text\">전체답장</span></button></div><div class=\"button_task_wrap button_forward\"><button class=\"button_task\" disabled=\"\" type=\"button\"><span class=\"text\">전달</span></button></div></div><div class=\"button_group\"><div class=\"button_task_wrap\"><button class=\"button_task_dropdown svg_move\" disabled=\"\" type=\"button\"><span class=\"text\">이동</span></button></div><div class=\"button_task_wrap button_etc\"><button class=\"button_task_dropdown svg_etc\" disabled=\"\" type=\"button\"><span class=\"text\">더보기</span></button></div><div class=\"button_task_wrap button_filter\"><button class=\"button_task_dropdown\" type=\"button\"><span class=\"text\">필터</span></button><div class=\"layer_context layer_list_filter\"><strong class=\"context_title\">필터</strong><ul class=\"context_menu\"><li class=\"context_item\"><button class=\"button_context_item selected\" type=\"button\">모든 메일<span class=\"blind\">선택됨</span></button></li><li class=\"context_item\"><button class=\"button_context_item\" type=\"button\">안읽은 메일</button></li><li class=\"context_item\"><button class=\"button_context_item\" type=\"button\">중요 메일</button></li><li class=\"context_item\"><button class=\"button_context_item\" type=\"button\">첨부 메일</button></li><li class=\"context_item\"><button class=\"button_context_item\" type=\"button\">나에게 온 메일</button></li></ul><strong class=\"context_title\">정렬</strong><ul class=\"context_menu\"><li class=\"context_item\"><button class=\"button_context_item selected\" type=\"button\">최신 순<span class=\"blind\">선택됨</span></button></li><li class=\"context_item\"><button class=\"button_context_item\" type=\"button\">오래된 순</button></li></ul></div></div></div></div><div class=\"mail_toolbar_task\"><div class=\"button_task_wrap\"><button class=\"button_task_dropdown icon_sorting_time\" type=\"button\"><span class=\"blind\">시간순 보기</span></button></div><div class=\"button_task_wrap\"><button class=\"button_task_dropdown icon_layout_list\" type=\"button\"><span class=\"blind\">목록/본문 보기</span></button></div></div><div class=\"mail_toolbar_summary\"><a class=\"unread_mail_link\" href=\"#\"><span class=\"blind\">안읽은 메일</span><span class=\"current\">713</span><span class=\"blind\">개</span></a><a class=\"total\" href=\"#\"><span class=\"blind\">전체 메일</span>806<span class=\"blind\">개</span></a><button class=\"button_remove_unread_mail\" type=\"button\">안읽음 삭제</button></div><a class=\"mail_toolbar_link\" href=\"#\">메일함 관리</a><button class=\"button_close\"><span class=\"blind\">닫기</span></button></div><div class=\"contents_area is_normal\"><div class=\"mail_list_wrap\" id=\"mail_list_wrap\"><ul class=\"mail_list font_small\"><li class=\"mail_item\" draggable=\"true\"><div class=\"mail\"><div class=\"button_checkbox_wrap\"><input class=\"button_checkbox blind\" id=\"selection_4366\" readonly=\"\" type=\"checkbox\"/><label draggable=\"true\" for=\"selection_4366\" id=\"label_4366\"><span class=\"blind\">04월19일 이성용님께 꼭 맞는 채용정보가 도착했어요.</span></label></div><div class=\"toggle_bookmark_wrap\"><input class=\"toggle_bookmark blind\" id=\"bookmark_4366\" readonly=\"\" type=\"checkbox\"/><label for=\"bookmark_4366\"><span class=\"blind\">중요 메일</span></label></div><div class=\"mail_sender\"><div class=\"toggle_read_wrap\"><input class=\"toggle_read blind\" id=\"read_4366\" readonly=\"\" type=\"checkbox\"/><label for=\"read_4366\"><span class=\"blind\">안읽은 메일</span></label></div><button class=\"button_sender\" title='\"잡코리아 | 스마트매치\"&lt;smartmatch@jobkorea.co.kr&gt;' type=\"button\"><span class=\"blind\">보낸 사람</span>잡코리아 | 스마트매치</button><span class=\"mail_date\">오전 09:26</span><span class=\"mail_volume\">23.2KB</span></div><div class=\"mail_inner\"><div class=\"mail_title\"><a class=\"mail_title_link\" href=\"/v2/popup/read/0/4366\"><span class=\"blind\">04월19일 이성용님께 꼭 맞는 채용정보가 도착했어요.</span><span class=\"text\">04월19일 이성용님께 꼭 맞는 채용정보가 도착했어요.</span></a><button class=\"button_preview\" type=\"button\"><span class=\"blind\">메일 본문 미리보기 열기</span></button><button class=\"button_popup\" type=\"button\"><span class=\"blind\">새 창으로 메일 보기</span></button></div></div><div class=\"mail_date_wrap\"><span class=\"mail_date\">오전 09:26</span></div><span class=\"mail_volume\">23.2KB</span></div></li><li class=\"mail_item\" draggable=\"true\"><div class=\"mail\"><div class=\"button_checkbox_wrap\"><input class=\"button_checkbox blind\" id=\"selection_4361\" readonly=\"\" type=\"checkbox\"/><label draggable=\"true\" for=\"selection_4361\" id=\"label_4361\"><span class=\"blind\">04월18일 이성용님께 꼭 맞는 채용정보가 도착했어요.</span></label></div><div class=\"toggle_bookmark_wrap\"><input class=\"toggle_bookmark blind\" id=\"bookmark_4361\" readonly=\"\" type=\"checkbox\"/><label for=\"bookmark_4361\"><span class=\"blind\">중요 메일</span></label></div><div class=\"mail_sender\"><div class=\"toggle_read_wrap\"><input class=\"toggle_read blind\" id=\"read_4361\" readonly=\"\" type=\"checkbox\"/><label for=\"read_4361\"><span class=\"blind\">안읽은 메일</span></label></div><button class=\"button_sender\" title='\"잡코리아 | 스마트매치\"&lt;smartmatch@jobkorea.co.kr&gt;' type=\"button\"><span class=\"blind\">보낸 사람</span>잡코리아 | 스마트매치</button><span class=\"mail_date\">04.18</span><span class=\"mail_volume\">23.2KB</span></div><div class=\"mail_inner\"><div class=\"mail_title\"><a class=\"mail_title_link\" href=\"/v2/popup/read/0/4361\"><span class=\"blind\">04월18일 이성용님께 꼭 맞는 채용정보가 도착했어요.</span><span class=\"text\">04월18일 이성용님께 꼭 맞는 채용정보가 도착했어요.</span></a><button class=\"button_preview\" type=\"button\"><span class=\"blind\">메일 본문 미리보기 열기</span></button><button class=\"button_popup\" type=\"button\"><span class=\"blind\">새 창으로 메일 보기</span></button></div></div><div class=\"mail_date_wrap\"><span class=\"mail_date\">04.18 09:25</span></div><span class=\"mail_volume\">23.2KB</span></div></li><li class=\"mail_item\" draggable=\"true\"><div class=\"mail\"><div class=\"button_checkbox_wrap\"><input class=\"button_checkbox blind\" id=\"selection_4352\" readonly=\"\" type=\"checkbox\"/><label draggable=\"true\" for=\"selection_4352\" id=\"label_4352\"><span class=\"blind\">[스타벅스 리워드] ZX7496님 생일 축하드려요! 가까운 스타벅스를 방문하셔서 생일 음료를 받으세요.</span></label></div><div class=\"toggle_bookmark_wrap\"><input class=\"toggle_bookmark blind\" id=\"bookmark_4352\" readonly=\"\" type=\"checkbox\"/><label for=\"bookmark_4352\"><span class=\"blind\">중요 메일</span></label></div><div class=\"mail_sender\"><div class=\"toggle_read_wrap\"><input class=\"toggle_read blind\" id=\"read_4352\" readonly=\"\" type=\"checkbox\"/><label for=\"read_4352\"><span class=\"blind\">안읽은 메일</span></label></div><button class=\"button_sender\" title='\"스타벅스\"&lt;Starbucks@starbucks.co.kr&gt;' type=\"button\"><span class=\"blind\">보낸 사람</span>스타벅스</button><span class=\"mail_date\">04.17</span><span class=\"mail_volume\">22.7KB</span></div><div class=\"mail_inner\"><div class=\"mail_title\"><a class=\"mail_title_link\" href=\"/v2/popup/read/0/4352\"><span class=\"blind\">[스타벅스 리워드] ZX7496님 생일 축하드려요! 가까운 스타벅스를 방문하셔서 생일 음료를 받으세요.</span><span class=\"text\">[스타벅스 리워드] ZX7496님 생일 축하드려요! 가까운 스타벅스를 방문하셔서 생일 음료를 받으세요.</span></a><button class=\"button_preview\" type=\"button\"><span class=\"blind\">메일 본문 미리보기 열기</span></button><button class=\"button_popup\" type=\"button\"><span class=\"blind\">새 창으로 메일 보기</span></button></div></div><div class=\"mail_date_wrap\"><span class=\"mail_date\">04.17 09:38</span></div><span class=\"mail_volume\">22.7KB</span></div></li><li class=\"mail_item\" draggable=\"true\"><div class=\"mail\"><div class=\"button_checkbox_wrap\"><input class=\"button_checkbox blind\" id=\"selection_4351\" readonly=\"\" type=\"checkbox\"/><label draggable=\"true\" for=\"selection_4351\" id=\"label_4351\"><span class=\"blind\">04월17일 이성용님께 꼭 맞는 채용정보가 도착했어요.</span></label></div><div class=\"toggle_bookmark_wrap\"><input class=\"toggle_bookmark blind\" id=\"bookmark_4351\" readonly=\"\" type=\"checkbox\"/><label for=\"bookmark_4351\"><span class=\"blind\">중요 메일</span></label></div><div class=\"mail_sender\"><div class=\"toggle_read_wrap\"><input class=\"toggle_read blind\" id=\"read_4351\" readonly=\"\" type=\"checkbox\"/><label for=\"read_4351\"><span class=\"blind\">안읽은 메일</span></label></div><button class=\"button_sender\" title='\"잡코리아 | 스마트매치\"&lt;smartmatch@jobkorea.co.kr&gt;' type=\"button\"><span class=\"blind\">보낸 사람</span>잡코리아 | 스마트매치</button><span class=\"mail_date\">04.17</span><span class=\"mail_volume\">23.3KB</span></div><div class=\"mail_inner\"><div class=\"mail_title\"><a class=\"mail_title_link\" href=\"/v2/popup/read/0/4351\"><span class=\"blind\">04월17일 이성용님께 꼭 맞는 채용정보가 도착했어요.</span><span class=\"text\">04월17일 이성용님께 꼭 맞는 채용정보가 도착했어요.</span></a><button class=\"button_preview\" type=\"button\"><span class=\"blind\">메일 본문 미리보기 열기</span></button><button class=\"button_popup\" type=\"button\"><span class=\"blind\">새 창으로 메일 보기</span></button></div></div><div class=\"mail_date_wrap\"><span class=\"mail_date\">04.17 09:33</span></div><span class=\"mail_volume\">23.3KB</span></div></li><li class=\"mail_item read\" draggable=\"true\"><div class=\"mail\"><div class=\"button_checkbox_wrap\"><input class=\"button_checkbox blind\" id=\"selection_4349\" readonly=\"\" type=\"checkbox\"/><label draggable=\"true\" for=\"selection_4349\" id=\"label_4349\"><span class=\"blind\">[금융빅데이터플랫폼] 이메일 인증을 진행해 주세요.</span></label></div><div class=\"toggle_bookmark_wrap\"><input class=\"toggle_bookmark blind\" id=\"bookmark_4349\" readonly=\"\" type=\"checkbox\"/><label for=\"bookmark_4349\"><span class=\"blind\">중요 메일</span></label></div><div class=\"mail_sender\"><div class=\"toggle_read_wrap\"><input checked=\"\" class=\"toggle_read blind\" id=\"read_4349\" readonly=\"\" type=\"checkbox\"/><label for=\"read_4349\"><span class=\"blind\">읽은 메일</span></label></div><button class=\"button_sender\" title='\"금융빅데이터플렛폼\"&lt;bigdata@bccard.com&gt;' type=\"button\"><span class=\"blind\">보낸 사람</span>금융빅데이터플렛폼</button><span class=\"mail_date\">04.16</span><span class=\"mail_volume\">11.0KB</span></div><div class=\"mail_inner\"><div class=\"mail_title\"><a class=\"mail_title_link\" href=\"/v2/popup/read/0/4349\"><span class=\"blind\">[금융빅데이터플랫폼] 이메일 인증을 진행해 주세요.</span><span class=\"text\">[금융빅데이터플랫폼] 이메일 인증을 진행해 주세요.</span></a><button class=\"button_preview\" type=\"button\"><span class=\"blind\">메일 본문 미리보기 열기</span></button><button class=\"button_popup\" type=\"button\"><span class=\"blind\">새 창으로 메일 보기</span></button></div></div><div class=\"mail_date_wrap\"><span class=\"mail_date\">04.16 21:58</span></div><span class=\"mail_volume\">11.0KB</span></div></li><li class=\"mail_item\" draggable=\"true\"><div class=\"mail\"><div class=\"button_checkbox_wrap\"><input class=\"button_checkbox blind\" id=\"selection_4347\" readonly=\"\" type=\"checkbox\"/><label draggable=\"true\" for=\"selection_4347\" id=\"label_4347\"><span class=\"blind\">04월16일 이성용님께 꼭 맞는 채용정보가 도착했어요.</span></label></div><div class=\"toggle_bookmark_wrap\"><input class=\"toggle_bookmark blind\" id=\"bookmark_4347\" readonly=\"\" type=\"checkbox\"/><label for=\"bookmark_4347\"><span class=\"blind\">중요 메일</span></label></div><div class=\"mail_sender\"><div class=\"toggle_read_wrap\"><input class=\"toggle_read blind\" id=\"read_4347\" readonly=\"\" type=\"checkbox\"/><label for=\"read_4347\"><span class=\"blind\">안읽은 메일</span></label></div><button class=\"button_sender\" title='\"잡코리아 | 스마트매치\"&lt;smartmatch@jobkorea.co.kr&gt;' type=\"button\"><span class=\"blind\">보낸 사람</span>잡코리아 | 스마트매치</button><span class=\"mail_date\">04.16</span><span class=\"mail_volume\">23.3KB</span></div><div class=\"mail_inner\"><div class=\"mail_title\"><a class=\"mail_title_link\" href=\"/v2/popup/read/0/4347\"><span class=\"blind\">04월16일 이성용님께 꼭 맞는 채용정보가 도착했어요.</span><span class=\"text\">04월16일 이성용님께 꼭 맞는 채용정보가 도착했어요.</span></a><button class=\"button_preview\" type=\"button\"><span class=\"blind\">메일 본문 미리보기 열기</span></button><button class=\"button_popup\" type=\"button\"><span class=\"blind\">새 창으로 메일 보기</span></button></div></div><div class=\"mail_date_wrap\"><span class=\"mail_date\">04.16 09:25</span></div><span class=\"mail_volume\">23.3KB</span></div></li><li class=\"mail_item\" draggable=\"true\"><div class=\"mail\"><div class=\"button_checkbox_wrap\"><input class=\"button_checkbox blind\" id=\"selection_4346\" readonly=\"\" type=\"checkbox\"/><label draggable=\"true\" for=\"selection_4346\" id=\"label_4346\"><span class=\"blind\">04월15일 이성용님께 꼭 맞는 채용정보가 도착했어요.</span></label></div><div class=\"toggle_bookmark_wrap\"><input class=\"toggle_bookmark blind\" id=\"bookmark_4346\" readonly=\"\" type=\"checkbox\"/><label for=\"bookmark_4346\"><span class=\"blind\">중요 메일</span></label></div><div class=\"mail_sender\"><div class=\"toggle_read_wrap\"><input class=\"toggle_read blind\" id=\"read_4346\" readonly=\"\" type=\"checkbox\"/><label for=\"read_4346\"><span class=\"blind\">안읽은 메일</span></label></div><button class=\"button_sender\" title='\"잡코리아 | 스마트매치\"&lt;smartmatch@jobkorea.co.kr&gt;' type=\"button\"><span class=\"blind\">보낸 사람</span>잡코리아 | 스마트매치</button><span class=\"mail_date\">04.15</span><span class=\"mail_volume\">23.2KB</span></div><div class=\"mail_inner\"><div class=\"mail_title\"><a class=\"mail_title_link\" href=\"/v2/popup/read/0/4346\"><span class=\"blind\">04월15일 이성용님께 꼭 맞는 채용정보가 도착했어요.</span><span class=\"text\">04월15일 이성용님께 꼭 맞는 채용정보가 도착했어요.</span></a><button class=\"button_preview\" type=\"button\"><span class=\"blind\">메일 본문 미리보기 열기</span></button><button class=\"button_popup\" type=\"button\"><span class=\"blind\">새 창으로 메일 보기</span></button></div></div><div class=\"mail_date_wrap\"><span class=\"mail_date\">04.15 09:50</span></div><span class=\"mail_volume\">23.2KB</span></div></li><li class=\"mail_item\" draggable=\"true\"><div class=\"mail\"><div class=\"button_checkbox_wrap\"><input class=\"button_checkbox blind\" id=\"selection_4337\" readonly=\"\" type=\"checkbox\"/><label draggable=\"true\" for=\"selection_4337\" id=\"label_4337\"><span class=\"blind\">[나이스지키미] 서비스 이용약관 개정 안내</span></label></div><div class=\"toggle_bookmark_wrap\"><input class=\"toggle_bookmark blind\" id=\"bookmark_4337\" readonly=\"\" type=\"checkbox\"/><label for=\"bookmark_4337\"><span class=\"blind\">중요 메일</span></label></div><div class=\"mail_sender\"><div class=\"toggle_read_wrap\"><input class=\"toggle_read blind\" id=\"read_4337\" readonly=\"\" type=\"checkbox\"/><label for=\"read_4337\"><span class=\"blind\">안읽은 메일</span></label></div><button class=\"button_sender\" title='\"NICE평가정보\"&lt;sendmail@credit.co.kr&gt;' type=\"button\"><span class=\"blind\">보낸 사람</span>NICE평가정보</button><span class=\"mail_date\">04.14</span><span class=\"mail_volume\">10.2KB</span></div><div class=\"mail_inner\"><div class=\"mail_title\"><a class=\"mail_title_link\" href=\"/v2/popup/read/0/4337\"><span class=\"blind\">[나이스지키미] 서비스 이용약관 개정 안내</span><span class=\"text\">[나이스지키미] 서비스 이용약관 개정 안내</span></a><button class=\"button_preview\" type=\"button\"><span class=\"blind\">메일 본문 미리보기 열기</span></button><button class=\"button_popup\" type=\"button\"><span class=\"blind\">새 창으로 메일 보기</span></button></div></div><div class=\"mail_date_wrap\"><span class=\"mail_date\">04.14 11:11</span></div><span class=\"mail_volume\">10.2KB</span></div></li><li class=\"mail_item\" draggable=\"true\"><div class=\"mail\"><div class=\"button_checkbox_wrap\"><input class=\"button_checkbox blind\" id=\"selection_4336\" readonly=\"\" type=\"checkbox\"/><label draggable=\"true\" for=\"selection_4336\" id=\"label_4336\"><span class=\"blind\">04월14일 이성용님께 꼭 맞는 채용정보가 도착했어요.</span></label></div><div class=\"toggle_bookmark_wrap\"><input class=\"toggle_bookmark blind\" id=\"bookmark_4336\" readonly=\"\" type=\"checkbox\"/><label for=\"bookmark_4336\"><span class=\"blind\">중요 메일</span></label></div><div class=\"mail_sender\"><div class=\"toggle_read_wrap\"><input class=\"toggle_read blind\" id=\"read_4336\" readonly=\"\" type=\"checkbox\"/><label for=\"read_4336\"><span class=\"blind\">안읽은 메일</span></label></div><button class=\"button_sender\" title='\"잡코리아 | 스마트매치\"&lt;smartmatch@jobkorea.co.kr&gt;' type=\"button\"><span class=\"blind\">보낸 사람</span>잡코리아 | 스마트매치</button><span class=\"mail_date\">04.14</span><span class=\"mail_volume\">23.3KB</span></div><div class=\"mail_inner\"><div class=\"mail_title\"><a class=\"mail_title_link\" href=\"/v2/popup/read/0/4336\"><span class=\"blind\">04월14일 이성용님께 꼭 맞는 채용정보가 도착했어요.</span><span class=\"text\">04월14일 이성용님께 꼭 맞는 채용정보가 도착했어요.</span></a><button class=\"button_preview\" type=\"button\"><span class=\"blind\">메일 본문 미리보기 열기</span></button><button class=\"button_popup\" type=\"button\"><span class=\"blind\">새 창으로 메일 보기</span></button></div></div><div class=\"mail_date_wrap\"><span class=\"mail_date\">04.14 09:25</span></div><span class=\"mail_volume\">23.3KB</span></div></li><li class=\"mail_item\" draggable=\"true\"><div class=\"mail\"><div class=\"button_checkbox_wrap\"><input class=\"button_checkbox blind\" id=\"selection_4334\" readonly=\"\" type=\"checkbox\"/><label draggable=\"true\" for=\"selection_4334\" id=\"label_4334\"><span class=\"blind\">(KB국민은행)오픈뱅킹 금융거래정보 제공사실 안내</span></label></div><div class=\"toggle_bookmark_wrap\"><input class=\"toggle_bookmark blind\" id=\"bookmark_4334\" readonly=\"\" type=\"checkbox\"/><label for=\"bookmark_4334\"><span class=\"blind\">중요 메일</span></label></div><div class=\"mail_sender\"><div class=\"toggle_read_wrap\"><input class=\"toggle_read blind\" id=\"read_4334\" readonly=\"\" type=\"checkbox\"/><label for=\"read_4334\"><span class=\"blind\">안읽은 메일</span></label></div><button class=\"button_sender\" title='\"KB국민은행\"&lt;kbmail@kbmail.kbstar.com&gt;' type=\"button\"><span class=\"blind\">보낸 사람</span>KB국민은행</button><span class=\"mail_date\">04.13</span><span class=\"mail_volume\">192.7KB</span></div><div class=\"mail_inner\"><div class=\"mail_title\"><a class=\"mail_title_link\" href=\"/v2/popup/read/0/4334\"><span class=\"blind\">(KB국민은행)오픈뱅킹 금융거래정보 제공사실 안내</span><span class=\"text\">(KB국민은행)오픈뱅킹 금융거래정보 제공사실 안내</span></a><em class=\"icon_attachments\"><span class=\"blind\">첨부 파일 있음</span></em><button class=\"button_preview\" type=\"button\"><span class=\"blind\">메일 본문 미리보기 열기</span></button><button class=\"button_popup\" type=\"button\"><span class=\"blind\">새 창으로 메일 보기</span></button></div></div><div class=\"mail_date_wrap\"><span class=\"mail_date\">04.13 19:35</span></div><span class=\"mail_volume\">192.7KB</span></div></li><li class=\"mail_item\" draggable=\"true\"><div class=\"mail\"><div class=\"button_checkbox_wrap\"><input class=\"button_checkbox blind\" id=\"selection_4333\" readonly=\"\" type=\"checkbox\"/><label draggable=\"true\" for=\"selection_4333\" id=\"label_4333\"><span class=\"blind\">KimJinkwon invited you to KimJinkwon/PythonStudy</span></label></div><div class=\"toggle_bookmark_wrap\"><input class=\"toggle_bookmark blind\" id=\"bookmark_4333\" readonly=\"\" type=\"checkbox\"/><label for=\"bookmark_4333\"><span class=\"blind\">중요 메일</span></label></div><div class=\"mail_sender\"><div class=\"toggle_read_wrap\"><input class=\"toggle_read blind\" id=\"read_4333\" readonly=\"\" type=\"checkbox\"/><label for=\"read_4333\"><span class=\"blind\">안읽은 메일</span></label></div><button class=\"button_sender\" title='\"KimJinkwon\"&lt;noreply@github.com&gt;' type=\"button\"><span class=\"blind\">보낸 사람</span>KimJinkwon</button><span class=\"mail_date\">04.13</span><span class=\"mail_volume\">23.7KB</span></div><div class=\"mail_inner\"><div class=\"mail_title\"><a class=\"mail_title_link\" href=\"/v2/popup/read/0/4333\"><span class=\"blind\">KimJinkwon invited you to KimJinkwon/PythonStudy</span><span class=\"text\">KimJinkwon invited you to KimJinkwon/PythonStudy</span></a><button class=\"button_preview\" type=\"button\"><span class=\"blind\">메일 본문 미리보기 열기</span></button><button class=\"button_popup\" type=\"button\"><span class=\"blind\">새 창으로 메일 보기</span></button></div></div><div class=\"mail_date_wrap\"><span class=\"mail_date\">04.13 16:51</span></div><span class=\"mail_volume\">23.7KB</span></div></li><li class=\"mail_item\" draggable=\"true\"><div class=\"mail\"><div class=\"button_checkbox_wrap\"><input class=\"button_checkbox blind\" id=\"selection_4328\" readonly=\"\" type=\"checkbox\"/><label draggable=\"true\" for=\"selection_4328\" id=\"label_4328\"><span class=\"blind\">&lt;풍삶PDF_정기구독_5.6월호&gt;,말씀으로 풍성한 삶 누리세요!</span></label></div><div class=\"toggle_bookmark_wrap\"><input class=\"toggle_bookmark blind\" id=\"bookmark_4328\" readonly=\"\" type=\"checkbox\"/><label for=\"bookmark_4328\"><span class=\"blind\">중요 메일</span></label></div><div class=\"mail_sender\"><div class=\"toggle_read_wrap\"><input class=\"toggle_read blind\" id=\"read_4328\" readonly=\"\" type=\"checkbox\"/><label for=\"read_4328\"><span class=\"blind\">안읽은 메일</span></label></div><button class=\"button_sender\" title='\"풍삶\"&lt;cccqt@naver.com&gt;' type=\"button\"><span class=\"blind\">보낸 사람</span>풍삶</button><span class=\"mail_date\">04.13</span><span class=\"mail_volume\">145.4KB</span></div><div class=\"mail_inner\"><div class=\"mail_title\"><a class=\"mail_title_link\" href=\"/v2/popup/read/0/4328\"><span class=\"blind\">&lt;풍삶PDF_정기구독_5.6월호&gt;,말씀으로 풍성한 삶 누리세요!</span><span class=\"text\">&lt;풍삶PDF_정기구독_5.6월호&gt;,말씀으로 풍성한 삶 누리세요!</span></a><button class=\"button_preview\" type=\"button\"><span class=\"blind\">메일 본문 미리보기 열기</span></button><button class=\"button_popup\" type=\"button\"><span class=\"blind\">새 창으로 메일 보기</span></button></div></div><div class=\"mail_date_wrap\"><span class=\"mail_date\">04.13 09:58</span></div><span class=\"mail_volume\">145.4KB</span></div></li><li class=\"mail_item\" draggable=\"true\"><div class=\"mail\"><div class=\"button_checkbox_wrap\"><input class=\"button_checkbox blind\" id=\"selection_4327\" readonly=\"\" type=\"checkbox\"/><label draggable=\"true\" for=\"selection_4327\" id=\"label_4327\"><span class=\"blind\">04월13일 이성용님께 꼭 맞는 채용정보가 도착했어요.</span></label></div><div class=\"toggle_bookmark_wrap\"><input class=\"toggle_bookmark blind\" id=\"bookmark_4327\" readonly=\"\" type=\"checkbox\"/><label for=\"bookmark_4327\"><span class=\"blind\">중요 메일</span></label></div><div class=\"mail_sender\"><div class=\"toggle_read_wrap\"><input class=\"toggle_read blind\" id=\"read_4327\" readonly=\"\" type=\"checkbox\"/><label for=\"read_4327\"><span class=\"blind\">안읽은 메일</span></label></div><button class=\"button_sender\" title='\"잡코리아 | 스마트매치\"&lt;smartmatch@jobkorea.co.kr&gt;' type=\"button\"><span class=\"blind\">보낸 사람</span>잡코리아 | 스마트매치</button><span class=\"mail_date\">04.13</span><span class=\"mail_volume\">23.3KB</span></div><div class=\"mail_inner\"><div class=\"mail_title\"><a class=\"mail_title_link\" href=\"/v2/popup/read/0/4327\"><span class=\"blind\">04월13일 이성용님께 꼭 맞는 채용정보가 도착했어요.</span><span class=\"text\">04월13일 이성용님께 꼭 맞는 채용정보가 도착했어요.</span></a><button class=\"button_preview\" type=\"button\"><span class=\"blind\">메일 본문 미리보기 열기</span></button><button class=\"button_popup\" type=\"button\"><span class=\"blind\">새 창으로 메일 보기</span></button></div></div><div class=\"mail_date_wrap\"><span class=\"mail_date\">04.13 09:37</span></div><span class=\"mail_volume\">23.3KB</span></div></li><li class=\"mail_item\" draggable=\"true\"><div class=\"mail\"><div class=\"button_checkbox_wrap\"><input class=\"button_checkbox blind\" id=\"selection_4320\" readonly=\"\" type=\"checkbox\"/><label draggable=\"true\" for=\"selection_4320\" id=\"label_4320\"><span class=\"blind\">[NICE지키미] 이*용님의 신용점수 변동여부를 안내드립니다.</span></label></div><div class=\"toggle_bookmark_wrap\"><input class=\"toggle_bookmark blind\" id=\"bookmark_4320\" readonly=\"\" type=\"checkbox\"/><label for=\"bookmark_4320\"><span class=\"blind\">중요 메일</span></label></div><div class=\"mail_sender\"><div class=\"toggle_read_wrap\"><input class=\"toggle_read blind\" id=\"read_4320\" readonly=\"\" type=\"checkbox\"/><label for=\"read_4320\"><span class=\"blind\">안읽은 메일</span></label></div><button class=\"button_sender\" title='\"NICE평가정보\"&lt;sendmail@credit.co.kr&gt;' type=\"button\"><span class=\"blind\">보낸 사람</span>NICE평가정보</button><span class=\"mail_date\">04.12</span><span class=\"mail_volume\">13.1KB</span></div><div class=\"mail_inner\"><div class=\"mail_title\"><a class=\"mail_title_link\" href=\"/v2/popup/read/0/4320\"><span class=\"blind\">[NICE지키미] 이*용님의 신용점수 변동여부를 안내드립니다.</span><span class=\"text\">[NICE지키미] 이*용님의 신용점수 변동여부를 안내드립니다.</span></a><button class=\"button_preview\" type=\"button\"><span class=\"blind\">메일 본문 미리보기 열기</span></button><button class=\"button_popup\" type=\"button\"><span class=\"blind\">새 창으로 메일 보기</span></button></div></div><div class=\"mail_date_wrap\"><span class=\"mail_date\">04.12 10:37</span></div><span class=\"mail_volume\">13.1KB</span></div></li><li class=\"mail_item\" draggable=\"true\"><div class=\"mail\"><div class=\"button_checkbox_wrap\"><input class=\"button_checkbox blind\" id=\"selection_4319\" readonly=\"\" type=\"checkbox\"/><label draggable=\"true\" for=\"selection_4319\" id=\"label_4319\"><span class=\"blind\">04월12일 이성용님께 꼭 맞는 채용정보가 도착했어요.</span></label></div><div class=\"toggle_bookmark_wrap\"><input class=\"toggle_bookmark blind\" id=\"bookmark_4319\" readonly=\"\" type=\"checkbox\"/><label for=\"bookmark_4319\"><span class=\"blind\">중요 메일</span></label></div><div class=\"mail_sender\"><div class=\"toggle_read_wrap\"><input class=\"toggle_read blind\" id=\"read_4319\" readonly=\"\" type=\"checkbox\"/><label for=\"read_4319\"><span class=\"blind\">안읽은 메일</span></label></div><button class=\"button_sender\" title='\"잡코리아 | 스마트매치\"&lt;smartmatch@jobkorea.co.kr&gt;' type=\"button\"><span class=\"blind\">보낸 사람</span>잡코리아 | 스마트매치</button><span class=\"mail_date\">04.12</span><span class=\"mail_volume\">23.3KB</span></div><div class=\"mail_inner\"><div class=\"mail_title\"><a class=\"mail_title_link\" href=\"/v2/popup/read/0/4319\"><span class=\"blind\">04월12일 이성용님께 꼭 맞는 채용정보가 도착했어요.</span><span class=\"text\">04월12일 이성용님께 꼭 맞는 채용정보가 도착했어요.</span></a><button class=\"button_preview\" type=\"button\"><span class=\"blind\">메일 본문 미리보기 열기</span></button><button class=\"button_popup\" type=\"button\"><span class=\"blind\">새 창으로 메일 보기</span></button></div></div><div class=\"mail_date_wrap\"><span class=\"mail_date\">04.12 09:48</span></div><span class=\"mail_volume\">23.3KB</span></div></li></ul><div class=\"pagination\"><ol class=\"page_list\"><li class=\"page selected\"><button class=\"page_link\" type=\"button\">1<span class=\"blind\">번째 페이지 선택됨</span></button></li><li class=\"page\"><button class=\"page_link\" type=\"button\">2<span class=\"blind\">번째 페이지 </span></button></li><li class=\"page\"><button class=\"page_link\" type=\"button\">3<span class=\"blind\">번째 페이지 </span></button></li><li class=\"page\"><button class=\"page_link\" type=\"button\">4<span class=\"blind\">번째 페이지 </span></button></li><li class=\"page\"><button class=\"page_link\" type=\"button\">5<span class=\"blind\">번째 페이지 </span></button></li></ol><button class=\"button_first\" disabled=\"\" id=\"first-page\" type=\"button\"><span class=\"blind\">첫 페이지</span></button><button class=\"button_previous\" disabled=\"\" id=\"prev-page\" type=\"button\"><span class=\"blind\">이전 페이지</span></button><button class=\"button_next\" id=\"next-page\" type=\"button\"><span class=\"blind\">다음 페이지</span></button><button class=\"button_last\" id=\"last-page\" type=\"button\"><span class=\"blind\">마지막 페이지</span></button></div></div></div></div></div></div><nav class=\"lnb\"><div class=\"lnb_inner\"><div class=\"lnb_header\"><div class=\"lnb_profile_box\"><a class=\"profile_link\" href=\"#\"><div class=\"info_area\"><strong class=\"name\"><span class=\"blind\">닉네임</span><span class=\"text\">이성용</span></strong><span class=\"email\"><span class=\"blind\">네이버 ID</span>zx0696@naver.com</span></div></a><div class=\"button_area\"><a class=\"button_setting\" href=\"#\"><span class=\"blind\">환경설정</span></a><button class=\"button_close\" type=\"button\"><span class=\"blind\">닫기</span></button></div></div><div class=\"lnb_task\"><a class=\"item button_write\" href=\"#\"><span class=\"blind\">메일 쓰기</span></a><a class=\"item button_write_to_me\" href=\"#\"><span class=\"blind\">내게 쓰기</span></a></div><div class=\"lnb_filtered_mailbox\"><a class=\"item svg_unread\" href=\"#\" title=\"전체 안읽은 메일\"><span class=\"count\">999<span class=\"plus\"><span class=\"blind\">이상</span></span></span><span class=\"blind\">개의</span><span class=\"text\">안읽음</span><span class=\"blind\">메일 목록</span><span class=\"blind\">선택됨</span></a><a class=\"item svg_bookmark\" href=\"#\" title=\"중요표기 메일\"><span class=\"text\">중요</span><span class=\"blind\">표시된 메일 목록</span></a><a class=\"item svg_attachments\" href=\"#\" title=\"첨부파일이 있는 메일\"><span class=\"text\">첨부</span><span class=\"blind\">파일이 포함된 메일 목록</span></a><a class=\"item svg_to_me\" href=\"#\" title=\"내가 수신인에 포함된 메일\"><span class=\"text\">TO</span><span class=\"blind\">받은 사람이 나인 메일 목록</span></a></div></div><div class=\"scroll_area\"><div class=\"lnb_mailbox\"><ul class=\"mailbox_list\"><li class=\"mailbox_item\"><div class=\"mailbox\" draggable=\"true\" style=\"\"><div class=\"mailbox_link\"><a class=\"mailbox_label svg_all\" href=\"#\" title=\"전체메일\">전체메일</a></div><button class=\"button_mailbox\" title=\"안 읽은 메일 읽음, 삭제하기\" type=\"button\">정리하기</button></div></li><li class=\"mailbox_item\"><div class=\"mailbox selected\" draggable=\"true\" style=\"opacity: 1;\"><div class=\"mailbox_link\"><a class=\"mailbox_label svg_inbox\" href=\"#\" title=\"받은메일함\">받은메일함<span class=\"blind\">선택됨</span></a><a class=\"unread_mail\" href=\"#\"><span class=\"blind\">안 읽은 메일</span><span class=\"count\">713</span><span class=\"blind\">개</span></a></div></div></li><li class=\"mailbox_item\"><div class=\"mailbox\" draggable=\"true\" style=\"opacity: 1;\"><div class=\"mailbox_link\"><a class=\"mailbox_label svg_sent_mail\" href=\"#\" title=\"보낸메일함\">보낸메일함</a></div><button class=\"button_mailbox\" title=\"내가 보낸메일 수신확인\" type=\"button\">수신확인</button></div></li><li class=\"mailbox_item\"><div class=\"mailbox\" draggable=\"true\" style=\"\"><div class=\"mailbox_link\"><a class=\"mailbox_label svg_temporary\" href=\"#\" title=\"임시보관함\">임시보관함</a></div></div></li><li class=\"mailbox_item\" id=\"lnb-tome-folder\"><div class=\"mailbox expanded\" draggable=\"true\" style=\"opacity: 1;\"><div class=\"mailbox_link\"><a class=\"mailbox_label svg_write_to_me\" href=\"#\" title=\"내게쓴메일함\">내게쓴메일함</a><a class=\"unread_mail\" href=\"#\"><span class=\"blind\">안 읽은 메일</span><span class=\"count\">2</span><span class=\"blind\">개</span></a></div><button class=\"button_add_mailbox\" title=\"내게쓴메일함에 새 메일함 추가\" type=\"button\"><span class=\"blind\">메일함 추가</span></button><button class=\"button_quick_attach\" title=\"빠른첨부로 내게쓴메일함에 바로 파일 저장\" type=\"button\"><span class=\"blind\">빠른 첨부</span></button><button class=\"toggle_svg_mailbox\" type=\"button\"><span class=\"blind\">하위 메일함 닫기</span></button><button class=\"button_mailbox write_to_me\" type=\"button\">내게쓰기</button></div><ul class=\"mailbox_list\"><li class=\"mailbox_item folder-item\"><div class=\"mailbox\" draggable=\"true\" style=\"opacity: 1;\"><div class=\"mailbox_link\"><a class=\"mailbox_label svg_folder\" href=\"#\" title=\"새 메일함 (5)\">새 메일함 (5)</a></div><button class=\"button_edit_mailbox\" title=\"내게쓴메일함명 수정\" type=\"button\"><span class=\"blind\">메일함명 수정</span></button></div><ul class=\"mailbox_list\"></ul></li><li class=\"mailbox_item folder-item\"><div class=\"mailbox\" draggable=\"true\" style=\"opacity: 1;\"><div class=\"mailbox_link\"><a class=\"mailbox_label svg_folder\" href=\"#\" title=\"새 메일함 (4)\">새 메일함 (4)</a></div><button class=\"button_edit_mailbox\" title=\"내게쓴메일함명 수정\" type=\"button\"><span class=\"blind\">메일함명 수정</span></button></div><ul class=\"mailbox_list\"></ul></li><li class=\"mailbox_item folder-item\"><div class=\"mailbox\" draggable=\"true\" style=\"opacity: 1;\"><div class=\"mailbox_link\"><a class=\"mailbox_label svg_folder\" href=\"#\" title=\"새 메일함 (3)\">새 메일함 (3)</a></div><button class=\"button_edit_mailbox\" title=\"내게쓴메일함명 수정\" type=\"button\"><span class=\"blind\">메일함명 수정</span></button></div><ul class=\"mailbox_list\"></ul></li><li class=\"mailbox_item folder-item\"><div class=\"mailbox\" draggable=\"true\" style=\"opacity: 1;\"><div class=\"mailbox_link\"><a class=\"mailbox_label svg_folder\" href=\"#\" title=\"새 메일함 (2)\">새 메일함 (2)</a></div><button class=\"button_edit_mailbox\" title=\"내게쓴메일함명 수정\" type=\"button\"><span class=\"blind\">메일함명 수정</span></button></div><ul class=\"mailbox_list\"></ul></li><li class=\"mailbox_item folder-item\"><div class=\"mailbox\" draggable=\"true\" style=\"opacity: 1;\"><div class=\"mailbox_link\"><a class=\"mailbox_label svg_folder\" href=\"#\" title=\"새 메일함 (1)\">새 메일함 (1)</a></div><button class=\"button_edit_mailbox\" title=\"내게쓴메일함명 수정\" type=\"button\"><span class=\"blind\">메일함명 수정</span></button></div><ul class=\"mailbox_list\"></ul></li></ul><input hidden=\"\" multiple=\"\" type=\"file\"/></li><li class=\"mailbox_item separated\"><div class=\"mailbox expanded\"><button class=\"toggle_svg_folder\" type=\"button\"><span class=\"mailbox_label svg_smartmail\">스마트메일함</span><span class=\"blind\">하위 메일함 펼침</span></button><a class=\"button_mailbox_setting\" href=\"#\" title=\"스마트메일함 설정\"><span class=\"blind\">스마트메일함 설정</span></a></div><ul class=\"mailbox_list\"><li class=\"mailbox_item\"><div class=\"mailbox\" draggable=\"true\" style=\"opacity: 1;\"><div class=\"mailbox_link\"><a class=\"mailbox_label svg_depth\" href=\"#\" title=\"프로모션\">프로모션</a><a class=\"unread_mail\" href=\"#\"><span class=\"blind\">안 읽은 메일</span><span class=\"count\">999<span class=\"plus\"><span class=\"blind\">이상</span></span></span><span class=\"blind\">개</span></a></div></div></li><li class=\"mailbox_item\"><div class=\"mailbox\" draggable=\"true\" style=\"opacity: 1;\"><div class=\"mailbox_link\"><a class=\"mailbox_label svg_depth\" href=\"#\" title=\"청구·결제\">청구·결제</a><a class=\"unread_mail\" href=\"#\"><span class=\"blind\">안 읽은 메일</span><span class=\"count\">45</span><span class=\"blind\">개</span></a></div></div></li><li class=\"mailbox_item\"><div class=\"mailbox\" draggable=\"true\" style=\"opacity: 1;\"><div class=\"mailbox_link\"><a class=\"mailbox_label svg_depth\" href=\"#\" title=\"SNS\">SNS</a><a class=\"unread_mail\" href=\"#\"><span class=\"blind\">안 읽은 메일</span><span class=\"count\">5</span><span class=\"blind\">개</span></a></div></div></li><li class=\"mailbox_item\"><div class=\"mailbox\" draggable=\"true\" style=\"opacity: 1;\"><div class=\"mailbox_link\"><a class=\"mailbox_label svg_depth\" href=\"#\" title=\"카페\">카페</a></div></div></li></ul></li><li class=\"mailbox_item separated\" id=\"lnb-my-folder\"><div class=\"mailbox\" draggable=\"true\" style=\"opacity: 1;\"><button class=\"toggle_svg_folder\" type=\"button\"><span class=\"mailbox_label\">내 메일함</span><span class=\"blind\">하위 메일함 펼침</span></button><button class=\"button_add_mailbox\" title=\"내 메일함에 새 메일함 추가\" type=\"button\"><span class=\"blind\">메일함 추가</span></button><a class=\"button_mailbox_setting\" href=\"#\" title=\"메일함 관리\"><span class=\"blind\">메일함 관리</span></a></div></li><li class=\"mailbox_item separated\"><div class=\"mailbox\" draggable=\"true\" style=\"opacity: 1;\"><div class=\"mailbox_link\"><a class=\"mailbox_label svg_spam\" href=\"#\" title=\"스팸메일함\">스팸메일함</a></div></div></li><li class=\"mailbox_item\"><div class=\"mailbox\" draggable=\"true\" style=\"opacity: 1;\"><div class=\"mailbox_link\"><a class=\"mailbox_label svg_trash\" href=\"#\" title=\"휴지통\">휴지통</a><a class=\"unread_mail\" href=\"#\"><span class=\"blind\">안 읽은 메일</span><span class=\"count\">1</span><span class=\"blind\">개</span></a></div><button class=\"button_mailbox\" title=\"휴지통 비우기\" type=\"button\">비우기</button></div></li><li class=\"mailbox_item support separated\"><div class=\"mailbox\"><a class=\"mailbox_link\" href=\"#\"><span class=\"mailbox_label\">환경설정</span></a></div></li><li class=\"mailbox_item support logout\"><div class=\"mailbox\"><a class=\"mailbox_link\" href=\"#\"><span class=\"mailbox_label\">로그아웃</span></a></div></li><li class=\"mailbox_item support\"><div class=\"mailbox\"><a class=\"mailbox_link\" href=\"#\"><span class=\"mailbox_label\">고객센터</span></a><a class=\"button_mailbox\" href=\"#\" title=\"네이버 메일 스마트봇\">스마트봇</a></div></li><li class=\"mailbox_item support\"><div class=\"mailbox\"><a class=\"mailbox_link\" href=\"#\"><span class=\"mailbox_label\">메일용량</span></a><span class=\"mailbox_volume\"><em class=\"current\"><span class=\"blind\">사용중</span>423MB</em><span class=\"total\"><span class=\"blind\">전체</span>5GB</span></span></div></li></ul><div class=\"lnb_notice\"><a class=\"notice_main_link\" href=\"#\">공지사항</a><a class=\"notice_contents_link\" href=\"#\">IE11 환경도 새로운 메일로 개편됩니다.</a></div></div><div class=\"lnb_footer\"><div class=\"other_version\"><a class=\"other_version_link\" href=\"#\">이전 버전으로 가기</a></div><small class=\"copyright\"><a href=\"#\">© NAVER Corp.</a></small></div></div></div></nav></div><iframe frameborder=\"0\" height=\"0px\" id=\"checkVirusArea\" name=\"checkVirusArea\" scrolling=\"no\" style=\"display: none;\" title=\"checkVirusArea\" width=\"0px\"></iframe></div><div id=\"layer\"></div><div id=\"toast\"></div><script src=\"https://ssl.pstatic.net/pwe/js/release/deskhome_menu_ns_202212.js\"></script><script charset=\"utf-8\" src=\"https://static.nid.naver.com/template/gnb_utf8\" type=\"text/javascript\"></script></body></html>"
      ]
     },
     "execution_count": 71,
     "metadata": {},
     "output_type": "execute_result"
    }
   ],
   "source": [
    "soup"
   ]
  },
  {
   "cell_type": "code",
   "execution_count": 72,
   "id": "5e0a8bad",
   "metadata": {},
   "outputs": [],
   "source": [
    "url = 'https://comic.naver.com/genre/bestChallenge.nhn'\n",
    "driver.get(url)"
   ]
  },
  {
   "cell_type": "code",
   "execution_count": 73,
   "id": "755fd110",
   "metadata": {},
   "outputs": [],
   "source": [
    "id_elem = driver.find_element(By.ID,'root')"
   ]
  },
  {
   "cell_type": "code",
   "execution_count": 74,
   "id": "3e6326c6",
   "metadata": {},
   "outputs": [
    {
     "data": {
      "text/plain": [
       "<selenium.webdriver.remote.webelement.WebElement (session=\"dc20f38fe6affae88ee31d8ba855ba02\", element=\"f4954472-8406-4d61-889c-fd66a705bf26\")>"
      ]
     },
     "execution_count": 74,
     "metadata": {},
     "output_type": "execute_result"
    }
   ],
   "source": [
    "id_elem"
   ]
  },
  {
   "cell_type": "code",
   "execution_count": 75,
   "id": "3fb9d8bb",
   "metadata": {},
   "outputs": [],
   "source": [
    "html = driver.page_source\n",
    "soup = BeautifulSoup(html,'html.parser')"
   ]
  },
  {
   "cell_type": "code",
   "execution_count": 76,
   "id": "1b0fe868",
   "metadata": {},
   "outputs": [
    {
     "data": {
      "text/plain": [
       "<span class=\"text\">비타(VITA)</span>"
      ]
     },
     "execution_count": 76,
     "metadata": {},
     "output_type": "execute_result"
    }
   ],
   "source": [
    "soup.find(id='content').find('ul').find('li').find(class_='text')"
   ]
  },
  {
   "cell_type": "code",
   "execution_count": 77,
   "id": "fd96f458",
   "metadata": {},
   "outputs": [],
   "source": [
    "driver.close()"
   ]
  },
  {
   "cell_type": "code",
   "execution_count": null,
   "id": "b573f53c",
   "metadata": {},
   "outputs": [],
   "source": []
  }
 ],
 "metadata": {
  "kernelspec": {
   "display_name": "Python 3 (ipykernel)",
   "language": "python",
   "name": "python3"
  },
  "language_info": {
   "codemirror_mode": {
    "name": "ipython",
    "version": 3
   },
   "file_extension": ".py",
   "mimetype": "text/x-python",
   "name": "python",
   "nbconvert_exporter": "python",
   "pygments_lexer": "ipython3",
   "version": "3.9.12"
  }
 },
 "nbformat": 4,
 "nbformat_minor": 5
}
