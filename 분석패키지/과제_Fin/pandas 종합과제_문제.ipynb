{
 "cells": [
  {
   "cell_type": "markdown",
   "metadata": {},
   "source": [
    "### 판다스를 활용한 데이터 전처리 연습\n",
    "\n",
    "- 이 문제를 풀 때 다른 자료를 참고하거나, 구글 검색을 먼저 활용해보시기 바랍니다.   "
   ]
  },
  {
   "cell_type": "code",
   "execution_count": 1,
   "metadata": {},
   "outputs": [],
   "source": [
    "# 관련 모듈 import 하기\n",
    "import pandas as pd\n",
    "import numpy as np"
   ]
  },
  {
   "cell_type": "code",
   "execution_count": 2,
   "metadata": {},
   "outputs": [],
   "source": [
    "import matplotlib.pyplot as plt #그래프 패키지 모듈 등록\n",
    "%matplotlib inline \n",
    "#그래프는 show()함수를 통해서 독립창에서 실행되는 것이 원칙\n",
    "#그래프를 콘솔에서 바로 작도되록 하는 설정"
   ]
  },
  {
   "cell_type": "code",
   "execution_count": 3,
   "metadata": {},
   "outputs": [],
   "source": [
    "# 한글 문제\n",
    "# matplotlit의 기본 폰트에서 한글 지원되지 않기 때문에\n",
    "# matplotlib의 폰트 변경 필요\n",
    "import platform\n",
    "\n",
    "from matplotlib import font_manager, rc\n",
    "plt.rcParams['axes.unicode_minus'] = False\n",
    "\n",
    "if platform.system() == 'Darwin':  # 맥OS \n",
    "    rc('font', family='AppleGothic')\n",
    "elif platform.system() == 'Windows':  # 윈도우\n",
    "    path = \"c:/Windows/Fonts/malgun.ttf\"\n",
    "    font_name = font_manager.FontProperties(fname=path).get_name()\n",
    "    rc('font', family=font_name)\n",
    "else:\n",
    "    print('Unknown system...  sorry~~~')"
   ]
  },
  {
   "cell_type": "code",
   "execution_count": 4,
   "metadata": {},
   "outputs": [],
   "source": [
    "# 콘솔에서 모든 출력 허용하기\n",
    "from IPython.core.interactiveshell import InteractiveShell\n",
    "InteractiveShell.ast_node_interactivity=\"all\""
   ]
  },
  {
   "cell_type": "code",
   "execution_count": 5,
   "metadata": {},
   "outputs": [],
   "source": [
    "# 판다스 데이터프레임(DataFrame)을 출력할 때, 최대 출력할 수 있는 컬럼을 100개로 \n",
    "# 데이터를 분석할 때 출력해서 확인하기 편함\n",
    "pd.options.display.max_columns = 100"
   ]
  },
  {
   "cell_type": "markdown",
   "metadata": {},
   "source": [
    "### 데이터 로딩하기\n",
    "\n",
    "- 데이터를 읽어올때는 [판다스(Pandas)](https://pandas.pydata.org/)의 [read_csv](https://pandas.pydata.org/pandas-docs/stable/generated/pandas.read_csv.html) 라는 기능을 사용\n",
    "\n",
    "- 여기서 파일의 경로를 지정하는 방법에 주의해야 함. \n",
    "    - read_csv를 실행할 때 (**FileNotFoundError**)라는 이름의 에러가 난다면 경로가 제대로 지정이 되지 않은 것임\n",
    "    "
   ]
  },
  {
   "cell_type": "markdown",
   "metadata": {},
   "source": [
    "**차주정보.csv**\n",
    "\n",
    "- 자료출처 \n",
    "- 금융데이터 허브(https://www.bigdata-finance.kr/dataset/datasetView.do?datastId=SET1400010)에서 수집\n",
    "    - ```차주정보.csv``` \n",
    "        - 신용정보원 일반신용정보DB에 등록된 개인(이하 차주)에 대한 인구통계 관련 정보를 제공\n",
    "        - 컬럼 정보\n",
    "            - 차주 일련번호 : 차주정보와 대출,연체,카드 개설정보를 결합하기 위한 key\n",
    "            - 생년 : 차주 출생년도\n",
    "                - 샘플링 시점 80세 이상은 '80세의 생년'으로 묶음\n",
    "                - 샘플링 시점 19세 이하는 '19세의 생년'으로 묶음)\n",
    "            - 성별 : 1.남성, 2: 여성\n"
   ]
  },
  {
   "cell_type": "code",
   "execution_count": 6,
   "metadata": {},
   "outputs": [],
   "source": [
    "# 데이터 읽어오기\n",
    "raw_data = pd.read_csv(\"data/차주정보.csv\")"
   ]
  },
  {
   "cell_type": "markdown",
   "metadata": {},
   "source": [
    "1. raw_data 변수에 할당된 데이터의 행렬 사이즈를 출력하시오\n",
    "    - 출력은 (row, column) 으로 표시됩니다"
   ]
  },
  {
   "cell_type": "code",
   "execution_count": 7,
   "metadata": {},
   "outputs": [
    {
     "data": {
      "text/plain": [
       "(50, 4)"
      ]
     },
     "execution_count": 7,
     "metadata": {},
     "output_type": "execute_result"
    }
   ],
   "source": [
    "raw_data.shape"
   ]
  },
  {
   "cell_type": "markdown",
   "metadata": {},
   "source": [
    "2. raw_data의 처음과 마지막 5행씩을 출력하시오"
   ]
  },
  {
   "cell_type": "code",
   "execution_count": 8,
   "metadata": {},
   "outputs": [
    {
     "data": {
      "text/html": [
       "<div>\n",
       "<style scoped>\n",
       "    .dataframe tbody tr th:only-of-type {\n",
       "        vertical-align: middle;\n",
       "    }\n",
       "\n",
       "    .dataframe tbody tr th {\n",
       "        vertical-align: top;\n",
       "    }\n",
       "\n",
       "    .dataframe thead th {\n",
       "        text-align: right;\n",
       "    }\n",
       "</style>\n",
       "<table border=\"1\" class=\"dataframe\">\n",
       "  <thead>\n",
       "    <tr style=\"text-align: right;\">\n",
       "      <th></th>\n",
       "      <th>strd_yymm</th>\n",
       "      <th>deto_id</th>\n",
       "      <th>bth_yr</th>\n",
       "      <th>sex_cd</th>\n",
       "    </tr>\n",
       "  </thead>\n",
       "  <tbody>\n",
       "    <tr>\n",
       "      <th>0</th>\n",
       "      <td>202010</td>\n",
       "      <td>X0010254691714933659</td>\n",
       "      <td>1990</td>\n",
       "      <td>1</td>\n",
       "    </tr>\n",
       "    <tr>\n",
       "      <th>1</th>\n",
       "      <td>202010</td>\n",
       "      <td>X0013455316779233219</td>\n",
       "      <td>1954</td>\n",
       "      <td>2</td>\n",
       "    </tr>\n",
       "    <tr>\n",
       "      <th>2</th>\n",
       "      <td>202010</td>\n",
       "      <td>X0019385710745765957</td>\n",
       "      <td>1977</td>\n",
       "      <td>1</td>\n",
       "    </tr>\n",
       "    <tr>\n",
       "      <th>3</th>\n",
       "      <td>202010</td>\n",
       "      <td>X0019442830801994941</td>\n",
       "      <td>1992</td>\n",
       "      <td>1</td>\n",
       "    </tr>\n",
       "    <tr>\n",
       "      <th>4</th>\n",
       "      <td>202010</td>\n",
       "      <td>X0032015350750301834</td>\n",
       "      <td>1968</td>\n",
       "      <td>1</td>\n",
       "    </tr>\n",
       "  </tbody>\n",
       "</table>\n",
       "</div>"
      ],
      "text/plain": [
       "   strd_yymm               deto_id  bth_yr  sex_cd\n",
       "0     202010  X0010254691714933659    1990       1\n",
       "1     202010  X0013455316779233219    1954       2\n",
       "2     202010  X0019385710745765957    1977       1\n",
       "3     202010  X0019442830801994941    1992       1\n",
       "4     202010  X0032015350750301834    1968       1"
      ]
     },
     "execution_count": 8,
     "metadata": {},
     "output_type": "execute_result"
    },
    {
     "data": {
      "text/html": [
       "<div>\n",
       "<style scoped>\n",
       "    .dataframe tbody tr th:only-of-type {\n",
       "        vertical-align: middle;\n",
       "    }\n",
       "\n",
       "    .dataframe tbody tr th {\n",
       "        vertical-align: top;\n",
       "    }\n",
       "\n",
       "    .dataframe thead th {\n",
       "        text-align: right;\n",
       "    }\n",
       "</style>\n",
       "<table border=\"1\" class=\"dataframe\">\n",
       "  <thead>\n",
       "    <tr style=\"text-align: right;\">\n",
       "      <th></th>\n",
       "      <th>strd_yymm</th>\n",
       "      <th>deto_id</th>\n",
       "      <th>bth_yr</th>\n",
       "      <th>sex_cd</th>\n",
       "    </tr>\n",
       "  </thead>\n",
       "  <tbody>\n",
       "    <tr>\n",
       "      <th>45</th>\n",
       "      <td>202010</td>\n",
       "      <td>X0456268139651732219</td>\n",
       "      <td>1950</td>\n",
       "      <td>2</td>\n",
       "    </tr>\n",
       "    <tr>\n",
       "      <th>46</th>\n",
       "      <td>202010</td>\n",
       "      <td>X0471166329698944221</td>\n",
       "      <td>1956</td>\n",
       "      <td>1</td>\n",
       "    </tr>\n",
       "    <tr>\n",
       "      <th>47</th>\n",
       "      <td>202010</td>\n",
       "      <td>X0472554518406992051</td>\n",
       "      <td>1982</td>\n",
       "      <td>2</td>\n",
       "    </tr>\n",
       "    <tr>\n",
       "      <th>48</th>\n",
       "      <td>202010</td>\n",
       "      <td>X0473756250702972881</td>\n",
       "      <td>1958</td>\n",
       "      <td>2</td>\n",
       "    </tr>\n",
       "    <tr>\n",
       "      <th>49</th>\n",
       "      <td>202010</td>\n",
       "      <td>X0474444465014724107</td>\n",
       "      <td>1967</td>\n",
       "      <td>1</td>\n",
       "    </tr>\n",
       "  </tbody>\n",
       "</table>\n",
       "</div>"
      ],
      "text/plain": [
       "    strd_yymm               deto_id  bth_yr  sex_cd\n",
       "45     202010  X0456268139651732219    1950       2\n",
       "46     202010  X0471166329698944221    1956       1\n",
       "47     202010  X0472554518406992051    1982       2\n",
       "48     202010  X0473756250702972881    1958       2\n",
       "49     202010  X0474444465014724107    1967       1"
      ]
     },
     "execution_count": 8,
     "metadata": {},
     "output_type": "execute_result"
    }
   ],
   "source": [
    "raw_data.head()\n",
    "raw_data.tail()"
   ]
  },
  {
   "cell_type": "markdown",
   "metadata": {},
   "source": [
    "3. raw_data의 컬럼명과 index 명을 확인하시오."
   ]
  },
  {
   "cell_type": "code",
   "execution_count": 9,
   "metadata": {},
   "outputs": [
    {
     "data": {
      "text/plain": [
       "RangeIndex(start=0, stop=50, step=1)"
      ]
     },
     "execution_count": 9,
     "metadata": {},
     "output_type": "execute_result"
    },
    {
     "data": {
      "text/plain": [
       "Index(['strd_yymm', 'deto_id', 'bth_yr', 'sex_cd'], dtype='object')"
      ]
     },
     "execution_count": 9,
     "metadata": {},
     "output_type": "execute_result"
    }
   ],
   "source": [
    "raw_data.index\n",
    "raw_data.columns"
   ]
  },
  {
   "cell_type": "markdown",
   "metadata": {},
   "source": [
    "4. 1번에서 확인한 컬럼명을 아래와 같이 수정하고 데이터를 출력하여 수정된사항을 확인하시오\n",
    "- strd_yymm : 수집년월\n",
    "- deto_id : 사용자ID\n",
    "- bth_yr : 생년"
   ]
  },
  {
   "cell_type": "code",
   "execution_count": 10,
   "metadata": {},
   "outputs": [],
   "source": [
    "raw_data.rename(columns={'strd_yymm':'수집년월',\n",
    "                         'deto_id' : '사용자ID',\n",
    "                         'bth_yr' : '생년'},inplace=True)"
   ]
  },
  {
   "cell_type": "code",
   "execution_count": 11,
   "metadata": {},
   "outputs": [
    {
     "data": {
      "text/html": [
       "<div>\n",
       "<style scoped>\n",
       "    .dataframe tbody tr th:only-of-type {\n",
       "        vertical-align: middle;\n",
       "    }\n",
       "\n",
       "    .dataframe tbody tr th {\n",
       "        vertical-align: top;\n",
       "    }\n",
       "\n",
       "    .dataframe thead th {\n",
       "        text-align: right;\n",
       "    }\n",
       "</style>\n",
       "<table border=\"1\" class=\"dataframe\">\n",
       "  <thead>\n",
       "    <tr style=\"text-align: right;\">\n",
       "      <th></th>\n",
       "      <th>수집년월</th>\n",
       "      <th>사용자ID</th>\n",
       "      <th>생년</th>\n",
       "      <th>sex_cd</th>\n",
       "    </tr>\n",
       "  </thead>\n",
       "  <tbody>\n",
       "    <tr>\n",
       "      <th>0</th>\n",
       "      <td>202010</td>\n",
       "      <td>X0010254691714933659</td>\n",
       "      <td>1990</td>\n",
       "      <td>1</td>\n",
       "    </tr>\n",
       "  </tbody>\n",
       "</table>\n",
       "</div>"
      ],
      "text/plain": [
       "     수집년월                 사용자ID    생년  sex_cd\n",
       "0  202010  X0010254691714933659  1990       1"
      ]
     },
     "execution_count": 11,
     "metadata": {},
     "output_type": "execute_result"
    }
   ],
   "source": [
    "raw_data.head(1)"
   ]
  },
  {
   "cell_type": "markdown",
   "metadata": {},
   "source": [
    "5. 3번에서 확인한 인덱스를 1부터 50 까지의 정수로 수정하고 데이터를 출력하여 확인하시오\n"
   ]
  },
  {
   "cell_type": "code",
   "execution_count": 15,
   "metadata": {},
   "outputs": [],
   "source": [
    "raw_data.index = [i for i in range(1,51)]"
   ]
  },
  {
   "cell_type": "code",
   "execution_count": 16,
   "metadata": {},
   "outputs": [
    {
     "data": {
      "text/html": [
       "<div>\n",
       "<style scoped>\n",
       "    .dataframe tbody tr th:only-of-type {\n",
       "        vertical-align: middle;\n",
       "    }\n",
       "\n",
       "    .dataframe tbody tr th {\n",
       "        vertical-align: top;\n",
       "    }\n",
       "\n",
       "    .dataframe thead th {\n",
       "        text-align: right;\n",
       "    }\n",
       "</style>\n",
       "<table border=\"1\" class=\"dataframe\">\n",
       "  <thead>\n",
       "    <tr style=\"text-align: right;\">\n",
       "      <th></th>\n",
       "      <th>수집년월</th>\n",
       "      <th>사용자ID</th>\n",
       "      <th>생년</th>\n",
       "      <th>sex_cd</th>\n",
       "    </tr>\n",
       "  </thead>\n",
       "  <tbody>\n",
       "    <tr>\n",
       "      <th>1</th>\n",
       "      <td>202010</td>\n",
       "      <td>X0010254691714933659</td>\n",
       "      <td>1990</td>\n",
       "      <td>1</td>\n",
       "    </tr>\n",
       "    <tr>\n",
       "      <th>2</th>\n",
       "      <td>202010</td>\n",
       "      <td>X0013455316779233219</td>\n",
       "      <td>1954</td>\n",
       "      <td>2</td>\n",
       "    </tr>\n",
       "    <tr>\n",
       "      <th>3</th>\n",
       "      <td>202010</td>\n",
       "      <td>X0019385710745765957</td>\n",
       "      <td>1977</td>\n",
       "      <td>1</td>\n",
       "    </tr>\n",
       "    <tr>\n",
       "      <th>4</th>\n",
       "      <td>202010</td>\n",
       "      <td>X0019442830801994941</td>\n",
       "      <td>1992</td>\n",
       "      <td>1</td>\n",
       "    </tr>\n",
       "    <tr>\n",
       "      <th>5</th>\n",
       "      <td>202010</td>\n",
       "      <td>X0032015350750301834</td>\n",
       "      <td>1968</td>\n",
       "      <td>1</td>\n",
       "    </tr>\n",
       "  </tbody>\n",
       "</table>\n",
       "</div>"
      ],
      "text/plain": [
       "     수집년월                 사용자ID    생년  sex_cd\n",
       "1  202010  X0010254691714933659  1990       1\n",
       "2  202010  X0013455316779233219  1954       2\n",
       "3  202010  X0019385710745765957  1977       1\n",
       "4  202010  X0019442830801994941  1992       1\n",
       "5  202010  X0032015350750301834  1968       1"
      ]
     },
     "execution_count": 16,
     "metadata": {},
     "output_type": "execute_result"
    },
    {
     "data": {
      "text/html": [
       "<div>\n",
       "<style scoped>\n",
       "    .dataframe tbody tr th:only-of-type {\n",
       "        vertical-align: middle;\n",
       "    }\n",
       "\n",
       "    .dataframe tbody tr th {\n",
       "        vertical-align: top;\n",
       "    }\n",
       "\n",
       "    .dataframe thead th {\n",
       "        text-align: right;\n",
       "    }\n",
       "</style>\n",
       "<table border=\"1\" class=\"dataframe\">\n",
       "  <thead>\n",
       "    <tr style=\"text-align: right;\">\n",
       "      <th></th>\n",
       "      <th>수집년월</th>\n",
       "      <th>사용자ID</th>\n",
       "      <th>생년</th>\n",
       "      <th>sex_cd</th>\n",
       "    </tr>\n",
       "  </thead>\n",
       "  <tbody>\n",
       "    <tr>\n",
       "      <th>46</th>\n",
       "      <td>202010</td>\n",
       "      <td>X0456268139651732219</td>\n",
       "      <td>1950</td>\n",
       "      <td>2</td>\n",
       "    </tr>\n",
       "    <tr>\n",
       "      <th>47</th>\n",
       "      <td>202010</td>\n",
       "      <td>X0471166329698944221</td>\n",
       "      <td>1956</td>\n",
       "      <td>1</td>\n",
       "    </tr>\n",
       "    <tr>\n",
       "      <th>48</th>\n",
       "      <td>202010</td>\n",
       "      <td>X0472554518406992051</td>\n",
       "      <td>1982</td>\n",
       "      <td>2</td>\n",
       "    </tr>\n",
       "    <tr>\n",
       "      <th>49</th>\n",
       "      <td>202010</td>\n",
       "      <td>X0473756250702972881</td>\n",
       "      <td>1958</td>\n",
       "      <td>2</td>\n",
       "    </tr>\n",
       "    <tr>\n",
       "      <th>50</th>\n",
       "      <td>202010</td>\n",
       "      <td>X0474444465014724107</td>\n",
       "      <td>1967</td>\n",
       "      <td>1</td>\n",
       "    </tr>\n",
       "  </tbody>\n",
       "</table>\n",
       "</div>"
      ],
      "text/plain": [
       "      수집년월                 사용자ID    생년  sex_cd\n",
       "46  202010  X0456268139651732219  1950       2\n",
       "47  202010  X0471166329698944221  1956       1\n",
       "48  202010  X0472554518406992051  1982       2\n",
       "49  202010  X0473756250702972881  1958       2\n",
       "50  202010  X0474444465014724107  1967       1"
      ]
     },
     "execution_count": 16,
     "metadata": {},
     "output_type": "execute_result"
    }
   ],
   "source": [
    "raw_data.head()\n",
    "raw_data.tail()"
   ]
  },
  {
   "cell_type": "markdown",
   "metadata": {},
   "source": [
    "6. 출생년도를 4개의 카테고리로 분류하여 연령대 필드를 생성하시오. \n",
    "- (청년(19에서 29세); 중년(30에서 49세); 장년(50에서 64세); 노년(65세 이상))\n",
    "- 2020년 나이를 기준으로 경계(bins)는 직접 설정 하시오"
   ]
  },
  {
   "cell_type": "code",
   "execution_count": 17,
   "metadata": {
    "collapsed": true
   },
   "outputs": [
    {
     "name": "stdout",
     "output_type": "stream",
     "text": [
      "<class 'pandas.core.frame.DataFrame'>\n",
      "Int64Index: 50 entries, 1 to 50\n",
      "Data columns (total 4 columns):\n",
      " #   Column  Non-Null Count  Dtype \n",
      "---  ------  --------------  ----- \n",
      " 0   수집년월    50 non-null     int64 \n",
      " 1   사용자ID   50 non-null     object\n",
      " 2   생년      50 non-null     int64 \n",
      " 3   sex_cd  50 non-null     int64 \n",
      "dtypes: int64(3), object(1)\n",
      "memory usage: 2.0+ KB\n"
     ]
    }
   ],
   "source": [
    "raw_data.info()"
   ]
  },
  {
   "cell_type": "code",
   "execution_count": 18,
   "metadata": {},
   "outputs": [],
   "source": [
    "bins = [1938,1956,1972,1992,2002]\n",
    "labels = ['노년','장년','중년','청년']\n",
    "raw_data['연령대']=pd.cut(raw_data['생년'],bins,labels=labels)"
   ]
  },
  {
   "cell_type": "code",
   "execution_count": 19,
   "metadata": {},
   "outputs": [
    {
     "data": {
      "text/html": [
       "<div>\n",
       "<style scoped>\n",
       "    .dataframe tbody tr th:only-of-type {\n",
       "        vertical-align: middle;\n",
       "    }\n",
       "\n",
       "    .dataframe tbody tr th {\n",
       "        vertical-align: top;\n",
       "    }\n",
       "\n",
       "    .dataframe thead th {\n",
       "        text-align: right;\n",
       "    }\n",
       "</style>\n",
       "<table border=\"1\" class=\"dataframe\">\n",
       "  <thead>\n",
       "    <tr style=\"text-align: right;\">\n",
       "      <th></th>\n",
       "      <th>수집년월</th>\n",
       "      <th>사용자ID</th>\n",
       "      <th>생년</th>\n",
       "      <th>sex_cd</th>\n",
       "      <th>연령대</th>\n",
       "    </tr>\n",
       "  </thead>\n",
       "  <tbody>\n",
       "    <tr>\n",
       "      <th>1</th>\n",
       "      <td>202010</td>\n",
       "      <td>X0010254691714933659</td>\n",
       "      <td>1990</td>\n",
       "      <td>1</td>\n",
       "      <td>중년</td>\n",
       "    </tr>\n",
       "    <tr>\n",
       "      <th>2</th>\n",
       "      <td>202010</td>\n",
       "      <td>X0013455316779233219</td>\n",
       "      <td>1954</td>\n",
       "      <td>2</td>\n",
       "      <td>노년</td>\n",
       "    </tr>\n",
       "    <tr>\n",
       "      <th>3</th>\n",
       "      <td>202010</td>\n",
       "      <td>X0019385710745765957</td>\n",
       "      <td>1977</td>\n",
       "      <td>1</td>\n",
       "      <td>중년</td>\n",
       "    </tr>\n",
       "    <tr>\n",
       "      <th>4</th>\n",
       "      <td>202010</td>\n",
       "      <td>X0019442830801994941</td>\n",
       "      <td>1992</td>\n",
       "      <td>1</td>\n",
       "      <td>중년</td>\n",
       "    </tr>\n",
       "    <tr>\n",
       "      <th>5</th>\n",
       "      <td>202010</td>\n",
       "      <td>X0032015350750301834</td>\n",
       "      <td>1968</td>\n",
       "      <td>1</td>\n",
       "      <td>장년</td>\n",
       "    </tr>\n",
       "  </tbody>\n",
       "</table>\n",
       "</div>"
      ],
      "text/plain": [
       "     수집년월                 사용자ID    생년  sex_cd 연령대\n",
       "1  202010  X0010254691714933659  1990       1  중년\n",
       "2  202010  X0013455316779233219  1954       2  노년\n",
       "3  202010  X0019385710745765957  1977       1  중년\n",
       "4  202010  X0019442830801994941  1992       1  중년\n",
       "5  202010  X0032015350750301834  1968       1  장년"
      ]
     },
     "execution_count": 19,
     "metadata": {},
     "output_type": "execute_result"
    }
   ],
   "source": [
    "raw_data.head()"
   ]
  },
  {
   "cell_type": "markdown",
   "metadata": {},
   "source": [
    "7. raw_data의 성별필드를 추가하되 sex_cd 필드의 값이 1이면 M, 2면 F 로 값을 정하고 출력하여 결과를 확인하시오\n"
   ]
  },
  {
   "cell_type": "code",
   "execution_count": 20,
   "metadata": {},
   "outputs": [
    {
     "data": {
      "text/html": [
       "<div>\n",
       "<style scoped>\n",
       "    .dataframe tbody tr th:only-of-type {\n",
       "        vertical-align: middle;\n",
       "    }\n",
       "\n",
       "    .dataframe tbody tr th {\n",
       "        vertical-align: top;\n",
       "    }\n",
       "\n",
       "    .dataframe thead th {\n",
       "        text-align: right;\n",
       "    }\n",
       "</style>\n",
       "<table border=\"1\" class=\"dataframe\">\n",
       "  <thead>\n",
       "    <tr style=\"text-align: right;\">\n",
       "      <th></th>\n",
       "      <th>수집년월</th>\n",
       "      <th>사용자ID</th>\n",
       "      <th>생년</th>\n",
       "      <th>sex_cd</th>\n",
       "      <th>연령대</th>\n",
       "      <th>성별</th>\n",
       "    </tr>\n",
       "  </thead>\n",
       "  <tbody>\n",
       "    <tr>\n",
       "      <th>1</th>\n",
       "      <td>202010</td>\n",
       "      <td>X0010254691714933659</td>\n",
       "      <td>1990</td>\n",
       "      <td>1</td>\n",
       "      <td>중년</td>\n",
       "      <td>남</td>\n",
       "    </tr>\n",
       "  </tbody>\n",
       "</table>\n",
       "</div>"
      ],
      "text/plain": [
       "     수집년월                 사용자ID    생년  sex_cd 연령대 성별\n",
       "1  202010  X0010254691714933659  1990       1  중년  남"
      ]
     },
     "execution_count": 20,
     "metadata": {},
     "output_type": "execute_result"
    }
   ],
   "source": [
    "raw_data['성별']=['남' if i==1 else '여' for i in raw_data['sex_cd']]\n",
    "raw_data.head(1)"
   ]
  },
  {
   "cell_type": "markdown",
   "metadata": {},
   "source": [
    "8. sex_cd 열을 삭제하시오."
   ]
  },
  {
   "cell_type": "code",
   "execution_count": 21,
   "metadata": {},
   "outputs": [],
   "source": [
    "del raw_data['sex_cd']"
   ]
  },
  {
   "cell_type": "code",
   "execution_count": 22,
   "metadata": {},
   "outputs": [
    {
     "data": {
      "text/html": [
       "<div>\n",
       "<style scoped>\n",
       "    .dataframe tbody tr th:only-of-type {\n",
       "        vertical-align: middle;\n",
       "    }\n",
       "\n",
       "    .dataframe tbody tr th {\n",
       "        vertical-align: top;\n",
       "    }\n",
       "\n",
       "    .dataframe thead th {\n",
       "        text-align: right;\n",
       "    }\n",
       "</style>\n",
       "<table border=\"1\" class=\"dataframe\">\n",
       "  <thead>\n",
       "    <tr style=\"text-align: right;\">\n",
       "      <th></th>\n",
       "      <th>수집년월</th>\n",
       "      <th>사용자ID</th>\n",
       "      <th>생년</th>\n",
       "      <th>연령대</th>\n",
       "      <th>성별</th>\n",
       "    </tr>\n",
       "  </thead>\n",
       "  <tbody>\n",
       "    <tr>\n",
       "      <th>1</th>\n",
       "      <td>202010</td>\n",
       "      <td>X0010254691714933659</td>\n",
       "      <td>1990</td>\n",
       "      <td>중년</td>\n",
       "      <td>남</td>\n",
       "    </tr>\n",
       "    <tr>\n",
       "      <th>2</th>\n",
       "      <td>202010</td>\n",
       "      <td>X0013455316779233219</td>\n",
       "      <td>1954</td>\n",
       "      <td>노년</td>\n",
       "      <td>여</td>\n",
       "    </tr>\n",
       "    <tr>\n",
       "      <th>3</th>\n",
       "      <td>202010</td>\n",
       "      <td>X0019385710745765957</td>\n",
       "      <td>1977</td>\n",
       "      <td>중년</td>\n",
       "      <td>남</td>\n",
       "    </tr>\n",
       "    <tr>\n",
       "      <th>4</th>\n",
       "      <td>202010</td>\n",
       "      <td>X0019442830801994941</td>\n",
       "      <td>1992</td>\n",
       "      <td>중년</td>\n",
       "      <td>남</td>\n",
       "    </tr>\n",
       "    <tr>\n",
       "      <th>5</th>\n",
       "      <td>202010</td>\n",
       "      <td>X0032015350750301834</td>\n",
       "      <td>1968</td>\n",
       "      <td>장년</td>\n",
       "      <td>남</td>\n",
       "    </tr>\n",
       "  </tbody>\n",
       "</table>\n",
       "</div>"
      ],
      "text/plain": [
       "     수집년월                 사용자ID    생년 연령대 성별\n",
       "1  202010  X0010254691714933659  1990  중년  남\n",
       "2  202010  X0013455316779233219  1954  노년  여\n",
       "3  202010  X0019385710745765957  1977  중년  남\n",
       "4  202010  X0019442830801994941  1992  중년  남\n",
       "5  202010  X0032015350750301834  1968  장년  남"
      ]
     },
     "execution_count": 22,
     "metadata": {},
     "output_type": "execute_result"
    }
   ],
   "source": [
    "raw_data.head()"
   ]
  },
  {
   "cell_type": "markdown",
   "metadata": {},
   "source": [
    "**카드개설정보.csv**\n",
    "\n",
    "- 금융데이터 허브(https://www.bigdata-finance.kr/dataset/datasetView.do?datastId=SET1400010)에서 수집\n",
    "- ```카드개설정보.csv``` \n",
    "    - 여기에는 카드개설 관련정보를 카드 개설 기간동안 월말 스냅샷 형태로 제공\n",
    "    - 컬럼 정보는 다음과 같다.\n",
    "        - 기준년월 : 해당 데이터 수집 시점\n",
    "        - 차주 일련번호 : 차주정보와 대출,연체,카드 개설정보를 결합하기 위한 key\n",
    "        - 기관일련번호 : 카드개설정보와 대출.연체정보를 금융회사 단위로 결합하기 위한 key\n",
    "        - 개설사유코드 : 0081:신용카드, 0083: 신용체크카드\n",
    "        - 카드유형코드 : 1.개인카드, 2개인기업카드\n",
    "        - 개설년월 : 카드 개설정보가 등록된 년월(YYYYMM)\n",
    "\n"
   ]
  },
  {
   "cell_type": "code",
   "execution_count": 25,
   "metadata": {},
   "outputs": [],
   "source": [
    "# 데이터 읽어오기\n",
    "raw_data_open=pd.read_csv('data/카드개설정보.csv')"
   ]
  },
  {
   "cell_type": "markdown",
   "metadata": {},
   "source": [
    "6. raw_data_open 데이터프레임의 필드수와 컬럼수를 확인하시오."
   ]
  },
  {
   "cell_type": "code",
   "execution_count": 27,
   "metadata": {},
   "outputs": [
    {
     "data": {
      "text/plain": [
       "(97320, 7)"
      ]
     },
     "execution_count": 27,
     "metadata": {},
     "output_type": "execute_result"
    }
   ],
   "source": [
    "raw_data_open.shape"
   ]
  },
  {
   "cell_type": "markdown",
   "metadata": {},
   "source": [
    "7. raw_data_open 데이터프레임의 앞부분 레코드 5개 뒷부분 레코드 5개를 확인하시오."
   ]
  },
  {
   "cell_type": "code",
   "execution_count": 28,
   "metadata": {},
   "outputs": [
    {
     "data": {
      "text/html": [
       "<div>\n",
       "<style scoped>\n",
       "    .dataframe tbody tr th:only-of-type {\n",
       "        vertical-align: middle;\n",
       "    }\n",
       "\n",
       "    .dataframe tbody tr th {\n",
       "        vertical-align: top;\n",
       "    }\n",
       "\n",
       "    .dataframe thead th {\n",
       "        text-align: right;\n",
       "    }\n",
       "</style>\n",
       "<table border=\"1\" class=\"dataframe\">\n",
       "  <thead>\n",
       "    <tr style=\"text-align: right;\">\n",
       "      <th></th>\n",
       "      <th>strd_yymm</th>\n",
       "      <th>card_open_strd_yymm</th>\n",
       "      <th>deto_id</th>\n",
       "      <th>inst_id</th>\n",
       "      <th>card_open_rson_nm</th>\n",
       "      <th>card_typ_nm</th>\n",
       "      <th>card_open_yymm</th>\n",
       "    </tr>\n",
       "  </thead>\n",
       "  <tbody>\n",
       "    <tr>\n",
       "      <th>0</th>\n",
       "      <td>202010</td>\n",
       "      <td>201612</td>\n",
       "      <td>X0010254691714933659</td>\n",
       "      <td>X0739620684726734804</td>\n",
       "      <td>81</td>\n",
       "      <td>1</td>\n",
       "      <td>201312</td>\n",
       "    </tr>\n",
       "    <tr>\n",
       "      <th>1</th>\n",
       "      <td>202010</td>\n",
       "      <td>201612</td>\n",
       "      <td>X0010254691714933659</td>\n",
       "      <td>X2414244151238889690</td>\n",
       "      <td>81</td>\n",
       "      <td>1</td>\n",
       "      <td>200006</td>\n",
       "    </tr>\n",
       "    <tr>\n",
       "      <th>2</th>\n",
       "      <td>202010</td>\n",
       "      <td>201612</td>\n",
       "      <td>X0010254691714933659</td>\n",
       "      <td>X2990775869667591539</td>\n",
       "      <td>81</td>\n",
       "      <td>1</td>\n",
       "      <td>201107</td>\n",
       "    </tr>\n",
       "    <tr>\n",
       "      <th>3</th>\n",
       "      <td>202010</td>\n",
       "      <td>201612</td>\n",
       "      <td>X0010254691714933659</td>\n",
       "      <td>Y5029072213910072970</td>\n",
       "      <td>81</td>\n",
       "      <td>1</td>\n",
       "      <td>201511</td>\n",
       "    </tr>\n",
       "    <tr>\n",
       "      <th>4</th>\n",
       "      <td>202010</td>\n",
       "      <td>201701</td>\n",
       "      <td>X0010254691714933659</td>\n",
       "      <td>X0739620684726734804</td>\n",
       "      <td>81</td>\n",
       "      <td>1</td>\n",
       "      <td>201312</td>\n",
       "    </tr>\n",
       "  </tbody>\n",
       "</table>\n",
       "</div>"
      ],
      "text/plain": [
       "   strd_yymm  card_open_strd_yymm               deto_id               inst_id  \\\n",
       "0     202010               201612  X0010254691714933659  X0739620684726734804   \n",
       "1     202010               201612  X0010254691714933659  X2414244151238889690   \n",
       "2     202010               201612  X0010254691714933659  X2990775869667591539   \n",
       "3     202010               201612  X0010254691714933659  Y5029072213910072970   \n",
       "4     202010               201701  X0010254691714933659  X0739620684726734804   \n",
       "\n",
       "   card_open_rson_nm  card_typ_nm  card_open_yymm  \n",
       "0                 81            1          201312  \n",
       "1                 81            1          200006  \n",
       "2                 81            1          201107  \n",
       "3                 81            1          201511  \n",
       "4                 81            1          201312  "
      ]
     },
     "execution_count": 28,
     "metadata": {},
     "output_type": "execute_result"
    },
    {
     "data": {
      "text/html": [
       "<div>\n",
       "<style scoped>\n",
       "    .dataframe tbody tr th:only-of-type {\n",
       "        vertical-align: middle;\n",
       "    }\n",
       "\n",
       "    .dataframe tbody tr th {\n",
       "        vertical-align: top;\n",
       "    }\n",
       "\n",
       "    .dataframe thead th {\n",
       "        text-align: right;\n",
       "    }\n",
       "</style>\n",
       "<table border=\"1\" class=\"dataframe\">\n",
       "  <thead>\n",
       "    <tr style=\"text-align: right;\">\n",
       "      <th></th>\n",
       "      <th>strd_yymm</th>\n",
       "      <th>card_open_strd_yymm</th>\n",
       "      <th>deto_id</th>\n",
       "      <th>inst_id</th>\n",
       "      <th>card_open_rson_nm</th>\n",
       "      <th>card_typ_nm</th>\n",
       "      <th>card_open_yymm</th>\n",
       "    </tr>\n",
       "  </thead>\n",
       "  <tbody>\n",
       "    <tr>\n",
       "      <th>97315</th>\n",
       "      <td>202010</td>\n",
       "      <td>201811</td>\n",
       "      <td>Y9222402642167019485</td>\n",
       "      <td>Y7420900344501987908</td>\n",
       "      <td>81</td>\n",
       "      <td>1</td>\n",
       "      <td>200701</td>\n",
       "    </tr>\n",
       "    <tr>\n",
       "      <th>97316</th>\n",
       "      <td>202010</td>\n",
       "      <td>201812</td>\n",
       "      <td>Y9222402642167019485</td>\n",
       "      <td>X1297134994299296873</td>\n",
       "      <td>81</td>\n",
       "      <td>1</td>\n",
       "      <td>201306</td>\n",
       "    </tr>\n",
       "    <tr>\n",
       "      <th>97317</th>\n",
       "      <td>202010</td>\n",
       "      <td>201812</td>\n",
       "      <td>Y9222402642167019485</td>\n",
       "      <td>X6306325470693895595</td>\n",
       "      <td>81</td>\n",
       "      <td>1</td>\n",
       "      <td>201012</td>\n",
       "    </tr>\n",
       "    <tr>\n",
       "      <th>97318</th>\n",
       "      <td>202010</td>\n",
       "      <td>201812</td>\n",
       "      <td>Y9222402642167019485</td>\n",
       "      <td>Y5753670888276004077</td>\n",
       "      <td>81</td>\n",
       "      <td>1</td>\n",
       "      <td>201101</td>\n",
       "    </tr>\n",
       "    <tr>\n",
       "      <th>97319</th>\n",
       "      <td>202010</td>\n",
       "      <td>201812</td>\n",
       "      <td>Y9222402642167019485</td>\n",
       "      <td>Y7420900344501987908</td>\n",
       "      <td>81</td>\n",
       "      <td>1</td>\n",
       "      <td>200701</td>\n",
       "    </tr>\n",
       "  </tbody>\n",
       "</table>\n",
       "</div>"
      ],
      "text/plain": [
       "       strd_yymm  card_open_strd_yymm               deto_id  \\\n",
       "97315     202010               201811  Y9222402642167019485   \n",
       "97316     202010               201812  Y9222402642167019485   \n",
       "97317     202010               201812  Y9222402642167019485   \n",
       "97318     202010               201812  Y9222402642167019485   \n",
       "97319     202010               201812  Y9222402642167019485   \n",
       "\n",
       "                    inst_id  card_open_rson_nm  card_typ_nm  card_open_yymm  \n",
       "97315  Y7420900344501987908                 81            1          200701  \n",
       "97316  X1297134994299296873                 81            1          201306  \n",
       "97317  X6306325470693895595                 81            1          201012  \n",
       "97318  Y5753670888276004077                 81            1          201101  \n",
       "97319  Y7420900344501987908                 81            1          200701  "
      ]
     },
     "execution_count": 28,
     "metadata": {},
     "output_type": "execute_result"
    }
   ],
   "source": [
    "raw_data_open.head()\n",
    "raw_data_open.tail()"
   ]
  },
  {
   "cell_type": "markdown",
   "metadata": {},
   "source": [
    "8. raw_data_open df의 index를 숫자 1~전체행수 로 설정하시오."
   ]
  },
  {
   "cell_type": "code",
   "execution_count": 29,
   "metadata": {},
   "outputs": [],
   "source": [
    "raw_data_open.index=[i for i in range(1,len(raw_data_open)+1)]"
   ]
  },
  {
   "cell_type": "code",
   "execution_count": 30,
   "metadata": {},
   "outputs": [
    {
     "data": {
      "text/html": [
       "<div>\n",
       "<style scoped>\n",
       "    .dataframe tbody tr th:only-of-type {\n",
       "        vertical-align: middle;\n",
       "    }\n",
       "\n",
       "    .dataframe tbody tr th {\n",
       "        vertical-align: top;\n",
       "    }\n",
       "\n",
       "    .dataframe thead th {\n",
       "        text-align: right;\n",
       "    }\n",
       "</style>\n",
       "<table border=\"1\" class=\"dataframe\">\n",
       "  <thead>\n",
       "    <tr style=\"text-align: right;\">\n",
       "      <th></th>\n",
       "      <th>strd_yymm</th>\n",
       "      <th>card_open_strd_yymm</th>\n",
       "      <th>deto_id</th>\n",
       "      <th>inst_id</th>\n",
       "      <th>card_open_rson_nm</th>\n",
       "      <th>card_typ_nm</th>\n",
       "      <th>card_open_yymm</th>\n",
       "    </tr>\n",
       "  </thead>\n",
       "  <tbody>\n",
       "    <tr>\n",
       "      <th>97316</th>\n",
       "      <td>202010</td>\n",
       "      <td>201811</td>\n",
       "      <td>Y9222402642167019485</td>\n",
       "      <td>Y7420900344501987908</td>\n",
       "      <td>81</td>\n",
       "      <td>1</td>\n",
       "      <td>200701</td>\n",
       "    </tr>\n",
       "    <tr>\n",
       "      <th>97317</th>\n",
       "      <td>202010</td>\n",
       "      <td>201812</td>\n",
       "      <td>Y9222402642167019485</td>\n",
       "      <td>X1297134994299296873</td>\n",
       "      <td>81</td>\n",
       "      <td>1</td>\n",
       "      <td>201306</td>\n",
       "    </tr>\n",
       "    <tr>\n",
       "      <th>97318</th>\n",
       "      <td>202010</td>\n",
       "      <td>201812</td>\n",
       "      <td>Y9222402642167019485</td>\n",
       "      <td>X6306325470693895595</td>\n",
       "      <td>81</td>\n",
       "      <td>1</td>\n",
       "      <td>201012</td>\n",
       "    </tr>\n",
       "    <tr>\n",
       "      <th>97319</th>\n",
       "      <td>202010</td>\n",
       "      <td>201812</td>\n",
       "      <td>Y9222402642167019485</td>\n",
       "      <td>Y5753670888276004077</td>\n",
       "      <td>81</td>\n",
       "      <td>1</td>\n",
       "      <td>201101</td>\n",
       "    </tr>\n",
       "    <tr>\n",
       "      <th>97320</th>\n",
       "      <td>202010</td>\n",
       "      <td>201812</td>\n",
       "      <td>Y9222402642167019485</td>\n",
       "      <td>Y7420900344501987908</td>\n",
       "      <td>81</td>\n",
       "      <td>1</td>\n",
       "      <td>200701</td>\n",
       "    </tr>\n",
       "  </tbody>\n",
       "</table>\n",
       "</div>"
      ],
      "text/plain": [
       "       strd_yymm  card_open_strd_yymm               deto_id  \\\n",
       "97316     202010               201811  Y9222402642167019485   \n",
       "97317     202010               201812  Y9222402642167019485   \n",
       "97318     202010               201812  Y9222402642167019485   \n",
       "97319     202010               201812  Y9222402642167019485   \n",
       "97320     202010               201812  Y9222402642167019485   \n",
       "\n",
       "                    inst_id  card_open_rson_nm  card_typ_nm  card_open_yymm  \n",
       "97316  Y7420900344501987908                 81            1          200701  \n",
       "97317  X1297134994299296873                 81            1          201306  \n",
       "97318  X6306325470693895595                 81            1          201012  \n",
       "97319  Y5753670888276004077                 81            1          201101  \n",
       "97320  Y7420900344501987908                 81            1          200701  "
      ]
     },
     "execution_count": 30,
     "metadata": {},
     "output_type": "execute_result"
    }
   ],
   "source": [
    "raw_data_open.tail()"
   ]
  },
  {
   "cell_type": "markdown",
   "metadata": {},
   "source": [
    "9. raw_data_open df의 컬럼명을 아래와 같이 변경하시오.\n",
    "- strd_yymm : 수집년월\n",
    "- card_open_strd_yymm : 1차수집년월\n",
    "- deto_id : 사용자ID\n",
    "- inst_id : 금융기관ID  \n",
    "- card_open_yymm : 개설년월"
   ]
  },
  {
   "cell_type": "code",
   "execution_count": 31,
   "metadata": {},
   "outputs": [],
   "source": [
    "raw_data_open.rename(columns={'strd_yymm':'수집년월',\n",
    "                              'card_open_strd_yymm': '1차수집년월',\n",
    "                              'deto_id' : '사용자ID',\n",
    "                              'inst_id' : '금융기관ID',\n",
    "                              'card_open_yymm' : '개설년월'},inplace=True)"
   ]
  },
  {
   "cell_type": "code",
   "execution_count": 32,
   "metadata": {},
   "outputs": [
    {
     "data": {
      "text/html": [
       "<div>\n",
       "<style scoped>\n",
       "    .dataframe tbody tr th:only-of-type {\n",
       "        vertical-align: middle;\n",
       "    }\n",
       "\n",
       "    .dataframe tbody tr th {\n",
       "        vertical-align: top;\n",
       "    }\n",
       "\n",
       "    .dataframe thead th {\n",
       "        text-align: right;\n",
       "    }\n",
       "</style>\n",
       "<table border=\"1\" class=\"dataframe\">\n",
       "  <thead>\n",
       "    <tr style=\"text-align: right;\">\n",
       "      <th></th>\n",
       "      <th>수집년월</th>\n",
       "      <th>1차수집년월</th>\n",
       "      <th>사용자ID</th>\n",
       "      <th>금융기관ID</th>\n",
       "      <th>card_open_rson_nm</th>\n",
       "      <th>card_typ_nm</th>\n",
       "      <th>개설년월</th>\n",
       "    </tr>\n",
       "  </thead>\n",
       "  <tbody>\n",
       "    <tr>\n",
       "      <th>1</th>\n",
       "      <td>202010</td>\n",
       "      <td>201612</td>\n",
       "      <td>X0010254691714933659</td>\n",
       "      <td>X0739620684726734804</td>\n",
       "      <td>81</td>\n",
       "      <td>1</td>\n",
       "      <td>201312</td>\n",
       "    </tr>\n",
       "    <tr>\n",
       "      <th>2</th>\n",
       "      <td>202010</td>\n",
       "      <td>201612</td>\n",
       "      <td>X0010254691714933659</td>\n",
       "      <td>X2414244151238889690</td>\n",
       "      <td>81</td>\n",
       "      <td>1</td>\n",
       "      <td>200006</td>\n",
       "    </tr>\n",
       "    <tr>\n",
       "      <th>3</th>\n",
       "      <td>202010</td>\n",
       "      <td>201612</td>\n",
       "      <td>X0010254691714933659</td>\n",
       "      <td>X2990775869667591539</td>\n",
       "      <td>81</td>\n",
       "      <td>1</td>\n",
       "      <td>201107</td>\n",
       "    </tr>\n",
       "    <tr>\n",
       "      <th>4</th>\n",
       "      <td>202010</td>\n",
       "      <td>201612</td>\n",
       "      <td>X0010254691714933659</td>\n",
       "      <td>Y5029072213910072970</td>\n",
       "      <td>81</td>\n",
       "      <td>1</td>\n",
       "      <td>201511</td>\n",
       "    </tr>\n",
       "    <tr>\n",
       "      <th>5</th>\n",
       "      <td>202010</td>\n",
       "      <td>201701</td>\n",
       "      <td>X0010254691714933659</td>\n",
       "      <td>X0739620684726734804</td>\n",
       "      <td>81</td>\n",
       "      <td>1</td>\n",
       "      <td>201312</td>\n",
       "    </tr>\n",
       "  </tbody>\n",
       "</table>\n",
       "</div>"
      ],
      "text/plain": [
       "     수집년월  1차수집년월                 사용자ID                금융기관ID  \\\n",
       "1  202010  201612  X0010254691714933659  X0739620684726734804   \n",
       "2  202010  201612  X0010254691714933659  X2414244151238889690   \n",
       "3  202010  201612  X0010254691714933659  X2990775869667591539   \n",
       "4  202010  201612  X0010254691714933659  Y5029072213910072970   \n",
       "5  202010  201701  X0010254691714933659  X0739620684726734804   \n",
       "\n",
       "   card_open_rson_nm  card_typ_nm    개설년월  \n",
       "1                 81            1  201312  \n",
       "2                 81            1  200006  \n",
       "3                 81            1  201107  \n",
       "4                 81            1  201511  \n",
       "5                 81            1  201312  "
      ]
     },
     "execution_count": 32,
     "metadata": {},
     "output_type": "execute_result"
    }
   ],
   "source": [
    "raw_data_open.head()"
   ]
  },
  {
   "cell_type": "code",
   "execution_count": 33,
   "metadata": {},
   "outputs": [
    {
     "name": "stdout",
     "output_type": "stream",
     "text": [
      "<class 'pandas.core.frame.DataFrame'>\n",
      "Int64Index: 97320 entries, 1 to 97320\n",
      "Data columns (total 7 columns):\n",
      " #   Column             Non-Null Count  Dtype \n",
      "---  ------             --------------  ----- \n",
      " 0   수집년월               97320 non-null  int64 \n",
      " 1   1차수집년월             97320 non-null  int64 \n",
      " 2   사용자ID              97320 non-null  object\n",
      " 3   금융기관ID             97320 non-null  object\n",
      " 4   card_open_rson_nm  97320 non-null  int64 \n",
      " 5   card_typ_nm        97320 non-null  int64 \n",
      " 6   개설년월               97320 non-null  int64 \n",
      "dtypes: int64(5), object(2)\n",
      "memory usage: 5.9+ MB\n"
     ]
    }
   ],
   "source": [
    "raw_data_open.info()"
   ]
  },
  {
   "cell_type": "code",
   "execution_count": 35,
   "metadata": {},
   "outputs": [
    {
     "data": {
      "text/plain": [
       "1        201312\n",
       "2        200006\n",
       "3        201107\n",
       "4        201511\n",
       "5        201312\n",
       "          ...  \n",
       "97316    200701\n",
       "97317    201306\n",
       "97318    201012\n",
       "97319    201101\n",
       "97320    200701\n",
       "Name: 개설년월, Length: 97320, dtype: int64"
      ]
     },
     "execution_count": 35,
     "metadata": {},
     "output_type": "execute_result"
    }
   ],
   "source": [
    "raw_data_open['개설년월']\n",
    "# 정수형"
   ]
  },
  {
   "cell_type": "markdown",
   "metadata": {},
   "source": [
    "10. 카드개설년월필드에 대해서 카드개설연도 카드개설월로 필드를 분리하시오"
   ]
  },
  {
   "cell_type": "code",
   "execution_count": 34,
   "metadata": {},
   "outputs": [],
   "source": [
    "raw_data_open['카드개설연도']=[int(str(i)[0:4]) for i in raw_data_open['개설년월']]"
   ]
  },
  {
   "cell_type": "code",
   "execution_count": 35,
   "metadata": {},
   "outputs": [],
   "source": [
    "raw_data_open['카드개설월'] = [int(str(i)[4:6]) for i in raw_data_open['개설년월']]"
   ]
  },
  {
   "cell_type": "code",
   "execution_count": 36,
   "metadata": {},
   "outputs": [
    {
     "data": {
      "text/html": [
       "<div>\n",
       "<style scoped>\n",
       "    .dataframe tbody tr th:only-of-type {\n",
       "        vertical-align: middle;\n",
       "    }\n",
       "\n",
       "    .dataframe tbody tr th {\n",
       "        vertical-align: top;\n",
       "    }\n",
       "\n",
       "    .dataframe thead th {\n",
       "        text-align: right;\n",
       "    }\n",
       "</style>\n",
       "<table border=\"1\" class=\"dataframe\">\n",
       "  <thead>\n",
       "    <tr style=\"text-align: right;\">\n",
       "      <th></th>\n",
       "      <th>수집년월</th>\n",
       "      <th>1차수집년월</th>\n",
       "      <th>사용자ID</th>\n",
       "      <th>금융기관ID</th>\n",
       "      <th>card_open_rson_nm</th>\n",
       "      <th>card_typ_nm</th>\n",
       "      <th>개설년월</th>\n",
       "      <th>카드개설연도</th>\n",
       "      <th>카드개설월</th>\n",
       "    </tr>\n",
       "  </thead>\n",
       "  <tbody>\n",
       "    <tr>\n",
       "      <th>1</th>\n",
       "      <td>202010</td>\n",
       "      <td>201612</td>\n",
       "      <td>X0010254691714933659</td>\n",
       "      <td>X0739620684726734804</td>\n",
       "      <td>81</td>\n",
       "      <td>1</td>\n",
       "      <td>201312</td>\n",
       "      <td>2013</td>\n",
       "      <td>12</td>\n",
       "    </tr>\n",
       "    <tr>\n",
       "      <th>2</th>\n",
       "      <td>202010</td>\n",
       "      <td>201612</td>\n",
       "      <td>X0010254691714933659</td>\n",
       "      <td>X2414244151238889690</td>\n",
       "      <td>81</td>\n",
       "      <td>1</td>\n",
       "      <td>200006</td>\n",
       "      <td>2000</td>\n",
       "      <td>6</td>\n",
       "    </tr>\n",
       "    <tr>\n",
       "      <th>3</th>\n",
       "      <td>202010</td>\n",
       "      <td>201612</td>\n",
       "      <td>X0010254691714933659</td>\n",
       "      <td>X2990775869667591539</td>\n",
       "      <td>81</td>\n",
       "      <td>1</td>\n",
       "      <td>201107</td>\n",
       "      <td>2011</td>\n",
       "      <td>7</td>\n",
       "    </tr>\n",
       "    <tr>\n",
       "      <th>4</th>\n",
       "      <td>202010</td>\n",
       "      <td>201612</td>\n",
       "      <td>X0010254691714933659</td>\n",
       "      <td>Y5029072213910072970</td>\n",
       "      <td>81</td>\n",
       "      <td>1</td>\n",
       "      <td>201511</td>\n",
       "      <td>2015</td>\n",
       "      <td>11</td>\n",
       "    </tr>\n",
       "    <tr>\n",
       "      <th>5</th>\n",
       "      <td>202010</td>\n",
       "      <td>201701</td>\n",
       "      <td>X0010254691714933659</td>\n",
       "      <td>X0739620684726734804</td>\n",
       "      <td>81</td>\n",
       "      <td>1</td>\n",
       "      <td>201312</td>\n",
       "      <td>2013</td>\n",
       "      <td>12</td>\n",
       "    </tr>\n",
       "  </tbody>\n",
       "</table>\n",
       "</div>"
      ],
      "text/plain": [
       "     수집년월  1차수집년월                 사용자ID                금융기관ID  \\\n",
       "1  202010  201612  X0010254691714933659  X0739620684726734804   \n",
       "2  202010  201612  X0010254691714933659  X2414244151238889690   \n",
       "3  202010  201612  X0010254691714933659  X2990775869667591539   \n",
       "4  202010  201612  X0010254691714933659  Y5029072213910072970   \n",
       "5  202010  201701  X0010254691714933659  X0739620684726734804   \n",
       "\n",
       "   card_open_rson_nm  card_typ_nm    개설년월  카드개설연도  카드개설월  \n",
       "1                 81            1  201312    2013     12  \n",
       "2                 81            1  200006    2000      6  \n",
       "3                 81            1  201107    2011      7  \n",
       "4                 81            1  201511    2015     11  \n",
       "5                 81            1  201312    2013     12  "
      ]
     },
     "execution_count": 36,
     "metadata": {},
     "output_type": "execute_result"
    }
   ],
   "source": [
    "raw_data_open.head()"
   ]
  },
  {
   "cell_type": "markdown",
   "metadata": {},
   "source": [
    "11. card_open_rson_nm 필드는 81이면 신용카드 83이면 신용체크카드를 의미한다 \n",
    "- 개설유형 필드를 새로 생성하고 해당 코드에 맞는 유형으로 데이터를 변환하시오\n"
   ]
  },
  {
   "cell_type": "code",
   "execution_count": 37,
   "metadata": {},
   "outputs": [],
   "source": [
    "raw_data_open['개설유형']=['신용카드' if i == 81 else '신용체크카드'\n",
    "                            for i in raw_data_open['card_open_rson_nm']\n",
    "                            ]"
   ]
  },
  {
   "cell_type": "code",
   "execution_count": 38,
   "metadata": {},
   "outputs": [
    {
     "data": {
      "text/html": [
       "<div>\n",
       "<style scoped>\n",
       "    .dataframe tbody tr th:only-of-type {\n",
       "        vertical-align: middle;\n",
       "    }\n",
       "\n",
       "    .dataframe tbody tr th {\n",
       "        vertical-align: top;\n",
       "    }\n",
       "\n",
       "    .dataframe thead th {\n",
       "        text-align: right;\n",
       "    }\n",
       "</style>\n",
       "<table border=\"1\" class=\"dataframe\">\n",
       "  <thead>\n",
       "    <tr style=\"text-align: right;\">\n",
       "      <th></th>\n",
       "      <th>수집년월</th>\n",
       "      <th>1차수집년월</th>\n",
       "      <th>사용자ID</th>\n",
       "      <th>금융기관ID</th>\n",
       "      <th>card_open_rson_nm</th>\n",
       "      <th>card_typ_nm</th>\n",
       "      <th>개설년월</th>\n",
       "      <th>카드개설연도</th>\n",
       "      <th>카드개설월</th>\n",
       "      <th>개설유형</th>\n",
       "    </tr>\n",
       "  </thead>\n",
       "  <tbody>\n",
       "    <tr>\n",
       "      <th>1</th>\n",
       "      <td>202010</td>\n",
       "      <td>201612</td>\n",
       "      <td>X0010254691714933659</td>\n",
       "      <td>X0739620684726734804</td>\n",
       "      <td>81</td>\n",
       "      <td>1</td>\n",
       "      <td>201312</td>\n",
       "      <td>2013</td>\n",
       "      <td>12</td>\n",
       "      <td>신용카드</td>\n",
       "    </tr>\n",
       "    <tr>\n",
       "      <th>2</th>\n",
       "      <td>202010</td>\n",
       "      <td>201612</td>\n",
       "      <td>X0010254691714933659</td>\n",
       "      <td>X2414244151238889690</td>\n",
       "      <td>81</td>\n",
       "      <td>1</td>\n",
       "      <td>200006</td>\n",
       "      <td>2000</td>\n",
       "      <td>6</td>\n",
       "      <td>신용카드</td>\n",
       "    </tr>\n",
       "  </tbody>\n",
       "</table>\n",
       "</div>"
      ],
      "text/plain": [
       "     수집년월  1차수집년월                 사용자ID                금융기관ID  \\\n",
       "1  202010  201612  X0010254691714933659  X0739620684726734804   \n",
       "2  202010  201612  X0010254691714933659  X2414244151238889690   \n",
       "\n",
       "   card_open_rson_nm  card_typ_nm    개설년월  카드개설연도  카드개설월  개설유형  \n",
       "1                 81            1  201312    2013     12  신용카드  \n",
       "2                 81            1  200006    2000      6  신용카드  "
      ]
     },
     "execution_count": 38,
     "metadata": {},
     "output_type": "execute_result"
    }
   ],
   "source": [
    "raw_data_open.head(2)"
   ]
  },
  {
   "cell_type": "markdown",
   "metadata": {},
   "source": [
    "12. card_typ_nm 필드는 개인카드(1)인지 개인기업카드(2)인지를 나타낸다\n",
    "- 카드유형 필드를 새로 추가하고 card_typ_nm 값에 따라 개인/기업으로 나타내시오"
   ]
  },
  {
   "cell_type": "code",
   "execution_count": 41,
   "metadata": {},
   "outputs": [],
   "source": [
    "raw_data_open['카드유형']=['개인' if i == 1 else '기업'\n",
    "                            for i in raw_data_open['card_typ_nm']\n",
    "                            ]"
   ]
  },
  {
   "cell_type": "code",
   "execution_count": 42,
   "metadata": {},
   "outputs": [
    {
     "data": {
      "text/html": [
       "<div>\n",
       "<style scoped>\n",
       "    .dataframe tbody tr th:only-of-type {\n",
       "        vertical-align: middle;\n",
       "    }\n",
       "\n",
       "    .dataframe tbody tr th {\n",
       "        vertical-align: top;\n",
       "    }\n",
       "\n",
       "    .dataframe thead th {\n",
       "        text-align: right;\n",
       "    }\n",
       "</style>\n",
       "<table border=\"1\" class=\"dataframe\">\n",
       "  <thead>\n",
       "    <tr style=\"text-align: right;\">\n",
       "      <th></th>\n",
       "      <th>수집년월</th>\n",
       "      <th>1차수집년월</th>\n",
       "      <th>사용자ID</th>\n",
       "      <th>금융기관ID</th>\n",
       "      <th>card_open_rson_nm</th>\n",
       "      <th>card_typ_nm</th>\n",
       "      <th>개설년월</th>\n",
       "      <th>카드개설연도</th>\n",
       "      <th>카드개설월</th>\n",
       "      <th>개설유형</th>\n",
       "      <th>카드유형</th>\n",
       "    </tr>\n",
       "  </thead>\n",
       "  <tbody>\n",
       "    <tr>\n",
       "      <th>1</th>\n",
       "      <td>202010</td>\n",
       "      <td>201612</td>\n",
       "      <td>X0010254691714933659</td>\n",
       "      <td>X0739620684726734804</td>\n",
       "      <td>81</td>\n",
       "      <td>1</td>\n",
       "      <td>201312</td>\n",
       "      <td>2013</td>\n",
       "      <td>12</td>\n",
       "      <td>신용카드</td>\n",
       "      <td>개인</td>\n",
       "    </tr>\n",
       "    <tr>\n",
       "      <th>2</th>\n",
       "      <td>202010</td>\n",
       "      <td>201612</td>\n",
       "      <td>X0010254691714933659</td>\n",
       "      <td>X2414244151238889690</td>\n",
       "      <td>81</td>\n",
       "      <td>1</td>\n",
       "      <td>200006</td>\n",
       "      <td>2000</td>\n",
       "      <td>6</td>\n",
       "      <td>신용카드</td>\n",
       "      <td>개인</td>\n",
       "    </tr>\n",
       "  </tbody>\n",
       "</table>\n",
       "</div>"
      ],
      "text/plain": [
       "     수집년월  1차수집년월                 사용자ID                금융기관ID  \\\n",
       "1  202010  201612  X0010254691714933659  X0739620684726734804   \n",
       "2  202010  201612  X0010254691714933659  X2414244151238889690   \n",
       "\n",
       "   card_open_rson_nm  card_typ_nm    개설년월  카드개설연도  카드개설월  개설유형 카드유형  \n",
       "1                 81            1  201312    2013     12  신용카드   개인  \n",
       "2                 81            1  200006    2000      6  신용카드   개인  "
      ]
     },
     "execution_count": 42,
     "metadata": {},
     "output_type": "execute_result"
    }
   ],
   "source": [
    "raw_data_open.head(2)"
   ]
  },
  {
   "cell_type": "markdown",
   "metadata": {},
   "source": [
    "13. card_typ_nm 필드와 card_open_rson_nm 필드는 제거하시오"
   ]
  },
  {
   "cell_type": "code",
   "execution_count": 43,
   "metadata": {},
   "outputs": [],
   "source": [
    "del raw_data_open['card_typ_nm']\n",
    "del raw_data_open['card_open_rson_nm']"
   ]
  },
  {
   "cell_type": "code",
   "execution_count": 44,
   "metadata": {},
   "outputs": [
    {
     "data": {
      "text/html": [
       "<div>\n",
       "<style scoped>\n",
       "    .dataframe tbody tr th:only-of-type {\n",
       "        vertical-align: middle;\n",
       "    }\n",
       "\n",
       "    .dataframe tbody tr th {\n",
       "        vertical-align: top;\n",
       "    }\n",
       "\n",
       "    .dataframe thead th {\n",
       "        text-align: right;\n",
       "    }\n",
       "</style>\n",
       "<table border=\"1\" class=\"dataframe\">\n",
       "  <thead>\n",
       "    <tr style=\"text-align: right;\">\n",
       "      <th></th>\n",
       "      <th>수집년월</th>\n",
       "      <th>1차수집년월</th>\n",
       "      <th>사용자ID</th>\n",
       "      <th>금융기관ID</th>\n",
       "      <th>개설년월</th>\n",
       "      <th>카드개설연도</th>\n",
       "      <th>카드개설월</th>\n",
       "      <th>개설유형</th>\n",
       "      <th>카드유형</th>\n",
       "    </tr>\n",
       "  </thead>\n",
       "  <tbody>\n",
       "    <tr>\n",
       "      <th>1</th>\n",
       "      <td>202010</td>\n",
       "      <td>201612</td>\n",
       "      <td>X0010254691714933659</td>\n",
       "      <td>X0739620684726734804</td>\n",
       "      <td>201312</td>\n",
       "      <td>2013</td>\n",
       "      <td>12</td>\n",
       "      <td>신용카드</td>\n",
       "      <td>개인</td>\n",
       "    </tr>\n",
       "    <tr>\n",
       "      <th>2</th>\n",
       "      <td>202010</td>\n",
       "      <td>201612</td>\n",
       "      <td>X0010254691714933659</td>\n",
       "      <td>X2414244151238889690</td>\n",
       "      <td>200006</td>\n",
       "      <td>2000</td>\n",
       "      <td>6</td>\n",
       "      <td>신용카드</td>\n",
       "      <td>개인</td>\n",
       "    </tr>\n",
       "    <tr>\n",
       "      <th>3</th>\n",
       "      <td>202010</td>\n",
       "      <td>201612</td>\n",
       "      <td>X0010254691714933659</td>\n",
       "      <td>X2990775869667591539</td>\n",
       "      <td>201107</td>\n",
       "      <td>2011</td>\n",
       "      <td>7</td>\n",
       "      <td>신용카드</td>\n",
       "      <td>개인</td>\n",
       "    </tr>\n",
       "    <tr>\n",
       "      <th>4</th>\n",
       "      <td>202010</td>\n",
       "      <td>201612</td>\n",
       "      <td>X0010254691714933659</td>\n",
       "      <td>Y5029072213910072970</td>\n",
       "      <td>201511</td>\n",
       "      <td>2015</td>\n",
       "      <td>11</td>\n",
       "      <td>신용카드</td>\n",
       "      <td>개인</td>\n",
       "    </tr>\n",
       "    <tr>\n",
       "      <th>5</th>\n",
       "      <td>202010</td>\n",
       "      <td>201701</td>\n",
       "      <td>X0010254691714933659</td>\n",
       "      <td>X0739620684726734804</td>\n",
       "      <td>201312</td>\n",
       "      <td>2013</td>\n",
       "      <td>12</td>\n",
       "      <td>신용카드</td>\n",
       "      <td>개인</td>\n",
       "    </tr>\n",
       "  </tbody>\n",
       "</table>\n",
       "</div>"
      ],
      "text/plain": [
       "     수집년월  1차수집년월                 사용자ID                금융기관ID    개설년월  카드개설연도  \\\n",
       "1  202010  201612  X0010254691714933659  X0739620684726734804  201312    2013   \n",
       "2  202010  201612  X0010254691714933659  X2414244151238889690  200006    2000   \n",
       "3  202010  201612  X0010254691714933659  X2990775869667591539  201107    2011   \n",
       "4  202010  201612  X0010254691714933659  Y5029072213910072970  201511    2015   \n",
       "5  202010  201701  X0010254691714933659  X0739620684726734804  201312    2013   \n",
       "\n",
       "   카드개설월  개설유형 카드유형  \n",
       "1     12  신용카드   개인  \n",
       "2      6  신용카드   개인  \n",
       "3      7  신용카드   개인  \n",
       "4     11  신용카드   개인  \n",
       "5     12  신용카드   개인  "
      ]
     },
     "execution_count": 44,
     "metadata": {},
     "output_type": "execute_result"
    }
   ],
   "source": [
    "raw_data_open.head()"
   ]
  },
  {
   "cell_type": "markdown",
   "metadata": {},
   "source": [
    "14. 카드개설연도 필드에 대해서 각 연대별로 카테고리를 구분하여 개설연대 필드를 생성하시오.\n",
    "- 1990년대, 2000년대, 2010년대"
   ]
  },
  {
   "cell_type": "code",
   "execution_count": 45,
   "metadata": {},
   "outputs": [],
   "source": [
    "bins = [1989,2000,2010,2020]\n",
    "labels = ['1990년대', '2000년대', '2010년대']\n",
    "raw_data_open['개설연대']=pd.cut(raw_data_open['카드개설연도'],\n",
    "                                 bins,labels=labels)"
   ]
  },
  {
   "cell_type": "code",
   "execution_count": 46,
   "metadata": {},
   "outputs": [
    {
     "data": {
      "text/html": [
       "<div>\n",
       "<style scoped>\n",
       "    .dataframe tbody tr th:only-of-type {\n",
       "        vertical-align: middle;\n",
       "    }\n",
       "\n",
       "    .dataframe tbody tr th {\n",
       "        vertical-align: top;\n",
       "    }\n",
       "\n",
       "    .dataframe thead th {\n",
       "        text-align: right;\n",
       "    }\n",
       "</style>\n",
       "<table border=\"1\" class=\"dataframe\">\n",
       "  <thead>\n",
       "    <tr style=\"text-align: right;\">\n",
       "      <th></th>\n",
       "      <th>수집년월</th>\n",
       "      <th>1차수집년월</th>\n",
       "      <th>사용자ID</th>\n",
       "      <th>금융기관ID</th>\n",
       "      <th>개설년월</th>\n",
       "      <th>카드개설연도</th>\n",
       "      <th>카드개설월</th>\n",
       "      <th>개설유형</th>\n",
       "      <th>카드유형</th>\n",
       "      <th>개설연대</th>\n",
       "    </tr>\n",
       "  </thead>\n",
       "  <tbody>\n",
       "    <tr>\n",
       "      <th>1</th>\n",
       "      <td>202010</td>\n",
       "      <td>201612</td>\n",
       "      <td>X0010254691714933659</td>\n",
       "      <td>X0739620684726734804</td>\n",
       "      <td>201312</td>\n",
       "      <td>2013</td>\n",
       "      <td>12</td>\n",
       "      <td>신용카드</td>\n",
       "      <td>개인</td>\n",
       "      <td>2010년대</td>\n",
       "    </tr>\n",
       "    <tr>\n",
       "      <th>2</th>\n",
       "      <td>202010</td>\n",
       "      <td>201612</td>\n",
       "      <td>X0010254691714933659</td>\n",
       "      <td>X2414244151238889690</td>\n",
       "      <td>200006</td>\n",
       "      <td>2000</td>\n",
       "      <td>6</td>\n",
       "      <td>신용카드</td>\n",
       "      <td>개인</td>\n",
       "      <td>1990년대</td>\n",
       "    </tr>\n",
       "    <tr>\n",
       "      <th>3</th>\n",
       "      <td>202010</td>\n",
       "      <td>201612</td>\n",
       "      <td>X0010254691714933659</td>\n",
       "      <td>X2990775869667591539</td>\n",
       "      <td>201107</td>\n",
       "      <td>2011</td>\n",
       "      <td>7</td>\n",
       "      <td>신용카드</td>\n",
       "      <td>개인</td>\n",
       "      <td>2010년대</td>\n",
       "    </tr>\n",
       "    <tr>\n",
       "      <th>4</th>\n",
       "      <td>202010</td>\n",
       "      <td>201612</td>\n",
       "      <td>X0010254691714933659</td>\n",
       "      <td>Y5029072213910072970</td>\n",
       "      <td>201511</td>\n",
       "      <td>2015</td>\n",
       "      <td>11</td>\n",
       "      <td>신용카드</td>\n",
       "      <td>개인</td>\n",
       "      <td>2010년대</td>\n",
       "    </tr>\n",
       "    <tr>\n",
       "      <th>5</th>\n",
       "      <td>202010</td>\n",
       "      <td>201701</td>\n",
       "      <td>X0010254691714933659</td>\n",
       "      <td>X0739620684726734804</td>\n",
       "      <td>201312</td>\n",
       "      <td>2013</td>\n",
       "      <td>12</td>\n",
       "      <td>신용카드</td>\n",
       "      <td>개인</td>\n",
       "      <td>2010년대</td>\n",
       "    </tr>\n",
       "  </tbody>\n",
       "</table>\n",
       "</div>"
      ],
      "text/plain": [
       "     수집년월  1차수집년월                 사용자ID                금융기관ID    개설년월  카드개설연도  \\\n",
       "1  202010  201612  X0010254691714933659  X0739620684726734804  201312    2013   \n",
       "2  202010  201612  X0010254691714933659  X2414244151238889690  200006    2000   \n",
       "3  202010  201612  X0010254691714933659  X2990775869667591539  201107    2011   \n",
       "4  202010  201612  X0010254691714933659  Y5029072213910072970  201511    2015   \n",
       "5  202010  201701  X0010254691714933659  X0739620684726734804  201312    2013   \n",
       "\n",
       "   카드개설월  개설유형 카드유형    개설연대  \n",
       "1     12  신용카드   개인  2010년대  \n",
       "2      6  신용카드   개인  1990년대  \n",
       "3      7  신용카드   개인  2010년대  \n",
       "4     11  신용카드   개인  2010년대  \n",
       "5     12  신용카드   개인  2010년대  "
      ]
     },
     "execution_count": 46,
     "metadata": {},
     "output_type": "execute_result"
    }
   ],
   "source": [
    "raw_data_open.head()"
   ]
  },
  {
   "cell_type": "markdown",
   "metadata": {},
   "source": [
    "15. 카드 개설 df와 차주정보 df를 memberID를 기준으로 병합하여 새로운 df로 저장하고 확인하시오\n",
    "- inner_join "
   ]
  },
  {
   "cell_type": "code",
   "execution_count": 48,
   "metadata": {},
   "outputs": [
    {
     "data": {
      "text/plain": [
       "Index(['수집년월', '사용자ID', '생년', '연령대', '성별'], dtype='object')"
      ]
     },
     "execution_count": 48,
     "metadata": {},
     "output_type": "execute_result"
    },
    {
     "data": {
      "text/plain": [
       "Index(['수집년월', '1차수집년월', '사용자ID', '금융기관ID', '개설년월', '카드개설연도', '카드개설월', '개설유형',\n",
       "       '카드유형', '개설연대'],\n",
       "      dtype='object')"
      ]
     },
     "execution_count": 48,
     "metadata": {},
     "output_type": "execute_result"
    }
   ],
   "source": [
    "raw_data.columns\n",
    "raw_data_open.columns"
   ]
  },
  {
   "cell_type": "code",
   "execution_count": 50,
   "metadata": {},
   "outputs": [],
   "source": [
    "fin_data = raw_data.merge(raw_data_open,on='사용자ID')"
   ]
  },
  {
   "cell_type": "code",
   "execution_count": 52,
   "metadata": {},
   "outputs": [
    {
     "data": {
      "text/html": [
       "<div>\n",
       "<style scoped>\n",
       "    .dataframe tbody tr th:only-of-type {\n",
       "        vertical-align: middle;\n",
       "    }\n",
       "\n",
       "    .dataframe tbody tr th {\n",
       "        vertical-align: top;\n",
       "    }\n",
       "\n",
       "    .dataframe thead th {\n",
       "        text-align: right;\n",
       "    }\n",
       "</style>\n",
       "<table border=\"1\" class=\"dataframe\">\n",
       "  <thead>\n",
       "    <tr style=\"text-align: right;\">\n",
       "      <th></th>\n",
       "      <th>수집년월_x</th>\n",
       "      <th>사용자ID</th>\n",
       "      <th>생년</th>\n",
       "      <th>연령대</th>\n",
       "      <th>성별</th>\n",
       "      <th>수집년월_y</th>\n",
       "      <th>1차수집년월</th>\n",
       "      <th>금융기관ID</th>\n",
       "      <th>개설년월</th>\n",
       "      <th>카드개설연도</th>\n",
       "      <th>카드개설월</th>\n",
       "      <th>개설유형</th>\n",
       "      <th>카드유형</th>\n",
       "      <th>개설연대</th>\n",
       "    </tr>\n",
       "  </thead>\n",
       "  <tbody>\n",
       "    <tr>\n",
       "      <th>2888</th>\n",
       "      <td>202010</td>\n",
       "      <td>X0474444465014724107</td>\n",
       "      <td>1967</td>\n",
       "      <td>장년</td>\n",
       "      <td>남</td>\n",
       "      <td>202010</td>\n",
       "      <td>201809</td>\n",
       "      <td>Y3307984968389331286</td>\n",
       "      <td>201212</td>\n",
       "      <td>2012</td>\n",
       "      <td>12</td>\n",
       "      <td>신용카드</td>\n",
       "      <td>개인</td>\n",
       "      <td>2010년대</td>\n",
       "    </tr>\n",
       "    <tr>\n",
       "      <th>2889</th>\n",
       "      <td>202010</td>\n",
       "      <td>X0474444465014724107</td>\n",
       "      <td>1967</td>\n",
       "      <td>장년</td>\n",
       "      <td>남</td>\n",
       "      <td>202010</td>\n",
       "      <td>201810</td>\n",
       "      <td>Y0892369525171298774</td>\n",
       "      <td>200409</td>\n",
       "      <td>2004</td>\n",
       "      <td>9</td>\n",
       "      <td>신용카드</td>\n",
       "      <td>개인</td>\n",
       "      <td>2000년대</td>\n",
       "    </tr>\n",
       "    <tr>\n",
       "      <th>2890</th>\n",
       "      <td>202010</td>\n",
       "      <td>X0474444465014724107</td>\n",
       "      <td>1967</td>\n",
       "      <td>장년</td>\n",
       "      <td>남</td>\n",
       "      <td>202010</td>\n",
       "      <td>201810</td>\n",
       "      <td>Y3307984968389331286</td>\n",
       "      <td>201212</td>\n",
       "      <td>2012</td>\n",
       "      <td>12</td>\n",
       "      <td>신용카드</td>\n",
       "      <td>개인</td>\n",
       "      <td>2010년대</td>\n",
       "    </tr>\n",
       "    <tr>\n",
       "      <th>2891</th>\n",
       "      <td>202010</td>\n",
       "      <td>X0474444465014724107</td>\n",
       "      <td>1967</td>\n",
       "      <td>장년</td>\n",
       "      <td>남</td>\n",
       "      <td>202010</td>\n",
       "      <td>201811</td>\n",
       "      <td>Y3307984968389331286</td>\n",
       "      <td>201212</td>\n",
       "      <td>2012</td>\n",
       "      <td>12</td>\n",
       "      <td>신용카드</td>\n",
       "      <td>개인</td>\n",
       "      <td>2010년대</td>\n",
       "    </tr>\n",
       "    <tr>\n",
       "      <th>2892</th>\n",
       "      <td>202010</td>\n",
       "      <td>X0474444465014724107</td>\n",
       "      <td>1967</td>\n",
       "      <td>장년</td>\n",
       "      <td>남</td>\n",
       "      <td>202010</td>\n",
       "      <td>201812</td>\n",
       "      <td>Y3307984968389331286</td>\n",
       "      <td>201212</td>\n",
       "      <td>2012</td>\n",
       "      <td>12</td>\n",
       "      <td>신용카드</td>\n",
       "      <td>개인</td>\n",
       "      <td>2010년대</td>\n",
       "    </tr>\n",
       "  </tbody>\n",
       "</table>\n",
       "</div>"
      ],
      "text/plain": [
       "      수집년월_x                 사용자ID    생년 연령대 성별  수집년월_y  1차수집년월  \\\n",
       "2888  202010  X0474444465014724107  1967  장년  남  202010  201809   \n",
       "2889  202010  X0474444465014724107  1967  장년  남  202010  201810   \n",
       "2890  202010  X0474444465014724107  1967  장년  남  202010  201810   \n",
       "2891  202010  X0474444465014724107  1967  장년  남  202010  201811   \n",
       "2892  202010  X0474444465014724107  1967  장년  남  202010  201812   \n",
       "\n",
       "                    금융기관ID    개설년월  카드개설연도  카드개설월  개설유형 카드유형    개설연대  \n",
       "2888  Y3307984968389331286  201212    2012     12  신용카드   개인  2010년대  \n",
       "2889  Y0892369525171298774  200409    2004      9  신용카드   개인  2000년대  \n",
       "2890  Y3307984968389331286  201212    2012     12  신용카드   개인  2010년대  \n",
       "2891  Y3307984968389331286  201212    2012     12  신용카드   개인  2010년대  \n",
       "2892  Y3307984968389331286  201212    2012     12  신용카드   개인  2010년대  "
      ]
     },
     "execution_count": 52,
     "metadata": {},
     "output_type": "execute_result"
    }
   ],
   "source": [
    "fin_data.index=[i for i in range(1,len(fin_data)+1)]\n",
    "fin_data.tail()"
   ]
  },
  {
   "cell_type": "markdown",
   "metadata": {},
   "source": [
    "16. 카드 개설 인원을 청년, 중년, 장년, 노년으로 비교할 수 있도록 아래와 같은 그래프로 표현하시오.\n"
   ]
  },
  {
   "cell_type": "code",
   "execution_count": 53,
   "metadata": {},
   "outputs": [
    {
     "data": {
      "text/plain": [
       "중년    1217\n",
       "장년     953\n",
       "노년     636\n",
       "청년      86\n",
       "Name: 연령대, dtype: int64"
      ]
     },
     "execution_count": 53,
     "metadata": {},
     "output_type": "execute_result"
    }
   ],
   "source": [
    "y_cate=pd.value_counts(fin_data['연령대'])\n",
    "y_cate"
   ]
  },
  {
   "cell_type": "code",
   "execution_count": 54,
   "metadata": {},
   "outputs": [
    {
     "data": {
      "text/plain": [
       "<AxesSubplot:>"
      ]
     },
     "execution_count": 54,
     "metadata": {},
     "output_type": "execute_result"
    },
    {
     "data": {
      "image/png": "[encoded data removed]",
      "text/plain": [
       "<Figure size 432x288 with 1 Axes>"
      ]
     },
     "metadata": {
      "needs_background": "light"
     },
     "output_type": "display_data"
    }
   ],
   "source": [
    "y_cate.plot(kind='barh',color=['red','green','blue','yellow'])"
   ]
  },
  {
   "cell_type": "markdown",
   "metadata": {},
   "source": [
    "![그래프](문제16.png)"
   ]
  },
  {
   "cell_type": "markdown",
   "metadata": {},
   "source": [
    "17. 시간의 흐름에 따른 카드 개설 인원의 추이를 확인할 수 있는 아래와 같은 그래프를 표현하시오.\n"
   ]
  },
  {
   "cell_type": "code",
   "execution_count": 58,
   "metadata": {},
   "outputs": [],
   "source": [
    "open_count = pd.value_counts(fin_data.개설년월).sort_index()"
   ]
  },
  {
   "cell_type": "code",
   "execution_count": 59,
   "metadata": {},
   "outputs": [
    {
     "data": {
      "text/plain": [
       "<Figure size 720x432 with 0 Axes>"
      ]
     },
     "execution_count": 59,
     "metadata": {},
     "output_type": "execute_result"
    },
    {
     "data": {
      "text/plain": [
       "[<matplotlib.lines.Line2D at 0x16507f7ff70>]"
      ]
     },
     "execution_count": 59,
     "metadata": {},
     "output_type": "execute_result"
    },
    {
     "data": {
      "image/png": "[encoded data removed]",
      "text/plain": [
       "<Figure size 720x432 with 1 Axes>"
      ]
     },
     "metadata": {
      "needs_background": "light"
     },
     "output_type": "display_data"
    }
   ],
   "source": [
    "plt.figure(figsize=(10,6))\n",
    "plt.plot(open_count)\n",
    "plt.show()"
   ]
  },
  {
   "cell_type": "markdown",
   "metadata": {},
   "source": [
    "![그래프](문제17.png)"
   ]
  },
  {
   "cell_type": "markdown",
   "metadata": {},
   "source": [
    "18. fin_data df를 이용하여 각 연대별 발급건수를 표현하는 피봇테이블을 생성하고 해당 테이블을 사용하여 각 연대별 신용카드 발급 추이를 나타내는 아래와 같은 그래프를 그리시오\n"
   ]
  },
  {
   "cell_type": "code",
   "execution_count": 60,
   "metadata": {},
   "outputs": [
    {
     "data": {
      "text/html": [
       "<div>\n",
       "<style scoped>\n",
       "    .dataframe tbody tr th:only-of-type {\n",
       "        vertical-align: middle;\n",
       "    }\n",
       "\n",
       "    .dataframe tbody tr th {\n",
       "        vertical-align: top;\n",
       "    }\n",
       "\n",
       "    .dataframe thead th {\n",
       "        text-align: right;\n",
       "    }\n",
       "</style>\n",
       "<table border=\"1\" class=\"dataframe\">\n",
       "  <thead>\n",
       "    <tr style=\"text-align: right;\">\n",
       "      <th></th>\n",
       "      <th>생년</th>\n",
       "    </tr>\n",
       "    <tr>\n",
       "      <th>개설연대</th>\n",
       "      <th></th>\n",
       "    </tr>\n",
       "  </thead>\n",
       "  <tbody>\n",
       "    <tr>\n",
       "      <th>1990년대</th>\n",
       "      <td>215</td>\n",
       "    </tr>\n",
       "    <tr>\n",
       "      <th>2000년대</th>\n",
       "      <td>867</td>\n",
       "    </tr>\n",
       "    <tr>\n",
       "      <th>2010년대</th>\n",
       "      <td>1810</td>\n",
       "    </tr>\n",
       "  </tbody>\n",
       "</table>\n",
       "</div>"
      ],
      "text/plain": [
       "          생년\n",
       "개설연대        \n",
       "1990년대   215\n",
       "2000년대   867\n",
       "2010년대  1810"
      ]
     },
     "execution_count": 60,
     "metadata": {},
     "output_type": "execute_result"
    }
   ],
   "source": [
    "p_year = pd.pivot_table(fin_data, index=['개설연대'],values=['생년'],aggfunc=len)\n",
    "p_year"
   ]
  },
  {
   "cell_type": "code",
   "execution_count": 61,
   "metadata": {},
   "outputs": [
    {
     "data": {
      "text/plain": [
       "<Figure size 720x720 with 0 Axes>"
      ]
     },
     "execution_count": 61,
     "metadata": {},
     "output_type": "execute_result"
    },
    {
     "data": {
      "text/plain": [
       "[<matplotlib.lines.Line2D at 0x16507ff8d90>]"
      ]
     },
     "execution_count": 61,
     "metadata": {},
     "output_type": "execute_result"
    },
    {
     "data": {
      "image/png": "[encoded data removed]",
      "text/plain": [
       "<Figure size 720x720 with 1 Axes>"
      ]
     },
     "metadata": {
      "needs_background": "light"
     },
     "output_type": "display_data"
    }
   ],
   "source": [
    "plt.figure(figsize=(10,10))\n",
    "plt.plot(p_year,lw=2,marker='s',ms=10,c='g',ls='--')\n",
    "plt.show()"
   ]
  },
  {
   "cell_type": "markdown",
   "metadata": {},
   "source": [
    "![그래프](문제18.png)"
   ]
  },
  {
   "cell_type": "markdown",
   "metadata": {},
   "source": [
    "19. 신용카드의 각 연도별 발급건수를 계산하고 연도별 오름차순으로 정렬하시오.\n",
    "- 결과를 변수에 저장하시오\n"
   ]
  },
  {
   "cell_type": "code",
   "execution_count": 62,
   "metadata": {
    "collapsed": true
   },
   "outputs": [
    {
     "data": {
      "text/plain": [
       "1996     27\n",
       "1997     39\n",
       "1998     50\n",
       "1999     25\n",
       "2000     74\n",
       "2001     50\n",
       "2002     50\n",
       "2003     47\n",
       "2004     48\n",
       "2005     44\n",
       "2006     75\n",
       "2007    136\n",
       "2008     50\n",
       "2009    196\n",
       "2010    171\n",
       "2011    250\n",
       "2012    223\n",
       "2013    162\n",
       "2014    235\n",
       "2015    377\n",
       "2016    324\n",
       "2017    173\n",
       "2018     66\n",
       "Name: 카드개설연도, dtype: int64"
      ]
     },
     "execution_count": 62,
     "metadata": {},
     "output_type": "execute_result"
    }
   ],
   "source": [
    "y_count = fin_data['카드개설연도'].value_counts().sort_index()\n",
    "y_count"
   ]
  },
  {
   "cell_type": "markdown",
   "metadata": {},
   "source": [
    "20. 19번에서 저장한 변수의 데이터를 활용하여 연도별 \n",
    "- 개설건수에 대하여 아래와 같은 시계열 그래프로 표현하시오.\n"
   ]
  },
  {
   "cell_type": "code",
   "execution_count": 64,
   "metadata": {},
   "outputs": [
    {
     "data": {
      "text/plain": [
       "<Figure size 720x432 with 0 Axes>"
      ]
     },
     "execution_count": 64,
     "metadata": {},
     "output_type": "execute_result"
    },
    {
     "data": {
      "text/plain": [
       "[<matplotlib.lines.Line2D at 0x165080c7400>]"
      ]
     },
     "execution_count": 64,
     "metadata": {},
     "output_type": "execute_result"
    },
    {
     "data": {
      "image/png": "[encoded data removed]",
      "text/plain": [
       "<Figure size 720x432 with 1 Axes>"
      ]
     },
     "metadata": {
      "needs_background": "light"
     },
     "output_type": "display_data"
    }
   ],
   "source": [
    "plt.figure(figsize=(10,6))\n",
    "plt.plot(y_count)"
   ]
  },
  {
   "cell_type": "markdown",
   "metadata": {},
   "source": [
    "![그래프](문제20.png)"
   ]
  },
  {
   "cell_type": "markdown",
   "metadata": {},
   "source": [
    "21. 성별,연령대로 그룹화하여 카드 발급 건수를 표현하는 피봇테이블을 작성하고 변수에 저장하시오\n"
   ]
  },
  {
   "cell_type": "code",
   "execution_count": 65,
   "metadata": {},
   "outputs": [
    {
     "data": {
      "text/html": [
       "<div>\n",
       "<style scoped>\n",
       "    .dataframe tbody tr th:only-of-type {\n",
       "        vertical-align: middle;\n",
       "    }\n",
       "\n",
       "    .dataframe tbody tr th {\n",
       "        vertical-align: top;\n",
       "    }\n",
       "\n",
       "    .dataframe thead th {\n",
       "        text-align: right;\n",
       "    }\n",
       "</style>\n",
       "<table border=\"1\" class=\"dataframe\">\n",
       "  <thead>\n",
       "    <tr style=\"text-align: right;\">\n",
       "      <th></th>\n",
       "      <th></th>\n",
       "      <th>생년</th>\n",
       "    </tr>\n",
       "    <tr>\n",
       "      <th>성별</th>\n",
       "      <th>연령대</th>\n",
       "      <th></th>\n",
       "    </tr>\n",
       "  </thead>\n",
       "  <tbody>\n",
       "    <tr>\n",
       "      <th rowspan=\"4\" valign=\"top\">남</th>\n",
       "      <th>노년</th>\n",
       "      <td>182</td>\n",
       "    </tr>\n",
       "    <tr>\n",
       "      <th>장년</th>\n",
       "      <td>200</td>\n",
       "    </tr>\n",
       "    <tr>\n",
       "      <th>중년</th>\n",
       "      <td>704</td>\n",
       "    </tr>\n",
       "    <tr>\n",
       "      <th>청년</th>\n",
       "      <td>50</td>\n",
       "    </tr>\n",
       "    <tr>\n",
       "      <th rowspan=\"4\" valign=\"top\">여</th>\n",
       "      <th>노년</th>\n",
       "      <td>454</td>\n",
       "    </tr>\n",
       "    <tr>\n",
       "      <th>장년</th>\n",
       "      <td>753</td>\n",
       "    </tr>\n",
       "    <tr>\n",
       "      <th>중년</th>\n",
       "      <td>513</td>\n",
       "    </tr>\n",
       "    <tr>\n",
       "      <th>청년</th>\n",
       "      <td>36</td>\n",
       "    </tr>\n",
       "  </tbody>\n",
       "</table>\n",
       "</div>"
      ],
      "text/plain": [
       "         생년\n",
       "성별 연령대     \n",
       "남  노년   182\n",
       "   장년   200\n",
       "   중년   704\n",
       "   청년    50\n",
       "여  노년   454\n",
       "   장년   753\n",
       "   중년   513\n",
       "   청년    36"
      ]
     },
     "execution_count": 65,
     "metadata": {},
     "output_type": "execute_result"
    }
   ],
   "source": [
    "c_count=pd.pivot_table(fin_data, index=['성별','연령대'],\n",
    "                       values=['생년'],aggfunc=len)\n",
    "c_count # long 형"
   ]
  },
  {
   "cell_type": "code",
   "execution_count": 66,
   "metadata": {},
   "outputs": [
    {
     "data": {
      "text/html": [
       "<div>\n",
       "<style scoped>\n",
       "    .dataframe tbody tr th:only-of-type {\n",
       "        vertical-align: middle;\n",
       "    }\n",
       "\n",
       "    .dataframe tbody tr th {\n",
       "        vertical-align: top;\n",
       "    }\n",
       "\n",
       "    .dataframe thead tr th {\n",
       "        text-align: left;\n",
       "    }\n",
       "\n",
       "    .dataframe thead tr:last-of-type th {\n",
       "        text-align: right;\n",
       "    }\n",
       "</style>\n",
       "<table border=\"1\" class=\"dataframe\">\n",
       "  <thead>\n",
       "    <tr>\n",
       "      <th></th>\n",
       "      <th colspan=\"4\" halign=\"left\">생년</th>\n",
       "    </tr>\n",
       "    <tr>\n",
       "      <th>연령대</th>\n",
       "      <th>노년</th>\n",
       "      <th>장년</th>\n",
       "      <th>중년</th>\n",
       "      <th>청년</th>\n",
       "    </tr>\n",
       "    <tr>\n",
       "      <th>성별</th>\n",
       "      <th></th>\n",
       "      <th></th>\n",
       "      <th></th>\n",
       "      <th></th>\n",
       "    </tr>\n",
       "  </thead>\n",
       "  <tbody>\n",
       "    <tr>\n",
       "      <th>남</th>\n",
       "      <td>182</td>\n",
       "      <td>200</td>\n",
       "      <td>704</td>\n",
       "      <td>50</td>\n",
       "    </tr>\n",
       "    <tr>\n",
       "      <th>여</th>\n",
       "      <td>454</td>\n",
       "      <td>753</td>\n",
       "      <td>513</td>\n",
       "      <td>36</td>\n",
       "    </tr>\n",
       "  </tbody>\n",
       "</table>\n",
       "</div>"
      ],
      "text/plain": [
       "      생년              \n",
       "연령대   노년   장년   중년  청년\n",
       "성별                    \n",
       "남    182  200  704  50\n",
       "여    454  753  513  36"
      ]
     },
     "execution_count": 66,
     "metadata": {},
     "output_type": "execute_result"
    }
   ],
   "source": [
    "s=c_count.unstack(1)\n",
    "s"
   ]
  },
  {
   "cell_type": "code",
   "execution_count": 68,
   "metadata": {},
   "outputs": [
    {
     "data": {
      "text/html": [
       "<div>\n",
       "<style scoped>\n",
       "    .dataframe tbody tr th:only-of-type {\n",
       "        vertical-align: middle;\n",
       "    }\n",
       "\n",
       "    .dataframe tbody tr th {\n",
       "        vertical-align: top;\n",
       "    }\n",
       "\n",
       "    .dataframe thead tr th {\n",
       "        text-align: left;\n",
       "    }\n",
       "\n",
       "    .dataframe thead tr:last-of-type th {\n",
       "        text-align: right;\n",
       "    }\n",
       "</style>\n",
       "<table border=\"1\" class=\"dataframe\">\n",
       "  <thead>\n",
       "    <tr>\n",
       "      <th></th>\n",
       "      <th colspan=\"4\" halign=\"left\">생년</th>\n",
       "    </tr>\n",
       "    <tr>\n",
       "      <th>연령대</th>\n",
       "      <th>노년</th>\n",
       "      <th>장년</th>\n",
       "      <th>중년</th>\n",
       "      <th>청년</th>\n",
       "    </tr>\n",
       "    <tr>\n",
       "      <th>성별</th>\n",
       "      <th></th>\n",
       "      <th></th>\n",
       "      <th></th>\n",
       "      <th></th>\n",
       "    </tr>\n",
       "  </thead>\n",
       "  <tbody>\n",
       "    <tr>\n",
       "      <th>남</th>\n",
       "      <td>182</td>\n",
       "      <td>200</td>\n",
       "      <td>704</td>\n",
       "      <td>50</td>\n",
       "    </tr>\n",
       "    <tr>\n",
       "      <th>여</th>\n",
       "      <td>454</td>\n",
       "      <td>753</td>\n",
       "      <td>513</td>\n",
       "      <td>36</td>\n",
       "    </tr>\n",
       "  </tbody>\n",
       "</table>\n",
       "</div>"
      ],
      "text/plain": [
       "      생년              \n",
       "연령대   노년   장년   중년  청년\n",
       "성별                    \n",
       "남    182  200  704  50\n",
       "여    454  753  513  36"
      ]
     },
     "execution_count": 68,
     "metadata": {},
     "output_type": "execute_result"
    }
   ],
   "source": [
    "s = pd.pivot_table(fin_data, index=['성별'], columns=['연령대'],\n",
    "                  values=['생년'], aggfunc=len)\n",
    "s"
   ]
  },
  {
   "cell_type": "markdown",
   "metadata": {},
   "source": [
    "22. 21번에서 저장한 변수를 이용하여 아래와 같은 그래프를 작성하시오."
   ]
  },
  {
   "cell_type": "code",
   "execution_count": 70,
   "metadata": {},
   "outputs": [
    {
     "data": {
      "text/html": [
       "<div>\n",
       "<style scoped>\n",
       "    .dataframe tbody tr th:only-of-type {\n",
       "        vertical-align: middle;\n",
       "    }\n",
       "\n",
       "    .dataframe tbody tr th {\n",
       "        vertical-align: top;\n",
       "    }\n",
       "\n",
       "    .dataframe thead tr th {\n",
       "        text-align: left;\n",
       "    }\n",
       "\n",
       "    .dataframe thead tr:last-of-type th {\n",
       "        text-align: right;\n",
       "    }\n",
       "</style>\n",
       "<table border=\"1\" class=\"dataframe\">\n",
       "  <thead>\n",
       "    <tr>\n",
       "      <th></th>\n",
       "      <th colspan=\"4\" halign=\"left\">발급건수</th>\n",
       "    </tr>\n",
       "    <tr>\n",
       "      <th></th>\n",
       "      <th>노년</th>\n",
       "      <th>장년</th>\n",
       "      <th>중년</th>\n",
       "      <th>청년</th>\n",
       "    </tr>\n",
       "    <tr>\n",
       "      <th>성별</th>\n",
       "      <th></th>\n",
       "      <th></th>\n",
       "      <th></th>\n",
       "      <th></th>\n",
       "    </tr>\n",
       "  </thead>\n",
       "  <tbody>\n",
       "    <tr>\n",
       "      <th>남</th>\n",
       "      <td>182</td>\n",
       "      <td>200</td>\n",
       "      <td>704</td>\n",
       "      <td>50</td>\n",
       "    </tr>\n",
       "    <tr>\n",
       "      <th>여</th>\n",
       "      <td>454</td>\n",
       "      <td>753</td>\n",
       "      <td>513</td>\n",
       "      <td>36</td>\n",
       "    </tr>\n",
       "  </tbody>\n",
       "</table>\n",
       "</div>"
      ],
      "text/plain": [
       "   발급건수              \n",
       "     노년   장년   중년  청년\n",
       "성별                   \n",
       "남   182  200  704  50\n",
       "여   454  753  513  36"
      ]
     },
     "execution_count": 70,
     "metadata": {},
     "output_type": "execute_result"
    }
   ],
   "source": [
    "s.columns=[\n",
    "    ['발급건수','발급건수','발급건수','발급건수'],\n",
    "    ['노년','장년','중년','청년']\n",
    "]\n",
    "s"
   ]
  },
  {
   "cell_type": "code",
   "execution_count": 71,
   "metadata": {},
   "outputs": [
    {
     "data": {
      "text/plain": [
       "<AxesSubplot:xlabel='성별'>"
      ]
     },
     "execution_count": 71,
     "metadata": {},
     "output_type": "execute_result"
    },
    {
     "data": {
      "image/png": "[encoded data removed]",
      "text/plain": [
       "<Figure size 720x432 with 1 Axes>"
      ]
     },
     "metadata": {
      "needs_background": "light"
     },
     "output_type": "display_data"
    }
   ],
   "source": [
    "s.plot(kind='bar',grid=True,figsize=(10,6))"
   ]
  },
  {
   "cell_type": "markdown",
   "metadata": {},
   "source": [
    "![그래프](문제21.png)"
   ]
  },
  {
   "cell_type": "code",
   "execution_count": 72,
   "metadata": {},
   "outputs": [
    {
     "data": {
      "text/plain": [
       "<AxesSubplot:xlabel='성별'>"
      ]
     },
     "execution_count": 72,
     "metadata": {},
     "output_type": "execute_result"
    },
    {
     "data": {
      "text/plain": [
       "<matplotlib.legend.Legend at 0x16507ee6d60>"
      ]
     },
     "execution_count": 72,
     "metadata": {},
     "output_type": "execute_result"
    },
    {
     "data": {
      "image/png": "[encoded data removed]",
      "text/plain": [
       "<Figure size 720x432 with 1 Axes>"
      ]
     },
     "metadata": {
      "needs_background": "light"
     },
     "output_type": "display_data"
    }
   ],
   "source": [
    "s.plot(kind='bar',grid=True,figsize=(10,6))\n",
    "plt.legend(title='연령대별 발급건수')"
   ]
  },
  {
   "cell_type": "code",
   "execution_count": null,
   "metadata": {},
   "outputs": [],
   "source": []
  }
 ],
 "metadata": {
  "kernelspec": {
   "display_name": "Python 3 (ipykernel)",
   "language": "python",
   "name": "python3"
  },
  "language_info": {
   "codemirror_mode": {
    "name": "ipython",
    "version": 3
   },
   "file_extension": ".py",
   "mimetype": "text/x-python",
   "name": "python",
   "nbconvert_exporter": "python",
   "pygments_lexer": "ipython3",
   "version": "3.10.9"
  }
 },
 "nbformat": 4,
 "nbformat_minor": 4
}
