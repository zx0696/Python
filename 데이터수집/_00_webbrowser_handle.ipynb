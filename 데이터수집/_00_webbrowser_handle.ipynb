{
 "cells": [
  {
   "cell_type": "code",
   "execution_count": 1,
   "id": "82b89fd9",
   "metadata": {},
   "outputs": [],
   "source": [
    "# 브라우저 컨트롤 모듈\n",
    "import webbrowser"
   ]
  },
  {
   "cell_type": "markdown",
   "id": "f0d5ef00",
   "metadata": {},
   "source": [
    "- url : https://search.naver.com/search.naver?where=nexearch&sm=top_sug.pre&fbm=0&acr=2&acq=python&qdt=0&ie=utf8&query=python\n",
    "   - 'https:' : 프로토콜명(통신규칙)\n",
    "   - //search.naver.com/search.naver : 서버의 주소(컴퓨터 상대폴더)\n",
    "   - ?where=nexearch&sm=top_sug.pre&fbm=0&acr=2&acq=python&qdt=0&ie=utf8&query=python : 클라이언트가 서버에게 전달하는 data\n",
    "- 규칙에 맞는 url을 서버에게 보내면(요청), 서버는 요청을 처리한 후 응답"
   ]
  },
  {
   "cell_type": "code",
   "execution_count": 2,
   "id": "6b6bd2f5",
   "metadata": {},
   "outputs": [
    {
     "data": {
      "text/plain": [
       "True"
      ]
     },
     "execution_count": 2,
     "metadata": {},
     "output_type": "execute_result"
    }
   ],
   "source": [
    "url = 'http://www.naver.com'\n",
    "webbrowser.open(url)"
   ]
  },
  {
   "cell_type": "code",
   "execution_count": 3,
   "id": "483cc922",
   "metadata": {},
   "outputs": [
    {
     "data": {
      "text/plain": [
       "True"
      ]
     },
     "execution_count": 3,
     "metadata": {},
     "output_type": "execute_result"
    }
   ],
   "source": [
    "url = 'https://search.naver.com/search.naver?'\n",
    "search = 'query=django'\n",
    "# https://search.naver.com/search.naverquery=django\n",
    "# https://search.naver.com/search.naver?query=django\n",
    "url = url + search\n",
    "webbrowser.open(url)"
   ]
  },
  {
   "cell_type": "markdown",
   "id": "8b636741",
   "metadata": {},
   "source": [
    "# 단, 검색어를 적용시키는 방법은 site마다 다르다,\n",
    "- https://www.google.com/search?q=django&oq=django&aqs=chrome..69i57j35i39l2j0i433i512j0i131i433i512j0i512l5.2814j0j15&sourceid=chrome&ie=UTF-8"
   ]
  },
  {
   "cell_type": "code",
   "execution_count": 4,
   "id": "5ab7e4e0",
   "metadata": {},
   "outputs": [],
   "source": [
    "g_url = 'https://www.google.com/search?'\n",
    "search = 'q=django'\n",
    "url = g_url + search"
   ]
  },
  {
   "cell_type": "code",
   "execution_count": 5,
   "id": "eb317499",
   "metadata": {},
   "outputs": [
    {
     "data": {
      "text/plain": [
       "True"
      ]
     },
     "execution_count": 5,
     "metadata": {},
     "output_type": "execute_result"
    }
   ],
   "source": [
    "webbrowser.open(url)"
   ]
  },
  {
   "cell_type": "code",
   "execution_count": 8,
   "id": "c9527a0f",
   "metadata": {},
   "outputs": [],
   "source": [
    "urls = ['www.naver.com', 'www.daum.net','www.google.com']\n",
    "for url in urls :\n",
    "    webbrowser.open(url)"
   ]
  },
  {
   "cell_type": "code",
   "execution_count": null,
   "id": "2b1c65d8",
   "metadata": {},
   "outputs": [],
   "source": []
  },
  {
   "cell_type": "code",
   "execution_count": null,
   "id": "932693fd",
   "metadata": {},
   "outputs": [],
   "source": []
  },
  {
   "cell_type": "code",
   "execution_count": null,
   "id": "50759eb8",
   "metadata": {},
   "outputs": [],
   "source": []
  },
  {
   "cell_type": "code",
   "execution_count": null,
   "id": "89d5ca21",
   "metadata": {},
   "outputs": [],
   "source": []
  },
  {
   "cell_type": "code",
   "execution_count": null,
   "id": "c715bffb",
   "metadata": {},
   "outputs": [],
   "source": []
  },
  {
   "cell_type": "code",
   "execution_count": null,
   "id": "9f10fa33",
   "metadata": {},
   "outputs": [],
   "source": []
  },
  {
   "cell_type": "code",
   "execution_count": null,
   "id": "f3f649b3",
   "metadata": {},
   "outputs": [],
   "source": []
  }
 ],
 "metadata": {
  "kernelspec": {
   "display_name": "Python 3 (ipykernel)",
   "language": "python",
   "name": "python3"
  },
  "language_info": {
   "codemirror_mode": {
    "name": "ipython",
    "version": 3
   },
   "file_extension": ".py",
   "mimetype": "text/x-python",
   "name": "python",
   "nbconvert_exporter": "python",
   "pygments_lexer": "ipython3",
   "version": "3.9.12"
  }
 },
 "nbformat": 4,
 "nbformat_minor": 5
}
