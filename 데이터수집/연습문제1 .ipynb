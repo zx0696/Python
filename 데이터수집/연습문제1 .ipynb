{
 "cells": [
  {
   "cell_type": "code",
   "execution_count": 1,
   "id": "b8e3cd1e",
   "metadata": {},
   "outputs": [],
   "source": [
    "from urllib. request import urlopen\n",
    "import bs4"
   ]
  },
  {
   "cell_type": "code",
   "execution_count": 2,
   "id": "4f04fddd",
   "metadata": {},
   "outputs": [],
   "source": [
    "url = 'http://unico2013.dothome.co.kr/crawling/exercise_bs.html'\n",
    "rs = urlopen(url)\n",
    "rs_text = rs.read()"
   ]
  },
  {
   "cell_type": "code",
   "execution_count": 3,
   "id": "e3922808",
   "metadata": {},
   "outputs": [],
   "source": [
    "bs_obj= bs4.BeautifulSoup(rs_text,'html.parser')"
   ]
  },
  {
   "cell_type": "code",
   "execution_count": 4,
   "id": "3fd3a4fe",
   "metadata": {},
   "outputs": [
    {
     "data": {
      "text/plain": [
       "<!DOCTYPE html>\n",
       "\n",
       "<html>\n",
       "<head>\n",
       "<meta content=\"text/html; charset=utf-8\" http-equiv=\"Content-Type\"/>\n",
       "<title>HTML 학습</title>\n",
       "</head>\n",
       "<body>\n",
       "<h1>HTML의 링크 태그</h1>\n",
       "<hr/>\n",
       "<a href=\"http://www.w3.org/\">World Wide Consortium</a>\n",
       "<a href=\"http://java.sun.com/\">Java Page</a>\n",
       "<a href=\"http://www.python.org/\">Python Page</a>\n",
       "<a href=\"http://www.w3schools.com/\">Web Client 기술 학습</a>\n",
       "<hr/>\n",
       "<a href=\"http://java.sun.com/\">\n",
       "<img src=\"http://unico2013.dothome.co.kr/image/duke.jpg\" width=\"100\"/></a>\n",
       "<h2>좋아하는 색</h2>\n",
       "<ul>\n",
       "<li style=\"color:blue\">파란색</li>\n",
       "<li style=\"color:yellow\">노란색</li>\n",
       "<li style=\"color:green\">녹색</li>\n",
       "<li style=\"color:orange\">주황색</li>\n",
       "</ul>\n",
       "<h2>먹고싶은 음식</h2>\n",
       "<ol>\n",
       "<li>짜장면</li>\n",
       "<li>냉면</li>\n",
       "<li>돈까스</li>\n",
       "<li>갈비</li>\n",
       "</ol>\n",
       "<table border=\"1\">\n",
       "<tr class=\"name\"><th>둘리</th><th>또치</th><th>도우너</th></tr>\n",
       "<tr><td>케라토사우루스</td><td>타조</td><td>외계인</td></tr>\n",
       "<tr><td>도봉구 쌍문동</td><td id=\"target\">아프리카</td><td>깐따삐아 별</td></tr>\n",
       "</table>\n",
       "</body>\n",
       "</html>"
      ]
     },
     "execution_count": 4,
     "metadata": {},
     "output_type": "execute_result"
    }
   ],
   "source": [
    "bs_obj"
   ]
  },
  {
   "cell_type": "code",
   "execution_count": 5,
   "id": "cd423173",
   "metadata": {},
   "outputs": [
    {
     "data": {
      "text/plain": [
       "'HTML의 링크 태그'"
      ]
     },
     "execution_count": 5,
     "metadata": {},
     "output_type": "execute_result"
    }
   ],
   "source": [
    "# <h1> 태그의 컨텐츠  # 두가지 다 가능  결과 값이 하나면 find가 나음\n",
    "bs_obj.findAll('h1')[0].text\n",
    "bs_obj.find('h1').text"
   ]
  },
  {
   "cell_type": "code",
   "execution_count": 6,
   "id": "1b89ad22",
   "metadata": {},
   "outputs": [
    {
     "name": "stdout",
     "output_type": "stream",
     "text": [
      "http://www.w3.org/\n",
      "http://java.sun.com/\n",
      "http://www.python.org/\n",
      "http://www.w3schools.com/\n",
      "http://java.sun.com/\n"
     ]
    }
   ],
   "source": [
    "a = bs_obj.findAll('a')\n",
    "for i in a :\n",
    "    print(i['href'])"
   ]
  },
  {
   "cell_type": "code",
   "execution_count": 7,
   "id": "976a6512",
   "metadata": {},
   "outputs": [
    {
     "data": {
      "text/plain": [
       "'http://unico2013.dothome.co.kr/image/duke.jpg'"
      ]
     },
     "execution_count": 7,
     "metadata": {},
     "output_type": "execute_result"
    }
   ],
   "source": [
    "# <img>  태그의 src 속성 값\n",
    "bs_obj.find('img')['src']"
   ]
  },
  {
   "cell_type": "code",
   "execution_count": 8,
   "id": "d6cbbf0d",
   "metadata": {},
   "outputs": [
    {
     "data": {
      "text/plain": [
       "'좋아하는 색'"
      ]
     },
     "execution_count": 8,
     "metadata": {},
     "output_type": "execute_result"
    }
   ],
   "source": [
    "# 첫 번째 <h2> 태그의 컨텐츠\n",
    "bs_obj.find('h2').text"
   ]
  },
  {
   "cell_type": "code",
   "execution_count": 9,
   "id": "c0007c81",
   "metadata": {},
   "outputs": [
    {
     "data": {
      "text/plain": [
       "'녹색'"
      ]
     },
     "execution_count": 9,
     "metadata": {},
     "output_type": "execute_result"
    }
   ],
   "source": [
    "# <ul> 태그의 자식 태그들 중 style 속성의 값이 green으로 끝나는 태그의 컨텐츠\n",
    "# ul > li[style$=green]\n",
    "bs_obj.select('ul > li[style$=green]')[0].text # select라 리스트로 반환 되었으므로 인덱스[0]와 텍스트를 붙여야함"
   ]
  },
  {
   "cell_type": "code",
   "execution_count": 10,
   "id": "0666db20",
   "metadata": {},
   "outputs": [
    {
     "data": {
      "text/plain": [
       "'먹고싶은 음식'"
      ]
     },
     "execution_count": 10,
     "metadata": {},
     "output_type": "execute_result"
    }
   ],
   "source": [
    "# 두 번째 <h2> 태그의 컨텐츠\n",
    "# 서수선택 : nth-of-type(2)\n",
    "bs_obj.select('h2:nth-of-type(2)')[0].text\n",
    "bs_obj.findAll('h2')[1].text"
   ]
  },
  {
   "cell_type": "code",
   "execution_count": 11,
   "id": "8edfc475",
   "metadata": {},
   "outputs": [
    {
     "name": "stdout",
     "output_type": "stream",
     "text": [
      "짜장면\n",
      "냉면\n",
      "돈까스\n",
      "갈비\n"
     ]
    }
   ],
   "source": [
    "#<ol> 태그의 모든(*) 자식 태그들의 컨텐츠\n",
    "# ol > *\n",
    "ol = bs_obj.select('ol > *')\n",
    "for li in ol :\n",
    "    print(li.text)"
   ]
  },
  {
   "cell_type": "code",
   "execution_count": 12,
   "id": "0c3aeeaa",
   "metadata": {},
   "outputs": [
    {
     "name": "stdout",
     "output_type": "stream",
     "text": [
      "둘리또치도우너\n",
      "둘리\n",
      "또치\n",
      "도우너\n",
      "케라토사우루스타조외계인\n",
      "케라토사우루스\n",
      "타조\n",
      "외계인\n",
      "도봉구 쌍문동아프리카깐따삐아 별\n",
      "도봉구 쌍문동\n",
      "아프리카\n",
      "깐따삐아 별\n"
     ]
    }
   ],
   "source": [
    "# <table> 태그의 모든 자손 태그들의 컨텐츠\n",
    "tb = bs_obj.select('table *')\n",
    "for t in tb:\n",
    "    print(t.text)"
   ]
  },
  {
   "cell_type": "code",
   "execution_count": 13,
   "id": "a5bdb3f3",
   "metadata": {},
   "outputs": [
    {
     "data": {
      "text/plain": [
       "'둘리또치도우너'"
      ]
     },
     "execution_count": 13,
     "metadata": {},
     "output_type": "execute_result"
    }
   ],
   "source": [
    "#name이라는 클래스 속성을 갖는  <tr> 태그의 컨텐츠\n",
    "bs_obj.select('tr.name')\n",
    "bs_obj.findAll('tr',{'class':'name'})[0].text"
   ]
  },
  {
   "cell_type": "code",
   "execution_count": 14,
   "id": "1db466f3",
   "metadata": {},
   "outputs": [
    {
     "data": {
      "text/plain": [
       "'아프리카'"
      ]
     },
     "execution_count": 14,
     "metadata": {},
     "output_type": "execute_result"
    }
   ],
   "source": [
    "# target이라는 아이디 속성을 갖는 <td> 태그의 콘텐츠\n",
    "bs_obj.select('td#target')[0].text\n",
    "bs_obj.find('td',{'id':'target'}).text"
   ]
  },
  {
   "cell_type": "code",
   "execution_count": null,
   "id": "31ab42f6",
   "metadata": {},
   "outputs": [],
   "source": []
  }
 ],
 "metadata": {
  "kernelspec": {
   "display_name": "Python 3 (ipykernel)",
   "language": "python",
   "name": "python3"
  },
  "language_info": {
   "codemirror_mode": {
    "name": "ipython",
    "version": 3
   },
   "file_extension": ".py",
   "mimetype": "text/x-python",
   "name": "python",
   "nbconvert_exporter": "python",
   "pygments_lexer": "ipython3",
   "version": "3.9.12"
  }
 },
 "nbformat": 4,
 "nbformat_minor": 5
}
